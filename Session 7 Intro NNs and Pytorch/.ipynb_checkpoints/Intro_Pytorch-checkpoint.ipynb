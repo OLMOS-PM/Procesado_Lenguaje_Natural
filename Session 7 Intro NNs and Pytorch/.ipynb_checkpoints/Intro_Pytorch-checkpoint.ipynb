{
 "cells": [
  {
   "cell_type": "markdown",
   "metadata": {},
   "source": [
    "\n",
    "# Procesamiento de Lenguaje Natural\n",
    "\n",
    "**Pablo Martínez Olmos**\n",
    "\n",
    "Departamento de Teoría de la Señal y Comunicaciones\n",
    "\n",
    "**Universidad Carlos III de Madrid**\n",
    "\n",
    "<img src='http://www.tsc.uc3m.es/~emipar/BBVA/INTRO/img/logo_uc3m_foot.jpg' width=400 />\n",
    "\n",
    "# Introduction to Pytorch. Training a NN to clasify images\n",
    "\n",
    "In this first notebook, you will learn basic aspects about how to use [Pytorch](https://pytorch.org/) to train a neural network for image classification. \n",
    "\n",
    "Pytorch is a powerful library to address Machine Learning problems in general, and deep learning problems in particular, as it provides with automatic differentiation tools. Namely, in our programs we will define functions $f_{\\mathbf{w}}(x)$ of given input data $x$ and some parameters $\\mathbf{w}$ to be optimized, and we will use Pytorch's [autograd package](https://pytorch.org/docs/stable/autograd.html) to automatically compute $\\nabla_{\\mathbf{w}} f_{\\mathbf{w}}(x)$, and then use the gradient into a Stochastic Gradient Descent (SGD) routine.\n",
    "\n",
    "Note: a big part of the following material is a personal wrap-up of [Facebook's Deep Learning Course in Udacity](https://www.udacity.com/course/deep-learning-pytorch--ud188). So all credit goes for them!!"
   ]
  },
  {
   "cell_type": "markdown",
   "metadata": {},
   "source": [
    "## Part I. Loading an image Dataset using Pytorch\n",
    "\n",
    "First up, we need to get our dataset. This is provided through the `torchvision` package. The [torchvision package](https://pytorch.org/docs/stable/torchvision/index.html) consists of popular datasets, model architectures, and common image transformations for computer vision.\n",
    "\n",
    "We will be using the datset [Fashion-MNIST dataset](https://github.com/zalandoresearch/fashion-mnist), which is a set of 28x28 greyscale images of 10 types of clothes. You can see a sample below."
   ]
  },
  {
   "cell_type": "code",
   "execution_count": 1,
   "metadata": {},
   "outputs": [
    {
     "data": {
      "text/html": [
       "<img src=\"https://miro.medium.com/max/3200/1*QQVbuP2SEasB0XAmvjW0AA.jpeg\" width=\"400\" height=\"200\"/>"
      ],
      "text/plain": [
       "<IPython.core.display.Image object>"
      ]
     },
     "execution_count": 1,
     "metadata": {},
     "output_type": "execute_result"
    }
   ],
   "source": [
    "from IPython.display import Image\n",
    "from IPython.core.display import HTML \n",
    "\n",
    "Image(url= \"https://miro.medium.com/max/3200/1*QQVbuP2SEasB0XAmvjW0AA.jpeg\", width=400, height=200)"
   ]
  },
  {
   "cell_type": "markdown",
   "metadata": {},
   "source": [
    "The code below will download the dataset, then create training and test datasets for us. Don't worry too much about the details here, you'll learn more about this later."
   ]
  },
  {
   "cell_type": "code",
   "execution_count": 2,
   "metadata": {},
   "outputs": [],
   "source": [
    "%matplotlib inline\n",
    "%config InlineBackend.figure_format = 'retina'  #To get figures with high quality!\n",
    "\n",
    "import numpy as np\n",
    "import torch\n",
    "from torch import nn\n",
    "from torch import optim\n",
    "import matplotlib.pyplot as plt"
   ]
  },
  {
   "cell_type": "code",
   "execution_count": 3,
   "metadata": {},
   "outputs": [],
   "source": [
    "from torchvision import datasets, transforms\n",
    "\n",
    "# Define a transform to normalize the data\n",
    "transform = transforms.Compose([transforms.ToTensor(),\n",
    "                              transforms.Normalize((0.5,), (0.5,)),   # This is included to normalize images in mean and variance\n",
    "                              ])\n",
    "\n",
    "# Download and load the training data\n",
    "trainset = datasets.FashionMNIST('~/.pytorch/F_MNIST_data/', download=True, train=True, transform=transform)\n",
    "trainloader = torch.utils.data.DataLoader(trainset, batch_size=64, shuffle=True)\n",
    "\n",
    "# Download and load the test data\n",
    "testset = datasets.FashionMNIST('~/.pytorch/F_MNIST_data/', download=True, train=False, transform=transform)\n",
    "testloader = torch.utils.data.DataLoader(testset, batch_size=64, shuffle=True)"
   ]
  },
  {
   "cell_type": "markdown",
   "metadata": {},
   "source": [
    "We have the training data loaded into `trainloader` and we make that an iterator with `iter(trainloader)`. Later, we'll use this to loop through the dataset for training, like\n",
    "\n",
    "```python\n",
    "for image, label in trainloader:\n",
    "    ## do things with images and labels\n",
    "```\n",
    "\n",
    "You'll notice I created the `trainloader` with a batch size of 64. The batch size is the number of images we get in one iteration from the data loader and pass through our network, often called a *batch*. And `shuffle=True` tells it to **shuffle the dataset every time we start going through the data loader again**. But here I'm just grabbing the first batch so we can check out the data. We can see below that `images` is just a tensor with size `(64, 1, 28, 28)`. So, 64 images per batch, **1 color channel**, and 28x28 images."
   ]
  },
  {
   "cell_type": "code",
   "execution_count": 4,
   "metadata": {},
   "outputs": [
    {
     "name": "stdout",
     "output_type": "stream",
     "text": [
      "<class 'torch.Tensor'>\n",
      "torch.Size([64, 1, 28, 28])\n",
      "torch.Size([64])\n"
     ]
    }
   ],
   "source": [
    "dataiter = iter(trainloader)   #To iterate through the dataset we create a generator using iter()\n",
    "\n",
    "images, labels = dataiter.next()\n",
    "print(type(images))       # images is a data type \"torch tensor\", which are explained below. \n",
    "print(images.shape)\n",
    "print(labels.shape)"
   ]
  },
  {
   "cell_type": "markdown",
   "metadata": {},
   "source": [
    "This is what one of the images looks like. "
   ]
  },
  {
   "cell_type": "code",
   "execution_count": 5,
   "metadata": {},
   "outputs": [
    {
     "data": {
      "text/plain": [
       "<matplotlib.image.AxesImage at 0x1272f4470>"
      ]
     },
     "execution_count": 5,
     "metadata": {},
     "output_type": "execute_result"
    },
    {
     "data": {
      "image/png": "[encoded data removed]",
      "text/plain": [
       "<Figure size 432x288 with 1 Axes>"
      ]
     },
     "metadata": {
      "image/png": {
       "height": 250,
       "width": 253
      }
     },
     "output_type": "display_data"
    }
   ],
   "source": [
    "plt.imshow(images[2,:,:,:].numpy().reshape([28,28]), cmap='Greys_r')   # with .numpy() you transform a \"torch tensor\" to numpy array"
   ]
  },
  {
   "cell_type": "markdown",
   "metadata": {},
   "source": [
    "There are 10 types of images, as can be observed in labels"
   ]
  },
  {
   "cell_type": "code",
   "execution_count": 6,
   "metadata": {},
   "outputs": [
    {
     "name": "stdout",
     "output_type": "stream",
     "text": [
      "tensor([2, 9, 7, 9, 6, 7, 2, 9, 3, 4, 4, 9, 2, 4, 1, 2, 5, 2, 6, 2, 7, 7, 3, 2,\n",
      "        7, 7, 9, 8, 7, 3, 0, 3, 2, 1, 4, 2, 7, 3, 5, 4, 4, 2, 8, 2, 0, 6, 7, 5,\n",
      "        2, 9, 7, 9, 2, 2, 8, 7, 0, 4, 2, 4, 2, 7, 8, 2])\n"
     ]
    }
   ],
   "source": [
    "print(labels)"
   ]
  },
  {
   "cell_type": "markdown",
   "metadata": {},
   "source": [
    "where the labels are \n",
    "- 0 \tT-shirt/top\n",
    "- 1 \tTrouser\n",
    "- 2 \tPullover\n",
    "- 3 \tDress\n",
    "- 4 \tCoat\n",
    "- 5 \tSandal\n",
    "- 6 \tShirt\n",
    "- 7 \tSneaker\n",
    "- 8 \tBag\n",
    "- 9 \tAnkle boot\n",
    " "
   ]
  },
  {
   "cell_type": "markdown",
   "metadata": {},
   "source": [
    "## Part II. Tensors in Pytorch (trabajar con tensores = trabajar con numpy arrays)\n",
    "\n",
    "\n",
    "PyTorch'tensors in a lot of ways behaves like Numpy arrays. PyTorch takes these tensors and makes it simple to move them to GPUs for the faster processing needed when training neural networks. It also provides a module that automatically calculates gradients and another module specifically for building neural networks. \n",
    "\n",
    "It turns out neural network computations are just a bunch of linear algebra operations on *tensors*, a generalization of matrices. A vector is a 1-dimensional tensor, a matrix is a 2-dimensional tensor, an array with three indices is a 3-dimensional tensor (RGB color images for example). The fundamental data structure for neural networks are tensors and PyTorch (as well as pretty much every other deep learning framework) is built around tensors.\n"
   ]
  },
  {
   "cell_type": "markdown",
   "metadata": {},
   "source": [
    "### Creating and manipulating tensors\n",
    "\n",
    "Lets creat some tensors and manipulate them"
   ]
  },
  {
   "cell_type": "code",
   "execution_count": 233,
   "metadata": {},
   "outputs": [
    {
     "name": "stdout",
     "output_type": "stream",
     "text": [
      "The type of 'x' is <class 'numpy.ndarray'>. If we print 'x' we get array([[-0.24517896],\n",
      "       [ 0.44269357],\n",
      "       [-1.46252806],\n",
      "       [ 1.18984154]]) \n",
      "The type of 'a' is <class 'torch.Tensor'>. If we print 'a' we get tensor([[-0.2452],\n",
      "        [ 0.4427],\n",
      "        [-1.4625],\n",
      "        [ 1.1898]], dtype=torch.float64) \n",
      "The shape of 'a' is (4,1)\n"
     ]
    }
   ],
   "source": [
    "x = np.random.randn(4,1) #We create a numpy array\n",
    "\n",
    "a = torch.tensor(x) # and then transform it to a tensor\n",
    "\n",
    "\n",
    "print(\"The type of 'x' is %s. If we print 'x' we get %r \" %(type(x),x))\n",
    "\n",
    "print(\"The type of 'a' is %s. If we print 'a' we get %r \" %(type(a),a))\n",
    "\n",
    "print(\"The shape of 'a' is (%d,%d)\" %(a.shape[0],a.shape[1]))\n",
    "\n",
    "b = torch.rand_like(a) #We create a tensor of random values with the same shape than ta\n",
    "\n",
    "c = torch.randn((1,1)) #A torch scalar\n"
   ]
  },
  {
   "cell_type": "code",
   "execution_count": 240,
   "metadata": {},
   "outputs": [
    {
     "data": {
      "text/plain": [
       "tensor(0.7566, dtype=torch.float64)"
      ]
     },
     "execution_count": 240,
     "metadata": {},
     "output_type": "execute_result"
    }
   ],
   "source": [
    "torch.sum(a*b)"
   ]
  },
  {
   "cell_type": "markdown",
   "metadata": {},
   "source": [
    "We can operate betwen tensors, but we haver to use torch supported operations. For instance, lets print the result of doing \n",
    "$a^Tb+c$. To do so, the following two alternatives are valid:"
   ]
  },
  {
   "cell_type": "code",
   "execution_count": 211,
   "metadata": {},
   "outputs": [
    {
     "name": "stdout",
     "output_type": "stream",
     "text": [
      "tensor([[-0.4979]])\n",
      "tensor([[-0.4979]], dtype=torch.float64)\n"
     ]
    }
   ],
   "source": [
    "print(torch.sum(a*b)+c)  # * and c are supported torch operations\n",
    "print(torch.mm(a.view(1,4),b)+c)"
   ]
  },
  {
   "cell_type": "markdown",
   "metadata": {},
   "source": [
    "where `a.view(e, d)` will return a new tensor with the same data as `a` with size `(e, d)`.\n",
    "\n",
    "To convert a tensor to a Numpy array, use the `.numpy()` method."
   ]
  },
  {
   "cell_type": "code",
   "execution_count": 212,
   "metadata": {},
   "outputs": [
    {
     "name": "stdout",
     "output_type": "stream",
     "text": [
      "<class 'numpy.ndarray'>\n"
     ]
    }
   ],
   "source": [
    "d = torch.mm(a.view(1,4),b)+c\n",
    "print(type(d.numpy()))"
   ]
  },
  {
   "cell_type": "markdown",
   "metadata": {},
   "source": [
    "## Part III. Define a Neural Network and its loss function in Pytorch\n",
    "\n",
    "#### The `nn.()` module\n",
    "\n",
    "PyTorch provides a module `nn` that makes building neural networks much simpler. "
   ]
  },
  {
   "cell_type": "code",
   "execution_count": 213,
   "metadata": {},
   "outputs": [],
   "source": [
    "from torch import nn"
   ]
  },
  {
   "cell_type": "markdown",
   "metadata": {},
   "source": [
    "You can inspect [Pytorch official documentation](https://pytorch.org/docs/stable/index.html) to understand the structure and usability of methods and classes required to work with Pytorch and train neural networks.\n",
    "\n",
    "Our goal is to implement a three-layer neural network. The following diagram illustrates the structure:"
   ]
  },
  {
   "cell_type": "code",
   "execution_count": 214,
   "metadata": {},
   "outputs": [
    {
     "data": {
      "text/html": [
       "<img src=\"https://miro.medium.com/max/1582/0*hzIQ5Fs-g8iBpVWq.jpg\" width=\"400\" height=\"200\"/>"
      ],
      "text/plain": [
       "<IPython.core.display.Image object>"
      ]
     },
     "execution_count": 214,
     "metadata": {},
     "output_type": "execute_result"
    }
   ],
   "source": [
    "from IPython.display import Image\n",
    "from IPython.core.display import HTML \n",
    "\n",
    "Image(url= \"https://miro.medium.com/max/1582/0*hzIQ5Fs-g8iBpVWq.jpg\", width=400, height=200)"
   ]
  },
  {
   "cell_type": "markdown",
   "metadata": {},
   "source": [
    "- The first layer, sees inputs of dimension 28x28=784 (an image) and has output of dimension 200. The activation function is the hiperbolic tangent. 200 called the hidden dimension of the first layer.\n",
    "- The second layer has 200-dimensional inputs, and has outputs of dimension 50. Again, we use an hiperbolic tangent. 50 is called the hidden dimension of the second layer.\n",
    "- The last layer takes 50-dimensional inputs and outputs a vector of 10 dimensions (the number of clases) using a **softmax to estimate class probabilities**.\n",
    "\n",
    "Obviously, the parameters of the network (the hidden dimensions, activations ...) are free parameters that you have to fine-tune using **cross validation with a validation set**, but right now we are not going into that."
   ]
  },
  {
   "cell_type": "markdown",
   "metadata": {},
   "source": [
    "With the following code I show you how to create the aformentioned network."
   ]
  },
  {
   "cell_type": "code",
   "execution_count": 242,
   "metadata": {},
   "outputs": [],
   "source": [
    "class My_network(nn.Module): # Heredamos de Modulo (heredamos funciones y argumentos)\n",
    "    #construcción de la clase\n",
    "    \n",
    "    def __init__(self,input_dimension,hidden1,hidden2,nlabels): #Nlabels will be 10 in our case\n",
    "        super().__init__()\n",
    "        \n",
    "        self.layer_1 = nn.Linear(input_dimension,hidden1)   # Capas predefinidas de Pytorch nn.Linear --> Perceptron\n",
    "        \n",
    "        self.layer_2 = nn.Linear(hidden1,hidden2)\n",
    "        \n",
    "        self.layer_3 = nn.Linear(hidden2,nlabels)\n",
    "    \n",
    "        self.activation = nn.Tanh()  # Salida no-lineal de los dos primeros perceptrones\n",
    "        \n",
    "        # We implement the log of a Softmax layer\n",
    "        # It is more stable numerically\n",
    "        \n",
    "        self.logsoftmax = nn.LogSoftmax(dim=1)     # No-linealidad de salidad. Salida son el logaritmo de la probabilidad                                                        \n",
    "    \n",
    "    #Metodos\n",
    "    def forward(self, x):\n",
    "        # Pass the input tensor through each of our operations\n",
    "        z1 = self.layer_1(x)    # Salida operación lineal percetp. 1\n",
    "        g1 = self.activation(z1)   #no-linealidad\n",
    "        z2 = self.layer_2(g1)\n",
    "        g2 = self.activation(z2)\n",
    "        z3 = self.layer_3(g2)\n",
    "        logprob = self.logsoftmax(z3) \n",
    "        return logprob"
   ]
  },
  {
   "cell_type": "markdown",
   "metadata": {},
   "source": [
    "Let's go through this bit by bit.\n",
    "\n",
    "```python\n",
    "class Network(nn.Module):\n",
    "```\n",
    "\n",
    "Here we're inheriting from `nn.Module`. Combined with `super().__init__()` this creates a class that tracks the architecture and provides a lot of useful methods and attributes. It is mandatory to inherit from `nn.Module` when you're creating a class for your network. The name of the class itself can be anything.\n",
    "\n",
    "```python\n",
    "self.layer_1 = self.Linear(input_dimension,hidden1)\n",
    "```\n",
    "creates a layer where the inputs has dimension input_dimension and outputs. Remember each layers has a weight matrix $\\mathbf{W}$ and a bias vector $\\mathbf{w}_0$. They can be accesed as `self.layer_1.weight` and `self.layer_1.bias`\n",
    "\n",
    "Finally, in the method \n",
    "\n",
    "```python\n",
    "def forward(self, x):\n",
    "```\n",
    "we specify the information flow through the network. This method is mandatory. The method takes in a tensor `x` and passes it through the operations you defined in the `__init__` method.\n",
    "\n",
    " "
   ]
  },
  {
   "cell_type": "markdown",
   "metadata": {},
   "source": [
    "#### Lets evaluate the NN with some input images\n",
    "\n",
    "Lets take the first 5 images in the training set and get the NN output. Note we **have not** yet optimized the weights of the NN! They have been simply initalized at random.\n",
    "\n",
    "Note that each image must be reshaped into a vector before passing through the network!"
   ]
  },
  {
   "cell_type": "code",
   "execution_count": 245,
   "metadata": {},
   "outputs": [
    {
     "data": {
      "text/plain": [
       "torch.Size([200])"
      ]
     },
     "execution_count": 245,
     "metadata": {},
     "output_type": "execute_result"
    }
   ],
   "source": [
    "# We first create an object of the class `My_network`\n",
    "\n",
    "my_NN_object = My_network(input_dimension=784,hidden1=200,\n",
    "                          hidden2=50,nlabels=10)\n",
    "\n",
    "my_NN_object.layer_1.bias.shape"
   ]
  },
  {
   "cell_type": "code",
   "execution_count": 254,
   "metadata": {},
   "outputs": [
    {
     "name": "stdout",
     "output_type": "stream",
     "text": [
      "The dimension of outputs is (5,10)\n"
     ]
    }
   ],
   "source": [
    "dataiter_test = iter(testloader)   #To iterate through the dataset we create a generator using iter()\n",
    "\n",
    "images_test, labels_test = dataiter_test.next()\n",
    "\n",
    "vector_images = images_test[:5,:,:,:].view(5,784) #28x28 = 784   # trasformar 5 primeras imagenes en un vector\n",
    "\n",
    "outputs = my_NN_object.forward(images_test[:5,:,:,:].view(-1,784))\n",
    "\n",
    "print('The dimension of outputs is (%d,%d)' \n",
    "      %(outputs.shape[0],outputs.shape[1]))"
   ]
  },
  {
   "cell_type": "code",
   "execution_count": 256,
   "metadata": {},
   "outputs": [
    {
     "data": {
      "text/plain": [
       "tensor([[0.1147, 0.0994, 0.0776, 0.1068, 0.0838, 0.0779, 0.0943, 0.1323, 0.1114,\n",
       "         0.1017],\n",
       "        [0.1064, 0.0849, 0.0882, 0.1171, 0.1025, 0.0805, 0.1090, 0.0893, 0.1188,\n",
       "         0.1031],\n",
       "        [0.1120, 0.0977, 0.0822, 0.1106, 0.0939, 0.0819, 0.1015, 0.1097, 0.1170,\n",
       "         0.0936],\n",
       "        [0.1193, 0.0645, 0.1130, 0.0981, 0.0993, 0.0996, 0.0857, 0.0933, 0.1270,\n",
       "         0.1002],\n",
       "        [0.0990, 0.0812, 0.0994, 0.1109, 0.1032, 0.0932, 0.1025, 0.0885, 0.1151,\n",
       "         0.1069]], grad_fn=<ExpBackward>)"
      ]
     },
     "execution_count": 256,
     "metadata": {},
     "output_type": "execute_result"
    }
   ],
   "source": [
    "torch.exp(outputs)"
   ]
  },
  {
   "cell_type": "code",
   "execution_count": 251,
   "metadata": {},
   "outputs": [
    {
     "data": {
      "text/plain": [
       "torch.Size([5, 784])"
      ]
     },
     "execution_count": 251,
     "metadata": {},
     "output_type": "execute_result"
    }
   ],
   "source": [
    "images_test[:5,:,:,:].view(-1,784).shape"
   ]
  },
  {
   "cell_type": "markdown",
   "metadata": {},
   "source": [
    "As expected, we have 5 outputs of dimension 10 each. Each output is the **log-probability** that the image belong to each of the classes:"
   ]
  },
  {
   "cell_type": "code",
   "execution_count": 257,
   "metadata": {},
   "outputs": [
    {
     "data": {
      "text/plain": [
       "<matplotlib.image.AxesImage at 0x11e89cc88>"
      ]
     },
     "execution_count": 257,
     "metadata": {},
     "output_type": "execute_result"
    },
    {
     "data": {
      "image/png": "[encoded data removed]",
      "text/plain": [
       "<Figure size 432x288 with 1 Axes>"
      ]
     },
     "metadata": {
      "image/png": {
       "height": 263,
       "width": 393
      }
     },
     "output_type": "display_data"
    },
    {
     "data": {
      "image/png": "[encoded data removed]",
      "text/plain": [
       "<Figure size 432x288 with 1 Axes>"
      ]
     },
     "metadata": {
      "image/png": {
       "height": 250,
       "width": 253
      }
     },
     "output_type": "display_data"
    }
   ],
   "source": [
    "plt.figure()\n",
    "plt.bar(np.arange(0,10),np.exp(outputs[1,:].detach().numpy()))\n",
    "plt.xlabel('Class index')\n",
    "plt.ylabel('Class probability')\n",
    "\n",
    "plt.figure()\n",
    "plt.imshow(images_test[1].numpy().reshape([28,28]), cmap='Greys_r')   # with .numpy() you transform a \"torch tensor\" to numpy array"
   ]
  },
  {
   "cell_type": "markdown",
   "metadata": {},
   "source": [
    "Since the network has not been trained yet, the probabilities are rather uniform ..."
   ]
  },
  {
   "cell_type": "markdown",
   "metadata": {},
   "source": [
    "## Part IV. The loss function\n",
    "\n",
    "When we use the `logSoftmax` output, the **cross entropy** loss function is obtained with the function `nn.NLLoss()` (negative log likelihood loss).\n",
    "\n",
    "For instance, we can evaluate the loss function with the 5 data points we evaluated above."
   ]
  },
  {
   "cell_type": "code",
   "execution_count": 258,
   "metadata": {},
   "outputs": [
    {
     "name": "stdout",
     "output_type": "stream",
     "text": [
      "tensor(2.3851, grad_fn=<NllLossBackward>)\n"
     ]
    }
   ],
   "source": [
    "cross_entropy = nn.NLLLoss()\n",
    "\n",
    "loss = cross_entropy(outputs,labels_test[:5])\n",
    "\n",
    "print(loss)"
   ]
  },
  {
   "cell_type": "markdown",
   "metadata": {},
   "source": [
    "Now that we know how to calculate a loss, Torch provides a module, `autograd`, for automatically calculating the gradients of the loss w.r.t. the tensors. Autograd works by keeping track of operations performed on tensors, then going backwards through those operations, calculating gradients along the way.\n",
    "\n",
    "### The `.backward()` operator\n",
    "\n",
    "\n",
    "The gradients are computed with respect to some variable `z` with `z.backward()`. This does a backward pass through the operations that created `z`. This means that when we calculate the loss and call `loss.backward()`, the gradients for the parameters are calculated. These gradients are used to update the weights with gradient descent.\n",
    "\n",
    "\n",
    "loss.backward() --> se calculan los gradientes para todos los parametros que hacen falta para calcular loss\n",
    "\n",
    "### Defining an optimizer\n",
    "\n",
    "There's one last piece we need to start training, an optimizer that we'll use to update the weights with the gradients. We get these from PyTorch's [`optim` package](https://pytorch.org/docs/stable/optim.html). For example we can use stochastic gradient descent with `optim.SGD`. You can see how to define an optimizer below.\n",
    "\n",
    "With the following code, we can define the optimizer. We use `Adam`, which is some sort of advanced grandient descend where the step size is automatically tuned:"
   ]
  },
  {
   "cell_type": "code",
   "execution_count": 259,
   "metadata": {},
   "outputs": [],
   "source": [
    "from torch import optim\n",
    "\n",
    "# Optimizers require the parameters to optimize and a learning rate\n",
    "optimizer = optim.Adam(my_NN_object.parameters(), lr=0.001)"
   ]
  },
  {
   "cell_type": "markdown",
   "metadata": {},
   "source": [
    "To perform a SGD iteration, we simply call `optmizer.step()`"
   ]
  },
  {
   "cell_type": "markdown",
   "metadata": {},
   "source": [
    "## Creating a class where we define the network and a method to train the NN\n",
    "\n",
    "With the following code, we will define a class that incorporates the definition of the NN and **a method to train the parameters**. Go carefully through the code and try to understand it line by line.\n",
    "\n",
    "We train the model for a certain number of `epochs`, where in every epoch we go through the entire dataset once, reading the data mini-batch by mini-batch.\n"
   ]
  },
  {
   "cell_type": "code",
   "execution_count": 221,
   "metadata": {},
   "outputs": [],
   "source": [
    "class My_network_2(nn.Module):\n",
    "    def __init__(self,input_dimension,hidden1,hidden2,nlabels,\n",
    "                 learning_rate,epochs): #Nlabels will be 10 in our case\n",
    "        \n",
    "        super().__init__()\n",
    "        \n",
    "        ## NN parameters\n",
    "        \n",
    "        self.layer_1 = nn.Linear(input_dimension,hidden1)\n",
    "        \n",
    "        self.layer_2 = nn.Linear(hidden1,hidden2)\n",
    "        \n",
    "        self.layer_3 = nn.Linear(hidden2,nlabels)\n",
    "    \n",
    "        self.activation = nn.Tanh()\n",
    "        \n",
    "        self.logsoftmax = nn.LogSoftmax(dim=1)  \n",
    "        \n",
    "        ## Loss_function and optimizer      \n",
    "        \n",
    "        self.loss_func = nn.NLLLoss()   # log-softmax + nllloss = cross entropy\n",
    "        \n",
    "        self.lr = learning_rate #Learning Rate\n",
    "        \n",
    "        self.optim = optim.SGD(self.parameters(), self.lr)\n",
    "\n",
    "        self.epochs = epochs\n",
    "        \n",
    "        # A list to store the loss evolution along training\n",
    "        \n",
    "        self.loss_during_training = []      # Lista                                                                 \n",
    "        \n",
    "    def forward(self, x):\n",
    "        # Pass the input tensor through each of our operations\n",
    "        x = self.layer_1(x)\n",
    "        x = self.activation(x)\n",
    "        x = self.layer_2(x)\n",
    "        x = self.activation(x)\n",
    "        x = self.layer_3(x)\n",
    "        x = self.logsoftmax(x) #YOUR CODE HERE\n",
    "        return x\n",
    "    \n",
    "    def train_loop(self,trainloader):\n",
    "        \n",
    "        # Optimization Loop\n",
    "        \n",
    "        for e in range(int(self.epochs)):\n",
    "            \n",
    "            # Random data permutation at each epoch\n",
    "            \n",
    "            running_loss = 0.\n",
    "            \n",
    "            for images, labels in trainloader:           \n",
    "        \n",
    "                self.optim.zero_grad()  #TO RESET GRADIENTS!\n",
    "            \n",
    "                # Calcular funcion coste para imagenes en el mini-batch\n",
    "            \n",
    "                out = self.forward(images.view(images.shape[0], -1))   # salida de la red\n",
    "\n",
    "                loss = self.loss_func(out,labels)\n",
    "\n",
    "                running_loss += loss.item()\n",
    "\n",
    "                #We compute new gradients \n",
    "                loss.backward()     # calculamos gradientes\n",
    "                \n",
    "                #We perform one SGD step\n",
    "                self.optim.step()   # llamamos al optimizador\n",
    "                \n",
    "            # We average through the entire dataset\n",
    "            self.loss_during_training.append(running_loss/len(trainloader))\n",
    "\n",
    "            if(e % 2 == 0): # Print loss every 2 epochs\n",
    "\n",
    "                print(\"Training loss after %d epochs: %f\" \n",
    "                      %(e,self.loss_during_training[-1]))\n",
    "       "
   ]
  },
  {
   "cell_type": "markdown",
   "metadata": {},
   "source": [
    "Lets train the model for 10 epochs:"
   ]
  },
  {
   "cell_type": "code",
   "execution_count": 222,
   "metadata": {},
   "outputs": [],
   "source": [
    "my_NN_object_2 = My_network_2(input_dimension=784,hidden1=200,\n",
    "                          hidden2=50,nlabels=10,epochs=10,learning_rate=1e-03)"
   ]
  },
  {
   "cell_type": "markdown",
   "metadata": {},
   "source": [
    "Now we can easily train by simply calling the method `my_NN_object_2.trainloop()`"
   ]
  },
  {
   "cell_type": "code",
   "execution_count": 223,
   "metadata": {},
   "outputs": [
    {
     "name": "stdout",
     "output_type": "stream",
     "text": [
      "Training loss after 0 epochs: 1.913421\n",
      "Training loss after 2 epochs: 1.138213\n",
      "Training loss after 4 epochs: 0.879455\n",
      "Training loss after 6 epochs: 0.758382\n",
      "Training loss after 8 epochs: 0.689565\n"
     ]
    }
   ],
   "source": [
    "my_NN_object_2.train_loop(trainloader)"
   ]
  },
  {
   "cell_type": "code",
   "execution_count": 224,
   "metadata": {},
   "outputs": [
    {
     "data": {
      "text/plain": [
       "Text(0,0.5,'Loss function')"
      ]
     },
     "execution_count": 224,
     "metadata": {},
     "output_type": "execute_result"
    },
    {
     "data": {
      "image/png": "[encoded data removed]",
      "text/plain": [
       "<Figure size 432x288 with 1 Axes>"
      ]
     },
     "metadata": {
      "image/png": {
       "height": 263,
       "width": 387
      }
     },
     "output_type": "display_data"
    }
   ],
   "source": [
    "plt.plot(np.arange(1,len(my_NN_object_2.loss_during_training)+1),my_NN_object_2.loss_during_training)\n",
    "plt.xlabel('Epoch')\n",
    "plt.ylabel('Loss function')"
   ]
  },
  {
   "cell_type": "markdown",
   "metadata": {},
   "source": [
    "## Evaluate the trained network for some input images\n",
    "\n",
    "Now we can evaluate the NN with some images. Hopefully, the probabilities that we get are not uniform anymore."
   ]
  },
  {
   "cell_type": "code",
   "execution_count": 260,
   "metadata": {},
   "outputs": [
    {
     "data": {
      "text/plain": [
       "<matplotlib.image.AxesImage at 0x11e228b00>"
      ]
     },
     "execution_count": 260,
     "metadata": {},
     "output_type": "execute_result"
    },
    {
     "data": {
      "image/png": "[encoded data removed]",
      "text/plain": [
       "<Figure size 432x288 with 1 Axes>"
      ]
     },
     "metadata": {
      "image/png": {
       "height": 263,
       "width": 387
      }
     },
     "output_type": "display_data"
    },
    {
     "data": {
      "image/png": "[encoded data removed]",
      "text/plain": [
       "<Figure size 432x288 with 1 Axes>"
      ]
     },
     "metadata": {
      "image/png": {
       "height": 250,
       "width": 253
      }
     },
     "output_type": "display_data"
    }
   ],
   "source": [
    "outputs = my_NN_object_2.forward(vector_images)   #vector_images was defined above\n",
    "\n",
    "plt.figure()\n",
    "plt.bar(np.arange(0,10),np.exp(outputs[1,:].detach().numpy()))\n",
    "plt.xlabel('Class index')\n",
    "plt.ylabel('Class probability')\n",
    "\n",
    "plt.figure()\n",
    "plt.imshow(images_test[1].numpy().reshape([28,28]), cmap='Greys_r')   # with .numpy() you transform a \"torch tensor\" to numpy array"
   ]
  },
  {
   "cell_type": "markdown",
   "metadata": {},
   "source": [
    "Observe now that the probabilities are really extreme!! The network is really learning!\n",
    "\n",
    "Recall that the labels are\n",
    "\n",
    "- 0 \tT-shirt/top\n",
    "- 1 \tTrouser\n",
    "- 2 \tPullover\n",
    "- 3 \tDress\n",
    "- 4 \tCoat\n",
    "- 5 \tSandal\n",
    "- 6 \tShirt\n",
    "- 7 \tSneaker\n",
    "- 8 \tBag\n",
    "- 9 \tAnkle boot"
   ]
  },
  {
   "cell_type": "markdown",
   "metadata": {},
   "source": [
    "## Summary\n",
    "\n",
    "In this notebook I have shown you how to train a simple NN to classify images. There are **MANY** technical aspects we are not covering and a lot to say about training, but this is a good start!"
   ]
  },
  {
   "cell_type": "code",
   "execution_count": null,
   "metadata": {},
   "outputs": [],
   "source": []
  },
  {
   "cell_type": "code",
   "execution_count": null,
   "metadata": {},
   "outputs": [],
   "source": []
  }
 ],
 "metadata": {
  "kernelspec": {
   "display_name": "Python 3",
   "language": "python",
   "name": "python3"
  },
  "language_info": {
   "codemirror_mode": {
    "name": "ipython",
    "version": 3
   },
   "file_extension": ".py",
   "mimetype": "text/x-python",
   "name": "python",
   "nbconvert_exporter": "python",
   "pygments_lexer": "ipython3",
   "version": "3.6.10"
  }
 },
 "nbformat": 4,
 "nbformat_minor": 4
}
