{
 "cells": [
  {
   "cell_type": "markdown",
   "metadata": {
    "id": "H38zQZ4Z5aXe"
   },
   "source": [
    "# Regularización en redes neuronales\n",
    "\n",
    "### Procesamiento de Lenguaje Natural\n",
    "\n",
    "**Pablo Martínez Olmos, Vanessa Gómez Verdejo, Emilio Parrado Hernández**\n",
    "\n",
    "Departamento de Teoría de la Señal y Comunicaciones\n",
    "\n",
    "**Universidad Carlos III de Madrid**\n",
    "\n",
    "<img src='http://www.tsc.uc3m.es/~emipar/BBVA/INTRO/img/logo_uc3m_foot.jpg' width=400 />\n",
    "\n",
    "\n",
    "## 1. Clasificación de imágenes. Fashion-MNIST\n",
    "\n",
    "En este segundo notebook, utilizaremos la base de datos de imágenes [Fashion-MNIST](https://github.com/zalandoresearch/fashion-mnist). Fashion-MNIST es un conjunto de imágenes de ropa en escala de grises de 28x28 clasificadas en 10 categorías. La base de datos es suficientemente compleja como para que una MLP no encuentra una buena solución en términos de generalización en datos de test y acabe sobreajustando. En este notebook mostraremos cómo controlar el sobreajuste con *early stopping* y *dropout*."
   ]
  },
  {
   "cell_type": "code",
   "execution_count": 1,
   "metadata": {
    "colab": {
     "base_uri": "https://localhost:8080/",
     "height": 221
    },
    "id": "7HO69BCj5aXf",
    "outputId": "5c540834-9284-4c4f-c2f9-aa93dcd55e8a"
   },
   "outputs": [
    {
     "data": {
      "text/html": [
       "<img src=\"https://miro.medium.com/max/3200/1*QQVbuP2SEasB0XAmvjW0AA.jpeg\" width=\"400\" height=\"200\"/>"
      ],
      "text/plain": [
       "<IPython.core.display.Image object>"
      ]
     },
     "execution_count": 1,
     "metadata": {},
     "output_type": "execute_result"
    }
   ],
   "source": [
    "from IPython.display import Image\n",
    "from IPython.core.display import HTML \n",
    "\n",
    "Image(url= \"https://miro.medium.com/max/3200/1*QQVbuP2SEasB0XAmvjW0AA.jpeg\", width=400, height=200)"
   ]
  },
  {
   "cell_type": "code",
   "execution_count": 2,
   "metadata": {
    "id": "PMZ1ivmK5aXg"
   },
   "outputs": [],
   "source": [
    "%matplotlib inline\n",
    "%config InlineBackend.figure_format = 'retina'  #To get figures with high quality!\n",
    "\n",
    "import numpy as np\n",
    "import torch\n",
    "from torch import nn\n",
    "from torch import optim\n",
    "import matplotlib.pyplot as plt"
   ]
  },
  {
   "cell_type": "markdown",
   "metadata": {
    "id": "taFaGDde5aXg"
   },
   "source": [
    "### 1.2 Descarga de FMNIST con `torchvision`\n",
    "\n",
    "La base de datos puedes descargarse de forma sencilla a través del paquete `torchvision`. El [torchvision] (https://pytorch.org/docs/stable/torchvision/index.html) proporciona datasets de uso común, arquitecturas de modelos y transformaciones de imágenes comunes para aplicaciones de visión por ordenador.\n",
    "\n",
    "El siguiente código descargará el conjunto de datos FMNIST y luego creará conjuntos de datos de entrenamiento y test. "
   ]
  },
  {
   "cell_type": "code",
   "execution_count": 3,
   "metadata": {
    "colab": {
     "base_uri": "https://localhost:8080/",
     "height": 369,
     "referenced_widgets": [
      "dde26e6292d74f4e9d8bc1d26b87f139",
      "c41ae360c23f46b4920f0c0002720c9e",
      "648e1e1ce6a842fd84236f9454266fd8",
      "9cb2ef5d3e194f7e9bd036182b310f18",
      "74961f0eb1ac4c2887d0a4bf4448dde0",
      "b8812dfcbd9843ddbd5371e956b680dc",
      "1083d92290b84a179be777f6bbf189bc",
      "70c354058e96481ea7f6bdda5f5d729a",
      "bcea31dda7574b32bbc1d6c28ed29c32",
      "0e7f8ca18b8b49a6b1aa9a2821947669",
      "83b34c8548f94f6db47e88bc8ef511b1",
      "1692eb8e070541b99b7e2c768784842e",
      "36eab5792ad64c439ff146b9e5702878",
      "4a8a1496c27444729acccc3b5d669742",
      "cc38ecde182a481f9dbb95f1571e8614",
      "c22fb417522f49fda77032751e1642c1",
      "423cea9282f64ff1af98162d28614de2",
      "2e106dae2b484260b54a7558d2a04b17",
      "42c8538ed676418f8d609590377aca23",
      "754c9b5cdc024c11afba61ba42f03e1a",
      "d2224c1aeaa64ec1930951b25ba76dde",
      "621c89f13ed3445c84e61ee3bdf65067",
      "3310266025704ccdb6608f466b76c5c0",
      "41031b01f4ee41259fc1318e485a2ec5",
      "a0e75e118eb84d4bb56abd1ef8ed77b6",
      "91f8cd1ed22f43c5801360e36cb33279",
      "9607d7544a8c4b6f92b09653b29294b6",
      "44fe19958dcc4f88980bf8af78b7cfbc",
      "c8dcddf3881041fd8445ad9cf556f50c",
      "d37f307a2ab949fd80d530af53db353f",
      "d634b3ad00b94edc8f8e355c3b5ddcf0",
      "b92eec98d7544d2f9276431d0f114d48"
     ]
    },
    "id": "ChiGVe_e5aXh",
    "outputId": "a28809a5-7453-4ef7-f14a-2d9de0885193"
   },
   "outputs": [],
   "source": [
    "import torch\n",
    "from torchvision import datasets, transforms\n",
    "\n",
    "# Define a transform to normalize the data\n",
    "transform = transforms.Compose([transforms.ToTensor(),\n",
    "                                transforms.Normalize((0.5,), (0.5,))])\n",
    "# Download and load the training data\n",
    "trainset = datasets.FashionMNIST('~/.pytorch/F_MNIST_data/', download=True, train=True, transform=transform)\n",
    "trainloader = torch.utils.data.DataLoader(trainset, batch_size=64, shuffle=True)\n",
    "\n",
    "# Download and load the test data\n",
    "testset = datasets.FashionMNIST('~/.pytorch/F_MNIST_data/', download=True, train=False, transform=transform)\n",
    "testloader = torch.utils.data.DataLoader(testset, batch_size=64, shuffle=True)"
   ]
  },
  {
   "cell_type": "markdown",
   "metadata": {},
   "source": [
    "Hemos cargado nuestros datos en una clase de tipo [`DataLoader`](https://pytorch.org/tutorials/beginner/basics/data_tutorial.html) llamada `trainloader` y que convertimos en un iterador con` iter(trainloader) `. \n",
    "\n",
    "Vamos a echar un vistazo a un mini-batch de datos y representar una muestra.\n"
   ]
  },
  {
   "cell_type": "code",
   "execution_count": 4,
   "metadata": {
    "colab": {
     "base_uri": "https://localhost:8080/"
    },
    "id": "jddxiAla5aXh",
    "outputId": "9a0ef362-744c-43ca-d2a6-acb13c7b9ba5"
   },
   "outputs": [
    {
     "name": "stdout",
     "output_type": "stream",
     "text": [
      "<class 'torch.Tensor'>\n",
      "torch.Size([64, 1, 28, 28])\n",
      "torch.Size([64])\n"
     ]
    }
   ],
   "source": [
    "dataiter = iter(trainloader)   #To iterate through the dataset\n",
    "\n",
    "images, labels = dataiter.next()\n",
    "print(type(images))\n",
    "print(images.shape)\n",
    "print(labels.shape)\n"
   ]
  },
  {
   "cell_type": "markdown",
   "metadata": {},
   "source": [
    "Podemos ver cómo hay 10 categorías distintas"
   ]
  },
  {
   "cell_type": "code",
   "execution_count": 5,
   "metadata": {},
   "outputs": [
    {
     "name": "stdout",
     "output_type": "stream",
     "text": [
      "tensor([5, 9, 8, 0, 8, 2, 2, 3, 4, 4, 6, 3, 1, 2, 4, 4, 2, 2, 9, 8, 3, 4, 2, 6,\n",
      "        1, 5, 8, 3, 9, 9, 6, 5, 4, 6, 7, 6, 4, 3, 0, 2, 8, 6, 0, 5, 3, 0, 6, 9,\n",
      "        9, 5, 4, 0, 3, 0, 1, 5, 8, 3, 8, 9, 9, 8, 2, 2])\n"
     ]
    }
   ],
   "source": [
    "print(labels)"
   ]
  },
  {
   "cell_type": "code",
   "execution_count": 6,
   "metadata": {
    "colab": {
     "base_uri": "https://localhost:8080/",
     "height": 299
    },
    "id": "rLZuatJa5aXi",
    "outputId": "4c3884fa-93be-4971-cb03-177640eb05a4"
   },
   "outputs": [
    {
     "data": {
      "text/plain": [
       "<matplotlib.image.AxesImage at 0x7fc948844c50>"
      ]
     },
     "execution_count": 6,
     "metadata": {},
     "output_type": "execute_result"
    },
    {
     "data": {
      "image/png": "[encoded data removed]",
      "text/plain": [
       "<Figure size 432x288 with 1 Axes>"
      ]
     },
     "metadata": {
      "image/png": {
       "height": 248,
       "width": 251
      },
      "needs_background": "light"
     },
     "output_type": "display_data"
    }
   ],
   "source": [
    "plt.imshow(images[1].numpy().reshape([28,28]), cmap='Greys_r')"
   ]
  },
  {
   "cell_type": "markdown",
   "metadata": {
    "id": "XeoPyXmi5aXi"
   },
   "source": [
    "## 2. Visualizando el sobreajuste. Early stopping\n",
    "\n",
    "En el siguiente código definimos una red MLP con cuatro capas, dimensiones ocultas 256, 128 y 64 neuronas, y activaciones en las capas intermedias de tipo ReLU. Como ahora tenemos un clasificador multi-clase\n",
    "utilizaremos una *softmax* para calcular las probabilidades de clase. En el código que se proporciona, se usa `nn.LogSoftmax` en lugar de `nn.Softmax ()`, que devuelve el **logaritmo** de la probabilidad de clase. \n",
    "La función de coste de la entropía cruzada se obtiene combinando `nn.LogSoftmax` con la función de coste *negative log-likelihood* ` nn.NLLLoss () `.\n"
   ]
  },
  {
   "cell_type": "code",
   "execution_count": 7,
   "metadata": {
    "id": "kz11Yrir5aXi"
   },
   "outputs": [],
   "source": [
    "class MLP(nn.Module):\n",
    "    def __init__(self,dimx,hidden1,hidden2,hidden3,nlabels=10): #Nlabels will be 10 in our case\n",
    "        super().__init__()\n",
    "        \n",
    "        self.output1 = nn.Linear(dimx,hidden1)\n",
    "        \n",
    "        self.output2 = nn.Linear(hidden1,hidden2)\n",
    "        \n",
    "        self.output3 = nn.Linear(hidden2,hidden3)\n",
    "        \n",
    "        self.output4 = nn.Linear(hidden3,nlabels)\n",
    "    \n",
    "        self.relu = nn.ReLU()\n",
    "        \n",
    "        self.logsoftmax = nn.LogSoftmax(dim=1) #Con dim=1 indicamos que cada fila a la salida de la función de activación suma 1                                                             \n",
    "        \n",
    "    def forward(self, x):\n",
    "        # Pass the input tensor through each of our operations\n",
    "        x = self.output1(x)\n",
    "        x = self.relu(x)\n",
    "        x = self.output2(x)\n",
    "        x = self.relu(x)\n",
    "        x = self.output3(x)\n",
    "        x = self.relu(x)\n",
    "        x = self.output4(x)\n",
    "        x = self.logsoftmax(x) \n",
    "        return x"
   ]
  },
  {
   "cell_type": "markdown",
   "metadata": {},
   "source": [
    "Extendemos la clase añadiendo método de entrenamiento. Esta clase es muy parecida a la del notebook anterior, con dos pequeñas diferencias:\n",
    "* Reemplazamos la función de coste, ahora usamos `nn.NLLLoss()`\n",
    "* Ahora usamos [Adam](https://ruder.io/optimizing-gradient-descent/) como optimizador\n",
    "* Iteramos sobre trainloader"
   ]
  },
  {
   "cell_type": "code",
   "execution_count": 8,
   "metadata": {
    "id": "ESYFfCrA5aXj"
   },
   "outputs": [],
   "source": [
    "class MLP_extended(MLP):\n",
    "    \n",
    "    def __init__(self,dimx,hidden1,hidden2,hidden3,nlabels,epochs=100,lr=0.001):\n",
    "        \n",
    "        super().__init__(dimx,hidden1,hidden2,hidden3,nlabels)  #To initialize `MLP`!\n",
    "        \n",
    "        self.lr = lr #Learning Rate\n",
    "        \n",
    "        self.optim = optim.Adam(self.parameters(), self.lr)\n",
    "        \n",
    "        self.epochs = epochs\n",
    "        \n",
    "        self.criterion = nn.NLLLoss()             \n",
    "        \n",
    "        self.loss_during_training = [] \n",
    "        \n",
    "    def trainloop(self,trainloader):\n",
    "        \n",
    "        # Optimization Loop\n",
    "        \n",
    "        for e in range(int(self.epochs)):\n",
    "            \n",
    "            running_loss = 0.\n",
    "            \n",
    "            for images, labels in trainloader:              \n",
    "        \n",
    "                self.optim.zero_grad()  #Reiniciamos gradientes\n",
    "            \n",
    "                out = self.forward(images.view(images.shape[0], -1))\n",
    "\n",
    "                #Función de coste en el batch\n",
    "                loss = self.criterion(out,labels)\n",
    "\n",
    "                running_loss += loss.item()\n",
    "\n",
    "                #Calculamos gradientes\n",
    "                loss.backward()\n",
    "                \n",
    "                #Una iteración de descenso por gradiente\n",
    "                self.optim.step()\n",
    "                \n",
    "                \n",
    "            self.loss_during_training.append(running_loss/len(trainloader))\n",
    "\n",
    "            if(e % 1 == 0): # Every 10 epochs\n",
    "\n",
    "                print(\"Training loss after %d epochs: %f\" \n",
    "                      %(e,self.loss_during_training[-1]))\n"
   ]
  },
  {
   "cell_type": "markdown",
   "metadata": {},
   "source": [
    "Entrenemos la red ..."
   ]
  },
  {
   "cell_type": "code",
   "execution_count": 9,
   "metadata": {
    "colab": {
     "base_uri": "https://localhost:8080/"
    },
    "id": "LuSSlaj_5aXj",
    "outputId": "833739e2-ec97-47ae-ae82-90b1921b67e6"
   },
   "outputs": [
    {
     "name": "stdout",
     "output_type": "stream",
     "text": [
      "Training loss after 0 epochs: 0.513049\n",
      "Training loss after 1 epochs: 0.375419\n",
      "Training loss after 2 epochs: 0.339843\n",
      "Training loss after 3 epochs: 0.311389\n",
      "Training loss after 4 epochs: 0.290537\n",
      "Training loss after 5 epochs: 0.277551\n",
      "Training loss after 6 epochs: 0.261097\n",
      "Training loss after 7 epochs: 0.249228\n",
      "Training loss after 8 epochs: 0.240044\n",
      "Training loss after 9 epochs: 0.230584\n",
      "Training loss after 10 epochs: 0.221320\n",
      "Training loss after 11 epochs: 0.209247\n",
      "Training loss after 12 epochs: 0.203041\n",
      "Training loss after 13 epochs: 0.195021\n",
      "Training loss after 14 epochs: 0.186505\n",
      "Training loss after 15 epochs: 0.179800\n",
      "Training loss after 16 epochs: 0.172602\n",
      "Training loss after 17 epochs: 0.163485\n",
      "Training loss after 18 epochs: 0.158384\n",
      "Training loss after 19 epochs: 0.152309\n",
      "Training loss after 20 epochs: 0.145330\n",
      "Training loss after 21 epochs: 0.142786\n",
      "Training loss after 22 epochs: 0.136770\n",
      "Training loss after 23 epochs: 0.131378\n",
      "Training loss after 24 epochs: 0.125439\n",
      "Training loss after 25 epochs: 0.118483\n",
      "Training loss after 26 epochs: 0.121399\n",
      "Training loss after 27 epochs: 0.117718\n",
      "Training loss after 28 epochs: 0.109674\n",
      "Training loss after 29 epochs: 0.106662\n"
     ]
    }
   ],
   "source": [
    "my_MLP = MLP_extended(dimx=784,hidden1=256,hidden2=128,hidden3=64,nlabels=10,epochs=30,lr=1e-3)\n",
    "\n",
    "my_MLP.trainloop(trainloader)"
   ]
  },
  {
   "cell_type": "code",
   "execution_count": 10,
   "metadata": {},
   "outputs": [
    {
     "data": {
      "text/plain": [
       "[<matplotlib.lines.Line2D at 0x7fc92ae79c88>]"
      ]
     },
     "execution_count": 10,
     "metadata": {},
     "output_type": "execute_result"
    },
    {
     "data": {
      "image/png": "[encoded data removed]",
      "text/plain": [
       "<Figure size 432x288 with 1 Axes>"
      ]
     },
     "metadata": {
      "image/png": {
       "height": 248,
       "width": 380
      },
      "needs_background": "light"
     },
     "output_type": "display_data"
    }
   ],
   "source": [
    "plt.plot(my_MLP.loss_during_training)"
   ]
  },
  {
   "cell_type": "markdown",
   "metadata": {},
   "source": [
    "Usamos la siguiente función para calcular el porcentaje de etiquetas correctas en train/test. Observad que hacemos el cálculo por mini-batches ..."
   ]
  },
  {
   "cell_type": "code",
   "execution_count": 11,
   "metadata": {},
   "outputs": [],
   "source": [
    "from sklearn.metrics import accuracy_score\n",
    "\n",
    "def accuracy(dataloader,model):\n",
    "\n",
    "    # Turn off gradients for validation, saves memory and computations\n",
    "    with torch.no_grad():\n",
    "        \n",
    "        accuracy = 0.\n",
    "            \n",
    "        for images,labels in dataloader:\n",
    "            \n",
    "            logprobs = model.forward(images.view(images.shape[0], -1)).detach().numpy()\n",
    "            \n",
    "            prediction = np.argmax(logprobs,1)\n",
    "            \n",
    "            accuracy += accuracy_score(labels.numpy(),prediction,normalize=True)\n",
    "        \n",
    "        return accuracy/len(dataloader)"
   ]
  },
  {
   "cell_type": "code",
   "execution_count": 12,
   "metadata": {},
   "outputs": [
    {
     "name": "stdout",
     "output_type": "stream",
     "text": [
      "Train accuracy 0.9565398454157783\n",
      "Test accuracy 0.8793789808917197\n"
     ]
    }
   ],
   "source": [
    "print(f\"Train accuracy {accuracy(trainloader,my_MLP)}\")\n",
    "print(f\"Test accuracy {accuracy(testloader,my_MLP)}\")"
   ]
  },
  {
   "cell_type": "markdown",
   "metadata": {
    "id": "WzlqVZ415aXk"
   },
   "source": [
    "A la luz de los resultados anteriores, ciertamente el modelo se está desempeñando significativamente mejor en el conjunto de entrenamiento que en el conjunto de test. Este es un signo de sobreajuste. Para una detección temprana del sobreajuste, haremos uso de un **conjunto de validación** que usaremos para visualizar la evolución de la función de pérdida durante el entrenamiento y así implementar early stopping.\n",
    "\n",
    "Con el siguiente código, dividimos el conjunto de trenes en un conjunto de entrenamiento (de 45k imágenes) y un conjunto de validación (de 15k imágenes)\n"
   ]
  },
  {
   "cell_type": "code",
   "execution_count": null,
   "metadata": {},
   "outputs": [],
   "source": [
    "import copy\n",
    "\n",
    "validloader = copy.deepcopy(trainloader)  # Creates a copy of the object \n",
    "\n",
    "#We take the first 45k images for training\n",
    "trainloader.dataset.data = trainloader.dataset.data[:45000,:,:]\n",
    "trainloader.dataset.targets = trainloader.dataset.targets[:45000]\n",
    "\n",
    "#And the rest for validation\n",
    "validloader.dataset.data = validloader.dataset.data[45000:,:,:]\n",
    "validloader.dataset.targets = validloader.dataset.targets[45000:]\n"
   ]
  },
  {
   "cell_type": "markdown",
   "metadata": {
    "id": "WVISIsKY5aXl"
   },
   "source": [
    "> **Ejercicio**: Complete el código de la siguiente  clase, en la que modificamos la clase `MLP_extended` anterior para que, durante el entrenamiento, cada vez que termine una época, calcule la función de pérdida sobre el conjunto de validación. Debe almacenar estos valores en un nombre de lista como `valid_loss_during_training`. Al realizar este paso, no olvide apagar los gradientes usando `with torch.no_grad()`.\n",
    ">\n",
    "> Luego, repita el entrenamiento (30 épocas) y dibuje la evolución de la función de coste en entrenamiento y validación."
   ]
  },
  {
   "cell_type": "code",
   "execution_count": null,
   "metadata": {},
   "outputs": [],
   "source": [
    "class MLP_extended2(MLP):\n",
    "    \n",
    "    #Your code here\n",
    "    \n",
    "    def __init__(self,dimx,hidden1,hidden2,hidden3,nlabels,epochs=100,lr=0.001):\n",
    "        \n",
    "        super().__init__(dimx,hidden1,hidden2,hidden3,nlabels)  \n",
    "        \n",
    "        self.lr = lr #Learning Rate\n",
    "        \n",
    "        self.optim = optim.Adam(self.parameters(), self.lr)\n",
    "        \n",
    "        self.epochs = epochs\n",
    "        \n",
    "        self.criterion = nn.NLLLoss()             \n",
    "        \n",
    "        self.loss_during_training = [] \n",
    "        \n",
    "        self.valid_loss_during_training = []\n",
    "    \n",
    "    \n",
    "    def trainloop(self,trainloader,validloader):\n",
    "        \n",
    "        # Optimization Loop\n",
    "        \n",
    "        for e in range(int(self.epochs)):\n",
    "            \n",
    "            running_loss = 0.\n",
    "            \n",
    "            for images, labels in trainloader:              \n",
    "        \n",
    "                self.optim.zero_grad()  #Reiniciamos gradientes\n",
    "            \n",
    "                out = self.forward(images.view(images.shape[0], -1))\n",
    "\n",
    "                #Función de coste en el batch\n",
    "                loss = self.criterion(out,labels)\n",
    "\n",
    "                running_loss += loss.item()\n",
    "\n",
    "                #Calculamos gradientes\n",
    "                loss.backward()\n",
    "                \n",
    "                #Una iteración de descenso por gradiente\n",
    "                self.optim.step()\n",
    "                \n",
    "                \n",
    "            self.loss_during_training.append(running_loss/len(trainloader))\n",
    "            \n",
    "            # Validation Loss\n",
    "            \n",
    "            # Desabilitamos gradientes para validación\n",
    "            with torch.no_grad():            \n",
    "                \n",
    "                running_loss = 0.\n",
    "                \n",
    "                for images,labels in validloader:\n",
    "                    \n",
    "                    out = self.forward(images.view(images.shape[0], -1))\n",
    "\n",
    "                    loss = self.criterion(out,labels)\n",
    "\n",
    "                    running_loss += loss.item()   \n",
    "                    \n",
    "                self.valid_loss_during_training.append(running_loss/len(validloader))    \n",
    "                    \n",
    "\n",
    "            if(e % 1 == 0): # Every 1 epoch(s)\n",
    "\n",
    "                print(\"Epoch %d. Training loss: %f, Validation loss: %f\" \n",
    "                      %(e,self.loss_during_training[-1],self.valid_loss_during_training[-1]))\n",
    "                "
   ]
  },
  {
   "cell_type": "code",
   "execution_count": null,
   "metadata": {
    "colab": {
     "base_uri": "https://localhost:8080/"
    },
    "id": "c2XOkgZP5aXm",
    "outputId": "be9e97ec-6aca-4f6b-ff6f-8372f05e5fdc"
   },
   "outputs": [],
   "source": [
    "my_MLP = MLP_extended2(dimx=784,hidden1=256,hidden2=128,hidden3=64,nlabels=10,epochs=30,lr=1e-3)\n",
    "\n",
    "my_MLP.trainloop(trainloader,validloader)"
   ]
  },
  {
   "cell_type": "code",
   "execution_count": 16,
   "metadata": {
    "colab": {
     "base_uri": "https://localhost:8080/",
     "height": 282
    },
    "id": "bvmTzj865aXm",
    "outputId": "8b920413-5489-417c-f04b-60777de129b9"
   },
   "outputs": [
    {
     "data": {
      "text/plain": [
       "<matplotlib.legend.Legend at 0x7fc948ff3b38>"
      ]
     },
     "execution_count": 16,
     "metadata": {},
     "output_type": "execute_result"
    },
    {
     "data": {
      "image/png": "[encoded data removed]",
      "text/plain": [
       "<Figure size 432x288 with 1 Axes>"
      ]
     },
     "metadata": {
      "image/png": {
       "height": 248,
       "width": 373
      },
      "needs_background": "light"
     },
     "output_type": "display_data"
    }
   ],
   "source": [
    "plt.plot(my_MLP.loss_during_training,label='Training Loss')\n",
    "plt.plot(my_MLP.valid_loss_during_training,label='Validation Loss')\n",
    "plt.legend()"
   ]
  },
  {
   "cell_type": "markdown",
   "metadata": {},
   "source": [
    "> **Ejercicio**: Calcule el porcentaje de aciertos en el conjunto de entrenamiento, validación y de test"
   ]
  },
  {
   "cell_type": "code",
   "execution_count": 17,
   "metadata": {
    "colab": {
     "base_uri": "https://localhost:8080/"
    },
    "id": "zv_Khb9-2iHa",
    "outputId": "9a338c63-cff0-4769-b28d-b108471d8f2d"
   },
   "outputs": [
    {
     "name": "stdout",
     "output_type": "stream",
     "text": [
      "Train accuracy 0.9639781605113636\n",
      "Validation accuracy 0.8893395390070922\n",
      "Test accuracy 0.8792794585987261\n"
     ]
    }
   ],
   "source": [
    "print(f\"Train accuracy {accuracy(trainloader,my_MLP)}\")\n",
    "print(f\"Validation accuracy {accuracy(validloader,my_MLP)}\")\n",
    "print(f\"Test accuracy {accuracy(testloader,my_MLP)}\")"
   ]
  },
  {
   "cell_type": "markdown",
   "metadata": {
    "id": "KT8PX70M5aXn"
   },
   "source": [
    "A la vista de los resultados, el sobreajuste es evidente y comienza a ocurrir en torno a la época 5-10. Este es el punto de parada del entrenamiento para asegurar una mejor generalización del modelo. Esta técnica se conoce como *early stopping*. En modelos muy profundos, en los que el coste de re-entrenamiento es alto, se recomienda guardar los parámetros del modelo cada ciertas épocas y recuperar estos valores para el punto de early stopping adecuado.\n",
    "\n",
    "> **Ejercicio:** De acuerdo con sus resultados, vuelva a entrenar el modelo para el número correcto de épocas (justo antes de que la pérdida de validación comience a crecer). Compare el porcentaje de aciertos en entrenamiento, validación y test."
   ]
  },
  {
   "cell_type": "code",
   "execution_count": 18,
   "metadata": {
    "colab": {
     "base_uri": "https://localhost:8080/"
    },
    "id": "6UfX_1Wc5aXn",
    "outputId": "bdd8706c-cd5f-4453-eddd-135b907fd506"
   },
   "outputs": [
    {
     "name": "stdout",
     "output_type": "stream",
     "text": [
      "Epoch 0. Training loss: 0.553456, Validation loss: 0.417468\n",
      "Epoch 1. Training loss: 0.391139, Validation loss: 0.376088\n",
      "Epoch 2. Training loss: 0.352424, Validation loss: 0.396854\n",
      "Epoch 3. Training loss: 0.323571, Validation loss: 0.348227\n",
      "Epoch 4. Training loss: 0.300532, Validation loss: 0.342205\n",
      "Epoch 5. Training loss: 0.284423, Validation loss: 0.335080\n",
      "Epoch 6. Training loss: 0.274231, Validation loss: 0.364931\n",
      "Epoch 7. Training loss: 0.258267, Validation loss: 0.339136\n"
     ]
    }
   ],
   "source": [
    "my_MLP = MLP_extended2(dimx=784,hidden1=256,hidden2=128,hidden3=64,nlabels=10,epochs=8,lr=1e-3)\n",
    "\n",
    "my_MLP.trainloop(trainloader,validloader)"
   ]
  },
  {
   "cell_type": "code",
   "execution_count": 19,
   "metadata": {
    "colab": {
     "base_uri": "https://localhost:8080/"
    },
    "id": "o4fnDXv55aXn",
    "outputId": "514724fa-318f-4045-c047-759c1d608cf6"
   },
   "outputs": [
    {
     "name": "stdout",
     "output_type": "stream",
     "text": [
      "Train accuracy 0.9073153409090909\n",
      "Validation accuracy 0.8836879432624113\n",
      "Test accuracy 0.873109076433121\n"
     ]
    }
   ],
   "source": [
    "print(f\"Train accuracy {accuracy(trainloader,my_MLP)}\")\n",
    "print(f\"Validation accuracy {accuracy(validloader,my_MLP)}\")\n",
    "print(f\"Test accuracy {accuracy(testloader,my_MLP)}\")"
   ]
  },
  {
   "cell_type": "markdown",
   "metadata": {
    "id": "48IBgPUI5aXn"
   },
   "source": [
    "## 3. Regularización con Dropout\n",
    "\n",
    "El método más común para combatir el sobreajuste (al margen de *early stopping*) es *dropout*, donde cancelamos aleatoriamente algunas unidades ocultas de una determinada capa. Esto obliga a la red a compartir información entre pesos, aumentando su capacidad para generalizar a nuevos datos. Utilizar dropout en PyTorch es sencillo usando el módulo [`nn.Dropout`](https://pytorch.org/docs/stable/nn.html#torch.nn.Dropout).\n",
    "\n",
    "El siguiente código corresponde a un NN de 2 capas donde usamos dropout en la capa intermedia:\n",
    "\n",
    "\n",
    "```python\n",
    "class MLP_dropout(nn.Module):\n",
    "    def __init__(self,dimx,hidden1,nlabels): \n",
    "        super().__init__()\n",
    "        \n",
    "        self.output1 = nn.Linear(dimx,hidden1)  \n",
    "        \n",
    "        self.output2 = nn.Linear(hidden1,nlabels)\n",
    "    \n",
    "        self.relu = nn.ReLU()\n",
    "        \n",
    "        self.logsoftmax = nn.LogSoftmax(dim=1)  \n",
    "        \n",
    "        # Dropout con probabilidad de borrado 0.2\n",
    "        self.dropout = nn.Dropout(p=0.2)\n",
    "        \n",
    "    def forward(self, x):\n",
    "        x = self.output1(x)\n",
    "        x = self.relu(x)\n",
    "        x = self.dropout(x)\n",
    "        x = self.output2(x)\n",
    "        x = self.logsoftmax(x) \n",
    "        return x\n",
    "\n",
    "```\n",
    "\n",
    "Durante el entrenamiento, utilizaremos dropout para evitar el sobreajuste, pero durante la validación/test queremos usar toda la red y, por lo tanto,  debemos desactivar dropout. Para hacer esto, usaremos `self.eval ()`. Esto establece el modelo en modo de evaluación donde la probabilidad de borrado es 0. Puede volver a activar *dropout* configurando el modelo en modo de entrenamiento con `self.train ()` \n",
    "\n",
    "\n",
    "> **Ejercicio:**\n",
    "> - Cree una nueva clase NN que modifique la anterior incorporando un paso de abandono con `p = 0.2` después de cada no linealidad de ReLU.\n",
    "> - Modifique la clase extendida para establecer `model.eval ()` cuando sea apropiado (no olvide volver a `model.train ()`). \n",
    "> - Para este nuevo modelo, representar la evolución de las pérdidas de entrenamiento y validación. Compare con el caso sin dropout. Analice los resultados. ¿Sigue siendo necesaria una parada anticipada? \n"
   ]
  },
  {
   "cell_type": "code",
   "execution_count": 20,
   "metadata": {
    "id": "8BhaEllb5aXn"
   },
   "outputs": [],
   "source": [
    "class MLPdrop(nn.Module):\n",
    "    def __init__(self,dimx,hidden1,hidden2,hidden3,nlabels,prob): #Nlabels will be 10 in our case\n",
    "        super().__init__()\n",
    "        \n",
    "        self.output1 = nn.Linear(dimx,hidden1)\n",
    "        \n",
    "        self.output2 = nn.Linear(hidden1,hidden2)\n",
    "        \n",
    "        self.output3 = nn.Linear(hidden2,hidden3)\n",
    "        \n",
    "        self.output4 = nn.Linear(hidden3,nlabels)\n",
    "    \n",
    "        self.relu = nn.ReLU()\n",
    "        \n",
    "        self.logsoftmax = nn.LogSoftmax(dim=1)   \n",
    "        \n",
    "        # Dropout module with 0.2 drop probability\n",
    "        self.dropout = nn.Dropout(p=prob)\n",
    "        \n",
    "        \n",
    "    def forward(self, x):\n",
    "        # Pass the input tensor through each of our operations\n",
    "        x = self.output1(x)\n",
    "        x = self.relu(x)\n",
    "        x = self.dropout(x)        \n",
    "        x = self.output2(x)\n",
    "        x = self.relu(x)\n",
    "        x = self.dropout(x)        \n",
    "        x = self.output3(x)\n",
    "        x = self.relu(x)\n",
    "        x = self.dropout(x)        \n",
    "        x = self.output4(x)\n",
    "        x = self.logsoftmax(x) #YOUR CODE HERE\n",
    "        return x"
   ]
  },
  {
   "cell_type": "code",
   "execution_count": 21,
   "metadata": {
    "id": "FfcNa-Kp5aXo"
   },
   "outputs": [],
   "source": [
    "class MLPdrop_extended(MLPdrop):\n",
    "    \n",
    "    #Your code here\n",
    "    \n",
    "    def __init__(self,dimx,hidden1,hidden2,hidden3,nlabels,prob,epochs=100,lr=0.001):\n",
    "        \n",
    "        super().__init__(dimx,hidden1,hidden2,hidden3,nlabels,prob)  \n",
    "        \n",
    "        self.lr = lr \n",
    "        \n",
    "        self.optim = optim.Adam(self.parameters(), self.lr)\n",
    "        \n",
    "        self.epochs = epochs\n",
    "        \n",
    "        self.criterion = nn.NLLLoss()             \n",
    "        \n",
    "        self.loss_during_training = [] \n",
    "        \n",
    "        self.valid_loss_during_training = [] \n",
    "        \n",
    "    def trainloop(self,trainloader,validloader):\n",
    "        \n",
    "        # Modo \"entrenamiento\"\n",
    "        self.train()\n",
    "        \n",
    "        for e in range(int(self.epochs)):\n",
    "            \n",
    "            running_loss = 0.\n",
    "            \n",
    "            for images, labels in trainloader:              \n",
    "        \n",
    "                self.optim.zero_grad()  \n",
    "            \n",
    "                out = self.forward(images.view(images.shape[0], -1))\n",
    "\n",
    "                loss = self.criterion(out,labels)\n",
    "\n",
    "                running_loss += loss.item()\n",
    "\n",
    "                loss.backward()\n",
    "                \n",
    "                self.optim.step()\n",
    "                \n",
    "                \n",
    "            self.loss_during_training.append(running_loss/len(trainloader))\n",
    "            \n",
    "            # Validation Loss\n",
    "        \n",
    "            with torch.no_grad(): \n",
    "                \n",
    "                # Modo \"evaluación\"\n",
    "                self.eval()\n",
    "                \n",
    "                running_loss = 0.\n",
    "                \n",
    "                for images,labels in validloader:\n",
    "                    \n",
    "                    out = self.forward(images.view(images.shape[0], -1))\n",
    "\n",
    "                    #Your code here\n",
    "                    loss = self.criterion(out,labels)\n",
    "\n",
    "                    running_loss += loss.item()   \n",
    "                    \n",
    "                self.valid_loss_during_training.append(running_loss/len(validloader))    \n",
    "                    \n",
    "            # Volvemos a modo \"entrenamiento\"\n",
    "            self.train()\n",
    "                    \n",
    "            if(e % 1 == 0): # Every 1 epoch(s)\n",
    "\n",
    "                print(\"Epoch %d. Training loss: %f, Validation loss: %f\" \n",
    "                      %(e,self.loss_during_training[-1],self.valid_loss_during_training[-1]))\n",
    "                \n",
    "        # Finalizado el entrenamiento, dejamos activo el modo \"validación\"\n",
    "        \n",
    "        self.eval()"
   ]
  },
  {
   "cell_type": "code",
   "execution_count": 22,
   "metadata": {
    "colab": {
     "base_uri": "https://localhost:8080/"
    },
    "id": "VNUrO0Kx5aXo",
    "outputId": "65d875b5-d823-4158-8c18-f6f9c5216f70"
   },
   "outputs": [
    {
     "name": "stdout",
     "output_type": "stream",
     "text": [
      "Epoch 0. Training loss: 0.641188, Validation loss: 0.435479\n",
      "Epoch 1. Training loss: 0.455538, Validation loss: 0.414439\n",
      "Epoch 2. Training loss: 0.411509, Validation loss: 0.384530\n",
      "Epoch 3. Training loss: 0.386956, Validation loss: 0.384635\n",
      "Epoch 4. Training loss: 0.368654, Validation loss: 0.365487\n",
      "Epoch 5. Training loss: 0.352999, Validation loss: 0.358257\n",
      "Epoch 6. Training loss: 0.340079, Validation loss: 0.338136\n",
      "Epoch 7. Training loss: 0.327555, Validation loss: 0.346239\n",
      "Epoch 8. Training loss: 0.317675, Validation loss: 0.339375\n",
      "Epoch 9. Training loss: 0.309671, Validation loss: 0.331237\n",
      "Epoch 10. Training loss: 0.302300, Validation loss: 0.372526\n",
      "Epoch 11. Training loss: 0.300014, Validation loss: 0.330453\n",
      "Epoch 12. Training loss: 0.288460, Validation loss: 0.326008\n",
      "Epoch 13. Training loss: 0.284407, Validation loss: 0.325763\n",
      "Epoch 14. Training loss: 0.274628, Validation loss: 0.316278\n",
      "Epoch 15. Training loss: 0.273925, Validation loss: 0.317944\n",
      "Epoch 16. Training loss: 0.265780, Validation loss: 0.329955\n",
      "Epoch 17. Training loss: 0.263174, Validation loss: 0.321206\n",
      "Epoch 18. Training loss: 0.254362, Validation loss: 0.334039\n",
      "Epoch 19. Training loss: 0.257168, Validation loss: 0.330138\n",
      "Epoch 20. Training loss: 0.251483, Validation loss: 0.323365\n",
      "Epoch 21. Training loss: 0.244632, Validation loss: 0.322244\n",
      "Epoch 22. Training loss: 0.238783, Validation loss: 0.322912\n",
      "Epoch 23. Training loss: 0.240106, Validation loss: 0.317694\n",
      "Epoch 24. Training loss: 0.238229, Validation loss: 0.331159\n",
      "Epoch 25. Training loss: 0.231549, Validation loss: 0.320217\n",
      "Epoch 26. Training loss: 0.228883, Validation loss: 0.335468\n",
      "Epoch 27. Training loss: 0.230406, Validation loss: 0.321586\n",
      "Epoch 28. Training loss: 0.221685, Validation loss: 0.320015\n",
      "Epoch 29. Training loss: 0.222475, Validation loss: 0.340030\n"
     ]
    }
   ],
   "source": [
    "my_MLP_drop = MLPdrop_extended(dimx=784,hidden1=256,hidden2=128,hidden3=64,nlabels=10,epochs=30,lr=1e-3,prob=0.2)\n",
    "\n",
    "my_MLP_drop.trainloop(trainloader,validloader)"
   ]
  },
  {
   "cell_type": "code",
   "execution_count": 23,
   "metadata": {
    "colab": {
     "base_uri": "https://localhost:8080/",
     "height": 282
    },
    "id": "z7rfhANG5aXo",
    "outputId": "1639e303-1fc0-4265-8b67-d03bfcc80c86"
   },
   "outputs": [
    {
     "data": {
      "text/plain": [
       "<matplotlib.legend.Legend at 0x7fc94887c668>"
      ]
     },
     "execution_count": 23,
     "metadata": {},
     "output_type": "execute_result"
    },
    {
     "data": {
      "image/png": "[encoded data removed]",
      "text/plain": [
       "<Figure size 432x288 with 1 Axes>"
      ]
     },
     "metadata": {
      "image/png": {
       "height": 248,
       "width": 373
      },
      "needs_background": "light"
     },
     "output_type": "display_data"
    }
   ],
   "source": [
    "plt.plot(my_MLP_drop.loss_during_training,label='Training Loss')\n",
    "plt.plot(my_MLP_drop.valid_loss_during_training,label='Validation Loss')\n",
    "plt.legend()"
   ]
  },
  {
   "cell_type": "code",
   "execution_count": 24,
   "metadata": {
    "colab": {
     "base_uri": "https://localhost:8080/"
    },
    "id": "wPJ5wSBY5aXo",
    "outputId": "5f96a938-72a2-4c97-fd45-d7ec36c76c27"
   },
   "outputs": [
    {
     "name": "stdout",
     "output_type": "stream",
     "text": [
      "Train accuracy 0.9358354048295454\n",
      "Validation accuracy 0.8883865248226951\n",
      "Test accuracy 0.8824641719745223\n"
     ]
    }
   ],
   "source": [
    "print(f\"Train accuracy {accuracy(trainloader,my_MLP_drop)}\")\n",
    "print(f\"Validation accuracy {accuracy(validloader,my_MLP_drop)}\")\n",
    "print(f\"Test accuracy {accuracy(testloader,my_MLP_drop)}\")"
   ]
  },
  {
   "cell_type": "code",
   "execution_count": null,
   "metadata": {},
   "outputs": [],
   "source": []
  }
 ],
 "metadata": {
  "colab": {
   "collapsed_sections": [],
   "name": "Lab_2_Part_2.ipynb",
   "provenance": []
  },
  "kernelspec": {
   "display_name": "Python 3 (ipykernel)",
   "language": "python",
   "name": "python3"
  },
  "language_info": {
   "codemirror_mode": {
    "name": "ipython",
    "version": 3
   },
   "file_extension": ".py",
   "mimetype": "text/x-python",
   "name": "python",
   "nbconvert_exporter": "python",
   "pygments_lexer": "ipython3",
   "version": "3.7.11"
  },
  "widgets": {
   "application/vnd.jupyter.widget-state+json": {
    "0e7f8ca18b8b49a6b1aa9a2821947669": {
     "model_module": "@jupyter-widgets/base",
     "model_name": "LayoutModel",
     "state": {
      "_model_module": "@jupyter-widgets/base",
      "_model_module_version": "1.2.0",
      "_model_name": "LayoutModel",
      "_view_count": null,
      "_view_module": "@jupyter-widgets/base",
      "_view_module_version": "1.2.0",
      "_view_name": "LayoutView",
      "align_content": null,
      "align_items": null,
      "align_self": null,
      "border": null,
      "bottom": null,
      "display": null,
      "flex": null,
      "flex_flow": null,
      "grid_area": null,
      "grid_auto_columns": null,
      "grid_auto_flow": null,
      "grid_auto_rows": null,
      "grid_column": null,
      "grid_gap": null,
      "grid_row": null,
      "grid_template_areas": null,
      "grid_template_columns": null,
      "grid_template_rows": null,
      "height": null,
      "justify_content": null,
      "justify_items": null,
      "left": null,
      "margin": null,
      "max_height": null,
      "max_width": null,
      "min_height": null,
      "min_width": null,
      "object_fit": null,
      "object_position": null,
      "order": null,
      "overflow": null,
      "overflow_x": null,
      "overflow_y": null,
      "padding": null,
      "right": null,
      "top": null,
      "visibility": null,
      "width": null
     }
    },
    "1083d92290b84a179be777f6bbf189bc": {
     "model_module": "@jupyter-widgets/controls",
     "model_name": "DescriptionStyleModel",
     "state": {
      "_model_module": "@jupyter-widgets/controls",
      "_model_module_version": "1.5.0",
      "_model_name": "DescriptionStyleModel",
      "_view_count": null,
      "_view_module": "@jupyter-widgets/base",
      "_view_module_version": "1.2.0",
      "_view_name": "StyleView",
      "description_width": ""
     }
    },
    "1692eb8e070541b99b7e2c768784842e": {
     "model_module": "@jupyter-widgets/controls",
     "model_name": "HTMLModel",
     "state": {
      "_dom_classes": [],
      "_model_module": "@jupyter-widgets/controls",
      "_model_module_version": "1.5.0",
      "_model_name": "HTMLModel",
      "_view_count": null,
      "_view_module": "@jupyter-widgets/controls",
      "_view_module_version": "1.5.0",
      "_view_name": "HTMLView",
      "description": "",
      "description_tooltip": null,
      "layout": "IPY_MODEL_c22fb417522f49fda77032751e1642c1",
      "placeholder": "​",
      "style": "IPY_MODEL_cc38ecde182a481f9dbb95f1571e8614",
      "value": " 32768/? [00:02&lt;00:00, 14107.19it/s]"
     }
    },
    "2e106dae2b484260b54a7558d2a04b17": {
     "model_module": "@jupyter-widgets/base",
     "model_name": "LayoutModel",
     "state": {
      "_model_module": "@jupyter-widgets/base",
      "_model_module_version": "1.2.0",
      "_model_name": "LayoutModel",
      "_view_count": null,
      "_view_module": "@jupyter-widgets/base",
      "_view_module_version": "1.2.0",
      "_view_name": "LayoutView",
      "align_content": null,
      "align_items": null,
      "align_self": null,
      "border": null,
      "bottom": null,
      "display": null,
      "flex": null,
      "flex_flow": null,
      "grid_area": null,
      "grid_auto_columns": null,
      "grid_auto_flow": null,
      "grid_auto_rows": null,
      "grid_column": null,
      "grid_gap": null,
      "grid_row": null,
      "grid_template_areas": null,
      "grid_template_columns": null,
      "grid_template_rows": null,
      "height": null,
      "justify_content": null,
      "justify_items": null,
      "left": null,
      "margin": null,
      "max_height": null,
      "max_width": null,
      "min_height": null,
      "min_width": null,
      "object_fit": null,
      "object_position": null,
      "order": null,
      "overflow": null,
      "overflow_x": null,
      "overflow_y": null,
      "padding": null,
      "right": null,
      "top": null,
      "visibility": null,
      "width": null
     }
    },
    "3310266025704ccdb6608f466b76c5c0": {
     "model_module": "@jupyter-widgets/controls",
     "model_name": "DescriptionStyleModel",
     "state": {
      "_model_module": "@jupyter-widgets/controls",
      "_model_module_version": "1.5.0",
      "_model_name": "DescriptionStyleModel",
      "_view_count": null,
      "_view_module": "@jupyter-widgets/base",
      "_view_module_version": "1.2.0",
      "_view_name": "StyleView",
      "description_width": ""
     }
    },
    "36eab5792ad64c439ff146b9e5702878": {
     "model_module": "@jupyter-widgets/controls",
     "model_name": "ProgressStyleModel",
     "state": {
      "_model_module": "@jupyter-widgets/controls",
      "_model_module_version": "1.5.0",
      "_model_name": "ProgressStyleModel",
      "_view_count": null,
      "_view_module": "@jupyter-widgets/base",
      "_view_module_version": "1.2.0",
      "_view_name": "StyleView",
      "bar_color": null,
      "description_width": "initial"
     }
    },
    "41031b01f4ee41259fc1318e485a2ec5": {
     "model_module": "@jupyter-widgets/base",
     "model_name": "LayoutModel",
     "state": {
      "_model_module": "@jupyter-widgets/base",
      "_model_module_version": "1.2.0",
      "_model_name": "LayoutModel",
      "_view_count": null,
      "_view_module": "@jupyter-widgets/base",
      "_view_module_version": "1.2.0",
      "_view_name": "LayoutView",
      "align_content": null,
      "align_items": null,
      "align_self": null,
      "border": null,
      "bottom": null,
      "display": null,
      "flex": null,
      "flex_flow": null,
      "grid_area": null,
      "grid_auto_columns": null,
      "grid_auto_flow": null,
      "grid_auto_rows": null,
      "grid_column": null,
      "grid_gap": null,
      "grid_row": null,
      "grid_template_areas": null,
      "grid_template_columns": null,
      "grid_template_rows": null,
      "height": null,
      "justify_content": null,
      "justify_items": null,
      "left": null,
      "margin": null,
      "max_height": null,
      "max_width": null,
      "min_height": null,
      "min_width": null,
      "object_fit": null,
      "object_position": null,
      "order": null,
      "overflow": null,
      "overflow_x": null,
      "overflow_y": null,
      "padding": null,
      "right": null,
      "top": null,
      "visibility": null,
      "width": null
     }
    },
    "423cea9282f64ff1af98162d28614de2": {
     "model_module": "@jupyter-widgets/controls",
     "model_name": "HBoxModel",
     "state": {
      "_dom_classes": [],
      "_model_module": "@jupyter-widgets/controls",
      "_model_module_version": "1.5.0",
      "_model_name": "HBoxModel",
      "_view_count": null,
      "_view_module": "@jupyter-widgets/controls",
      "_view_module_version": "1.5.0",
      "_view_name": "HBoxView",
      "box_style": "",
      "children": [
       "IPY_MODEL_42c8538ed676418f8d609590377aca23",
       "IPY_MODEL_754c9b5cdc024c11afba61ba42f03e1a"
      ],
      "layout": "IPY_MODEL_2e106dae2b484260b54a7558d2a04b17"
     }
    },
    "42c8538ed676418f8d609590377aca23": {
     "model_module": "@jupyter-widgets/controls",
     "model_name": "FloatProgressModel",
     "state": {
      "_dom_classes": [],
      "_model_module": "@jupyter-widgets/controls",
      "_model_module_version": "1.5.0",
      "_model_name": "FloatProgressModel",
      "_view_count": null,
      "_view_module": "@jupyter-widgets/controls",
      "_view_module_version": "1.5.0",
      "_view_name": "ProgressView",
      "bar_style": "success",
      "description": "",
      "description_tooltip": null,
      "layout": "IPY_MODEL_621c89f13ed3445c84e61ee3bdf65067",
      "max": 1,
      "min": 0,
      "orientation": "horizontal",
      "style": "IPY_MODEL_d2224c1aeaa64ec1930951b25ba76dde",
      "value": 1
     }
    },
    "44fe19958dcc4f88980bf8af78b7cfbc": {
     "model_module": "@jupyter-widgets/controls",
     "model_name": "HTMLModel",
     "state": {
      "_dom_classes": [],
      "_model_module": "@jupyter-widgets/controls",
      "_model_module_version": "1.5.0",
      "_model_name": "HTMLModel",
      "_view_count": null,
      "_view_module": "@jupyter-widgets/controls",
      "_view_module_version": "1.5.0",
      "_view_name": "HTMLView",
      "description": "",
      "description_tooltip": null,
      "layout": "IPY_MODEL_b92eec98d7544d2f9276431d0f114d48",
      "placeholder": "​",
      "style": "IPY_MODEL_d634b3ad00b94edc8f8e355c3b5ddcf0",
      "value": " 8192/? [00:00&lt;00:00, 11779.85it/s]"
     }
    },
    "4a8a1496c27444729acccc3b5d669742": {
     "model_module": "@jupyter-widgets/base",
     "model_name": "LayoutModel",
     "state": {
      "_model_module": "@jupyter-widgets/base",
      "_model_module_version": "1.2.0",
      "_model_name": "LayoutModel",
      "_view_count": null,
      "_view_module": "@jupyter-widgets/base",
      "_view_module_version": "1.2.0",
      "_view_name": "LayoutView",
      "align_content": null,
      "align_items": null,
      "align_self": null,
      "border": null,
      "bottom": null,
      "display": null,
      "flex": null,
      "flex_flow": null,
      "grid_area": null,
      "grid_auto_columns": null,
      "grid_auto_flow": null,
      "grid_auto_rows": null,
      "grid_column": null,
      "grid_gap": null,
      "grid_row": null,
      "grid_template_areas": null,
      "grid_template_columns": null,
      "grid_template_rows": null,
      "height": null,
      "justify_content": null,
      "justify_items": null,
      "left": null,
      "margin": null,
      "max_height": null,
      "max_width": null,
      "min_height": null,
      "min_width": null,
      "object_fit": null,
      "object_position": null,
      "order": null,
      "overflow": null,
      "overflow_x": null,
      "overflow_y": null,
      "padding": null,
      "right": null,
      "top": null,
      "visibility": null,
      "width": null
     }
    },
    "621c89f13ed3445c84e61ee3bdf65067": {
     "model_module": "@jupyter-widgets/base",
     "model_name": "LayoutModel",
     "state": {
      "_model_module": "@jupyter-widgets/base",
      "_model_module_version": "1.2.0",
      "_model_name": "LayoutModel",
      "_view_count": null,
      "_view_module": "@jupyter-widgets/base",
      "_view_module_version": "1.2.0",
      "_view_name": "LayoutView",
      "align_content": null,
      "align_items": null,
      "align_self": null,
      "border": null,
      "bottom": null,
      "display": null,
      "flex": null,
      "flex_flow": null,
      "grid_area": null,
      "grid_auto_columns": null,
      "grid_auto_flow": null,
      "grid_auto_rows": null,
      "grid_column": null,
      "grid_gap": null,
      "grid_row": null,
      "grid_template_areas": null,
      "grid_template_columns": null,
      "grid_template_rows": null,
      "height": null,
      "justify_content": null,
      "justify_items": null,
      "left": null,
      "margin": null,
      "max_height": null,
      "max_width": null,
      "min_height": null,
      "min_width": null,
      "object_fit": null,
      "object_position": null,
      "order": null,
      "overflow": null,
      "overflow_x": null,
      "overflow_y": null,
      "padding": null,
      "right": null,
      "top": null,
      "visibility": null,
      "width": null
     }
    },
    "648e1e1ce6a842fd84236f9454266fd8": {
     "model_module": "@jupyter-widgets/controls",
     "model_name": "FloatProgressModel",
     "state": {
      "_dom_classes": [],
      "_model_module": "@jupyter-widgets/controls",
      "_model_module_version": "1.5.0",
      "_model_name": "FloatProgressModel",
      "_view_count": null,
      "_view_module": "@jupyter-widgets/controls",
      "_view_module_version": "1.5.0",
      "_view_name": "ProgressView",
      "bar_style": "success",
      "description": "",
      "description_tooltip": null,
      "layout": "IPY_MODEL_b8812dfcbd9843ddbd5371e956b680dc",
      "max": 1,
      "min": 0,
      "orientation": "horizontal",
      "style": "IPY_MODEL_74961f0eb1ac4c2887d0a4bf4448dde0",
      "value": 1
     }
    },
    "70c354058e96481ea7f6bdda5f5d729a": {
     "model_module": "@jupyter-widgets/base",
     "model_name": "LayoutModel",
     "state": {
      "_model_module": "@jupyter-widgets/base",
      "_model_module_version": "1.2.0",
      "_model_name": "LayoutModel",
      "_view_count": null,
      "_view_module": "@jupyter-widgets/base",
      "_view_module_version": "1.2.0",
      "_view_name": "LayoutView",
      "align_content": null,
      "align_items": null,
      "align_self": null,
      "border": null,
      "bottom": null,
      "display": null,
      "flex": null,
      "flex_flow": null,
      "grid_area": null,
      "grid_auto_columns": null,
      "grid_auto_flow": null,
      "grid_auto_rows": null,
      "grid_column": null,
      "grid_gap": null,
      "grid_row": null,
      "grid_template_areas": null,
      "grid_template_columns": null,
      "grid_template_rows": null,
      "height": null,
      "justify_content": null,
      "justify_items": null,
      "left": null,
      "margin": null,
      "max_height": null,
      "max_width": null,
      "min_height": null,
      "min_width": null,
      "object_fit": null,
      "object_position": null,
      "order": null,
      "overflow": null,
      "overflow_x": null,
      "overflow_y": null,
      "padding": null,
      "right": null,
      "top": null,
      "visibility": null,
      "width": null
     }
    },
    "74961f0eb1ac4c2887d0a4bf4448dde0": {
     "model_module": "@jupyter-widgets/controls",
     "model_name": "ProgressStyleModel",
     "state": {
      "_model_module": "@jupyter-widgets/controls",
      "_model_module_version": "1.5.0",
      "_model_name": "ProgressStyleModel",
      "_view_count": null,
      "_view_module": "@jupyter-widgets/base",
      "_view_module_version": "1.2.0",
      "_view_name": "StyleView",
      "bar_color": null,
      "description_width": "initial"
     }
    },
    "754c9b5cdc024c11afba61ba42f03e1a": {
     "model_module": "@jupyter-widgets/controls",
     "model_name": "HTMLModel",
     "state": {
      "_dom_classes": [],
      "_model_module": "@jupyter-widgets/controls",
      "_model_module_version": "1.5.0",
      "_model_name": "HTMLModel",
      "_view_count": null,
      "_view_module": "@jupyter-widgets/controls",
      "_view_module_version": "1.5.0",
      "_view_name": "HTMLView",
      "description": "",
      "description_tooltip": null,
      "layout": "IPY_MODEL_41031b01f4ee41259fc1318e485a2ec5",
      "placeholder": "​",
      "style": "IPY_MODEL_3310266025704ccdb6608f466b76c5c0",
      "value": " 4423680/? [00:01&lt;00:00, 2357176.91it/s]"
     }
    },
    "83b34c8548f94f6db47e88bc8ef511b1": {
     "model_module": "@jupyter-widgets/controls",
     "model_name": "FloatProgressModel",
     "state": {
      "_dom_classes": [],
      "_model_module": "@jupyter-widgets/controls",
      "_model_module_version": "1.5.0",
      "_model_name": "FloatProgressModel",
      "_view_count": null,
      "_view_module": "@jupyter-widgets/controls",
      "_view_module_version": "1.5.0",
      "_view_name": "ProgressView",
      "bar_style": "success",
      "description": "",
      "description_tooltip": null,
      "layout": "IPY_MODEL_4a8a1496c27444729acccc3b5d669742",
      "max": 1,
      "min": 0,
      "orientation": "horizontal",
      "style": "IPY_MODEL_36eab5792ad64c439ff146b9e5702878",
      "value": 1
     }
    },
    "91f8cd1ed22f43c5801360e36cb33279": {
     "model_module": "@jupyter-widgets/base",
     "model_name": "LayoutModel",
     "state": {
      "_model_module": "@jupyter-widgets/base",
      "_model_module_version": "1.2.0",
      "_model_name": "LayoutModel",
      "_view_count": null,
      "_view_module": "@jupyter-widgets/base",
      "_view_module_version": "1.2.0",
      "_view_name": "LayoutView",
      "align_content": null,
      "align_items": null,
      "align_self": null,
      "border": null,
      "bottom": null,
      "display": null,
      "flex": null,
      "flex_flow": null,
      "grid_area": null,
      "grid_auto_columns": null,
      "grid_auto_flow": null,
      "grid_auto_rows": null,
      "grid_column": null,
      "grid_gap": null,
      "grid_row": null,
      "grid_template_areas": null,
      "grid_template_columns": null,
      "grid_template_rows": null,
      "height": null,
      "justify_content": null,
      "justify_items": null,
      "left": null,
      "margin": null,
      "max_height": null,
      "max_width": null,
      "min_height": null,
      "min_width": null,
      "object_fit": null,
      "object_position": null,
      "order": null,
      "overflow": null,
      "overflow_x": null,
      "overflow_y": null,
      "padding": null,
      "right": null,
      "top": null,
      "visibility": null,
      "width": null
     }
    },
    "9607d7544a8c4b6f92b09653b29294b6": {
     "model_module": "@jupyter-widgets/controls",
     "model_name": "FloatProgressModel",
     "state": {
      "_dom_classes": [],
      "_model_module": "@jupyter-widgets/controls",
      "_model_module_version": "1.5.0",
      "_model_name": "FloatProgressModel",
      "_view_count": null,
      "_view_module": "@jupyter-widgets/controls",
      "_view_module_version": "1.5.0",
      "_view_name": "ProgressView",
      "bar_style": "success",
      "description": "",
      "description_tooltip": null,
      "layout": "IPY_MODEL_d37f307a2ab949fd80d530af53db353f",
      "max": 1,
      "min": 0,
      "orientation": "horizontal",
      "style": "IPY_MODEL_c8dcddf3881041fd8445ad9cf556f50c",
      "value": 1
     }
    },
    "9cb2ef5d3e194f7e9bd036182b310f18": {
     "model_module": "@jupyter-widgets/controls",
     "model_name": "HTMLModel",
     "state": {
      "_dom_classes": [],
      "_model_module": "@jupyter-widgets/controls",
      "_model_module_version": "1.5.0",
      "_model_name": "HTMLModel",
      "_view_count": null,
      "_view_module": "@jupyter-widgets/controls",
      "_view_module_version": "1.5.0",
      "_view_name": "HTMLView",
      "description": "",
      "description_tooltip": null,
      "layout": "IPY_MODEL_70c354058e96481ea7f6bdda5f5d729a",
      "placeholder": "​",
      "style": "IPY_MODEL_1083d92290b84a179be777f6bbf189bc",
      "value": " 26427392/? [00:04&lt;00:00, 5606790.80it/s]"
     }
    },
    "a0e75e118eb84d4bb56abd1ef8ed77b6": {
     "model_module": "@jupyter-widgets/controls",
     "model_name": "HBoxModel",
     "state": {
      "_dom_classes": [],
      "_model_module": "@jupyter-widgets/controls",
      "_model_module_version": "1.5.0",
      "_model_name": "HBoxModel",
      "_view_count": null,
      "_view_module": "@jupyter-widgets/controls",
      "_view_module_version": "1.5.0",
      "_view_name": "HBoxView",
      "box_style": "",
      "children": [
       "IPY_MODEL_9607d7544a8c4b6f92b09653b29294b6",
       "IPY_MODEL_44fe19958dcc4f88980bf8af78b7cfbc"
      ],
      "layout": "IPY_MODEL_91f8cd1ed22f43c5801360e36cb33279"
     }
    },
    "b8812dfcbd9843ddbd5371e956b680dc": {
     "model_module": "@jupyter-widgets/base",
     "model_name": "LayoutModel",
     "state": {
      "_model_module": "@jupyter-widgets/base",
      "_model_module_version": "1.2.0",
      "_model_name": "LayoutModel",
      "_view_count": null,
      "_view_module": "@jupyter-widgets/base",
      "_view_module_version": "1.2.0",
      "_view_name": "LayoutView",
      "align_content": null,
      "align_items": null,
      "align_self": null,
      "border": null,
      "bottom": null,
      "display": null,
      "flex": null,
      "flex_flow": null,
      "grid_area": null,
      "grid_auto_columns": null,
      "grid_auto_flow": null,
      "grid_auto_rows": null,
      "grid_column": null,
      "grid_gap": null,
      "grid_row": null,
      "grid_template_areas": null,
      "grid_template_columns": null,
      "grid_template_rows": null,
      "height": null,
      "justify_content": null,
      "justify_items": null,
      "left": null,
      "margin": null,
      "max_height": null,
      "max_width": null,
      "min_height": null,
      "min_width": null,
      "object_fit": null,
      "object_position": null,
      "order": null,
      "overflow": null,
      "overflow_x": null,
      "overflow_y": null,
      "padding": null,
      "right": null,
      "top": null,
      "visibility": null,
      "width": null
     }
    },
    "b92eec98d7544d2f9276431d0f114d48": {
     "model_module": "@jupyter-widgets/base",
     "model_name": "LayoutModel",
     "state": {
      "_model_module": "@jupyter-widgets/base",
      "_model_module_version": "1.2.0",
      "_model_name": "LayoutModel",
      "_view_count": null,
      "_view_module": "@jupyter-widgets/base",
      "_view_module_version": "1.2.0",
      "_view_name": "LayoutView",
      "align_content": null,
      "align_items": null,
      "align_self": null,
      "border": null,
      "bottom": null,
      "display": null,
      "flex": null,
      "flex_flow": null,
      "grid_area": null,
      "grid_auto_columns": null,
      "grid_auto_flow": null,
      "grid_auto_rows": null,
      "grid_column": null,
      "grid_gap": null,
      "grid_row": null,
      "grid_template_areas": null,
      "grid_template_columns": null,
      "grid_template_rows": null,
      "height": null,
      "justify_content": null,
      "justify_items": null,
      "left": null,
      "margin": null,
      "max_height": null,
      "max_width": null,
      "min_height": null,
      "min_width": null,
      "object_fit": null,
      "object_position": null,
      "order": null,
      "overflow": null,
      "overflow_x": null,
      "overflow_y": null,
      "padding": null,
      "right": null,
      "top": null,
      "visibility": null,
      "width": null
     }
    },
    "bcea31dda7574b32bbc1d6c28ed29c32": {
     "model_module": "@jupyter-widgets/controls",
     "model_name": "HBoxModel",
     "state": {
      "_dom_classes": [],
      "_model_module": "@jupyter-widgets/controls",
      "_model_module_version": "1.5.0",
      "_model_name": "HBoxModel",
      "_view_count": null,
      "_view_module": "@jupyter-widgets/controls",
      "_view_module_version": "1.5.0",
      "_view_name": "HBoxView",
      "box_style": "",
      "children": [
       "IPY_MODEL_83b34c8548f94f6db47e88bc8ef511b1",
       "IPY_MODEL_1692eb8e070541b99b7e2c768784842e"
      ],
      "layout": "IPY_MODEL_0e7f8ca18b8b49a6b1aa9a2821947669"
     }
    },
    "c22fb417522f49fda77032751e1642c1": {
     "model_module": "@jupyter-widgets/base",
     "model_name": "LayoutModel",
     "state": {
      "_model_module": "@jupyter-widgets/base",
      "_model_module_version": "1.2.0",
      "_model_name": "LayoutModel",
      "_view_count": null,
      "_view_module": "@jupyter-widgets/base",
      "_view_module_version": "1.2.0",
      "_view_name": "LayoutView",
      "align_content": null,
      "align_items": null,
      "align_self": null,
      "border": null,
      "bottom": null,
      "display": null,
      "flex": null,
      "flex_flow": null,
      "grid_area": null,
      "grid_auto_columns": null,
      "grid_auto_flow": null,
      "grid_auto_rows": null,
      "grid_column": null,
      "grid_gap": null,
      "grid_row": null,
      "grid_template_areas": null,
      "grid_template_columns": null,
      "grid_template_rows": null,
      "height": null,
      "justify_content": null,
      "justify_items": null,
      "left": null,
      "margin": null,
      "max_height": null,
      "max_width": null,
      "min_height": null,
      "min_width": null,
      "object_fit": null,
      "object_position": null,
      "order": null,
      "overflow": null,
      "overflow_x": null,
      "overflow_y": null,
      "padding": null,
      "right": null,
      "top": null,
      "visibility": null,
      "width": null
     }
    },
    "c41ae360c23f46b4920f0c0002720c9e": {
     "model_module": "@jupyter-widgets/base",
     "model_name": "LayoutModel",
     "state": {
      "_model_module": "@jupyter-widgets/base",
      "_model_module_version": "1.2.0",
      "_model_name": "LayoutModel",
      "_view_count": null,
      "_view_module": "@jupyter-widgets/base",
      "_view_module_version": "1.2.0",
      "_view_name": "LayoutView",
      "align_content": null,
      "align_items": null,
      "align_self": null,
      "border": null,
      "bottom": null,
      "display": null,
      "flex": null,
      "flex_flow": null,
      "grid_area": null,
      "grid_auto_columns": null,
      "grid_auto_flow": null,
      "grid_auto_rows": null,
      "grid_column": null,
      "grid_gap": null,
      "grid_row": null,
      "grid_template_areas": null,
      "grid_template_columns": null,
      "grid_template_rows": null,
      "height": null,
      "justify_content": null,
      "justify_items": null,
      "left": null,
      "margin": null,
      "max_height": null,
      "max_width": null,
      "min_height": null,
      "min_width": null,
      "object_fit": null,
      "object_position": null,
      "order": null,
      "overflow": null,
      "overflow_x": null,
      "overflow_y": null,
      "padding": null,
      "right": null,
      "top": null,
      "visibility": null,
      "width": null
     }
    },
    "c8dcddf3881041fd8445ad9cf556f50c": {
     "model_module": "@jupyter-widgets/controls",
     "model_name": "ProgressStyleModel",
     "state": {
      "_model_module": "@jupyter-widgets/controls",
      "_model_module_version": "1.5.0",
      "_model_name": "ProgressStyleModel",
      "_view_count": null,
      "_view_module": "@jupyter-widgets/base",
      "_view_module_version": "1.2.0",
      "_view_name": "StyleView",
      "bar_color": null,
      "description_width": "initial"
     }
    },
    "cc38ecde182a481f9dbb95f1571e8614": {
     "model_module": "@jupyter-widgets/controls",
     "model_name": "DescriptionStyleModel",
     "state": {
      "_model_module": "@jupyter-widgets/controls",
      "_model_module_version": "1.5.0",
      "_model_name": "DescriptionStyleModel",
      "_view_count": null,
      "_view_module": "@jupyter-widgets/base",
      "_view_module_version": "1.2.0",
      "_view_name": "StyleView",
      "description_width": ""
     }
    },
    "d2224c1aeaa64ec1930951b25ba76dde": {
     "model_module": "@jupyter-widgets/controls",
     "model_name": "ProgressStyleModel",
     "state": {
      "_model_module": "@jupyter-widgets/controls",
      "_model_module_version": "1.5.0",
      "_model_name": "ProgressStyleModel",
      "_view_count": null,
      "_view_module": "@jupyter-widgets/base",
      "_view_module_version": "1.2.0",
      "_view_name": "StyleView",
      "bar_color": null,
      "description_width": "initial"
     }
    },
    "d37f307a2ab949fd80d530af53db353f": {
     "model_module": "@jupyter-widgets/base",
     "model_name": "LayoutModel",
     "state": {
      "_model_module": "@jupyter-widgets/base",
      "_model_module_version": "1.2.0",
      "_model_name": "LayoutModel",
      "_view_count": null,
      "_view_module": "@jupyter-widgets/base",
      "_view_module_version": "1.2.0",
      "_view_name": "LayoutView",
      "align_content": null,
      "align_items": null,
      "align_self": null,
      "border": null,
      "bottom": null,
      "display": null,
      "flex": null,
      "flex_flow": null,
      "grid_area": null,
      "grid_auto_columns": null,
      "grid_auto_flow": null,
      "grid_auto_rows": null,
      "grid_column": null,
      "grid_gap": null,
      "grid_row": null,
      "grid_template_areas": null,
      "grid_template_columns": null,
      "grid_template_rows": null,
      "height": null,
      "justify_content": null,
      "justify_items": null,
      "left": null,
      "margin": null,
      "max_height": null,
      "max_width": null,
      "min_height": null,
      "min_width": null,
      "object_fit": null,
      "object_position": null,
      "order": null,
      "overflow": null,
      "overflow_x": null,
      "overflow_y": null,
      "padding": null,
      "right": null,
      "top": null,
      "visibility": null,
      "width": null
     }
    },
    "d634b3ad00b94edc8f8e355c3b5ddcf0": {
     "model_module": "@jupyter-widgets/controls",
     "model_name": "DescriptionStyleModel",
     "state": {
      "_model_module": "@jupyter-widgets/controls",
      "_model_module_version": "1.5.0",
      "_model_name": "DescriptionStyleModel",
      "_view_count": null,
      "_view_module": "@jupyter-widgets/base",
      "_view_module_version": "1.2.0",
      "_view_name": "StyleView",
      "description_width": ""
     }
    },
    "dde26e6292d74f4e9d8bc1d26b87f139": {
     "model_module": "@jupyter-widgets/controls",
     "model_name": "HBoxModel",
     "state": {
      "_dom_classes": [],
      "_model_module": "@jupyter-widgets/controls",
      "_model_module_version": "1.5.0",
      "_model_name": "HBoxModel",
      "_view_count": null,
      "_view_module": "@jupyter-widgets/controls",
      "_view_module_version": "1.5.0",
      "_view_name": "HBoxView",
      "box_style": "",
      "children": [
       "IPY_MODEL_648e1e1ce6a842fd84236f9454266fd8",
       "IPY_MODEL_9cb2ef5d3e194f7e9bd036182b310f18"
      ],
      "layout": "IPY_MODEL_c41ae360c23f46b4920f0c0002720c9e"
     }
    }
   }
  }
 },
 "nbformat": 4,
 "nbformat_minor": 4
}
