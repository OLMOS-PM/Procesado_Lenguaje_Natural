{
 "cells": [
  {
   "cell_type": "markdown",
   "metadata": {},
   "source": [
    "# Introducción a Pytorch. Entrenamiento de MLPs sobre la de datos Spam\n",
    "\n",
    "### Procesamiento de Lenguaje Natural\n",
    "\n",
    "**Pablo Martínez Olmos, Vanessa Gómez Verdejo, Emilio Parrado Hernández**\n",
    "\n",
    "Departamento de Teoría de la Señal y Comunicaciones\n",
    "\n",
    "**Universidad Carlos III de Madrid**\n",
    "\n",
    "<img src='http://www.tsc.uc3m.es/~emipar/BBVA/INTRO/img/logo_uc3m_foot.jpg' width=400 />\n",
    "\n",
    "\n",
    "# 1. Regresión logística con Pytorch\n",
    "\n",
    "[Pytorch](https://pytorch.org/) es un entorno de código abierto para aprendizaje automático que acelera el camino desde la creación de prototipos de investigación hasta la implementación de producción. En particular, nos proporciona mecanismos de [diferenciación automática](https://proceedings.neurips.cc/paper/2018/file/770f8e448d07586afbf77bb59f698587-Paper.pdf) para optimización numérica que nos permitirán entrenar redes neuronales de forma sencilla y eficiente. \n",
    "\n",
    "En este primer notebook, aprenderemos a utilizar Pytorch para entrenar una regresión logística y una rede neuronal de tipo MLP en un problema de clasificación binaria.\n"
   ]
  },
  {
   "cell_type": "code",
   "execution_count": 3,
   "metadata": {},
   "outputs": [],
   "source": [
    "import pandas as pd # pd is simply an alias \n",
    "import numpy as np\n",
    "import matplotlib.pyplot as plt\n",
    "\n",
    "%matplotlib inline \n",
    "%config InlineBackend.figure_format = 'retina' #High quality figures"
   ]
  },
  {
   "cell_type": "markdown",
   "metadata": {},
   "source": [
    "## 1.2 Spam database\n",
    "\n",
    "Carguemos la base de datos [spam](https://archive.ics.uci.edu/ml/datasets/spambase):\n",
    "    \n",
    "- 4601 observaciones (1813 spam, 39.4%)\n",
    "- target binario: spam ($y=1$) o no spam ($y=0$)\n",
    "- No disponemos de los textos, las observaciones están formadas por 57 variables continuas\n",
    "  - 48 variables reales continuas en el intervalo [0,100] *word_freq_WORD*: frecuencia de aparición de la palabra *WORD* en el correo (en porcentaje)\n",
    "  - 6 variables reales continuas en el intervalo [0,100] *char_freq_CHAR*: frecuencia de aparición del caracter *CHAR* en el correo (porcentaje)\n",
    "  - 1 variable real continua: longitud promedio de secuencias de caracteres en mayúscula ininterrumpidos\n",
    "  - 1 variable entera continua: longitud de la secuencia de mayúsculas ininterrumpida más larga\n",
    "  - 1 variable entera continua: número total de mayúsculas en el correo\n"
   ]
  },
  {
   "cell_type": "code",
   "execution_count": 4,
   "metadata": {},
   "outputs": [],
   "source": [
    "def load_spam():\n",
    "    data = pd.read_csv('https://archive.ics.uci.edu/ml/machine-learning-databases/spambase/spambase.data',header=None)\n",
    "    data.columns=[\"wf_make\",         \n",
    "        \"wf_address\",      \n",
    "        \"wf_all\",          \n",
    "        \"wf_3d\",           \n",
    "        \"wf_our\",          \n",
    "        \"wf_over\",         \n",
    "        \"wf_remove\",       \n",
    "        \"wf_internet\",     \n",
    "        \"wf_order\",        \n",
    "        \"wf_mail\",         \n",
    "        \"wf_receive\",      \n",
    "        \"wf_will\",         \n",
    "        \"wf_people\",       \n",
    "        \"wf_report\",       \n",
    "        \"wf_addresses\",    \n",
    "        \"wf_free\",         \n",
    "        \"wf_business\",     \n",
    "        \"wf_email\",        \n",
    "        \"wf_you\",          \n",
    "        \"wf_credit\",       \n",
    "        \"wf_your\",         \n",
    "        \"wf_font\",         \n",
    "        \"wf_000\",          \n",
    "        \"wf_money\",        \n",
    "        \"wf_hp\",           \n",
    "        \"wf_hpl\",          \n",
    "        \"wf_george\",       \n",
    "        \"wf_650\",          \n",
    "        \"wf_lab\",          \n",
    "        \"wf_labs\",         \n",
    "        \"wf_telnet\",       \n",
    "        \"wf_857\",          \n",
    "        \"wf_data\",         \n",
    "        \"wf_415\",          \n",
    "        \"wf_85\",           \n",
    "        \"wf_technology\",   \n",
    "        \"wf_1999\",         \n",
    "        \"wf_parts\",        \n",
    "        \"wf_pm\",           \n",
    "        \"wf_direct\",       \n",
    "        \"wf_cs\",           \n",
    "        \"wf_meeting\",      \n",
    "        \"wf_original\",     \n",
    "        \"wf_project\",      \n",
    "        \"wf_re\",           \n",
    "        \"wf_edu\",          \n",
    "        \"wf_table\",        \n",
    "        \"wf_conference\",   \n",
    "        \"cf_;\",            \n",
    "        \"cf_(\",            \n",
    "        \"cf_[\",            \n",
    "        \"cf_!\",            \n",
    "        \"cf_$\",            \n",
    "        \"cf_#\",            \n",
    "        \"cap_average\", \n",
    "        \"cap_longest\", \n",
    "        \"cap_total\",\n",
    "        \"target\"]\n",
    "    return data"
   ]
  },
  {
   "cell_type": "code",
   "execution_count": 5,
   "metadata": {},
   "outputs": [
    {
     "name": "stdout",
     "output_type": "stream",
     "text": [
      "Cargadas 4601 observaciones con 58 columnas\n",
      "\n",
      "Ejemplos\n"
     ]
    },
    {
     "data": {
      "text/html": [
       "<div>\n",
       "<style scoped>\n",
       "    .dataframe tbody tr th:only-of-type {\n",
       "        vertical-align: middle;\n",
       "    }\n",
       "\n",
       "    .dataframe tbody tr th {\n",
       "        vertical-align: top;\n",
       "    }\n",
       "\n",
       "    .dataframe thead th {\n",
       "        text-align: right;\n",
       "    }\n",
       "</style>\n",
       "<table border=\"1\" class=\"dataframe\">\n",
       "  <thead>\n",
       "    <tr style=\"text-align: right;\">\n",
       "      <th></th>\n",
       "      <th>wf_make</th>\n",
       "      <th>wf_address</th>\n",
       "      <th>wf_all</th>\n",
       "      <th>wf_3d</th>\n",
       "      <th>wf_our</th>\n",
       "      <th>wf_over</th>\n",
       "      <th>wf_remove</th>\n",
       "      <th>wf_internet</th>\n",
       "      <th>wf_order</th>\n",
       "      <th>wf_mail</th>\n",
       "      <th>...</th>\n",
       "      <th>cf_;</th>\n",
       "      <th>cf_(</th>\n",
       "      <th>cf_[</th>\n",
       "      <th>cf_!</th>\n",
       "      <th>cf_$</th>\n",
       "      <th>cf_#</th>\n",
       "      <th>cap_average</th>\n",
       "      <th>cap_longest</th>\n",
       "      <th>cap_total</th>\n",
       "      <th>target</th>\n",
       "    </tr>\n",
       "  </thead>\n",
       "  <tbody>\n",
       "    <tr>\n",
       "      <th>0</th>\n",
       "      <td>0.00</td>\n",
       "      <td>0.64</td>\n",
       "      <td>0.64</td>\n",
       "      <td>0.0</td>\n",
       "      <td>0.32</td>\n",
       "      <td>0.00</td>\n",
       "      <td>0.00</td>\n",
       "      <td>0.00</td>\n",
       "      <td>0.00</td>\n",
       "      <td>0.00</td>\n",
       "      <td>...</td>\n",
       "      <td>0.00</td>\n",
       "      <td>0.000</td>\n",
       "      <td>0.0</td>\n",
       "      <td>0.778</td>\n",
       "      <td>0.000</td>\n",
       "      <td>0.000</td>\n",
       "      <td>3.756</td>\n",
       "      <td>61</td>\n",
       "      <td>278</td>\n",
       "      <td>1</td>\n",
       "    </tr>\n",
       "    <tr>\n",
       "      <th>1</th>\n",
       "      <td>0.21</td>\n",
       "      <td>0.28</td>\n",
       "      <td>0.50</td>\n",
       "      <td>0.0</td>\n",
       "      <td>0.14</td>\n",
       "      <td>0.28</td>\n",
       "      <td>0.21</td>\n",
       "      <td>0.07</td>\n",
       "      <td>0.00</td>\n",
       "      <td>0.94</td>\n",
       "      <td>...</td>\n",
       "      <td>0.00</td>\n",
       "      <td>0.132</td>\n",
       "      <td>0.0</td>\n",
       "      <td>0.372</td>\n",
       "      <td>0.180</td>\n",
       "      <td>0.048</td>\n",
       "      <td>5.114</td>\n",
       "      <td>101</td>\n",
       "      <td>1028</td>\n",
       "      <td>1</td>\n",
       "    </tr>\n",
       "    <tr>\n",
       "      <th>2</th>\n",
       "      <td>0.06</td>\n",
       "      <td>0.00</td>\n",
       "      <td>0.71</td>\n",
       "      <td>0.0</td>\n",
       "      <td>1.23</td>\n",
       "      <td>0.19</td>\n",
       "      <td>0.19</td>\n",
       "      <td>0.12</td>\n",
       "      <td>0.64</td>\n",
       "      <td>0.25</td>\n",
       "      <td>...</td>\n",
       "      <td>0.01</td>\n",
       "      <td>0.143</td>\n",
       "      <td>0.0</td>\n",
       "      <td>0.276</td>\n",
       "      <td>0.184</td>\n",
       "      <td>0.010</td>\n",
       "      <td>9.821</td>\n",
       "      <td>485</td>\n",
       "      <td>2259</td>\n",
       "      <td>1</td>\n",
       "    </tr>\n",
       "    <tr>\n",
       "      <th>3</th>\n",
       "      <td>0.00</td>\n",
       "      <td>0.00</td>\n",
       "      <td>0.00</td>\n",
       "      <td>0.0</td>\n",
       "      <td>0.63</td>\n",
       "      <td>0.00</td>\n",
       "      <td>0.31</td>\n",
       "      <td>0.63</td>\n",
       "      <td>0.31</td>\n",
       "      <td>0.63</td>\n",
       "      <td>...</td>\n",
       "      <td>0.00</td>\n",
       "      <td>0.137</td>\n",
       "      <td>0.0</td>\n",
       "      <td>0.137</td>\n",
       "      <td>0.000</td>\n",
       "      <td>0.000</td>\n",
       "      <td>3.537</td>\n",
       "      <td>40</td>\n",
       "      <td>191</td>\n",
       "      <td>1</td>\n",
       "    </tr>\n",
       "    <tr>\n",
       "      <th>4</th>\n",
       "      <td>0.00</td>\n",
       "      <td>0.00</td>\n",
       "      <td>0.00</td>\n",
       "      <td>0.0</td>\n",
       "      <td>0.63</td>\n",
       "      <td>0.00</td>\n",
       "      <td>0.31</td>\n",
       "      <td>0.63</td>\n",
       "      <td>0.31</td>\n",
       "      <td>0.63</td>\n",
       "      <td>...</td>\n",
       "      <td>0.00</td>\n",
       "      <td>0.135</td>\n",
       "      <td>0.0</td>\n",
       "      <td>0.135</td>\n",
       "      <td>0.000</td>\n",
       "      <td>0.000</td>\n",
       "      <td>3.537</td>\n",
       "      <td>40</td>\n",
       "      <td>191</td>\n",
       "      <td>1</td>\n",
       "    </tr>\n",
       "  </tbody>\n",
       "</table>\n",
       "<p>5 rows × 58 columns</p>\n",
       "</div>"
      ],
      "text/plain": [
       "   wf_make  wf_address  wf_all  wf_3d  wf_our  wf_over  wf_remove  \\\n",
       "0     0.00        0.64    0.64    0.0    0.32     0.00       0.00   \n",
       "1     0.21        0.28    0.50    0.0    0.14     0.28       0.21   \n",
       "2     0.06        0.00    0.71    0.0    1.23     0.19       0.19   \n",
       "3     0.00        0.00    0.00    0.0    0.63     0.00       0.31   \n",
       "4     0.00        0.00    0.00    0.0    0.63     0.00       0.31   \n",
       "\n",
       "   wf_internet  wf_order  wf_mail  ...  cf_;   cf_(  cf_[   cf_!   cf_$  \\\n",
       "0         0.00      0.00     0.00  ...  0.00  0.000   0.0  0.778  0.000   \n",
       "1         0.07      0.00     0.94  ...  0.00  0.132   0.0  0.372  0.180   \n",
       "2         0.12      0.64     0.25  ...  0.01  0.143   0.0  0.276  0.184   \n",
       "3         0.63      0.31     0.63  ...  0.00  0.137   0.0  0.137  0.000   \n",
       "4         0.63      0.31     0.63  ...  0.00  0.135   0.0  0.135  0.000   \n",
       "\n",
       "    cf_#  cap_average  cap_longest  cap_total  target  \n",
       "0  0.000        3.756           61        278       1  \n",
       "1  0.048        5.114          101       1028       1  \n",
       "2  0.010        9.821          485       2259       1  \n",
       "3  0.000        3.537           40        191       1  \n",
       "4  0.000        3.537           40        191       1  \n",
       "\n",
       "[5 rows x 58 columns]"
      ]
     },
     "execution_count": 5,
     "metadata": {},
     "output_type": "execute_result"
    }
   ],
   "source": [
    "''' Data is stored in a Dataframe, a particular data type implemented in Pandas'''\n",
    "\n",
    "data = load_spam()\n",
    "\n",
    "print(\"Cargadas {0:d} observaciones con {1:d} columnas\\n\".format(len(data), len(data.columns)))\n",
    "print(\"Ejemplos\")\n",
    "data.head()\n"
   ]
  },
  {
   "cell_type": "markdown",
   "metadata": {},
   "source": [
    "Separamos train/test, normalizamos ..."
   ]
  },
  {
   "cell_type": "code",
   "execution_count": 6,
   "metadata": {},
   "outputs": [],
   "source": [
    "from scipy.stats import multivariate_normal, norm\n",
    "\n",
    "from sklearn.model_selection import train_test_split\n",
    "from sklearn.preprocessing import StandardScaler\n",
    "\n",
    "X0_spam = data[data.columns[:57]].values\n",
    "Y_spam = data['target'].values\n",
    "\n",
    "# Dividimos train/test. Normalizamos\n",
    "X0_spam_train, X0_spam_test, Y_spam_train, Y_spam_test = train_test_split(\n",
    "    X0_spam, Y_spam, test_size=0.3, random_state=42)\n",
    "# X0--> Datos originales, X --> Normalizados\n",
    "\n",
    "transformer_spam = StandardScaler().fit(X0_spam_train)  \n",
    "X_spam_train = transformer_spam.transform(X0_spam_train)  \n",
    "X_spam_test = transformer_spam.transform(X0_spam_test) "
   ]
  },
  {
   "cell_type": "markdown",
   "metadata": {},
   "source": [
    "## 1.2. Tensores en Pytorch\n",
    "\n",
    "El tipo de dato básico en Pytorch se denomina [tensor](https://pytorch.org/docs/stable/tensors.html) y en muchos sentidos se utilizan como arrays en Numpy. PyTorch toma estos tensores y simplifica su traslado a las GPU para el procesamiento más rápido necesario al entrenar redes neuronales. También proporciona un módulo que calcula automáticamente los gradientes y otro módulo específicamente para construir redes neuronales.\n"
   ]
  },
  {
   "cell_type": "markdown",
   "metadata": {},
   "source": [
    "### Crear y manipular tensores"
   ]
  },
  {
   "cell_type": "code",
   "execution_count": 7,
   "metadata": {},
   "outputs": [
    {
     "data": {
      "text/plain": [
       "'1.7.1'"
      ]
     },
     "execution_count": 7,
     "metadata": {},
     "output_type": "execute_result"
    }
   ],
   "source": [
    "import torch\n",
    "torch.__version__"
   ]
  },
  {
   "cell_type": "markdown",
   "metadata": {},
   "source": [
    "Creemos una función para manipular los tensores que utilizaremos para programar nuestro propio regresor logístico:\n",
    "\n",
    "$$f(\\mathbf{x}) = \\frac{1}{1+\\exp-(\\mathbf{w}^T\\mathbf{x}+w_0)}$$\n",
    "\n"
   ]
  },
  {
   "cell_type": "code",
   "execution_count": 8,
   "metadata": {},
   "outputs": [],
   "source": [
    "def sigmoid(x):\n",
    "    \"\"\" Sigmoid activation function \n",
    "    \n",
    "        Arguments\n",
    "        ---------\n",
    "        x: torch.Tensor\n",
    "    \"\"\"\n",
    "    return 1/(1+torch.exp(-x))"
   ]
  },
  {
   "cell_type": "markdown",
   "metadata": {},
   "source": [
    "Ahora generemos unos pesos $\\mathbf{w}$, $w_0$ aleatorios y también una entrada $\\mathbf{x}$ aleatoria ..."
   ]
  },
  {
   "cell_type": "code",
   "execution_count": 9,
   "metadata": {},
   "outputs": [],
   "source": [
    "torch.manual_seed(7) # Semilla aleatoria fija\n",
    "\n",
    "# Vector x (1,5) aleatorio\n",
    "feature_vector = torch.randn((1, 5))\n",
    "\n",
    "# Vector de pesos con la misma dimensión de x\n",
    "weights = torch.randn_like(feature_vector)\n",
    "# Término de sesgo\n",
    "bias = torch.randn((1, 1))"
   ]
  },
  {
   "cell_type": "markdown",
   "metadata": {},
   "source": [
    "Los tensores PyTorch se pueden sumar, multiplicar, restar, etc., al igual que las matrices Numpy.\n",
    "\n",
    "Al igual que en Numpy, podemos verificar los valores y dimensiones de un tensor:"
   ]
  },
  {
   "cell_type": "code",
   "execution_count": 10,
   "metadata": {},
   "outputs": [
    {
     "name": "stdout",
     "output_type": "stream",
     "text": [
      "tensor([[-0.1468,  0.7861,  0.9468, -1.1143,  1.6908]])\n",
      "Las dimensiones son 1,5\n"
     ]
    }
   ],
   "source": [
    "print(feature_vector)\n",
    "m,n = feature_vector.shape\n",
    "print(\"Las dimensiones son {0},{1}\".format(m,n))"
   ]
  },
  {
   "cell_type": "markdown",
   "metadata": {},
   "source": [
    "> **Ejercicio**: Usando la función `sigmoid ()`, calcule la salida de un regresor logístico binario con vector de características de entrada `feature_vector`,  pesos ` features` y sesgo `bias`. Puede utilizar `*` para el producto elemento a elemento y la función [`torch.sum ()`] (https://pytorch.org/docs/stable/torch.html#torch.sum) para sumar todos los elementos de un tensor en una cierta dimensión."
   ]
  },
  {
   "cell_type": "code",
   "execution_count": 11,
   "metadata": {},
   "outputs": [
    {
     "name": "stdout",
     "output_type": "stream",
     "text": [
      "La salida del RL es 0.15950655937194824\n"
     ]
    }
   ],
   "source": [
    "\n",
    "\n",
    "y = ### YOUR CODE HERE\n",
    "\n",
    "print(\"La salida del RL es {0}\".format(y[0][0])) "
   ]
  },
  {
   "cell_type": "markdown",
   "metadata": {
    "tags": []
   },
   "source": [
    "> **Ejercicio**: Repita el ejercicio anterior utilizando la multiplicación matricial con [`torch.matmul()`](https://pytorch.org/docs/stable/torch.html#torch.matmul). Puede usar las funciones [`weights.reshape()`](https://pytorch.org/docs/stable/tensors.html#torch.Tensor.reshape) o [`weights.view()`](https://pytorch.org/docs/stable/tensors.html#torch.Tensor.view) para reordenar un tensor:\n",
    ">\n",
    "> `weights.reshape(a, b)` o `weights.view(a, b)` devuelven  un nuevo tensor con los mismos datos que `weights` pero con dimensiones `(a, b)`.\n"
   ]
  },
  {
   "cell_type": "code",
   "execution_count": 1,
   "metadata": {},
   "outputs": [
    {
     "ename": "SyntaxError",
     "evalue": "invalid syntax (<ipython-input-1-212791031014>, line 1)",
     "output_type": "error",
     "traceback": [
      "\u001b[0;36m  File \u001b[0;32m\"<ipython-input-1-212791031014>\"\u001b[0;36m, line \u001b[0;32m1\u001b[0m\n\u001b[0;31m    y = # YOUR CODE HERE\u001b[0m\n\u001b[0m                        ^\u001b[0m\n\u001b[0;31mSyntaxError\u001b[0m\u001b[0;31m:\u001b[0m invalid syntax\n"
     ]
    }
   ],
   "source": [
    "\n",
    "y = # YOUR CODE HERE"
   ]
  },
  {
   "cell_type": "code",
   "execution_count": 13,
   "metadata": {},
   "outputs": [
    {
     "name": "stdout",
     "output_type": "stream",
     "text": [
      "La salida del RL es 0.15950657427310944\n"
     ]
    }
   ],
   "source": [
    "print(\"La salida del RL es {0}\".format(y[0][0])) "
   ]
  },
  {
   "cell_type": "markdown",
   "metadata": {
    "jp-MarkdownHeadingCollapsed": true,
    "tags": []
   },
   "source": [
    "### Conversion a matrices de Numpy \n",
    "\n",
    "PyTorch proporciona métodos para convertir entre matrices Numpy y tensores Torch. Para crear un tensor a partir de una matriz Numpy, usamos `torch.from_numpy()`. Para convertir un tensor en una matriz Numpy, use el método `.numpy()`."
   ]
  },
  {
   "cell_type": "code",
   "execution_count": 14,
   "metadata": {},
   "outputs": [
    {
     "data": {
      "text/plain": [
       "array([[0.36763627, 0.0166824 , 0.65990229],\n",
       "       [0.64342139, 0.15517357, 0.7005417 ],\n",
       "       [0.46782772, 0.09318793, 0.35422022],\n",
       "       [0.25706827, 0.92620597, 0.12252276]])"
      ]
     },
     "execution_count": 14,
     "metadata": {},
     "output_type": "execute_result"
    }
   ],
   "source": [
    "a = np.random.rand(4,3)\n",
    "a"
   ]
  },
  {
   "cell_type": "code",
   "execution_count": 15,
   "metadata": {},
   "outputs": [
    {
     "data": {
      "text/plain": [
       "tensor([[0.3676, 0.0167, 0.6599],\n",
       "        [0.6434, 0.1552, 0.7005],\n",
       "        [0.4678, 0.0932, 0.3542],\n",
       "        [0.2571, 0.9262, 0.1225]], dtype=torch.float64)"
      ]
     },
     "execution_count": 15,
     "metadata": {},
     "output_type": "execute_result"
    }
   ],
   "source": [
    "b = torch.from_numpy(a)\n",
    "b"
   ]
  },
  {
   "cell_type": "code",
   "execution_count": 16,
   "metadata": {},
   "outputs": [
    {
     "data": {
      "text/plain": [
       "array([[0.36763627, 0.0166824 , 0.65990229],\n",
       "       [0.64342139, 0.15517357, 0.7005417 ],\n",
       "       [0.46782772, 0.09318793, 0.35422022],\n",
       "       [0.25706827, 0.92620597, 0.12252276]])"
      ]
     },
     "execution_count": 16,
     "metadata": {},
     "output_type": "execute_result"
    }
   ],
   "source": [
    "b.numpy()"
   ]
  },
  {
   "cell_type": "markdown",
   "metadata": {},
   "source": [
    "La **memoria se comparte entre la matriz Numpy y el tensor de Pytorch**, por lo que si cambia los valores en el lugar de un objeto, el otro también cambiará."
   ]
  },
  {
   "cell_type": "code",
   "execution_count": 17,
   "metadata": {},
   "outputs": [
    {
     "data": {
      "text/plain": [
       "tensor([[0.7353, 0.0334, 1.3198],\n",
       "        [1.2868, 0.3103, 1.4011],\n",
       "        [0.9357, 0.1864, 0.7084],\n",
       "        [0.5141, 1.8524, 0.2450]], dtype=torch.float64)"
      ]
     },
     "execution_count": 17,
     "metadata": {},
     "output_type": "execute_result"
    }
   ],
   "source": [
    "# Multiplicamos un tensor por 2, sobreescribiendo el original (Notad el _)\n",
    "b.mul_(2)"
   ]
  },
  {
   "cell_type": "code",
   "execution_count": 18,
   "metadata": {},
   "outputs": [
    {
     "data": {
      "text/plain": [
       "array([[0.73527254, 0.0333648 , 1.31980459],\n",
       "       [1.28684278, 0.31034714, 1.4010834 ],\n",
       "       [0.93565543, 0.18637586, 0.70844044],\n",
       "       [0.51413653, 1.85241194, 0.24504553]])"
      ]
     },
     "execution_count": 18,
     "metadata": {},
     "output_type": "execute_result"
    }
   ],
   "source": [
    "# Estos valores se trasladan al array Numpy\n",
    "a"
   ]
  },
  {
   "cell_type": "markdown",
   "metadata": {
    "tags": []
   },
   "source": [
    "## 1.3: Regresor logístico y función de coste en Pytorch\n",
    "\n",
    "### El paquete `nn.` \n",
    "\n",
    "A través de la clase `nn.` podemos construir redes neuronales de forma compacta. Se recomienda leer la [documentación oficial de esta clase](https://pytorch.org/docs/stable/index.html) para ver un listado completo de métodos y atributos de la misma. "
   ]
  },
  {
   "cell_type": "code",
   "execution_count": 19,
   "metadata": {},
   "outputs": [],
   "source": [
    "from torch import nn"
   ]
  },
  {
   "cell_type": "markdown",
   "metadata": {},
   "source": [
    "Con el siguiente código construimos una  Regresión Logística cuyos parámetros luego serán optimizados con nuestros datos."
   ]
  },
  {
   "cell_type": "code",
   "execution_count": 20,
   "metadata": {},
   "outputs": [],
   "source": [
    "class LR(nn.Module):  #Heredamos de la clase nn.Module\n",
    "    def __init__(self,dimx):\n",
    "        super().__init__()\n",
    "        \n",
    "        self.weights = nn.Parameter(torch.randn(dimx,1),requires_grad = True)\n",
    "        \n",
    "        self.bias = nn.Parameter(torch.randn(1,1),requires_grad = True)\n",
    "        \n",
    "        # Sigmoide \n",
    "        self.sigmoid = nn.Sigmoid()\n",
    "        \n",
    "    def forward(self, x):\n",
    "        # Con la clase forward definimos el procesado que la red neuronal hace de nuestros datos\n",
    "        x = self.sigmoid(torch.matmul(x,self.weights)+self.bias)\n",
    "        return x"
   ]
  },
  {
   "cell_type": "markdown",
   "metadata": {},
   "source": [
    "Repasemos el código paso a paso.\n",
    "\n",
    "```python\n",
    "class Network(nn.Module):\n",
    "```\n",
    "Aquí estamos heredando de la clase `nn.Module`. Combinado con `super().__init__()`, creamos una clase que rastrea la arquitectura de la red y proporciona muchos métodos y atributos útiles. Es obligatorio heredar de `nn.Module` cuando estás creando una clase para tu red neuronal. El nombre de la clase en sí puede ser cualquier cosa.\n",
    "\n",
    "```python\n",
    "self.weights = nn.Parameter(torch.randn(dimx,1),requires_grad = True)\n",
    "self.bias = nn.Parameter(torch.randn(1,1),requires_grad = True)\n",
    "```\n",
    "`nn.Parameter` define un tipo de tensor que debe considerarse un parámetro de la red neronal. Es decir, optimizaremos los valores de estos tensores. Tenga en cuenta que definimos una **inicialización aleatoria** con `torch.randn ()`. Con el flag `requires_grad=True` permitimos que el optimizador cambie el valor de este tensor.\n",
    "\n",
    "```python\n",
    "def forward(self, x):\n",
    "```\n",
    "Las redes PyTorch creadas con `nn.Module` deben tener obligatoriamente un método` forward`, en el que definimos las operaciones que la red neuronal realiza sobre los datos. Esto es, cómo calculamos la salida a partir de la entrada."
   ]
  },
  {
   "cell_type": "markdown",
   "metadata": {},
   "source": [
    "### Una definición más compacta de la red usando capas predefinidas\n",
    "\n",
    "El paquete `.nn` nos proporciona capas y operadores predefinidos para que la implementación de nuestras redes sea mucho más fácil (y compacta). El siguiente código funciona exactamente como la clase \"LR\" definida anteriormente.\n",
    "\n",
    "La clase [nn.Linear]() implementa una transformación lineal sobre los datos a su entrada $\\mathbf{y}=\\mathbf{W}\\mathbf{x}+\\mathbf{w_0}$, donde la dimensión `dimx` de $\\mathbf{x}$ y la dimensión `dimy` de $\\mathbf{y}$ se definen al instanciar la clase. En una regresión logística binaria, $y$ es un escalar y por tanto `dimy=1`."
   ]
  },
  {
   "cell_type": "code",
   "execution_count": 73,
   "metadata": {},
   "outputs": [],
   "source": [
    "class LR_compact(nn.Module):\n",
    "    def __init__(self,dimx):\n",
    "        super().__init__()\n",
    "        \n",
    "        self.output = nn.Linear(dimx,1)\n",
    "    \n",
    "        # Define sigmoid activation and softmax output \n",
    "        self.sigmoid = nn.Sigmoid()\n",
    "        \n",
    "    def forward(self, x):\n",
    "        # Pass the input tensor through each of our operations\n",
    "        y1 = self.output(x)\n",
    "        y2 = self.sigmoid(y1)\n",
    "        return y2"
   ]
  },
  {
   "cell_type": "markdown",
   "metadata": {},
   "source": [
    "> **Ejercicio:** Instancie la clase `LR_compact` con la dimensión adecuada de $\\mathbf{x}$"
   ]
  },
  {
   "cell_type": "code",
   "execution_count": 74,
   "metadata": {},
   "outputs": [
    {
     "name": "stdout",
     "output_type": "stream",
     "text": [
      "(3220, 57)\n"
     ]
    }
   ],
   "source": [
    "## YOUR CODE HERE"
   ]
  },
  {
   "cell_type": "markdown",
   "metadata": {},
   "source": [
    "> **Ejercicio:** Imprima los parámetros actuales del clasificador (vector de peso y sesgo) utilizando los atributos `self.output.weight` y `self.output.bias` y estudie la dimensión de los mismos.\n",
    ">\n",
    ">\n",
    ">**Nota:** Los valores obtenidos para los parámetros son el resultado de la >inicialización aleatoria de los mismos. Todavía no hemos optimizado nada."
   ]
  },
  {
   "cell_type": "code",
   "execution_count": 75,
   "metadata": {},
   "outputs": [
    {
     "name": "stdout",
     "output_type": "stream",
     "text": [
      "Parámetros del clasificador\n",
      "Parameter containing:\n",
      "tensor([[ 0.0663,  0.0330, -0.0533, -0.0382,  0.1305,  0.0050, -0.1221,  0.1087,\n",
      "         -0.0205, -0.1273, -0.1222,  0.0648,  0.1232,  0.0811, -0.1271,  0.0693,\n",
      "          0.0355, -0.0843,  0.0110, -0.1199, -0.0225,  0.0681,  0.0986, -0.0693,\n",
      "          0.1313, -0.1226,  0.0414,  0.0561, -0.0117, -0.0365,  0.0512,  0.1210,\n",
      "         -0.1020, -0.0913,  0.1102, -0.1260,  0.0477,  0.1025, -0.0896, -0.0738,\n",
      "         -0.0077, -0.0077,  0.0939,  0.0840,  0.0646,  0.0734,  0.0813, -0.0349,\n",
      "         -0.1091,  0.0649,  0.0075,  0.0166, -0.0695,  0.0642,  0.0332, -0.0841,\n",
      "         -0.0806]], requires_grad=True)\n",
      "Parameter containing:\n",
      "tensor([0.0875], requires_grad=True)\n",
      "\n",
      "Dimensión de la matriz de pesos\n",
      "torch.Size([1, 57])\n",
      "\n",
      "Dimensión del sesgo\n",
      "torch.Size([1])\n"
     ]
    }
   ],
   "source": [
    "## YOUR CODE HERE"
   ]
  },
  {
   "cell_type": "markdown",
   "metadata": {
    "tags": []
   },
   "source": [
    "### Evalua el regresor logístico usando nuestros datos\n",
    "\n",
    "Volvamos a la base de datos spam. Considere ahora los primeros 10 puntos de datos del conjunto de entrenamiento. Utilizando el método `forward` podemos evaluar la salida de la red"
   ]
  },
  {
   "cell_type": "code",
   "execution_count": 76,
   "metadata": {},
   "outputs": [],
   "source": [
    "output = my_classifier.forward(torch.tensor(X_spam_train[:10,:].astype(np.float32))) #hay que transformar el numpy array a torch.tensor"
   ]
  },
  {
   "cell_type": "code",
   "execution_count": 77,
   "metadata": {},
   "outputs": [
    {
     "name": "stdout",
     "output_type": "stream",
     "text": [
      "tensor([[0.5382],\n",
      "        [0.5255],\n",
      "        [0.5075],\n",
      "        [0.4975],\n",
      "        [0.7735],\n",
      "        [0.5219],\n",
      "        [0.5679],\n",
      "        [0.3702],\n",
      "        [0.2994],\n",
      "        [0.5044]], grad_fn=<SigmoidBackward>)\n"
     ]
    }
   ],
   "source": [
    "print(output)"
   ]
  },
  {
   "cell_type": "markdown",
   "metadata": {},
   "source": [
    "Arriba podemos ver (atributo `grad_fn`) la última operación que creó  el tensor `output`, una operación sigmoide ` SigmoidBackward`. El módulo de [autograd](https://pytorch.org/tutorials/beginner/blitz/autograd_tutorial.html) realiza un seguimiento de **todas las operaciones que afectan a los tensores de parámetros** y utiliza dicha información para calcular el gradiente de cada uno de ellos. \n"
   ]
  },
  {
   "cell_type": "markdown",
   "metadata": {},
   "source": [
    "### Cálculo de la función de coste (binary cross entropy) usando `nn.BCE()`\n",
    "\n",
    "Reduzcamos el tensor `y` a un valor escalar, la entropía cruzada binaria. Usaremos la clase `nn.BCE()`.  [Documentación oficial](https://pytorch.org/docs/stable/nn.html)."
   ]
  },
  {
   "cell_type": "code",
   "execution_count": 78,
   "metadata": {},
   "outputs": [],
   "source": [
    "bce = nn.BCELoss()"
   ]
  },
  {
   "cell_type": "markdown",
   "metadata": {},
   "source": [
    "La evaluamos combinando la salida del RL con las etiquetas reales "
   ]
  },
  {
   "cell_type": "code",
   "execution_count": 79,
   "metadata": {},
   "outputs": [
    {
     "name": "stdout",
     "output_type": "stream",
     "text": [
      "tensor(0.8330, grad_fn=<BinaryCrossEntropyBackward>)\n"
     ]
    }
   ],
   "source": [
    "loss = bce(output,torch.tensor(Y_spam_train[:10].astype(np.float32)).view(output.shape[0],1))\n",
    "\n",
    "print(loss)"
   ]
  },
  {
   "cell_type": "markdown",
   "metadata": {},
   "source": [
    "Arriba podemos ver la operación que creó `loss`, una entropía cruzada binaria `BinaryCrossEntropyBackward`.\n",
    "\n",
    "\n",
    "Ahora que sabemos cómo calcular evaluar la función de coste, Torch proporciona un módulo, `autograd`, para calcular automáticamente los gradientes con respecto a los parámetros del modelo. Autograd funciona realizando un seguimiento de las operaciones realizadas en los tensores, luego retrocediendo a través de esas operaciones, calculando gradientes a lo largo del procesado.\n",
    "\n",
    "Para asegurarse de que PyTorch realice un seguimiento de las operaciones en un tensor y calcule los gradientes, el flag `require_grad` debe tener el valor `True` en un tensor. De forma predeterminada, todos los tensores creados mediante la instanciación de la clase `nn.Parameter` (o cualquier capa predefinida que hereda de ella, como `nn.Linear`) tienen `require_grad = True`.\n",
    "\n",
    "> **Ejercicio**: Verifique que tanto los pesos como el sesgo del regresor logístico tienen la bandera `requires_grad=True`"
   ]
  },
  {
   "cell_type": "code",
   "execution_count": 80,
   "metadata": {},
   "outputs": [
    {
     "name": "stdout",
     "output_type": "stream",
     "text": [
      "True\n",
      "True\n"
     ]
    }
   ],
   "source": [
    "#YOUR CODE HERE "
   ]
  },
  {
   "cell_type": "markdown",
   "metadata": {},
   "source": [
    "Puede desactivar los gradientes para un bloque de código con el método `torch.no_grad()`:\n",
    "```python\n",
    "x = torch.zeros(1, requires_grad=True)\n",
    ">>> with torch.no_grad():\n",
    "...     y = x * 2\n",
    ">>> y.requires_grad\n",
    "False\n",
    "```\n",
    "\n",
    "Además, puede activar o desactivar **todos** los gradientes con `torch.set_grad_enabled(True|False)`. Se recomienda desactivar los gradientes, por ejemplo, cuando finaliza el entrenamiento y solo se requiere la evaluación de la red. \n"
   ]
  },
  {
   "cell_type": "markdown",
   "metadata": {},
   "source": [
    "### El operador `.backward()`\n",
    "\n",
    "Los gradientes se calculan con respecto a alguna variable `z` con` z.backward()`. Esto hace una pasada hacia atrás a través de las operaciones que crearon `z`. Esto significa que cuando calculamos la pérdida y llamamos a `loss.backward()`, calculamos el gradiente de `loss` con respecto a todos los parámetros del modelo. Estos gradientes se utilizan para optimizar los parámetros usando descenso por gradiente.\n",
    "\n",
    "Después de llamar a `loss.backward()`, se puede acceder al gradiente de `loss` con respecto a cualquier parámetro (tensor) `x` con` x.grad`\n",
    "\n",
    "> **Ejercicio**: Imprima el gradiente de la función de pérdida con respecto a los parámetros del modelo antes y después de ejecutar `loss.backward()`\n"
   ]
  },
  {
   "cell_type": "code",
   "execution_count": 81,
   "metadata": {},
   "outputs": [
    {
     "name": "stdout",
     "output_type": "stream",
     "text": [
      "Antes de llamar a backward\n",
      "None\n",
      "\n",
      "Después de llamar a backward\n",
      "tensor([[-2.1258e-01, -4.0451e-02, -4.0702e-01,  8.8557e-03, -1.6228e-01,\n",
      "         -2.3242e-02, -3.0781e-01, -5.6898e-04,  6.1895e-02, -1.4877e-01,\n",
      "         -2.6171e-01, -7.4758e-02, -4.4572e-01,  3.3163e-02, -2.0351e-02,\n",
      "         -2.6615e-01, -5.1862e-02, -8.4067e-01, -2.7807e-01,  1.3867e-02,\n",
      "         -1.6335e-01,  2.1555e-02, -1.0114e-01, -6.2442e-02,  8.6501e-01,\n",
      "          2.6369e-01,  4.3799e-02,  4.3786e-02,  3.2775e-02,  4.1629e-02,\n",
      "          3.2660e-02,  2.6836e-02,  3.6385e-02,  2.7471e-02,  3.5822e-02,\n",
      "          4.5929e-02,  6.2684e-02,  1.0497e-02, -3.3982e-02,  1.0941e-02,\n",
      "          2.2860e-02,  3.2858e-02,  3.8125e-02,  2.4444e-02,  1.0129e-01,\n",
      "          4.0109e-02,  1.3275e-02,  2.1900e-02,  3.0245e-02,  2.9900e-02,\n",
      "          3.2649e-02, -1.2088e-01, -1.3881e-01, -3.8484e-02,  1.7645e-02,\n",
      "         -4.3516e-02, -1.5605e-01]])\n"
     ]
    }
   ],
   "source": [
    "#YOUR CODE HERE\n",
    "\n",
    "loss.backward()\n",
    "\n",
    "### YOUR CODE HERE"
   ]
  },
  {
   "cell_type": "markdown",
   "metadata": {},
   "source": [
    "## 1.4 Entrenamiento del regresor logístico con el conjunto de datos completo"
   ]
  },
  {
   "cell_type": "code",
   "execution_count": 82,
   "metadata": {},
   "outputs": [],
   "source": [
    "# Convertimos el tipo de todos los datos a float32\n",
    "x = X_spam_train.astype(np.float32)\n",
    "y = Y_spam_train.astype(np.float32)  \n",
    "\n",
    "x_test = X_spam_test.astype(np.float32)\n",
    "y_test = Y_spam_test.astype(np.float32)  \n"
   ]
  },
  {
   "cell_type": "code",
   "execution_count": 83,
   "metadata": {},
   "outputs": [
    {
     "name": "stdout",
     "output_type": "stream",
     "text": [
      "torch.Size([1, 57])\n"
     ]
    }
   ],
   "source": [
    "# Función de coste para todos los datos\n",
    "\n",
    "output = my_classifier.forward(torch.tensor(x))\n",
    "\n",
    "loss = bce(output,torch.tensor(y).view(output.shape[0],1))\n",
    "\n",
    "loss.backward()\n",
    "\n",
    "print(my_classifier.output.weight.grad.shape)"
   ]
  },
  {
   "cell_type": "markdown",
   "metadata": {},
   "source": [
    "### Definiendo un optimizador\n",
    "\n",
    "Hay una última pieza que necesitamos para comenzar a entrenar, un optimizador que usaremos para actualizar los pesos con los gradientes. Los obtenemos del [paquete `optim`](https://pytorch.org/docs/stable/optim.html) de PyTorch. Por ejemplo, podemos usar el descenso de gradiente estocástico con `optim.SGD`. Puede ver cómo definir un optimizador a continuación.\n",
    "\n",
    "Con el siguiente código podemos definir el optimizador:\n"
   ]
  },
  {
   "cell_type": "code",
   "execution_count": 84,
   "metadata": {},
   "outputs": [],
   "source": [
    "from torch import optim\n",
    "\n",
    "optimizer = optim.SGD(my_classifier.parameters(), lr=0.01)"
   ]
  },
  {
   "cell_type": "markdown",
   "metadata": {},
   "source": [
    "Para realizar una iteración SGD, simplemente llamamos `optmizer.step()`\n",
    "\n",
    "`my_classifier.parameters()` devuelve un [objeto generador](https://realpython.com/introduction-to-python-generators/). Es decir, una lista con todos los parámetros entrenables del modelo."
   ]
  },
  {
   "cell_type": "code",
   "execution_count": 85,
   "metadata": {},
   "outputs": [
    {
     "name": "stdout",
     "output_type": "stream",
     "text": [
      "<class 'generator'>\n",
      "Parameter containing:\n",
      "tensor([[ 0.0663,  0.0330, -0.0533, -0.0382,  0.1305,  0.0050, -0.1221,  0.1087,\n",
      "         -0.0205, -0.1273, -0.1222,  0.0648,  0.1232,  0.0811, -0.1271,  0.0693,\n",
      "          0.0355, -0.0843,  0.0110, -0.1199, -0.0225,  0.0681,  0.0986, -0.0693,\n",
      "          0.1313, -0.1226,  0.0414,  0.0561, -0.0117, -0.0365,  0.0512,  0.1210,\n",
      "         -0.1020, -0.0913,  0.1102, -0.1260,  0.0477,  0.1025, -0.0896, -0.0738,\n",
      "         -0.0077, -0.0077,  0.0939,  0.0840,  0.0646,  0.0734,  0.0813, -0.0349,\n",
      "         -0.1091,  0.0649,  0.0075,  0.0166, -0.0695,  0.0642,  0.0332, -0.0841,\n",
      "         -0.0806]], requires_grad=True)\n",
      "Parameter containing:\n",
      "tensor([0.0875], requires_grad=True)\n"
     ]
    }
   ],
   "source": [
    "params = my_classifier.parameters()\n",
    "\n",
    "print(type(params))\n",
    "# Imprimimos primero la matriz de parametros\n",
    "print(next(params))\n",
    "# Y el sesgo\n",
    "print(next(params))"
   ]
  },
  {
   "cell_type": "markdown",
   "metadata": {},
   "source": [
    "## Creando una clase tanto con la red como con un método de entrenamiento\n",
    "\n",
    "Con el siguiente código definiremos una clase que incorpora la definición de la red de regresión logística y **un método para entrenar los parámetros**. Repase cuidadosamente el código e intente entenderlo línea por línea."
   ]
  },
  {
   "cell_type": "code",
   "execution_count": 139,
   "metadata": {},
   "outputs": [],
   "source": [
    "'''Esta clase hereda de la clase LR_compact. Tiene los mismos atributos y métodos, y algunos otros que añadiremos'''\n",
    "\n",
    "class LR_extended(LR_compact):\n",
    "    \n",
    "    def __init__(self,dimx,sgd_iterations=1000,lr=0.001,print_every=200):\n",
    "        \n",
    "        super().__init__(dimx)  #Inicializamos la clase padre!\n",
    "        \n",
    "        self.lr = lr #Learning Rate\n",
    "        \n",
    "        self.optim = optim.SGD(self.parameters(), self.lr)\n",
    "        \n",
    "        self.sgd_iterations = sgd_iterations #SGD steps\n",
    "        \n",
    "        self.criterion = nn.BCELoss()\n",
    "        \n",
    "        # A list to store the loss evolution along training\n",
    "        \n",
    "        self.loss_during_training = [] \n",
    "        \n",
    "        self.print_every = print_every\n",
    "        \n",
    "    def trainloop(self,x,y):\n",
    "        \n",
    "        # SGD Loop\n",
    "        \n",
    "        for iter in range(int(self.sgd_iterations)):\n",
    "        \n",
    "            # Antes de cada iteración del optimizador, hay que reiniciar gradientes\n",
    "        \n",
    "            self.optim.zero_grad()  \n",
    "            \n",
    "            # Evaluación de la salida de la red\n",
    "\n",
    "            out = self.forward(x)\n",
    "            \n",
    "            # Función de coste\n",
    "\n",
    "            loss = self.criterion(out,y.view(x.shape[0],1))\n",
    "\n",
    "            self.loss_during_training.append(loss.item())\n",
    "            \n",
    "            # Calculo de gradientes\n",
    "\n",
    "            loss.backward()\n",
    "            \n",
    "            # Paso del optimizador\n",
    "\n",
    "            self.optim.step()\n",
    "        \n",
    "            if(iter % self.print_every == 0): #Imprimimos cada ciertas iteracines\n",
    "                \n",
    "                print(\"Training loss after %d iterations: %f\" \n",
    "                      %(iter,self.loss_during_training[-1]))\n",
    "        "
   ]
  },
  {
   "cell_type": "markdown",
   "metadata": {},
   "source": [
    "Creemos una instancia de la clase y entrenemos al regresor logístico."
   ]
  },
  {
   "cell_type": "code",
   "execution_count": 140,
   "metadata": {},
   "outputs": [
    {
     "name": "stdout",
     "output_type": "stream",
     "text": [
      "Training loss after 0 iterations: 0.696311\n",
      "Training loss after 200 iterations: 0.623014\n",
      "Training loss after 400 iterations: 0.569344\n",
      "Training loss after 600 iterations: 0.528809\n",
      "Training loss after 800 iterations: 0.497311\n",
      "Training loss after 1000 iterations: 0.472199\n",
      "Training loss after 1200 iterations: 0.451726\n",
      "Training loss after 1400 iterations: 0.434716\n",
      "Training loss after 1600 iterations: 0.420355\n",
      "Training loss after 1800 iterations: 0.408064\n",
      "Training loss after 2000 iterations: 0.397420\n",
      "Training loss after 2200 iterations: 0.388109\n",
      "Training loss after 2400 iterations: 0.379890\n",
      "Training loss after 2600 iterations: 0.372579\n",
      "Training loss after 2800 iterations: 0.366030\n"
     ]
    }
   ],
   "source": [
    "my_LR = LR_extended(x.shape[1],sgd_iterations=3000,lr=0.001)\n",
    "\n",
    "my_LR.trainloop(torch.tensor(x),torch.tensor(y))"
   ]
  },
  {
   "cell_type": "markdown",
   "metadata": {},
   "source": [
    "Tenga en cuenta que si cree que el entrenamiento aún no ha terminado, simplemente puede volver a llamar al método `.train()`."
   ]
  },
  {
   "cell_type": "code",
   "execution_count": 141,
   "metadata": {},
   "outputs": [
    {
     "name": "stdout",
     "output_type": "stream",
     "text": [
      "Training loss after 0 iterations: 0.360126\n",
      "Training loss after 200 iterations: 0.354775\n",
      "Training loss after 400 iterations: 0.349900\n",
      "Training loss after 600 iterations: 0.345439\n",
      "Training loss after 800 iterations: 0.341340\n",
      "Training loss after 1000 iterations: 0.337558\n",
      "Training loss after 1200 iterations: 0.334058\n",
      "Training loss after 1400 iterations: 0.330807\n",
      "Training loss after 1600 iterations: 0.327780\n",
      "Training loss after 1800 iterations: 0.324953\n",
      "Training loss after 2000 iterations: 0.322306\n",
      "Training loss after 2200 iterations: 0.319821\n",
      "Training loss after 2400 iterations: 0.317484\n",
      "Training loss after 2600 iterations: 0.315281\n",
      "Training loss after 2800 iterations: 0.313201\n"
     ]
    }
   ],
   "source": [
    "my_LR.trainloop(torch.tensor(x),torch.tensor(y))"
   ]
  },
  {
   "cell_type": "markdown",
   "metadata": {},
   "source": [
    "Podemos dibujar la función de coste ..."
   ]
  },
  {
   "cell_type": "code",
   "execution_count": 142,
   "metadata": {},
   "outputs": [
    {
     "data": {
      "text/plain": [
       "Text(0, 0.5, 'Loss')"
      ]
     },
     "execution_count": 142,
     "metadata": {},
     "output_type": "execute_result"
    },
    {
     "data": {
      "image/png": "[encoded data removed]",
      "text/plain": [
       "<Figure size 432x288 with 1 Axes>"
      ]
     },
     "metadata": {
      "image/png": {
       "height": 261,
       "width": 391
      },
      "needs_background": "light"
     },
     "output_type": "display_data"
    }
   ],
   "source": [
    "plt.plot(my_LR.loss_during_training,'-b',label='BCE Loss')\n",
    "plt.xlabel('Iterations')\n",
    "plt.ylabel('Loss')"
   ]
  },
  {
   "cell_type": "markdown",
   "metadata": {},
   "source": [
    "Podemos dibujar los pesos del regresor logístico. Con `.detach()` desvinculamos el tensor de sus gradientes y luego pasamos a numpy array ... "
   ]
  },
  {
   "cell_type": "code",
   "execution_count": 143,
   "metadata": {},
   "outputs": [
    {
     "data": {
      "image/png": "[encoded data removed]",
      "text/plain": [
       "<Figure size 432x288 with 1 Axes>"
      ]
     },
     "metadata": {
      "image/png": {
       "height": 261,
       "width": 391
      },
      "needs_background": "light"
     },
     "output_type": "display_data"
    }
   ],
   "source": [
    "#Your code here\n",
    "\n",
    "plt.plot(np.abs(list(my_LR.parameters())[0].reshape([-1,]).detach().numpy()))\n",
    "plt.grid()\n",
    "plt.xlabel('Feature')\n",
    "plt.ylabel('Weight (absolute value)')\n",
    "plt.show()"
   ]
  },
  {
   "cell_type": "markdown",
   "metadata": {},
   "source": [
    "#### Evaluación del modelo en el conjunto de prueba\n",
    "\n",
    "Ahora que hemos entrenado a nuestro regresor logístico, es hora de comparar sus prestaciones tanto en el entrenamiento como en el conjunto de test.\n",
    "\n",
    "> **Ejercicio**: Complete el siguiente código para obtener la salida del regresor logístico para los datos los datos de test y obtener la curva ROC"
   ]
  },
  {
   "cell_type": "code",
   "execution_count": 155,
   "metadata": {},
   "outputs": [
    {
     "data": {
      "image/png": "[encoded data removed]",
      "text/plain": [
       "<Figure size 432x288 with 1 Axes>"
      ]
     },
     "metadata": {
      "image/png": {
       "height": 277,
       "width": 385
      },
      "needs_background": "light"
     },
     "output_type": "display_data"
    },
    {
     "name": "stdout",
     "output_type": "stream",
     "text": [
      "El área bajo la curva ROC de RL es 0.961824327237297\n"
     ]
    }
   ],
   "source": [
    "out_test = my_LR.forward(#####).detach().numpy().reshape([-1,])\n",
    "\n",
    "from sklearn import metrics\n",
    "\n",
    "fpr, recall, thresholds = metrics.roc_curve(y_test, ######, pos_label=1) \n",
    "\n",
    "fig,ax = plt.subplots()\n",
    "plt.plot(fpr,recall,lw=2.5,label='Curva ROC RL')\n",
    "\n",
    "plt.legend(loc=7)\n",
    "plt.grid(b=True, which='major', color='gray', alpha=0.6, linestyle='dotted', lw=1.5)\n",
    "plt.xlabel('False Positive Rate')\n",
    "plt.ylabel('Recall (R)')\n",
    "plt.title('Curva ROC')\n",
    "plt.show()\n",
    "\n",
    "area_roc = metrics.roc_auc_score(y_test, #####)\n",
    "\n",
    "print(f\"El área bajo la curva ROC de RL es {area_roc}\")"
   ]
  },
  {
   "cell_type": "markdown",
   "metadata": {},
   "source": [
    "## Parte V.Entrenamiento de un regresor logístico con descenso de gradiente estocástico con minibatches\n",
    "\n",
    "Finalmente, vamos a implementar una versión escalable del entrenamiento de descenso de gradiente implementado anteriormente. En cada iteración, en lugar de evaluar el gradiente usando todos los puntos de datos, se usará un pequeño minibatch de datos.\n",
    "\n",
    "En lugar de predefinir un cierto número de iteraciones SGD, definimos un cierto número de **épocas**. Después de cada época, **todos los puntos de datos** se han utilizado en el optimizador una vez.\n"
   ]
  },
  {
   "cell_type": "code",
   "execution_count": 145,
   "metadata": {},
   "outputs": [],
   "source": [
    "\n",
    "class LR_stochastic(LR_compact):\n",
    "    \n",
    "    def __init__(self,dimx,num_train_data,\n",
    "                 epochs=100,lr=0.001,batch_size=50,print_every=20):\n",
    "        \n",
    "        super().__init__(dimx)  \n",
    "        \n",
    "        self.lr = lr #Learning Rate\n",
    "        \n",
    "        self.optim = optim.SGD(self.parameters(), self.lr)\n",
    "        \n",
    "        self.epochs = epochs\n",
    "        \n",
    "        self.print_every = print_every  # Print loss every \n",
    "        \n",
    "        self.criterion = nn.BCELoss()\n",
    "        \n",
    "        # A list to store the loss evolution along training\n",
    "        \n",
    "        self.loss_during_training = [] \n",
    "        \n",
    "        self.batch_size = batch_size\n",
    "        \n",
    "        self.num_train = num_train_data\n",
    "        \n",
    "        self.num_batchs = np.floor(self.num_train/self.batch_size)\n",
    "        \n",
    "        \n",
    "    def trainloop(self,x,y):\n",
    "        \n",
    "        # Bucle sobre las épochas\n",
    "        \n",
    "        for e in range(int(self.epochs)):\n",
    "            \n",
    "            # Permutamos los datos aleatoriamente en cada época\n",
    "            \n",
    "            idx = np.random.permutation(self.num_train)\n",
    "            \n",
    "            running_loss = 0.\n",
    "            \n",
    "            for i in range(int(self.num_batchs)):\n",
    "        \n",
    "                self.optim.zero_grad()  #Reiniciamos gradientes\n",
    "            \n",
    "                # Indices de los datos que participan en el batch\n",
    "            \n",
    "                idx_batch = idx[i*self.batch_size:(i+1)*self.batch_size]\n",
    "                \n",
    "                # Salida de la NN para el batch\n",
    "\n",
    "                out = self.forward(x[idx_batch,:]) \n",
    "\n",
    "                #Función de coste par el batch\n",
    "                loss = self.criterion(out,y[idx_batch].view(self.batch_size,1))\n",
    "\n",
    "                running_loss += loss.item()\n",
    "\n",
    "                #Calculamos gradientes\n",
    "                loss.backward()\n",
    "                \n",
    "                #Una iteración de descenso por gradiente\n",
    "                self.optim.step()\n",
    "                \n",
    "            self.loss_during_training.append(running_loss/self.num_batchs)\n",
    "\n",
    "            if(e % self.print_every == 0): # Every 10 epochs\n",
    "\n",
    "                print(\"Training loss after %d epochs: %f\" \n",
    "                      %(e,self.loss_during_training[-1]))\n"
   ]
  },
  {
   "cell_type": "markdown",
   "metadata": {},
   "source": [
    "> **EjerciciO**: Entrene un regresor logístico con descenso de gradiente estocástico minibatch con tamaño de batch 100 y dibuje la evolución de la función de pérdida."
   ]
  },
  {
   "cell_type": "code",
   "execution_count": 146,
   "metadata": {},
   "outputs": [
    {
     "name": "stdout",
     "output_type": "stream",
     "text": [
      "Training loss after 0 epochs: 0.712874\n",
      "Training loss after 100 epochs: 0.351183\n",
      "Training loss after 200 epochs: 0.307013\n",
      "Training loss after 300 epochs: 0.288626\n",
      "Training loss after 400 epochs: 0.276350\n"
     ]
    },
    {
     "data": {
      "text/plain": [
       "Text(0, 0.5, 'Loss')"
      ]
     },
     "execution_count": 146,
     "metadata": {},
     "output_type": "execute_result"
    },
    {
     "data": {
      "image/png": "[encoded data removed]",
      "text/plain": [
       "<Figure size 432x288 with 1 Axes>"
      ]
     },
     "metadata": {
      "image/png": {
       "height": 261,
       "width": 385
      },
      "needs_background": "light"
     },
     "output_type": "display_data"
    }
   ],
   "source": [
    "#Your code here"
   ]
  },
  {
   "cell_type": "markdown",
   "metadata": {},
   "source": [
    "> **Ejercicio**: Para el RL entrenado, dibuje la curva ROC y determine el área bajo la curva"
   ]
  },
  {
   "cell_type": "code",
   "execution_count": 154,
   "metadata": {},
   "outputs": [
    {
     "data": {
      "image/png": "[encoded data removed]",
      "text/plain": [
       "<Figure size 432x288 with 1 Axes>"
      ]
     },
     "metadata": {
      "image/png": {
       "height": 277,
       "width": 385
      },
      "needs_background": "light"
     },
     "output_type": "display_data"
    },
    {
     "name": "stdout",
     "output_type": "stream",
     "text": [
      "El área bajo la curva ROC de RL es 0.961824327237297\n"
     ]
    }
   ],
   "source": [
    "### YOUR CODE HERE"
   ]
  },
  {
   "cell_type": "markdown",
   "metadata": {},
   "source": [
    "## 2. Entrene a un MLP para que haga el mismo trabajo\n",
    "\n",
    "Modificar el código anterior para implementar una red neuronal de tipo MLP es muy sencillo. Supongamos que queremos entrenar un MLP con tres capas, todas usando unidades lineales rectificadas (RELU) como activaciones no lineales (excepto la última capa, que usa una sigmoide). La primera capa tiene 100 unidades ocultas y la segunda 50 de ellas."
   ]
  },
  {
   "cell_type": "code",
   "execution_count": 148,
   "metadata": {},
   "outputs": [
    {
     "data": {
      "text/html": [
       "<img src=\"https://pytorch.org/docs/stable/_images/ReLU.png\" width=\"300\" height=\"100\"/>"
      ],
      "text/plain": [
       "<IPython.core.display.Image object>"
      ]
     },
     "execution_count": 148,
     "metadata": {},
     "output_type": "execute_result"
    }
   ],
   "source": [
    "from IPython.display import Image\n",
    "\n",
    "Image(url= \"https://pytorch.org/docs/stable/_images/ReLU.png\", width=300, height=100)"
   ]
  },
  {
   "cell_type": "markdown",
   "metadata": {},
   "source": [
    "Al igual que con el LR, creamos una clase pequeña que define el modelo y luego una clase más grande de la que hereda para incorporar el entrenamiento.\n",
    "\n",
    "> **Ejercicio**: Completa el código para la siguiente clase"
   ]
  },
  {
   "cell_type": "code",
   "execution_count": 149,
   "metadata": {},
   "outputs": [],
   "source": [
    "class MLP(nn.Module):\n",
    "    def __init__(self,dimx,hidden1,hidden2): # 3 capas. Definimios como inputs del constructor la dimensión de los datos y el número de unidades ocultas en las dos capas intermedias\n",
    "        super().__init__()\n",
    "        \n",
    "        self.output1 = nn.Linear(dimx,hidden1) # Primera capa lineal\n",
    "        \n",
    "        self.output2 = ### YOUR CODE HERE # Segunda capa lineal\n",
    "        \n",
    "        self.output3 = nn.Linear(hidden2,1) # Tercera capa lineal. Salida es un escalar\n",
    "    \n",
    "        self.relu = nn.ReLU() # Activación en las capas 1 y 2\n",
    "        \n",
    "        self.sigmoid = nn.Sigmoid()                                                           \n",
    "        \n",
    "    def forward(self, x):\n",
    "        # Definimos todas las operaciones para determinar la salida\n",
    "        x = self.output1(x)\n",
    "        x = self.relu(x)\n",
    "        x = self.output2(x)\n",
    "        x = self.relu(x)\n",
    "        x = self.### YOUR CODE HERE\n",
    "        x = self.### YOUR CODE HERE\n",
    "        return x"
   ]
  },
  {
   "cell_type": "code",
   "execution_count": 150,
   "metadata": {},
   "outputs": [],
   "source": [
    "'''Extendemos la clase y añadimos entrenamiento SGD estocástico. Esta es casi idéntica a la implementada para el RL!!!'''\n",
    "\n",
    "class MLP_stochastic(### YOUR CODE HERE):\n",
    "    \n",
    "    def __init__(self,dimx,hidden1,hidden2,num_train_data,\n",
    "                 epochs=100,lr=0.001,batch_size=50,print_every=20):\n",
    "        \n",
    "        super().__init__(### YOUR CODE HERE)  #Inicializamos la clase padre\n",
    "        \n",
    "        self.lr = lr #Learning Rate\n",
    "        \n",
    "        self.optim = optim.Adam(self.parameters(), self.lr)\n",
    "        \n",
    "        self.epochs = epochs\n",
    "        \n",
    "        self.print_every = print_every  # Print loss every \n",
    "        \n",
    "        self.criterion = nn.BCELoss()\n",
    "        \n",
    "        # A list to store the loss evolution along training\n",
    "        \n",
    "        self.loss_during_training = [] \n",
    "        \n",
    "        self.batch_size = batch_size\n",
    "        \n",
    "        self.num_train = num_train_data\n",
    "        \n",
    "        self.num_batchs = np.floor(self.num_train/self.batch_size)    \n",
    "        \n",
    "    def trainloop(self,x,y):\n",
    "        \n",
    "        ### YOUR CODE HERE\n"
   ]
  },
  {
   "cell_type": "markdown",
   "metadata": {},
   "source": [
    "> **Ejercicio**: entrene la red MLP durante 100 épocas y obtenga la curva ROC. Comparela con la curva ROC del RL."
   ]
  },
  {
   "cell_type": "code",
   "execution_count": 151,
   "metadata": {},
   "outputs": [
    {
     "name": "stdout",
     "output_type": "stream",
     "text": [
      "Training loss after 0 epochs: 0.586999\n",
      "Training loss after 10 epochs: 0.138459\n",
      "Training loss after 20 epochs: 0.091003\n",
      "Training loss after 30 epochs: 0.065071\n",
      "Training loss after 40 epochs: 0.048477\n",
      "Training loss after 50 epochs: 0.040078\n",
      "Training loss after 60 epochs: 0.033986\n",
      "Training loss after 70 epochs: 0.026885\n",
      "Training loss after 80 epochs: 0.038724\n",
      "Training loss after 90 epochs: 0.024773\n"
     ]
    }
   ],
   "source": [
    "### YOUR CODE HERE"
   ]
  },
  {
   "cell_type": "code",
   "execution_count": 152,
   "metadata": {},
   "outputs": [
    {
     "data": {
      "text/plain": [
       "Text(0, 0.5, 'Loss')"
      ]
     },
     "execution_count": 152,
     "metadata": {},
     "output_type": "execute_result"
    },
    {
     "data": {
      "image/png": "[encoded data removed]",
      "text/plain": [
       "<Figure size 432x288 with 1 Axes>"
      ]
     },
     "metadata": {
      "image/png": {
       "height": 261,
       "width": 385
      },
      "needs_background": "light"
     },
     "output_type": "display_data"
    }
   ],
   "source": [
    "### YOUR CODE HERE"
   ]
  },
  {
   "cell_type": "code",
   "execution_count": 156,
   "metadata": {},
   "outputs": [
    {
     "data": {
      "image/png": "[encoded data removed]",
      "text/plain": [
       "<Figure size 432x288 with 1 Axes>"
      ]
     },
     "metadata": {
      "image/png": {
       "height": 277,
       "width": 385
      },
      "needs_background": "light"
     },
     "output_type": "display_data"
    },
    {
     "name": "stdout",
     "output_type": "stream",
     "text": [
      "El área bajo la curva ROC de RL es 0.961824327237297\n",
      "El área bajo la curva ROC de MLP es 0.9802611724738526\n"
     ]
    }
   ],
   "source": [
    "### YOUR CODE HERE"
   ]
  },
  {
   "cell_type": "markdown",
   "metadata": {},
   "source": [
    "> **Ejercicio**: Repita el ejercicio anterior aumentando el número de unidades ocultas de la red"
   ]
  },
  {
   "cell_type": "code",
   "execution_count": 165,
   "metadata": {},
   "outputs": [],
   "source": [
    "### YOUR CODE HERE"
   ]
  },
  {
   "cell_type": "code",
   "execution_count": 166,
   "metadata": {},
   "outputs": [
    {
     "name": "stdout",
     "output_type": "stream",
     "text": [
      "Training loss after 0 epochs: 0.496358\n",
      "Training loss after 10 epochs: 0.115086\n",
      "Training loss after 20 epochs: 0.079207\n",
      "Training loss after 30 epochs: 0.050917\n",
      "Training loss after 40 epochs: 0.044691\n",
      "Training loss after 50 epochs: 0.029642\n",
      "Training loss after 60 epochs: 0.049592\n",
      "Training loss after 70 epochs: 0.022071\n",
      "Training loss after 80 epochs: 0.020647\n",
      "Training loss after 90 epochs: 0.020289\n"
     ]
    }
   ],
   "source": [
    "### YOUR CODE HERE"
   ]
  },
  {
   "cell_type": "code",
   "execution_count": 167,
   "metadata": {},
   "outputs": [
    {
     "data": {
      "text/plain": [
       "Text(0, 0.5, 'Loss')"
      ]
     },
     "execution_count": 167,
     "metadata": {},
     "output_type": "execute_result"
    },
    {
     "data": {
      "image/png": "[encoded data removed]",
      "text/plain": [
       "<Figure size 432x288 with 1 Axes>"
      ]
     },
     "metadata": {
      "image/png": {
       "height": 261,
       "width": 385
      },
      "needs_background": "light"
     },
     "output_type": "display_data"
    }
   ],
   "source": [
    "### YOUR CODE HERE"
   ]
  },
  {
   "cell_type": "code",
   "execution_count": 168,
   "metadata": {},
   "outputs": [
    {
     "data": {
      "image/png": "[encoded data removed]",
      "text/plain": [
       "<Figure size 432x288 with 1 Axes>"
      ]
     },
     "metadata": {
      "image/png": {
       "height": 277,
       "width": 385
      },
      "needs_background": "light"
     },
     "output_type": "display_data"
    },
    {
     "name": "stdout",
     "output_type": "stream",
     "text": [
      "El área bajo la curva ROC de RL es 0.961824327237297\n",
      "El área bajo la curva ROC de MLP es 0.9802611724738526\n",
      "El área bajo la curva ROC de MLP es 0.9802234494770515\n"
     ]
    }
   ],
   "source": [
    "### YOUR CODE HERE"
   ]
  },
  {
   "cell_type": "markdown",
   "metadata": {},
   "source": [
    "> **Ejercicio:** Visualicemos las activaciones en la salida de la primera capa para los 100 primeros datos de test. Esto ayudará a identificar posibles unidades ocultas no utilizadas (siempre activadas / desactivadas) y unidades ocultas correlacionadas, estos, unidades redundantes. \n",
    ">\n",
    "> Complete el siguiente código."
   ]
  },
  {
   "cell_type": "code",
   "execution_count": null,
   "metadata": {},
   "outputs": [],
   "source": [
    "# Activaciones a la salida de la primera capa\n",
    "\n",
    "activations = my_MLP_2.relu(###.output1(#####)).detach().numpy() # YOUR CODE HERE\n",
    "\n",
    "activations.shape"
   ]
  },
  {
   "cell_type": "code",
   "execution_count": null,
   "metadata": {},
   "outputs": [],
   "source": [
    "# Dibujemos la matriz de activaciones\n",
    "\n",
    "plt.matshow(####[:100,:].T)\n",
    "\n",
    "plt.colorbar()\n",
    "\n",
    "fig = plt.gcf()\n",
    "\n",
    "fig.set_size_inches(15, 10)"
   ]
  },
  {
   "cell_type": "markdown",
   "metadata": {},
   "source": [
    "Dibujemos la varianza por dimensión ..."
   ]
  },
  {
   "cell_type": "code",
   "execution_count": null,
   "metadata": {},
   "outputs": [],
   "source": [
    "plt.plot(np.var(activations,####))\n",
    "plt.grid()\n",
    "plt.xlabel('Unidad oculta')\n",
    "plt.ylabel('Varianza')\n"
   ]
  },
  {
   "cell_type": "markdown",
   "metadata": {},
   "source": [
    "Podemos ver cómo hay una gran cantidad de unidades ocultas con una varianza baja (~0.25) que potencialmente pueden ser eliminadas, simplificando la red y reduciendo el número de parámetros."
   ]
  },
  {
   "cell_type": "markdown",
   "metadata": {},
   "source": [
    "### Guardar y restaurar el modelo\n",
    "\n",
    "Finalmente, vamos a mostrar cómo guardar y cargar modelos (es decir, los valores de los parámetros) con PyTorch. Esto es importante porque a menudo querremos cargar modelos previamente entrenados para usarlos al hacer predicciones o continuar entrenando con datos nuevos.\n",
    "\n",
    "Los parámetros para las redes PyTorch se almacenan en un diccionario denominado `state_dict`. Este diccionario contiene las matrices de peso y sesgo para cada una de nuestras capas."
   ]
  },
  {
   "cell_type": "code",
   "execution_count": null,
   "metadata": {},
   "outputs": [],
   "source": [
    "print(\"Our model: \\n\\n\", my_MLP, '\\n')\n",
    "print(\"The state dict keys: \\n\\n\", my_MLP.state_dict().keys())"
   ]
  },
  {
   "cell_type": "markdown",
   "metadata": {},
   "source": [
    "Para guardar el modelo, usaremos `torch.save`. Guardaremos los archivos con extension `.pth`."
   ]
  },
  {
   "cell_type": "code",
   "execution_count": null,
   "metadata": {},
   "outputs": [],
   "source": [
    "torch.save(my_MLP.state_dict(), 'checkpoint.pth')"
   ]
  },
  {
   "cell_type": "markdown",
   "metadata": {},
   "source": [
    "Podemos recargar el diccionario con `torch.load` y cargar `state_dict` en la red con `my_MLP.load_state_dict(state_dict)`"
   ]
  },
  {
   "cell_type": "code",
   "execution_count": null,
   "metadata": {},
   "outputs": [],
   "source": [
    "state_dict = torch.load('checkpoint.pth')\n",
    "print(state_dict.keys())\n",
    "\n",
    "my_MLP.load_state_dict(state_dict)"
   ]
  },
  {
   "cell_type": "markdown",
   "metadata": {},
   "source": [
    "**Importante:** `load_state_dict` nos dará un error si la arquitectura de la red es differente de la que hemos salvado en el archivo pth"
   ]
  },
  {
   "cell_type": "code",
   "execution_count": null,
   "metadata": {},
   "outputs": [],
   "source": []
  }
 ],
 "metadata": {
  "kernelspec": {
   "display_name": "Python 3 (ipykernel)",
   "language": "python",
   "name": "python3"
  },
  "language_info": {
   "codemirror_mode": {
    "name": "ipython",
    "version": 3
   },
   "file_extension": ".py",
   "mimetype": "text/x-python",
   "name": "python",
   "nbconvert_exporter": "python",
   "pygments_lexer": "ipython3",
   "version": "3.7.11"
  }
 },
 "nbformat": 4,
 "nbformat_minor": 4
}
