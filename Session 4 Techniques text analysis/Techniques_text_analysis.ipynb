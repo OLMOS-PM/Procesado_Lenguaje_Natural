{
 "cells": [
  {
   "cell_type": "markdown",
   "metadata": {},
   "source": [
    "# Procesamiento de Lenguaje Natural\n",
    "\n",
    "\n",
    "**Pablo Martínez Olmos**\n",
    "\n",
    "Departamento de Teoría de la Señal y Comunicaciones\n",
    "\n",
    "**Universidad Carlos III de Madrid**\n",
    "\n",
    "<img src='http://www.tsc.uc3m.es/~emipar/BBVA/INTRO/img/logo_uc3m_foot.jpg' width=400 />"
   ]
  },
  {
   "cell_type": "markdown",
   "metadata": {},
   "source": [
    "# Técnicas de análisis de texto\n",
    "\n",
    "En la sesión de hoy aprenderemos distintas técnicas relevantes para analizar la estructura de un texto que pueden ser útiles para la extracción de características del mismo. Recordemos que hasta ahora hemos aprendido las siguientes técnicas de extracción de características:\n",
    "\n",
    "- Representación vectorial de un documento con un BoW.\n",
    "- Representación vectorial de un documento con TF-IDF.\n",
    "- Extracción de frases clave de un documento con LSA y TextRank.\n",
    "- Extracción de palabras clave con N-grams (collocations) y TextRank.\n",
    "\n",
    "En todas las técnicas anteriores, **no hemos tenido en cuenta la estructura y sintáxis del texto en sí mismo**. En la sesión de hoy, presentaremos las siguientes técnicas que sí tienen en cuenta estos aspectos:\n",
    "\n",
    "- Part of Speech Tagging (POS tagging)\n",
    "- Análisis superficial (Shallow parsing)\n",
    "- Detección de entidades (Name entity recognition)\n",
    "- Análisis de dependencias (Dependency parsing)\n"
   ]
  },
  {
   "cell_type": "markdown",
   "metadata": {},
   "source": [
    "# 1.POS tagging\n",
    "\n",
    "El objetivo es asignar a cada palabra de un determinado texto una etiqueta (categoría léxica específica) en función de su contexto sintáctico y su función.  Este etiquetado es realmente útil en NLP para obtener características  de un texto. Por ejemplo, podemos filtrar los sustantivos y determinar los más destacados.\n",
    "\n",
    "En idioma inglés, utilizaremos la notación [Penn Treebank](https://repository.upenn.edu/cgi/viewcontent.cgi?article=1603&context=cis_reports) para el etiquetado. En este [enlace](https://repository.upenn.edu/cgi/viewcontent.cgi?article=1603&context=cis_reports) puede encontrarse una descripción detallada de cada categoría, con ejemplos.\n",
    "\n",
    "<img src=\"http://www.tsc.uc3m.es/~olmos/BBVA/tags.png\" width=\"40%\"> \n",
    "\n",
    "Un aspecto común a cualquier algoritmo de POS tagging es la construcción de un método para estimar la etiqueta $y_i$ asociada a la palabra i-ésima $x_i$ dadas las palabras anteriores $\\mathbf{x}_{\\leq i}$ o incluso anteriores al instante $i+W$ ($\\mathbf{x}_{\\leq(i+W)}$. [Ejemplos clásicos](https://web.stanford.edu/~jurafsky/slp3/8.pdf) de métodos para POS tagging son los modelos ocultos de Markov y Conditional Random Fields.\n",
    "\n",
    "<img src=\"http://www.tsc.uc3m.es/~olmos/BBVA/HMM_slide.001.jpeg\" width=\"90%\"> \n",
    "\n",
    "En la actualidad, los métodos con mayor precisión se basan en [redes neuronales recurrentes (RNNs)](https://arxiv.org/abs/1510.06168) o de tipo [transformer](https://github.com/soutsios/pos-tagger-bert).\n",
    "\n",
    "<img src=\"http://www.tsc.uc3m.es/~olmos/BBVA/rnnPOS.png\" width=\"70%\">\n"
   ]
  },
  {
   "cell_type": "markdown",
   "metadata": {},
   "source": [
    "## 1.3 POS tagging en spaCy\n"
   ]
  },
  {
   "cell_type": "code",
   "execution_count": 1,
   "metadata": {},
   "outputs": [
    {
     "name": "stdout",
     "output_type": "stream",
     "text": [
      "Collecting en-core-web-sm==3.2.0\n",
      "  Downloading https://github.com/explosion/spacy-models/releases/download/en_core_web_sm-3.2.0/en_core_web_sm-3.2.0-py3-none-any.whl (13.9 MB)\n",
      "     |████████████████████████████████| 13.9 MB 2.2 MB/s            \n",
      "\u001b[?25hRequirement already satisfied: spacy<3.3.0,>=3.2.0 in /Users/olmos/opt/anaconda3/envs/gensim3/lib/python3.6/site-packages (from en-core-web-sm==3.2.0) (3.2.3)\n",
      "Requirement already satisfied: pathy>=0.3.5 in /Users/olmos/opt/anaconda3/envs/gensim3/lib/python3.6/site-packages (from spacy<3.3.0,>=3.2.0->en-core-web-sm==3.2.0) (0.6.1)\n",
      "Requirement already satisfied: packaging>=20.0 in /Users/olmos/opt/anaconda3/envs/gensim3/lib/python3.6/site-packages (from spacy<3.3.0,>=3.2.0->en-core-web-sm==3.2.0) (20.4)\n",
      "Requirement already satisfied: setuptools in /Users/olmos/opt/anaconda3/envs/gensim3/lib/python3.6/site-packages (from spacy<3.3.0,>=3.2.0->en-core-web-sm==3.2.0) (59.5.0)\n",
      "Requirement already satisfied: numpy>=1.15.0 in /Users/olmos/opt/anaconda3/envs/gensim3/lib/python3.6/site-packages (from spacy<3.3.0,>=3.2.0->en-core-web-sm==3.2.0) (1.19.5)\n",
      "Requirement already satisfied: preshed<3.1.0,>=3.0.2 in /Users/olmos/opt/anaconda3/envs/gensim3/lib/python3.6/site-packages (from spacy<3.3.0,>=3.2.0->en-core-web-sm==3.2.0) (3.0.2)\n",
      "Requirement already satisfied: typer<0.5.0,>=0.3.0 in /Users/olmos/opt/anaconda3/envs/gensim3/lib/python3.6/site-packages (from spacy<3.3.0,>=3.2.0->en-core-web-sm==3.2.0) (0.4.0)\n",
      "Requirement already satisfied: murmurhash<1.1.0,>=0.28.0 in /Users/olmos/opt/anaconda3/envs/gensim3/lib/python3.6/site-packages (from spacy<3.3.0,>=3.2.0->en-core-web-sm==3.2.0) (1.0.6)\n",
      "Requirement already satisfied: blis<0.8.0,>=0.4.0 in /Users/olmos/opt/anaconda3/envs/gensim3/lib/python3.6/site-packages (from spacy<3.3.0,>=3.2.0->en-core-web-sm==3.2.0) (0.4.1)\n",
      "Requirement already satisfied: tqdm<5.0.0,>=4.38.0 in /Users/olmos/opt/anaconda3/envs/gensim3/lib/python3.6/site-packages (from spacy<3.3.0,>=3.2.0->en-core-web-sm==3.2.0) (4.47.0)\n",
      "Requirement already satisfied: cymem<2.1.0,>=2.0.2 in /Users/olmos/opt/anaconda3/envs/gensim3/lib/python3.6/site-packages (from spacy<3.3.0,>=3.2.0->en-core-web-sm==3.2.0) (2.0.3)\n",
      "Requirement already satisfied: langcodes<4.0.0,>=3.2.0 in /Users/olmos/opt/anaconda3/envs/gensim3/lib/python3.6/site-packages (from spacy<3.3.0,>=3.2.0->en-core-web-sm==3.2.0) (3.3.0)\n",
      "Requirement already satisfied: wasabi<1.1.0,>=0.8.1 in /Users/olmos/opt/anaconda3/envs/gensim3/lib/python3.6/site-packages (from spacy<3.3.0,>=3.2.0->en-core-web-sm==3.2.0) (0.9.0)\n",
      "Requirement already satisfied: typing-extensions<4.0.0.0,>=3.7.4 in /Users/olmos/opt/anaconda3/envs/gensim3/lib/python3.6/site-packages (from spacy<3.3.0,>=3.2.0->en-core-web-sm==3.2.0) (3.10.0.2)\n",
      "Requirement already satisfied: jinja2 in /Users/olmos/opt/anaconda3/envs/gensim3/lib/python3.6/site-packages (from spacy<3.3.0,>=3.2.0->en-core-web-sm==3.2.0) (2.11.2)\n",
      "Requirement already satisfied: spacy-legacy<3.1.0,>=3.0.8 in /Users/olmos/opt/anaconda3/envs/gensim3/lib/python3.6/site-packages (from spacy<3.3.0,>=3.2.0->en-core-web-sm==3.2.0) (3.0.9)\n",
      "Requirement already satisfied: spacy-loggers<2.0.0,>=1.0.0 in /Users/olmos/opt/anaconda3/envs/gensim3/lib/python3.6/site-packages (from spacy<3.3.0,>=3.2.0->en-core-web-sm==3.2.0) (1.0.1)\n",
      "Requirement already satisfied: pydantic!=1.8,!=1.8.1,<1.9.0,>=1.7.4 in /Users/olmos/opt/anaconda3/envs/gensim3/lib/python3.6/site-packages (from spacy<3.3.0,>=3.2.0->en-core-web-sm==3.2.0) (1.8.2)\n",
      "Requirement already satisfied: thinc<8.1.0,>=8.0.12 in /Users/olmos/opt/anaconda3/envs/gensim3/lib/python3.6/site-packages (from spacy<3.3.0,>=3.2.0->en-core-web-sm==3.2.0) (8.0.13)\n",
      "Requirement already satisfied: srsly<3.0.0,>=2.4.1 in /Users/olmos/opt/anaconda3/envs/gensim3/lib/python3.6/site-packages (from spacy<3.3.0,>=3.2.0->en-core-web-sm==3.2.0) (2.4.2)\n",
      "Requirement already satisfied: requests<3.0.0,>=2.13.0 in /Users/olmos/opt/anaconda3/envs/gensim3/lib/python3.6/site-packages (from spacy<3.3.0,>=3.2.0->en-core-web-sm==3.2.0) (2.24.0)\n",
      "Requirement already satisfied: catalogue<2.1.0,>=2.0.6 in /Users/olmos/opt/anaconda3/envs/gensim3/lib/python3.6/site-packages (from spacy<3.3.0,>=3.2.0->en-core-web-sm==3.2.0) (2.0.6)\n",
      "Requirement already satisfied: zipp>=0.5 in /Users/olmos/opt/anaconda3/envs/gensim3/lib/python3.6/site-packages (from catalogue<2.1.0,>=2.0.6->spacy<3.3.0,>=3.2.0->en-core-web-sm==3.2.0) (3.1.0)\n",
      "Requirement already satisfied: pyparsing>=2.0.2 in /Users/olmos/opt/anaconda3/envs/gensim3/lib/python3.6/site-packages (from packaging>=20.0->spacy<3.3.0,>=3.2.0->en-core-web-sm==3.2.0) (2.4.7)\n",
      "Requirement already satisfied: six in /Users/olmos/opt/anaconda3/envs/gensim3/lib/python3.6/site-packages (from packaging>=20.0->spacy<3.3.0,>=3.2.0->en-core-web-sm==3.2.0) (1.15.0)\n",
      "Requirement already satisfied: dataclasses<1.0,>=0.6 in /Users/olmos/opt/anaconda3/envs/gensim3/lib/python3.6/site-packages (from pathy>=0.3.5->spacy<3.3.0,>=3.2.0->en-core-web-sm==3.2.0) (0.8)\n",
      "Requirement already satisfied: smart-open<6.0.0,>=5.0.0 in /Users/olmos/opt/anaconda3/envs/gensim3/lib/python3.6/site-packages (from pathy>=0.3.5->spacy<3.3.0,>=3.2.0->en-core-web-sm==3.2.0) (5.2.1)\n",
      "Requirement already satisfied: chardet<4,>=3.0.2 in /Users/olmos/opt/anaconda3/envs/gensim3/lib/python3.6/site-packages (from requests<3.0.0,>=2.13.0->spacy<3.3.0,>=3.2.0->en-core-web-sm==3.2.0) (3.0.4)\n",
      "Requirement already satisfied: idna<3,>=2.5 in /Users/olmos/opt/anaconda3/envs/gensim3/lib/python3.6/site-packages (from requests<3.0.0,>=2.13.0->spacy<3.3.0,>=3.2.0->en-core-web-sm==3.2.0) (2.10)\n",
      "Requirement already satisfied: certifi>=2017.4.17 in /Users/olmos/opt/anaconda3/envs/gensim3/lib/python3.6/site-packages (from requests<3.0.0,>=2.13.0->spacy<3.3.0,>=3.2.0->en-core-web-sm==3.2.0) (2020.6.20)\n",
      "Requirement already satisfied: urllib3!=1.25.0,!=1.25.1,<1.26,>=1.21.1 in /Users/olmos/opt/anaconda3/envs/gensim3/lib/python3.6/site-packages (from requests<3.0.0,>=2.13.0->spacy<3.3.0,>=3.2.0->en-core-web-sm==3.2.0) (1.25.9)\n",
      "Requirement already satisfied: contextvars<3,>=2.4 in /Users/olmos/opt/anaconda3/envs/gensim3/lib/python3.6/site-packages (from thinc<8.1.0,>=8.0.12->spacy<3.3.0,>=3.2.0->en-core-web-sm==3.2.0) (2.4)\n",
      "Requirement already satisfied: click<9.0.0,>=7.1.1 in /Users/olmos/opt/anaconda3/envs/gensim3/lib/python3.6/site-packages (from typer<0.5.0,>=0.3.0->spacy<3.3.0,>=3.2.0->en-core-web-sm==3.2.0) (7.1.2)\n",
      "Requirement already satisfied: MarkupSafe>=0.23 in /Users/olmos/opt/anaconda3/envs/gensim3/lib/python3.6/site-packages (from jinja2->spacy<3.3.0,>=3.2.0->en-core-web-sm==3.2.0) (1.1.1)\n",
      "Requirement already satisfied: immutables>=0.9 in /Users/olmos/opt/anaconda3/envs/gensim3/lib/python3.6/site-packages (from contextvars<3,>=2.4->thinc<8.1.0,>=8.0.12->spacy<3.3.0,>=3.2.0->en-core-web-sm==3.2.0) (0.14)\n",
      "\u001b[38;5;2m✔ Download and installation successful\u001b[0m\n",
      "You can now load the package via spacy.load('en_core_web_sm')\n"
     ]
    }
   ],
   "source": [
    "# Descargamos el modelo\n",
    "import spacy\n",
    "\n",
    "!python -m spacy download en_core_web_sm"
   ]
  },
  {
   "cell_type": "code",
   "execution_count": 2,
   "metadata": {},
   "outputs": [],
   "source": [
    "# Cargamos el modelo\n",
    "nlp = spacy.load(\"en_core_web_sm\")\n",
    "\n",
    "sentence = 'I am an engineer. Some day I hope to engineer an electric engine'\n",
    "\n",
    "# y analizamos la oración\n",
    "\n",
    "doc = nlp(sentence)\n"
   ]
  },
  {
   "cell_type": "code",
   "execution_count": 3,
   "metadata": {},
   "outputs": [
    {
     "data": {
      "text/plain": [
       "I am an engineer. Some day I hope to engineer an electric engine"
      ]
     },
     "execution_count": 3,
     "metadata": {},
     "output_type": "execute_result"
    }
   ],
   "source": [
    "doc"
   ]
  },
  {
   "cell_type": "markdown",
   "metadata": {},
   "source": [
    "`doc` es un objeto iterable, compuesto por [`token`](https://spacy.io/api/token) que a su vez son objetos con propiedades en Spacy:"
   ]
  },
  {
   "cell_type": "code",
   "execution_count": 4,
   "metadata": {},
   "outputs": [
    {
     "name": "stdout",
     "output_type": "stream",
     "text": [
      "I I PRON PRP nsubj X True True\n",
      "*****\n",
      "am be AUX VBP ROOT xx True True\n",
      "*****\n",
      "an an DET DT det xx True True\n",
      "*****\n",
      "engineer engineer NOUN NN attr xxxx True False\n",
      "*****\n",
      ". . PUNCT . punct . False False\n",
      "*****\n",
      "Some some DET DT det Xxxx True True\n",
      "*****\n",
      "day day NOUN NN npadvmod xxx True False\n",
      "*****\n",
      "I I PRON PRP nsubj X True True\n",
      "*****\n",
      "hope hope VERB VBP ROOT xxxx True False\n",
      "*****\n",
      "to to PART TO aux xx True True\n",
      "*****\n",
      "engineer engineer VERB VB xcomp xxxx True False\n",
      "*****\n",
      "an an DET DT det xx True True\n",
      "*****\n",
      "electric electric ADJ JJ amod xxxx True False\n",
      "*****\n",
      "engine engine NOUN NN dobj xxxx True False\n",
      "*****\n"
     ]
    }
   ],
   "source": [
    "for token in doc:\n",
    "    print(token.text, token.lemma_, token.pos_, token.tag_, token.dep_,token.shape_, token.is_alpha, token.is_stop)\n",
    "    print('*****')"
   ]
  },
  {
   "cell_type": "markdown",
   "metadata": {},
   "source": [
    "En forma de tabla ..."
   ]
  },
  {
   "cell_type": "code",
   "execution_count": 5,
   "metadata": {},
   "outputs": [
    {
     "data": {
      "text/html": [
       "<div>\n",
       "<style scoped>\n",
       "    .dataframe tbody tr th:only-of-type {\n",
       "        vertical-align: middle;\n",
       "    }\n",
       "\n",
       "    .dataframe tbody tr th {\n",
       "        vertical-align: top;\n",
       "    }\n",
       "\n",
       "    .dataframe thead th {\n",
       "        text-align: right;\n",
       "    }\n",
       "</style>\n",
       "<table border=\"1\" class=\"dataframe\">\n",
       "  <thead>\n",
       "    <tr style=\"text-align: right;\">\n",
       "      <th></th>\n",
       "      <th>0</th>\n",
       "      <th>1</th>\n",
       "      <th>2</th>\n",
       "      <th>3</th>\n",
       "      <th>4</th>\n",
       "      <th>5</th>\n",
       "      <th>6</th>\n",
       "      <th>7</th>\n",
       "      <th>8</th>\n",
       "      <th>9</th>\n",
       "      <th>10</th>\n",
       "      <th>11</th>\n",
       "      <th>12</th>\n",
       "      <th>13</th>\n",
       "    </tr>\n",
       "  </thead>\n",
       "  <tbody>\n",
       "    <tr>\n",
       "      <th>Word</th>\n",
       "      <td>I</td>\n",
       "      <td>am</td>\n",
       "      <td>an</td>\n",
       "      <td>engineer</td>\n",
       "      <td>.</td>\n",
       "      <td>Some</td>\n",
       "      <td>day</td>\n",
       "      <td>I</td>\n",
       "      <td>hope</td>\n",
       "      <td>to</td>\n",
       "      <td>engineer</td>\n",
       "      <td>an</td>\n",
       "      <td>electric</td>\n",
       "      <td>engine</td>\n",
       "    </tr>\n",
       "    <tr>\n",
       "      <th>Word_Lemma</th>\n",
       "      <td>I</td>\n",
       "      <td>be</td>\n",
       "      <td>an</td>\n",
       "      <td>engineer</td>\n",
       "      <td>.</td>\n",
       "      <td>some</td>\n",
       "      <td>day</td>\n",
       "      <td>I</td>\n",
       "      <td>hope</td>\n",
       "      <td>to</td>\n",
       "      <td>engineer</td>\n",
       "      <td>an</td>\n",
       "      <td>electric</td>\n",
       "      <td>engine</td>\n",
       "    </tr>\n",
       "    <tr>\n",
       "      <th>POS tag</th>\n",
       "      <td>PRP</td>\n",
       "      <td>VBP</td>\n",
       "      <td>DT</td>\n",
       "      <td>NN</td>\n",
       "      <td>.</td>\n",
       "      <td>DT</td>\n",
       "      <td>NN</td>\n",
       "      <td>PRP</td>\n",
       "      <td>VBP</td>\n",
       "      <td>TO</td>\n",
       "      <td>VB</td>\n",
       "      <td>DT</td>\n",
       "      <td>JJ</td>\n",
       "      <td>NN</td>\n",
       "    </tr>\n",
       "  </tbody>\n",
       "</table>\n",
       "</div>"
      ],
      "text/plain": [
       "              0    1   2         3  4     5    6    7     8   9        10  11  \\\n",
       "Word          I   am  an  engineer  .  Some  day    I  hope  to  engineer  an   \n",
       "Word_Lemma    I   be  an  engineer  .  some  day    I  hope  to  engineer  an   \n",
       "POS tag     PRP  VBP  DT        NN  .    DT   NN  PRP   VBP  TO        VB  DT   \n",
       "\n",
       "                  12      13  \n",
       "Word        electric  engine  \n",
       "Word_Lemma  electric  engine  \n",
       "POS tag           JJ      NN  "
      ]
     },
     "execution_count": 5,
     "metadata": {},
     "output_type": "execute_result"
    }
   ],
   "source": [
    "import pandas as pd\n",
    "\n",
    "spacy_pos_tagged = [(token.text, token.lemma_, token.tag_) for token in doc]\n",
    "\n",
    "pd.DataFrame(spacy_pos_tagged, columns=['Word','Word_Lemma','POS tag']).T"
   ]
  },
  {
   "cell_type": "markdown",
   "metadata": {},
   "source": [
    "# 2. Análisis sintáctico superficial o fragmentación (shallow parsing or chunking)\n",
    "\n",
    "El análisis sintáctico superficial o fragmentación (*shallow parsing (SP) or chunking*) es una técnica para agrupar tokens adyacentes en **frases** en función de sus etiquetas POS. En lo siguiente, entendemos una frase como una agrupación de palabras sin significado completo, al carecer de estructura de sujeto-predicado.\n",
    "\n",
    "SP típicamente se centra en la identificación de **determinados tipos de frases**, tales como frases sustantivas o verbales. **SP no realiza un análisis profundo** de dichas frases para determinar la relación entre estas mediante mediante reglas sintácticas o gramáticas. En esto último se centran métodos tales como **constituency parsing (CP)** y **dependency parsing (DP)**.\n",
    "\n",
    "Hay cinco categorías principales de frases, que se describen a continuación:\n",
    "\n",
    "- **Frase sustantiva** ([Noun Phrase](https://dictionary.cambridge.org/es/gramatica/gramatica-britanica/noun-phrases?q=Noun+phrases)  NP): Un sustantivo actúa como palabra principal. Las frases sustantivas actúan como sujeto u objeto directo que recibe la acción del verbo. Pueden ser reemplazadas por un pronombre sin hacer que la oración o cláusula sea sintácticamente incorrecta. \n",
    "\n",
    "- **Frase verbal** ([Verb phrase](https://dictionary.cambridge.org/es/gramatica/gramatica-britanica/verb-phrases?q=Verb+phrases)  VP): Tienen un verbo que actúa como palabra principal, incluyendo el verbo principal, infinitivos y participios. Este verbo puede ir seguido de otras frases, como NP. Las frases verbales son útiles para comprender las acciones en las que participan los sustantivos.\n",
    "\n",
    "- **Frase adjetiva** ([Adjective phrase](https://dictionary.cambridge.org/es/gramatica/gramatica-britanica/adjective-phrases)  ADJP): Son frases cuya palabra principal es un adjetivo. Su función principal es describir o calificar sustantivos y pronombres en una oración y se colocarán antes o después del sustantivo o pronombre. \n",
    "\n",
    "- **Frase de adverbio** ([Adverb phrase](https://dictionary.cambridge.org/es/gramatica/gramatica-britanica/adverb-phrases?q=Adverb+phrases) o ADVP): un adverbio actúa como la palabra principal de la frase. Las frases de adverbio se utilizan como modificadores de sustantivos, verbos o adverbios al proporcionar más detalles para describirlos o calificarlos.\n",
    "\n",
    "- **Prepositional phrase** ([Prepositional phrase](https://dictionary.cambridge.org/es/gramatica/gramatica-britanica/prepositional-phrases?q=Prepositional+phrases) PP): Estas frases suelen contener una preposición como palabra principal y otros componentes léxicos como sustantivos, pronombres, etc. Actúan como un adjetivo o adverbio que describe otras palabras o frases. La oración \"Subiendo las escaleras\" tiene una frase preposicional, \"arriba\" que describe la dirección de las escaleras.\n",
    "\n",
    "La detección de frases sustantivas (**NP chunking**) es la variante más común de SP. Vamos a ver cómo Spacy nos da una solución directa.\n"
   ]
  },
  {
   "cell_type": "code",
   "execution_count": 6,
   "metadata": {},
   "outputs": [
    {
     "name": "stdout",
     "output_type": "stream",
     "text": [
      "I\n",
      "******\n",
      "an engineer\n",
      "******\n",
      "I\n",
      "******\n",
      "an electric engine\n",
      "******\n"
     ]
    }
   ],
   "source": [
    "nlp = spacy.load(\"en_core_web_sm\")\n",
    "doc = nlp(sentence)\n",
    "\n",
    "for chunk in doc.noun_chunks:\n",
    "    print(chunk.text)\n",
    "    print('******')"
   ]
  },
  {
   "cell_type": "markdown",
   "metadata": {},
   "source": [
    "Y ahora en castellano ..."
   ]
  },
  {
   "cell_type": "code",
   "execution_count": 7,
   "metadata": {},
   "outputs": [
    {
     "name": "stdout",
     "output_type": "stream",
     "text": [
      "El cachorro\n",
      "******\n",
      "gato gris\n",
      "******\n",
      "quien\n",
      "******\n",
      "encima de la valla\n",
      "******\n"
     ]
    }
   ],
   "source": [
    "nlp = spacy.load(\"es_core_news_sm\")\n",
    "\n",
    "doc = nlp(\"El cachorro ladró al gato gris, quien saltó por encima de la valla.\")\n",
    "\n",
    "for chunk in doc.noun_chunks:\n",
    "    print(chunk.text)\n",
    "    print('******')"
   ]
  },
  {
   "cell_type": "markdown",
   "metadata": {},
   "source": [
    "Como podemos comprobar, en el paquete en español la obtención de NPs es mejorable. Al igual que en NLTK, podemos crear nuestra propia gramática para obtener los NPs de un documento usando expresiones regulares y la clase ['Matcher'](https://spacy.io/api/matcher) de Spacy."
   ]
  },
  {
   "cell_type": "markdown",
   "metadata": {},
   "source": [
    "# 3. Reconocimiento de entidades (Name entity recognition NER)\n",
    "\n",
    "Si bien POS tagging nos marcará que palabras como Janet, Stanford University y Colorado son nombres propios, estos nombres propios se refieren a tipos de entidades distintas: Janet es una persona, Stanford University es una organización y Colorado es una ubicación geográfica.\n",
    "\n",
    "La tarea de reconocimiento de entidades (NER) es encontrar tramos de texto que constituyan nombres propios y etiquetar el tipo de entidad. Las cuatro etiquetas de entidad son las más comunes: PER (persona), LOC (ubicación), ORG (organización) o GPE (entidad geopolítica). Sin embargo, el término entidad se extiende comúnmente para incluir cosas que no son entidades per se, incluidas fechas, horas y otros tipos de expresiones temporales, e incluso expresiones numéricas como precios.\n",
    "\n",
    "Los distintos modelos NER son fundamentalmente algoritmos de aprendizaje automático entrenados sobre bases de datos etiquetadas. Por tanto, su rendimiento está ligado al tipo de texto en que fueron entrenados y esto implica que para un nuevo texto pueden no alcanzar las mismas prestaciones.  Si se considera necesario, [Spacy permite hacer un ajuste fino](https://course.spacy.io/en/chapter4) (reentrenar) cualquiera de sus modelos a un nuevo corpus de documentos. \n",
    "\n"
   ]
  },
  {
   "cell_type": "markdown",
   "metadata": {},
   "source": [
    "## NER en Spacy\n",
    "\n",
    "Spacy implementa alguno de los algoritmos más avanzados del estado del arte para NER. "
   ]
  },
  {
   "cell_type": "markdown",
   "metadata": {},
   "source": [
    "\n",
    "![](data:image/png;base64,iVBORw0KGgoAAAANSUhEUgAAAr8AAADRCAYAAADFeNrtAAABRmlDQ1BJQ0MgUHJvZmlsZQAAKJFjYGASSSwoyGFhYGDIzSspCnJ3UoiIjFJgf8rAzMDPIMLAxaCamFxc4BgQ4ANUwgCjUcG3awyMIPqyLsgstZK1bC5WnmVdhUcbw1/bncdUjwK4UlKLk4H0HyBOTy4oKmFgYEwBspXLSwpA7A4gW6QI6Cggew6InQ5hbwCxkyDsI2A1IUHOQPYNIFsgOSMRaAbjCyBbJwlJPB2JDbUXBHh93BVCfUKCHMM9XVwJuJdkUJJaUQKinfMLKosy0zNKFByBoZSq4JmXrKejYGRgZMjAAApziOrPN8BhySjGgRArEGNgsJgBFHyIEIsH+mG7HAMDfx9CTA3oXwEvBoaD+woSixLhDmD8xlKcZmwEYXNvZ2Bgnfb//+dwBgZ2TQaGv9f///+9/f//v8sYGJhvMTAc+AYAkX5gIpsIQ5MAAABWZVhJZk1NACoAAAAIAAGHaQAEAAAAAQAAABoAAAAAAAOShgAHAAAAEgAAAESgAgAEAAAAAQAAAr+gAwAEAAAAAQAAANEAAAAAQVNDSUkAAABTY3JlZW5zaG90Fw1SvQAAAdZpVFh0WE1MOmNvbS5hZG9iZS54bXAAAAAAADx4OnhtcG1ldGEgeG1sbnM6eD0iYWRvYmU6bnM6bWV0YS8iIHg6eG1wdGs9IlhNUCBDb3JlIDYuMC4wIj4KICAgPHJkZjpSREYgeG1sbnM6cmRmPSJodHRwOi8vd3d3LnczLm9yZy8xOTk5LzAyLzIyLXJkZi1zeW50YXgtbnMjIj4KICAgICAgPHJkZjpEZXNjcmlwdGlvbiByZGY6YWJvdXQ9IiIKICAgICAgICAgICAgeG1sbnM6ZXhpZj0iaHR0cDovL25zLmFkb2JlLmNvbS9leGlmLzEuMC8iPgogICAgICAgICA8ZXhpZjpQaXhlbFlEaW1lbnNpb24+MjA5PC9leGlmOlBpeGVsWURpbWVuc2lvbj4KICAgICAgICAgPGV4aWY6UGl4ZWxYRGltZW5zaW9uPjcwMzwvZXhpZjpQaXhlbFhEaW1lbnNpb24+CiAgICAgICAgIDxleGlmOlVzZXJDb21tZW50PlNjcmVlbnNob3Q8L2V4aWY6VXNlckNvbW1lbnQ+CiAgICAgIDwvcmRmOkRlc2NyaXB0aW9uPgogICA8L3JkZjpSREY+CjwveDp4bXBtZXRhPgqQ/qdUAABAAElEQVR4AeydB0AURxfHn4qADUWwdwV7L7F3jcbeNZYYY4y9a4ztM/ZeYo819t5770Zj72IBG4IiIHawfe8N7HF3HseBhwL+X4K7OzszO/ubu903b968i/ORhSAgAAIgAAIgAAIgAAIg8A0QiPsN3CNuEQRAAARAAARAAARAAAQUASi/+CCAAAiAAAiAAAiAAAh8MwSg/H4zXY0bBQEQAAEQAAEQAAEQgPKLzwAIgAAIgAAIgAAIgMA3QwDK7zfT1bhREAABEAABEAABEAABKL/4DIAACIAACIAACIAACHwzBKD8fjNdjRsFARAAARAAARAAARCA8ovPAAiAAAiAAAiAAAiAwDdDwCYyd3rR/zX5vH6nitrEjUuZE9tSpsTxdVU9f/uB/vN5SSkTxKd8jvYqPbwy9168pZvP3ujq0N/Jlcye0iaMT1qenHycjo+NRbtGiRSJKFH8uKS1I7mdDRVySqDL/oF/1uOA13PST9fK6jLp7ZRKmZgS2MTRS8EuCIAACIBATCGg/3w39c7S7sOb32tX+P1Wmp/59kbPfO39o+VNze+g7EntKH6cT98NV5++obNP3pBrUlsq6pyQ4ullOeT9kt59+KBVo9vaxYtLZVIlUsf6eSQ9B18nhX2kXte6+qPjTiC/jI96vzDbtJLcFwlD+kK4+gd94P5JGGYZ6evLfoGUhHWAymmT6MqaKiB9es7vFb14+5GqpktMKU0w1u8L/Tq+xf7Sv3/jfe37kc3BTumE2vknge/ogu9r0k+PDkzjROYX3urtdqejdwO0e1PbHKxwzquYkXIltaezfKPfr79OFbIko7VVsqjz4ZWZcOkxjTnhaVCndjC8bEbqmNOJtDyDS2eg7rmdtdO6rXaNA41yKaVba0d8fvIcaZSbXBxsVV5RirP8c4GK8BdjV00XlaaV1VWmt/Nv0zzkGlJWLxm7IAACIAACMYCAqee7/jtLu4U2h+7Rlhu+NLZ8Rmqb3UlLVlvt/aOfmDyhLY0rk57qZUqqkuXnUrsef0Arr/josqVhZWBXbVdlwJHEDIsu0eugYOORLhPvSF03WuRRScZ5RHeulNWRFpbPZFaZ068vJuw/ePmWCi6/bLaphxrnojxs8BK2+VZepUcvAukkv5OzJgl+n2uF3Z8HUYfD9+jsw+daEtnwu79EegdaVjGzMohpJ968+8j9dJ823fCjDyE/citjGBenhDS3YibKy9fTxLgvtPRvsb+0eze11b4fGdjg+V/DnLpB4UbWFX9lnbFr0TQ0pFBqVTQ6MP2soWSLvCkosW08Os0j2TP8gWu514PONMxliosuLbwy5TIno+KpDEd1pY2OdZVZuPP2/Ufq+e992lItW7glWudLRSkTxjPIl8Le8NjgJA5AAARAAARiBAFz75+nQe9pl7u/uo9F13w/UX61G6yUxZHKsZXwIht5tt70o07771BBVtBkBvTIo5dK8c2cPCH1LpiKDns/p7VXn9BCVrIG8rEmdjZxqVuRYEVAS0sS3/A9Y8t5BpRIR8+4XVs9Amgft60Xv4tms/Entogj6w9/lgm9n7H/edHbd+9pUKn0ulvUZnl3PXhO3s8DVfqca09ozHdpdXnEoNVg5216wJbhqjxIaJTNkQL5vb/lzlPaw9xaH7qrM8RJoXZH7tGOW34kA6C2bEhLmcCG9j54Rquv+1Kzne50pH52cuQZY03QXxqJ8Lf3/d/QJDZm9ssf+nk3VeprMw3tXVOtCyetA39oxNIrUmjtNbrr94YehbhDhFU0vDLl0yUxadUNqz5L0mVE9++9ZyQjEG2EHla5n3Mk17lqhJUH6SAAAiAAAjGPQFjvn1Ss/Cy+5U9B7z5QMnZnuPr4Jcn0eX7HUHc57W7FONMlV/DMYw+2LC697EMHvV7Qz67J6T8uJ9LIJRn9mC34rzsbiXKGvCe1OkSxDU85EPcM7Tq/8cxnnqWX6ej9UKumVldM3op7onaPch9TznqzJdYwTbu/+ayYigU8KbtTruXBxPBiaXTWxXluvkrxrZ/DieaWy6gVoebcB8250DFWnI8/fkWl2F1C+lUUXxmg7KvlqnNvqZXBgbKz1XLYsQe05PZT6qY3u4z+0iENd0f0ralnH1FLl+Qm3VO1Cr42089e8MaDKzrp84oes+9MvLhxKKnR6FW7Uf1tZMrol4/ofrlMySihrQ0N4Omo1zzdAQEBEAABEPg2CYT1/lnM1l55IU9mNzuROXxsTsRSfJUNPiL5QpTk4ikTKQVt+rlHNJGtXwGcx1jxNVdnWOeOP3pF79k/Nlvy0On4sPLGxnQxqh2++5TypEpMLVgpffr6LW26+0x3q1vZwivSr6ChNV3S5nJ/ujXPqxRfOV7jHpz31zzOOsVX0kU65XSmqy3zGii+wWci9u+33F912V0o8O176v2vaTfWiJEMzW1tpp9l+a249rryw5EvpcgvBVJ98mEKbXrwXnhlRrKCOvrEA4NiN1vlV87rBokROEhuF4/68ihx6LH7NOKCN/1hxhxfhX2V9dcvuLIP0JG62SNwNWQFARAAARCIjgTCev+IVfAOL3z6nqfLa2d0oJTswrD5pj+N/y7dJ4udp7BVa84lH6WAybuvPLvqFXEOthCX5QVrg9gtYexJT36PedKk017UgK2RI9jfMSlP8Wvy/M07Sr3gvHaotq3ypKTxxUOn8l+/fUc5ll+hoPcfSPInYAOOWJG/RRHLrrBukt2RqqdzoJlnvGg+u5M0yhzsa+3F/r6ytkdb1yOMxAVlvUewoivHOdiPtwNb0B88fyuHlDdkMb7si3I95sIj2VVix4Y8A7cK9JeGJtxthbQO7Krzgfayu8neXIZ+8/qFv/Z34LOU3yzJE1BSVizL8sKxOuzwr0V20L9B4/3wyqTh1bGp2fFfX2z0tVH9ExHY78zTVEt42mQ+f8Ab8cMqLMnOK3MT8uhfk6zJ7LRdbEEABEAABGIwgbDeP3NZkRJpwa4LIvV4ynbOeW9a6eFPbULS1An+JyNHXkhiG5dOvwwyWNStnZfF2M2zJqO/rz+hRVee0Ape/HaaFbGj9XLooj7ILGkBtmLqSxajRdWSp0TaxHSEp+xlun9bHReTbhj6dcTGfTGtLed3tyxea87+vMl4ECEW4NMPn5EHK71ZeOGbzOz6cH8EsYJsy9xELrF7g/jwEi9oC2R3luLs1iDKbyLuO5EX7CesiS9HJFB5OSGIfY5tOcKGvvKL/tJIWbadwL7qJe8HUB92IRnAAz9T8rWZfpbyu6BSJp3Pr6mbM5UWXplfePRrKpKDqboikibfh0ml01P9zTeoN1uXw5KZ7C9kiRIfVnmkgwAIgAAIRE8Cpt4/aqEbK7kiQ3jB1dBTXvSS3RVEZOGbsfLbJHty6sQWrWI883n8/jO6zQpYtpDIAxLW6UZAkJpiH8RT8N35fVZp8026+eQV+5y+JLEMiyRkBU6LNKQSTPyTgF0IF1XIRIt4UV3vg3dpGlub9f1ZTRSJlUmy0O0RL3QTl5Tvt95S9+jDUSIkSMNcVm5H8axuVh6QiOVewqZVYmOciLgwyN98jt7Rj6N4aCIWYJFjj15Q9fTBeXNzmufP+TncahCVXn1Vy6rbor90KCzaycihbztxZIfJpx7SbPaJNyVfm2moidNU62JZmsRQrOXqRBfDiSsYy24btwMCIAACIBAGgUUhC91SJ7EjO7YuxmdLSTKO95rEPj5dZgXpMkcQMBaJ7TuCrVuyQK7LkfvqtEQcyM9uCg223CAJ4SUisWZTJQq2MSUNsTiqExH4pzVbnnOyL/FGVuJkKv9bk3lsQRdJz4sGpW/kLy0PNsTNYTUzER/un3MGW+wH8+BFBjOayP7EM97aodo2Y6u8PQ8sFrNV/hJHJtBErMYD/3uoC32mpUd0+633l8arb/6UlJbD/FlD34oKpp9l+dVu0prbebxIYHNIuBmt3u7so1uH/bA0Mc6TjUdtc/TCpWj5TG3HsE/VXo76YCrOouRvzyNE4x+0WFwps9lVi6augzQQAAEQAIHoT2BJyMK2DTVcDOK5i5/pHxw3VsJqTS0ZGnpLuyOJDiBT6SfZ+ruMowO04MgCjXhafTlbusqsu07l+Z3lxUrwOQ4DKrFP9SNHvGKlrPLWm1pVauvEyvbqKpkN0rSDcXz9upvcqPuRe3RSL4aqdj62buVHR47w+9opkS2dbJBDuX9o99qareHb2Cq+6V4ANWC3y8rsEiHh4L5bc51KcSg6GYwc46n3+PHiKauxVk5+LOR3DpM2nNcAVd90g0pwhCnxx97H13nF8Zcl2sdrPQVayqG/NHqWb8X9ZAzPtv+047bJQl+babSz/Ho9C6QLHDZG/8/zVfAoWiNonOciR5uwVCSkTW+j+Ir6ZW/wL9PpX1v2XyFChD4i7IMACIBArCBwLGShm8R7Nf4ho8b8I01iXdzEC9/kRxFMyXi2/orv4v/+faAsjlNKpKcuRdLwouk4SjG7wq4OJVkJ3sUhtfRFFm8Zv2fOm7HqSoiu6uyHfI8tleMvPtavKlbvz3N7oha61eGFiMGevKG328zFUR3M58GJyMrKmakvG7fs+NfgtnEosyMcHSITR+HYVMuFLZCGUTIkjNk/1bNRBnaXOMbK82a2IEvYtfH8IyLVud+NBf1lTMSy4xrpHdSCUFO5vzbTSP3Cm6kbQRoIgAAIgAAIxFYCov6yzkqs6xooYjLtLsJ6soH4sf9vMl6IJfkjKqbq1K4v1UWmzoi2ISbnF6uv/HKbfoSNsO7nLefzD3xv8qeNwypjnI7+Miby+cdRzRTK7+f3EWoAARAAARAAARAAARCIIQSindtDDOGGZoIACIAACIAACIAACMRAAlB+Y2CnockgAAIgAAIgAAIgAAKRIwDlN3LcUAoEQAAEQAAEQAAEQCAGEoDyGwM7DU0GARAAARAAARAAARCIHAEov5HjhlIgAAIgAAIgAAIgAAIxkACU3xjYaWgyCIAACIAACIAACIBA5AhA+Y0cN5QCARAAARAAARAAARCIgQSg/MbATkOTQQAEQAAEQAAEQAAEIkcAym/kuKEUCIAACIAACIAACIBADCQA5TcGdhqaDAIgAAIgAAIgAAIgEDkCUH4jxw2lQAAEQAAEQAAEQAAEYiABKL8xsNPQZBAAARAAARAAARAAgcgRgPIbOW4oBQIgAAIgAAIgAAIgEAMJQPmNgZ2GJoMACIAACIAACIAACESOgI25Ys5zz5k7jXMgAAIgAAIgAAIgAAIgEC0IPGlXyKJ2wPJrESZkAgEQAAEQAAEQAAEQiA0E4nxkCetGAgMDwzqFdBAAARAAgW+YwN27dylTpkzfMIHod+vok+jXJ+ZahP4yRydy5+zs7CwqCMuvRZiQCQRAAARAAARAAARAIDYQgPIbG3oR9wACIAACIAACIAACIGARASi/FmFCJhAAARAAARAAARAAgdhAAMpvbOhF3AMIgAAIgAAIgAAIgIBFBKD8WoQJmUAABEAABEAABEAABGIDASi/saEXcQ8gAAIgAAIgAAIgAAIWEYDyaxEmZAIBEAABEAABEAABEIgNBKD8xoZexD2AAAiAAAiAAAiAAAhYRADKr0WYkAkEQAAEQAAEQAAEQCA2EIDyGxt6EfcAAiAAAiAAAiAAAiBgEQEbi3JZmOn9+/f04cMHC3MjW0wjEDduXIoXL15MazbaCwIgAAIgAAIgAAI6Alaz/ELx1TGNtTsysJF+hoAACIAACIAACIBATCVgNeUXFt+Y+hGIWLvRzxHjhdwgAAIgAAIgAALRi4DVlN/odVtoTXQj4P78LS246U+ytbaIQr5qzdovbpUWK7iXt7e1byfM+j5+/EivXr3+5PzxY//SbXePT9KRAAIgEDUEPD0ffvHnTdTcybdRa1T0l7x3TD2Pvw2iRC9fvTJ7q/J+FO4RkS/JFMpvRHomivNue/iSHr+JvFvBh49EWzxf0pPAyPtd+7z5QFu5DqnH+3Xk26Kh8g/6QEPO+9D3W91p8L9eaivHkm4tWbx0OR06fPSL+SNfd3Ojlq1/oXwFi1KpMhWocLGSNG7CZBLlNCrk5YsX1L5TV8qTvzDlLVCYypavTHv37ddd6v3HD9SjZx/dMXZAAASihsCs2XP5+16CylesQrnzFaLxE6cYrHO5fPmK+o7K91T/b8PGzeE2SAax8t1u3aZduHmRwTIC5vpLlDP9PtLfN9cHT58GUJtf21Me7uP8BYtQxSrV6fCRo5Y1KBbkks9y6XKVKF+BIvwOLEI9ev9Ob9680d2ZcO3WozezLaK+J/J+3L5jp+68qZ2vwRTKr6me+EppnQ89pL1eLyN99SDWfrsefkjn/EI/iBGpbMHtZ1Rsw23qccyLevLfgUfmR3bh1T2fLb3lt9ymDbeeUv+iKcnzp9xqK8eSLpbgz5XAwECa8tdUatum9edWZVF53ye+1KZte7K1taUlixbQ5YtnacTwP2nV6jXUb8Agi+qIaKaurNj6+/vTrm2b6Qpfr2XLFtS+Yxd69OixqqpsmdJqFL5hU/gv2IheG/lBAASCCcjs0tRp02nEsD/J7dolWvzPfFq2fDktWrxUh0hmgpxTpKBVy5ca/FWqWF6Xx3hHlIVRY8ZT+85dKIlDEnr1+vOeu8b1f6vH4fWXLN427ic5zpo1G6VJkypMbJ279qCAgADas30bXTx/hho3akC/tP3ti84Chtm4KD5x5uw56tuvP3Xv2pmuXT5Pa1evpEsXL9HgIUN1V+79e3+SfGtXr6CrnKdnj67UvVcfunbdTZfHeOdrMP0iyu+VgCDye2to6Xv27gN5smXxPRvLTvm+oXuvIm5l9GUL50ku+1IqMZJ3nHTeP4juvvx0mt2Hy0lZURbl2iaK0wuu4OLTIKNazR/e4WtJnWKBdef9tyH7HkZtCK9uaZ/cl9RliWjXc38RfK+er9+p6+vf+33m+4pv1J/74UIY97Xk5lOqmCkJ3Wriov5+zJzEkst/kkesupV33KFRpx9T/axJ6VCdbNTW1VHlk60cS/pIPi/5PscKfPDQUbKzs6MihQvp2iGj0BUrV9PI0ePUNigotB+XLltBHnfu0L8nTtLoseNJRrHPnz/XlZUdUXAXLFykXkjrNmyit29DP0NDR46mJEkS0+wZU9U1EyVMSDWqV6MJ48ZwXZtU2XPnL9LqNesM6pSH5ey/534yVeTj40Oz58wj/TZKwUVLltGtW7fV1Gr8+PFp1PChlCFjBkqQIAG1b/cL2drZ8gPmrO4a31etTJu3bNMdYwcEQMC6BLbw96thwwZU44fqapap+HfFqHOnjjR95mzdhR4/9qF0adJSnjy5Df6SJk2qy2O8484uS0eOHqVNG9ZSyZIljE/jOJIELOkv4356ywORmzduUI9uXcO86rnz5/kZ3I7SZ0hHCRMmoE4dfiOHpA504uR/YZaJLSeO/3uCXF1dqEnjhuq9myO7KzVv3oxOnQl+F4nbwr59+2hg/98pT+5cykjUqkVzKlumDE2eMi1MDF+DqVVDnRnf2T7vV9T7xCN6ysqYSN6UCWl9xbRkGzcOTbvuT+tuP6cgVsheBAaf75jfifrlSW5cjcnj2TcDaAwrT5rUYGVqZvGU6lCUvtq7H9CzN8H1pnOwpXll0lCupLbqfIfj3vSSle8bvq+VomprE4fGlUxD9dInUudbHfWiI/dfqP1EtvFocJEU1MwCRbD6jvs0ktvgksSW6u64S39XSEfpEthQLd6/3cyV4sUhCq/upWx9HcDMROTa+2tmolT25sOLPeV7qbT5jioj//x5Mri87N/50VU2VHGrBxVOlZD+Y9cKkeQJ49PaKukoa6L49I/7M/JldwuvF+9UGydeDbbI1mQeOZldRKXLiYd048krapg9OfXI40yOtoZjLDmW9ABWktfd8CPJv6xc+oheRuXff+AAv2Ty6MqKFaV2vYbkwBaUIoWL0JJly2nx0mW0fctGihMnDv3Flpvde/eR10MvKlgwP02ZOo1mzvqbNm9cqxTLB/c9qVa9+pQ9e3bKmCE9jZ8widat20DLl/6jrnHp0mVqyl98sfzqS8UK5ei/40fVde8/fEgDBg6mypUrklPy4M/zJn5xLlu+kjq0N5zSTJYsmbp+powZ6Yfq36sqb968RcOGj6Rjhw+ol+zfMw0fGjI9KlKoUEG1lX9E+V/MCrM8fCQkHQQEQMC6BLy9H1GJEsUNKpXvmp+fnxr0Ojk7kc+TJ5QiZQo6e+48K7THlKJQvlxZkkFyWJKBnzNbN63/Ym5bYbUjtqVb0l/G9zyWDSKNGjWk1KnDtvwWK1qU9uzdQ9W+r6yKnzp9hp6za1qZUiWNq4t1x/JZnjV7Dt2+7U7ZsmVVxpkDBw9RyeLB34tnz57Ty5cvKW26dAb37vnQkwLfBBqk6R98DaZR+pYccf4JZWBF8EyDbLSheka66vOK1t8LVirlxv1evaXBRZ3pRlMXKpMhMc266KuUUX0opvbFciqKb2VWSC83dqEZ5dLSdvcAOvrktco+6NwTpVTvqJGJrYyZKZDzT7v+1KCq65x3RdUMqm0ZWcGbesVXnT/06LVSfOdVTKfqLpE2IY3h+7BE0iS2UQu6rj0NJBvWdK+xhfUWW2MT29kopdKSugMC39Mp5rWxeiZ6GfSeJocoouau7xg/Lp1rlI1O1Muqso0vnVodS5q+3OL2HK6blfbUzkwvgt7RYla0RfaxQrzR4xkFvXtPD56/U/tyfDuSi9N8Xr2jshkdaP/951Rs3c1P3BvEHULS5bzkk/yRlfv3H5CrS+h9yoPIgy0pK5YupgF/9KW1q1ZQ7Vo1yY/dBjQRy+72rRtp/NjRtGPrZgp6G0TTZsxSp318falv7160esVSZc1dOH8OW4lP0EMvL+XXdP/ePcrNI1pT4uiYTL3ACubPx1bajLRl63Zdtu07dlCdOrV1x9qOWHV/YMvx1m2heTds2kLFihUxeACLdfrX9p2oYZNmNH7yX7Rk4QJKkzq1Vg3lypGTXr9+Tb7cfggIgID1CRQqVIB27dpjMEtz5OhxdSF3nk0SecLPlvMXLlC/PwaS242bNHLUWKpZu55SjlUGE//Y29tD8TXB5XOTLOkv/WscPXacLly8RD26d9FP/mR/5rTJ5M0uZ8VLlaPvf6ilXNBWLltCKdjdJbZL/nx5aeqUiVSvYROqXrMOFStRhpydnWnokEHq1pMlS0oZ+d0nBiNNnj17RjfcbpKXV9iLw78G0yhTfkVB9fAPpAJOdnSafVBlIVeqxLa09k7oFLNYXJtmTKIswa2zJVWsxB0hPHF7FjyN3Sd3ckrMddRMl4hWfZ+BMrCVVeS6XyBVzZhYWXozsWWziYsoYqFKt+TJ4ZyAijvZk5NdXPotlyM9YquniCjnYnEVV4hjPq+pYHJ7Zbm+GeJSoDKF8U9mVqI9WGG8xm4eOZ0S0PWAQLrNbU2XJL4qYUndP7ompRTcpoKOtpSPLeU3ua7whA3KJApwshALa7L48dSxpOlLw2xJKGPCeOSaOD7VzJKUrnL/iCxhq/gRtjCnYFZ1szqofTkWrpEVV2Yh7g0tcjoq94ZqO+8qJVi24g4h6XJe8n2O+Pn7kSNbTzXJljULJWAryy/tOtDGzVvoTeAbNS2lWWAlX+1aNUiUThGZtqpSpTJduHBJHRdia3Czpo1JXBfEjeBMyHSOWIo/KDeWj2QT17wlXiqqV7c2bdu+Q9Xp7/9U+UA1Y4uxKZEppMNHjujcK3bt2k0N6zcwyCrtFctC0SJFKJDvafbceQYuFMmdgi3Mj30sG6gZVI4DEACBcAn07tlDDaJr1q5PAwf/SXXqNVLPD5v4NpQoUfCzUmacypYuTbt3bqWZ06bQ/j072E0qCY0eNz7c+pHBugQs6S/9K44dP5Fa8hS9/rtC/7y2P3HKVLrO/qvyjK9fty77CGeh3/sNIF+eAYjt4u7hoT77RQoXpvr16lFdNugcOHCQFi4K9XsXn/g1a9fSjy1+ov4D/8eDv/rK8CODvLDkazCNMreHDxTsr7r21jPa6B6q8KbQm8K3twlVIhxCFLePIeXCgiTp70JW1TvZhZYXRVYTUVwdWYHUJDlfU6ya+pJUbyq+CSvg8ifyjhUcsbj2/jfUdUAst+/FsTYccXGIT8e8X5Pfm7hUgy3Z6z0CKC5PtWcNUX4tqTu5nsKajO9BXAOsJY62od09uWjUj1LFvWFooZTU2sWR+p/xVtEeyjDnPbWy6ph87r194M9CHD1lVEbfmzas4UUoy2j69FnUl53va9asQRPHjdZZV5ydDe/dOTlPV/oGK40n/ztFHTp1IfHRc3VxVW4MWhtFUU6fPh1duX6dSpUuqSWb3DZt3IhmsC+gPBBlpWvePHmVz66pzOKy4OTkRPv2HyKXbFnYqvCIFfQfDLLKg+Pn1q1UWp9ePahE6fK0lkfXrVu1UGlx2ZVI5CO7PUBAAASsT0CmwsU9aseOXXSDXZNa8/exSOGCbA3ezd/b4Fm33/v0MriwrEdoUK8uu1+tMEjHQdQTsKS/tFbs2Lmb7ty5S8sWL9SSTG7F7e2fRYtpz64dJIYWkQ7tf6X6jZrRBI78MXrkMJPlYkvin8NGKnc7WfOiSflyZagtG5saNaynBg5lSpeibZs30s7de5RL0Hh+98r6FZmRNSVfi2moNmSqVZ+RZstKn8gQVrIiu3AqrMvbsZ+ViCzsShmiTK+695yys4tFIUc7smOXAy+9qfSHvJ+AraGWSBJWPh3sbehi/eAPtiVltDxixVzDyr4PKyLji6WiGZd8yTZeEFVJG2wVsKRuL73wYo+43Q5shY7pIsr/6CKpqSz3kWy1wYA17svJ0ZGePg11aZA6s2bJopuGOc/TWE2aNqdqVavofGqvuV03uLTbzZuU3cVFpU35axpVrlRRuTxIgrhIrN+wUZdf/Is3b95Kv/z8k06ZlpPy5e7Rqy/NnzubUqVKqVwWCvOLUVwf5OXYoH4dXR2mdurVrcOuD9soU6ZMyhKtjZLv37tP4yZOponjx+j8jMUKXKBAfjp//oJO+dXcOr6FqTdT/JAGAlFN4PTpszyrlICtgz/qLiWLVdOm5XUsIWsAJrFVMHeu3FS9WhVdngCe9nV0DJ7Z1CViJ8oJWNJf0ggJUTlx0hT6hSMGOTg4mG3XfU9P1deyHkQTWUuSOXMms9P6Wt6YvhXDTJVKlQxuI0eO7GqtiTe7NYjVfNfufVQgf17q3LG9Lt/sOfPJxSWb7lh/52sxDdYi9VtipX17VkAL8gKr6Vf86Ay7IUhUhVr7PGne7YDPvkLupPHZoko0lH17JSLDNLen1O+Yt3KfkMoLOtvTAXZz2Maxag+yD++qGwH0gwUL1qRsc572l4VyUqcsnBt12Y/q7fe0KPKCKN9S9hVHVMjA7gUi9569pewhC+0sqXsZL+QTXmtYUbzBzMRtxFKRhYTiSrL+7nNVx+UwojpYWl9MyJcmTRpy97ija6qM4MtWqEKyaEzELuSllD5dWl2eNRyJ4dDhI8pZX6yy27Zvp5o1gi2t9hxN4QE/4CS2rvjZSnQHfRk88A8V0qYnxzaUH5aQB+dFtgZ07NJNWYtF8dVEXBemsy/x+YsXqQErt+Yk2PXhqFKAmzYOdXlIzw/Z/06d5lAyw1SbZEGbxPgVP+SqHOFBkxvsXygvYGdnJy0JWxAAASsSuHzlCrXi+N4S51u+97KgTRbL9u8XGmM7Hs9CDRsxUvejM1euXqMlHIe8SqXQ7+rQ4aMM1gNYsYmoSo+AJf0l2deu28juLH4cweFXvdKhu/r9JQu+4nIfD/rfUBJfVllgLe+cPXv2UtUqhkphaA2xZ68KG4ZWc8g/iZYk3wGJViQuQKl5/YlEzhBZv2EDdejcjY1SAWqdzMJ/FrP74Gnq3bO7DkR0YBplll+5yyGFnKn/aR9quOueUlbzsw9r88zmR1Y6OmZ2RMmbVCYt9TnuRXU4koI9W3U7cKSIPCFK5vBCKciN/W07c8xbke/Y8to9V7BPpFZtvBDLtHasbfMns6WW7AM845IfTTzroxarjfgupU6x1vKZ2orlV7wjEoe4VIivryiwOULaZUndpdIkpMa776l6MnB9PbgtlooMCAYWSUnjz/vSDl6wJr7LVxpm1RXn8YhZEReNcLKYLa+dTMe+3XsePFfuDuasvPJrb5Ivh2MCrWiEtxUrlKex4yfoyknIr0OHD1Otug1IrKfyBe3ZvRvlY0d9TSTiwohRY9Q0jISo6dals84q3K9vL/qtQ2cqUKQ4l7ejgQP609atW7WilJaV7bl/z6IhQ4dTNV7sILEiP/CPTPxQvTqNGTlcl092xHWhX//+/FCsQokSJzY4Z3wg9ebMmYMePPCkUiVDXSrEqrBy+WIVNFzaJNcT/8I/fu+rQqxp9ZxjK7D4A8t5CAiAgPUJtGrZnG7xKnfxYZRni61tfGrFMbcl9JkmXTp34MHzA/VsSMhrD4KCAnkNQVPq2CE4yos8j3bxdLCENpS1B5CoI2BJf4nyKhF/2rVtq/y3jVtj3F8StWPNymXUs28/Kly0BMWJF5cS8/O4c6cO1KJ5M+Pise5YXO4ktr68I2Urxph8+fLRmhXLdPcqYTk7sDGo6Hcl1doaiX4ydvRIShdigIouTONwQ8J0ZpWbs1T0Y6Eal5GYvgn5Q8JGSYtkl9cr6hsS7ku/gPjpykIsfZFfJEthb9qA/ZyvG5+VB7FCR0bkl9Kc9XyHpb7SW+6arGpD1fSUjReSWSrGdeuXEwXal319ZeGbJsPYhUL8p42lHC9Km87K+ZcUbbFYWNeUuL1N998jd15Q14IHHT1yO5E/R7Eou+EmHanvyv7Y8WjKVV9ads2PsrKbyqpKGT8JhxZW3cbp8vOSRYuXonVrVlIuVh41kS+lRD4wdgMoVqI0DR44gOrUrqn8cZOz24QomMYivroOvFDF3L2KdfjO3XscFs3VZD6xHJcqW5Gm/TWJKpQvZ3yJCB9LNIenHC9YP8qDVkkNXlHevFlTgylZ7Ry2IBAVBO7evavcdKKi7uhcp/ysq/iHyvMmrLCC8l11d/cw+WyIynCE32qfmPu8WNJf5sqH1V/y7hHrr7mwaObqlXMxub88OaSnM69VEb92UyJWYQkBJ26IxhKVTMNqj3Ebvojya3zR8I4lMsRpnvo3FtEFK6cOO16icX5rH3MAC9rNirkpKZcygYo8YeqcNdIkgoTHy+CIFPr1pUkQT/k566dF9b45hVD/2hLS7K8LvJCMdctWORxpytnH1L1wSlrqxj66zLJ7AWfdj1/ol4vo/l/TZtBDjsYwdvSIcIvqK7/hZv6MDBJpQuL6BgW9pU3rV39GTeEXFb/mXuyGsYdXmMPyGz4v5LAOgZj84rYOgehXC/ok+vWJuRahv8zRidw5S5XfKHV7iFzTSS1iq8HxdaObiOX6a7VLfqBD+5GO6MYlrPbIr7k1yJSUplx5wjGcWQlmmc3bVmINNvHjF2HVE166/MLOLP71NJnCCk/5a9vmZwMLcXh1R/a8WIZKckD8dm3bRLYKi8tJGLaJ48eGe+8WV4iMIAACIAACIBCLCVjN8iuKh5iyIbGbgEzzhadgmiIg/r0eL4MoSyJbq0Z7MHUtpIEACEQ9AVitop5xRK+APokosa+bH/1lff5f3PKrKURQgK3fmdGlxsgqvtJ+WfhmbvFbdLlHtAMEQAAEQAAEQCB2E7Cq24MowJoSHLux4e5AAARAAARAAARAAARiIoHQcAIxsfVoMwiAAAiAAAiAAAiAAAhEgACU3wjAQlYQAAEQAAEQAAEQAIGYTQDKb8zuP7QeBEAABEAABEAABEAgAgSg/EYAFrKCAAiAAAiAAAiAAAjEbAJQfmN2/6H1IAACIAACIAACIAACESAA5TcCsJAVBEAABEAABEAABEAgZhOA8huz+w+tBwEQAAEQAAEQAAEQiAABKL8RgIWsIAACIAACIAACIAACMZuA2R+5sPRn4mI2ArQeBEAABEAgMgTwjogMtagtgz6JWr7Wrh39ZW2iltUHy69lnJALBEAABEAABEAABEAgFhCA8hsLOhG3AAIgAAIgAAIgAAIgYBkBKL+WcUIuEAABEAABEAABEACBWEAAym8s6ETcAgiAAAiAAAiAAAiAgGUEoPxaxgm5QAAEQAAEQAAEQAAEYgEBKL+xoBNxCyAAAiAAAiAAAiAAApYRgPJrGSfkAgEQAAEQAAEQAAEQiAUEoPzGgk7ELYAACIAACIAACIAACFhGAMqvZZyQCwRAAARAAARAAARAIBYQgPIbCzoRtwACIAACIAACIAACIGAZAbM/b2xZFcG5Pn78SIGBgfTu3buIFEPeaETAxsaG5KcW48SJE41ahaaAAAiAAAiAAAiAgPUIWM3yC8XXep3ytWqSgYv0IwQEQAAEQAAEQAAEYisBqym/sPjGjo8I+jF29CPuAgRAAARAAARAwDQBqym/pqtH6rdC4PbzIJrr5kuyjQq5ePESnT13PiqqNlvno8eP6c2bN2bzWPPkixevSFyI9OXWzVt07Pi/+knYBwEQ+IoE7t9/QG/fhu3iJ99hyWP8XTbXZKnP39/fXBaciySB8PorktV+08XkXRWTBcpvNOq9bQ9f0uM37yPcotsv3tKUa091f3dfvo1wHZEt4B/4jgae8aIK692o/+F7aivHkm4tEVeMdh06U+JEiaxVZbj1jB0/kUqXrUiFixYn15x5qXrNuuTmdiPccpHNsH3HTvquZFnKkTsvuebIQ7+270SvXgU/XJycnahbj170+LFPZKtHORAAASsQmD5zNuXJX5hKlS3Pz4U8NHrsBPrw4YNBzVOnz6IceQpQ6fIV1fafRUsMzps66Nd/EOUrWIQKFilOdRs0ptvuHqayIS2CBMz11/v379WzXZ7vxn/NW/5s0ZV69Oqryk6eMs2i/LEh09p1G6hYidLqXZU9Vz7q0q2ngYFIDFXGPOVYyoUls/+ea7KMl7d3WEU+Ox3K72cjtF4FnQ89pL1eLyNc4T1WdlfdDqAVt1gBPu9DF59GjfXVuGFz2NJbcp0brXXzo8El0tKTdoXUVo4lXSzB1pBZs+dSxgwZKHt2V2tUF24dU/6aTnPnzqeOHdvT5Qtn6fDBveSSLSvVrFM/Sl5KFy9doU5dulOfXj3o9o2rtGv7VrrBivbAwUNUWx0dHalC+fL8oh0XbtuRAQRAIGoILF+5miZNnkJjR48g95tutGLZYlqyZCnNX7hId0EZxM6YOYuWLV5Id2/foFHDh6rv8YULF3V5jHfmLfiHduzcSUu5zOmTx8nZyYk6d+3xiVJtXA7H5gmE11/x4sWjdWtWffLn4pKN0qZNY75yPnvw0BHauWs3pU6Vmt58I2tlTp85Sz1796XePXvwd+Aabd64li5cuER/DBis4/XQy5tSpkjxCdeqVSrp8hjvPPB8SJUqVfykjLOTs3FWqx1/EeX3SkAQ+b01HB0/e/eBPF+/p/c8w3vK9w3dexVxi6dv4Ac6yWVfSiVG8o6TzvsHkSkrqA+Xk7JBHz6qa5soTi+4gogqkXdYCZU6+X9y5/23IfseRpbY8OqW9sl9SV2WSMVUCenfWpnoRO3MZrNLP1zjPxHhYmn9xpWKVbfc5hs07F9PauianE40zEG/5XBS2WQrx5I+lM9Lvs+1Am/Zto1q1qhu0Ixz5y/QhElT1J/+i+Xqteu0avVaev78BYnSPH7iZP5yGr54ZHpx5ao1NHT4KFrwzyIDi+rde/e4zCQaM2YktWzejETxzJI5M02fOplcXFxoDivFInPmLfhEEd69Zy8dOHhQndf/Z9v2HXTk6DH9JBKFd+nylSrt1u1b1L7dr9SkcUOyt7enbC5ZqX69uiT3qEmd2rVo9+69EZpG1cpiCwIg8PkENm7aTI0bNaJaNWtQ/Pg2VLJEcerWtTP9NW26rvIzZ89Ro4YNqFjRIipqTqOG9SlDhvR08PARXR7jnQn8jOrRvSsVLVKYUqRwpgnjRtPt27dJFGlI5AlY0l/58+Uh/b/379/xDJ8b9e7V3eyFg4KC6Pc/BtCAP36n5E6O30yEpKNHjysjVLOmjVVkqJw5clCrlj/SqVOndbwes6tg2nRpDbgK46RJk+ryGO/4PHlCObNn/6SMfM+iSqJU+d3n/YoKbvSgmtvvUuG1t6nWPk+dwjXtuj/V3n2fCmzwoMa8LbfJncZe8bP4PmffDKAi629TUy6bZ/Ut6nTysa6sKHaF+br1dt6l8pvvUOltd3VKn2TqcNybWhx+SDm5nFw719pbtPFBqMW11VEvyrvmFtXZcZfyrHOnlXee6+o2t1N9x33a4vmSLrGCWYmvu//Ra7rK+xV5X1Oww6t76e1nVCzkvgoxm0eRcIMw1cbazF764Qf+k36ozEzW33thKmu4aR2OPqDrj19SvezJqU/+FORoZ/gBlWNJl/OST/JHVp488aXr16/Td98V01WxZu16ata8Ffn5+dP9Bw+oYZMfadPmber8iZMnadyESdSwcTM6dfoMK5mXqU79RkrZlQzig1ezdj2S6bBnz57RMlZAq9esTT4+T1R5GdkmTpyYGjWor471/9m4bhUNHNBPJe3bf4Bmz5mrf5ofhgPJyzv0c6idvHnrNg0ZOlw7VNtJU/7i9gU/MBqwotv/j76686KcHz56hEoUL65LK1a0MAVwe6V9EBAAgS9PwJstWmnSpDa4cNy4ccnP10/3/Bg8sD+NHP6nLo8oSQEBAZSOlQFTImsK5DlUtXJl3WkZcOfKlZNkIA+JPAFL+su49hEjx1DTJk0oTWrDfjbOJ0aVlClT0E+tWhifitXHFSqUpbt37pKsQxGRd9W+AwepVKmSuvt+7ONDqVKmJBkITpoylcT4E55/8BN+/6ZgnpJXXEhkjYu4pUSlRKnyO+L8E8qQxJbONMhGG6pnpKs+rwwULr9Xb2lwUWe60dSFymRITLMu+iqraXg3LJbTMacfU+XMSehyYxeaUS4tbXcPoKNPXquig849oSDWNnfUyESH6mSmQM4/7fpTg2qvc94VVTOotmV0sKWpV4Kn6A+xwnrk/guaVzGdqrtE2oQ0hu/DEkmT2Ibcn7+la08DySZeHN4G0S32x03MyiAfkiV1BwS+p1PMa2P1TPQy6D1NvupvyaXN5jnw6BVdevyKehZOoViXSpWA3mnauNmSpk8+5sFF+cyOtOdOAOVfee0T9wZxh5B0OS/5JH9k5c7du1w0DuXMkV1XxbIVK6j5j81o1Iih9NekCTRvziy2xMTTnffy8qLu3TrTgnmzack/82nokMHUf+BgFcZNlNxatWrSzm1baOL4MbR7x1YKevuWdu/bp8pfYH+lbNmy6erS3xGrrEOSJCpJrLS7d+/RWWJPnjxFL54/p/p1a+sXUfs/NmtCN/lh4XHnjjqWBXRHjhyh5k2bGuRd+M9iavFTGypXsTIVLlSIhg8dojufMGFCSpUqJd3hBw8EBEDgyxMoXLgQ7dixi0Sh1eTQkaNq1z0MH93hI0er2aO6tT99LkhBWUcg0+/GynG6tGnp1m137TLYRoJARPvrMPflhQsXeErfvNVX/LEXsquLWOi/NSlYoADNmD6VatRtQJW//4EK8pqYFM7OBgM+ecee48Xp4h5x7bob/TlsBH3/Qw3dANEUM18/XxK/X5lRvXDpErVt14Ha/tYxSl1/okz5FQXVwz+QCjjZ0Wm/N2ohV6rEtrRWz4pqaxOHmmZMQrZx41DrbMEmcXFHCE/cngU/fPrkTk6JuY6a6RLRqu8zUIYEwRbI636BVDVjYsqV1JYyJYpPTVwcaD8rtPqSwzkBFXeyJye7uPRbLkd69CJ4gZZYQxPZxlOW2mM+r6lgcnt6+vod3WQlNjzJzEq0hyi/bO3N6ZSArgcE0m1ua7ok8VVRS+r+0TUppeA2FXS0pXwpE9LNEDeF8K5t7rzbs+C2d86eTLHuwff7uZI9qZ1yb/gpt7Nyb6i45aZSgmUr7hCSLu4Pku9zREaRYokVC4smBQsUZEvuKmXhldFl+XJlqcYPoW4RSVhBrVnjBy07ifL57t1bunzlqhqtd+vSkR6xI72MMlesWqMsN2IlEPnw/gO/jEKvpavEaKc2T32+fhNI/544qc5s4CnRqlWrUIIECYxykhoFixV3/YZN6tyOnbvJ2TkFFS8eas2WE+LTXLZ0KcqVMxft3befxN1DX2TaSKaHICAAAl+eQL/fe5Ofvx9VqVaDfu8/UC2ClUGpDU/NJk6S+JMGLV66nFatWUfz585WbhKfZOAEWSwnPypk/MNC8rwzXkhnqjzSwiYQ0f4aOXoc/fRTK342B7vwhVXzH7w48ccfm7JBJkdYWWJtuij+fwwYRMWKFOHZ0QbUoF4d2rd/P81fsEh3z0mTOlA5ficf2r+H5s6eQUcP7ackSRxoxOgxujzGO2nTpOU1Nr/RpvVr6J/5c2jn9s10gt+t69ZvNM5qtWPD+WqrVctfagr2V1176xltdA91G0hhH2qhs7cJ3XewDVY4PoaUM9eUdzx1LeJkF1peFFlNxKjpyAqkJsn5mkHvDE3oSUOuJ3masAIufyLv2M9WLK69/32kjuUfsdy+t8D/1sUhPh3zfk1+b+JSDbZkr/cIoLj8YMsaovxaUnfy+KHtTsb3EBAU/mBA19Awdt4zLx5fKOuzZLGTAyuIuDeMLJaGfsnpRH1PeKpoD+UyJ6NDDXNSNrb4W0M+8sshrlF7hwweoBTFzVu20rz5C/mLlZj+mjyRyrDiKOLomMzg0vKrdQkSJiJvVni9Hz2i5i1b0yOOnFAgX75P8ubPl5fWr99gUN7Uga2tLdWoXo1E6S1VsgTtYivwFLZChyVNmzSiWX/PUVaFzVu2UYP6dT/JWpqnjuSvQ/t2yl95GPsk16tTW6f4ywsSL8RPsCEBBL4IAZkK37F1sxo0u924SW3btKai7I60g31zXXmRlL6I//8wtnjNnzeHB7M59U8Z7OfgAa/EVvd66M1+kqGLrDwfelLx70LdngwK4cAiAhHpL/Gvlpm51SuXmq175649bNU8R7/37aVzS3n96jU9YaOEuAK4uLqYLR/TTw4a/CcV4RkQmW3VpFLF8tSqdVv2h2+gBg7iB60v8v4V3/dFi8Nmu3zpP/pFKHOmTOxTX4JOnPxP1Wtw0koHUab82ob8RO6QoinoR3ZPsKbYhVgBPdkimzJEmV517zllZ4WrkKMd2bGPgder0FBbD3k/gd60uLm2JGHl08Hehi7Wz2Ium8lzrmz5XcPKvg8ra+OLpaIZl3zJNl4QVUkbHKLLkrq9eBGgJo+43Q5shY6oBA8NQkuJ9Vt0991er6hamoTs32xoBQ/NGbk9UXTHl0hHxe88VVtrKb7SGmdeNfrixQvlXqBZR2TbnK258icuBN169qH//TmM9u8JXiDiyStHX79+rbPCihuEuCTkzZuHli5bocpcPn9aZ205r7ewrAgvOnnKPnpinf2h+vcGQAbyF1+syn+wBUjkx6ZN6LeOnahR/WD/4HJlSxvk1z+oXasGDeDoDdd5McXRY8do2J+DdaclNFLatKkN/IzLly9Lw0eOYiX9sc7/THwDZYoJAgIg8OUJnORFPYnY0tv6p5a6i8+cPYddFtKRDIY1kdkoCf80ZfIEnpUqoyWb3KZJk4YScQjHA0cOU4tmwW5Qz/hZde2aG7Vu1cpkGSRaRsDS/pJ1IGPGTqB2bdtQUgcHs5Vf52l8fnHQjy1+0uWTd9D1G25qDYdYO2OzeD/ypu+rVDG4RbGAi1FGojyI1VzW3Mi7VoxDmojfu7FRSjsnfsPde/amPr17UtYsmbVk5Qvv6mo4qNSdtMJOqJnRCpXpV2HPCmhBjkIwnRexnWE3BInoIAut5nFIrs+V3EnjK0vmUPbtlYgM09yeUr9j3mpKX+ou6GxPB9jNYRsvPjvIPryrbgTQDxYq4M2zOtCzN+9UnbJwbtRlP6q3P3Shnrm2i/ItZV9xZIsMCYOV1nvscpCd3S9ELKl7GS/kE15rWJm/wczEbcRSEXtu8oTxaTHXIbylHomqIQqvpLc/6En5eRHd6LMxZ+o8U8YM7Pj+gdxve+gw1K7XUCm7b9lXN378+EqJTZUyle58HB58dO3ei0fjvsrSK8qxLCDJlDEjv7wSUcDTABIFWcpL9IZ79+/pymbLmoU6dviNevTqoyw88mATZ31x3F+8ZClVrlRBl1fcFuztE1D7Tl2oLltoNeVcl0FvR0a/1b6vwl/yvqotsgJcEwe2XA8dNlK5UMiDWALdjxozjnKwn7O28EJiHXt7P1Irx7Vy2IIACHw5Apd48WxTXmh7jRfgyvf00OGj9NfU6TR44B+6Rrh73FGLcVs0/5FXrueje/fuqz95FmkyeMhQ2rhpi3ZIXTp3pEkcueb2LXcV23vQ//5Uobbq1K6py4OdiBOwpL+k1tXsmuLr50edObSlKdHvrx7du9AttysGf4UKFaROHTqoaX5T5WNTWtUqlWn5ylVqQZp8ByT2/O/sBiILQSWig4j4sP9vyDD1eZZjcTf8Z/ESfv9VlUMl+kwlooPU049diWTgJ/VKTOAzZ89S9WqGBiitvDW2UWb5lcYNKeRM/U/7UMNd95Symp99WJtnNj+ysuSmxEd4Upm01Oe4l4rIYM9W3Q75nShPiJI5vFAKcmN/284c0UHkO7a8ds+V3KDqeCGWaYNEPsifzJZask/sjEt+NPEs+5vy1P6I71LqFGvj/PrHYvkVC2viEJcK8fUVBTZHSLssqbsUK6qNd99T9WTg+iLqnzuULe3DzvioKBbStsll01L99InoKIdC28gKtbhhlOF+KMPRNexsIjf2Sc9K/q57z5S7gzkrr/zam+TLxX7TkZXUqVJxjN1sdJIjI0gIMJFB/f+gHr37sBV3ObsExFNK4oxpU3SXyJQhk1IwvytZWq1GzZMnDy1ZuECdb9GiGe0/cJBKlC6nFGcJS5Q/f35dWdmRFdtv2J9XFsmJFfg9T0um5inPJYsWqBBG+pklJNlUDnXUkn3AwpPmbNmRKBRjx4w2yPpz61bq4dum7W9qUd77D+/V1NLK5Ut0+c6fv6gs2cX1ol7oTmIHBEAgygm0btVSLVytWq2mCklox9ben1v/pEKfaReXsGUvX76kvzkSjPxpUoWVhsUL56kXu8wqBQYFUb2QxbHdunRSlt6qNWry0l6iTDzlO33qFKVEaOWxjTgBS/pLrI4TJk1WBg/x3zYWUcSM+8s4z7d0/MfvfVRM4za/tqdANgyJxTd//ny0Ye1qHYYe3bqoXzesUOV7NashhhsZDHbp1EHlMcV01oyp9HPbdpQnXyH13RIFeuKEsbzwu6CuXmvvxOGGGM+SR+oaMjUdloj1MSEvIuK1aRbJLp6e73si1OdWKyR+ukdqZtIO1dbnzQdKYW9aiXvO143Pyp5YoSMjT3jxnbOe77DUV3rLXZNVbaianrIlDl7YZjKDUaJx3fqnRYH2ZV9fWfimyTB2oRD/aWMpx4v9prNyHp5IneIr7c/1jmbFfvPtp3SxkYtaMGhcVhaYmROJ29tglwfd8n9DP+V1pj55U5Af11t85RU62SwPJed+mnDZhxZffkIujva0vlqWT8Khmavf+JxYQWXVqERu0BeZSpHpRv1FZhK3d+HCJXTk0F61Kvs1f0FNTWXJCDNunHi8mO7TB57+NWQ1dtJkSTmQeahlWf/86DHjOSzZUfYFDF7Mpn8uMvsPPb3IyTm5iqGoX37Q/4aSLP6bM2u6fjL2QeCrEbhx4wb73mf/atf/WheWmaA7d+9Qbp5N0l+Ia2l7RGEwVU7q9fV7omaoLK3LON+32ifGHPSPo6q/9K8R2f2Y3F8PHniquNQyq2lKxPXwhO/0TAAAODJJREFUJs9m5MqZXRma9POE9R2QGZInvhzz9wssJoxSy692sw4RtDCK3+6Y4p8qG3q6oFZ1mIqvZEgSwevqKg3Z0Vd8JSkBK/Cm2iXnUrGfcETEuG79srK+S1/xlXONeUFeUY4gYSxpEgS7VxinGx9vZheQHkeCLeFize5TOKVJxde4nKljWeh2oI4rSUiziWe8aR3/olvrPMG+qKvc/WnxlSdq2aL86pv24xem6rE0rWvnTlShclUSxVB/UYi5oNlStyjG+r54+tfTQpbpp5naF9cDUyLTmUuXr6AFHPLmbysqpPr3p11XfuZYfklo7erlWhK2IAACX4mADJjz5skd6aubUnylMqk3ceKMka4XBU0TiKr+Mn21byc1ffp0Zm9WjFKaK4RxxrC+A+IzHF60DeO6InscMY0tsleJYDlZxFaD4+tGNxHL9ddql4Rtk7/IyvfsTrGN4x4n4JvIygvgrCGi2DbOnJQmXPSh6We9VZUzePtz3pQmf/wisteUaA4Tx48j9zseBsqvqfpkmsQ6cxmmag9Ne8FTm+ISIYpv5UoVQ09EwZ74EQ4a8IdaARsF1aNKEAABEAABEPimCFjN7UEWBknIFkjMJmBjY6N8biJ6F+Lf6/4skLI62FktzFlE24D8IAACX45ATJ6y/XKUvuyV0CdflvfnXg399bkEI1/eapZfze8DCnDkO+NrlxTFV+vHiLZFFr6ZW/wW0fqQHwRAAARAAARAAASigoDVlF8J8yQ//woBARAAARAAARAAARAAgehKIDScQHRtIdoFAiAAAiAAAiAAAiAAAlYiAOXXSiBRDQiAAAiAAAiAAAiAQPQnAOU3+vcRWggCIAACIAACIAACIGAlAlB+rQQS1YAACIAACIAACIAACER/AlB+o38foYUgAAIgAAIgAAIgAAJWIgDl10ogUQ0IgAAIgAAIgAAIgED0JwDlN/r3EVoIAiAAAiAAAiAAAiBgJQJQfq0EEtWAAAiAAAiAAAiAAAhEfwJmf+QiMDAw+t8BWggCIAACIPBVCOAd8VWwm70o+sQsnmh3Ev1l3S6x9FdqYfm1LnfUBgIgAAIgAAIgAAIgEI0JQPmNxp2DpoEACIAACIAACIAACFiXAJRf6/JEbSAAAiAAAiAAAiAAAtGYAJTfaNw5aBoIgAAIgAAIgAAIgIB1CUD5tS5P1AYCIAACIAACIAACIBCNCUD5jcadg6aBAAiAAAiAAAiAAAhYlwCUX+vyRG0gAAIgAAIgAAIgAALRmACU32jcOWgaCIAACIAACIAACICAdQlA+bUuT9QGAiAAAiAAAiAAAiAQjQlA+Y3GnYOmgQAIgAAIgAAIgAAIWJeA2Z83juil3r9/Tx8+fIhoMeSPJgTixo1L8eLFiyatQTNAAARAAARAAARAwPoErGb5heJr/c750jXKwEX6EQICIAACIAACIAACsZWA1ZRfWHxjx0cE/Rg7+hF3AQIgAAIgAAIgYJqA1ZRf09UjNTYREMV41Zq1X8U67Pnw4RdzqXn+/Dn5+ft/0nUbNm2ml69efZKOBBAAgW+LgKfnQ6s/B1++eEE+Pj7fFsgvdLdR0V9BQUHk7f3oC91B9LtMTH8XQvmNRp+pE6fPk//TgAi3yPOhN63ZuEP398jnSYTrsKTA4qXL6dDho1/ML1i+XN169qGixUtTmXKVKE+BwtS+U1cS5TQqxMvbm+rUa0SFvytJ3/E1q9esQ3fv3tNdys3tBk2cNEV3jB0QAIFvi8Cs2XOpcLESVL5iFcqdrxCNnzjF5KBclK2GTZpRwSLfhQtInjv1GjalAkWKU4nS5alazdp03c0t3HLIED4Bc/0lLn55+Z1i6q91m3ZhVv727Vvq0q0n5StYlMpWqEylylaks+fOh5k/tp3YsHEzleb3cb4CRZhBEerR+3d68+aN7jYvX75ikqmUC0vmzl9oskxUDi6g/IbVG18hfdjoKXT63OUIX/nxE1/aufcg7dhzgBYuWUW33e9GuI7wCgQGBtKUv6ZS2zatw8tqlfNiZe7Aiu4V/iKNHjmMrlw8R8uXLCbPB55Un18UUeGe8VPrtpQtW1a6cOYUnTtzklKnSk3tOnTS3Y/c+4oVq+ihl5cuDTsgAALfBgGZ9Zo6bTqNGPYnuV27RIv/mU/Lli+nRYuXGgDYuHkL/VCrLqfFoZcvzc8UyXOsSbOW5OCQhI4fOUhnT/1L+fPlo59/+Y3kmQuJPIHw+ksWd69avvSTv6xZs1GaNKnCvPCwEaPp5u1bdPjAXrp84QxVqliB2rT9LUreSWE24iudOHP2HPXt15+6d+1M1y6fp7WrV9Kli5do8JChuhbJYM45RYpPuFaqWF6Xx3hHBosVypf/pEyKFM7GWa12/EWU3zv3HtDzFy8NGv3y1Wt64uuvPjDXb9ymxz6+BuctOXj+/AVdc7tFr/VGHVq59+8/0C33e2TKCvo04DlbD1/Qu3fvSK5tSpF6/foNedy9r1Vn0fbR4yf09u07+vjxIz30fqymxWTf29twKiu8uqV9cl9SlyVSKH8emj99rPozl1/64e59T5VFuFhavxQ4eOgo2dnZUZHChXSXkNHeipWraeTocWor00CaLF22gjzu3KF/T5yk0WPHk4z6jC22vqy0L1i4iEaNGU/rNmzi9rzVirN7xTo6y1+0uXNmUtUqlSlhwgRUqGB+WrJoAcmXa+eu3XTu/EVazfn0JSAggGb/Pdeke4JcS9qkL3v27mNr9hE13ficpx0H/NFXXStJkiTUqeNvdOvWLXoaYo1PwV/onLly0ZatO/SrwD4IgMA3QGDLlm3UsGEDqvFDdTX7Vfy7YtS5U0eaPnO2wd3P4OMpk8ZT544dDNJNHVy4eJkeskvXtCkTKWXKFJQ0aVIaN3okBQUF0nIeaEMiT8CS/sqTJzfp/71la/DNGzeoR7euYV74xs0b1LlDB0qVKqV6J3br0omePXtGl69cDbNMbDlx/N8T5OrqQk0aN1T3niO7KzVv3oxOnTmru8XHj30oXZq0BlyFsXy2w5InT55Qdq5Lvy9kPyqjT1k11JnxjZ05f5kmTZ9H/v5P1ancuVxpzJ/9yMbGhtZt3kl79h2mIFZ4RBEVadG0PrVoIiPm8GXj9j00Z/4yXcbKFcpQ766/qmNR7Hr0G0YBAc/Ucbp0qWlQ366UKUM6dTx2yiw20wfy6M2DPrCSbGdvS726tKOyJYup88PGTaUTJ4M7M1HihNShbUuqXK6UOmfun069B1G3Dm0ofdo01LXP/2jowF7k7JScOvcaRFvXLCAJJRZe3Tv2HqDJ0+eqy8i1/54yipI7JjN3WYvO9R08mq5cDZ5Kk364ecuDunX6xaL7kgvsP3CAP5h5dNeSKaPa9Roqi0WRwkVoybLltHjpMtq+ZSPFiROH/mILyW5WLL0eelFBVlqnTJ1GM2f9TZs3rqUECRLQA1bCa9Wrzx/47JQxQ3oaP2ESrVu3gZYv/Udd49z581SsaFHKmiWL7pqy48gs/jt+mOLyqN3t5i0aMHAwVa5ckZySJ1f5NvELatnyldSh/afTVvsPHmLl9y4NH/o/lVcGJv0H/o/6//E7iWJ74tghla79IxbeBAkSqnvU0grkz0eHuJ727X7RkrAFARD4BgjIFGyJEsUN7lSe6X5+fiQDeSdnJ3Vu/ZqVJIPn/QcMnycGBUMOHjx4wM8Ye37GOOhOy/NT3plXr13TpWEn4gQs7S/9mseyoaZRo4aUOnXYll+xFuvLQzbGSJ+lThV2Gf38MXm/fLmyNGv2HLp9213NkooecIDfhyWLh34vfFiRTcEDOXEFOXL0mFKWpVyihAnDvHVfX19+B5ei7Tt3scHpNr/7i9B3xYpGqfIbpZbf+TwFn5anD1b9M53+GvensrIePPafDoCvnz+1/6UFbVo5j4oXK0TLVm1QVlNdhjB2xHIqim/Z0sVp3dLZNLhfN9p38ChdunJDlfh74XJWqoNo1pSRtHD2BAoKfEtr2SdWX9zY4jt++ADVtvTp0tKqdVvU6fOXrirFd/jg3qruwgXy0YLFq/WLhrmfijv8odcj8mALa/z4NnTnnic9YOUvSZLESvG1pG4ZCCxfMI2mjh9GL1+8otUbtoV5PUtPnLt4RSm+bVo1pc2r5lGBvLkjZPWV69y//4BcXbLpLnnq9BnycPegFUsXK2vp2lUrqHatmgYLxeSFsH3rRho/djTt2LpZ9cm0GbNUHT78Ye/buxetXrGUJowbQwvnz2Er8QmdS8G1q9cpRw5X3fX0dxIlTqwU6IKsiGbImJEtsdt1p7fv2EF16tTWHevvNGarjVh6NZHrBQa+oVo1qmtJuq1Ye8dPmEy//dpW9Z12IjuPej29HmqH2IIACHwjBAoVKkC7du1hq2zoDNeRo8fV3bvrzSiJ4muplChejF7x2oadXK8mV65eU7v3WTGGRJ6Apf2lXeHoseN0gafwe3TvoiWFu5XZyv8NGUZ1+Z0jlvvYLvnz5aWpPEtRr2ETtSamWIky5OzsTEOHDNLd+hN+75+/cIH6/TGQ3G7cpJGjxlLN2vXUAFGXyWjHlweQc+ctUDPBly5dofYdu7DbYzeTs/JGRSN9GGXKryiod+7cp+zZstD1m+70lK2wohweOBz8sJAWi8W1UrmSSlGsWa2SuokAnvIPT+6xf4hI88Z11Ki55HeFaeKoQfzhC7b+eXjcozIlvlOW3lTsM1KtSnk6/t9pg2qzu2alXDlclGJav3Z1nXvEoaMnSSyuHz58pMvXbqj2yyj8AS8qC0/E4vvQ6zHdZeXX1SUL3WG3CVmMliZ1SlXUkrqrV6lIyZImIZesGSlP7hw6N4Xwrm3u/N0Hwbwa1K6mrO6N69cwl93kOT9/P3JMFmqBzpY1CyXgkdwv7TqQ+Li9YSWyU4ffdBZYqaR2rRrct/FVfeK2UIXdFy5cuKSOxYWhWdPGynVh85ZtdCZk2kQsxSLvP7y3aNRXr25t2rY9eGAj/SQ+Sc14SsaU/FD9e/Wi0a4l161apYqavtHPL752P7MPl6urK3Xt0lH/FFueHXUzGQYncAACIBCrCfTu2UMN7mvWrk8DB/+pFsfKc82GDR2JEiWK1L3LjFN3nmLv2bsPdezSnbr36ku//Pqbei7JrBMk8gQi2l9jx0+kli2aG7zDwrt6775/qHffyOFDw8saK867e3ioz36RwoWpfr16Suk/cOAgLVwUag0X//WypUvT7p1baea0KbR/zw41EzJ63PgwGaRJnYZ+49nUtauW09y/Z9CWjevo5H//0YZNwUbJMAt+xgmbzyhrtugHnlIW2bnvIO1lq6wmybK7aLtkb2ev20/EDxGRj/xfeCKuCiIObFHVRBRZTd69e09JHELPJeX9wMDQ0brkS5I49GFVqWwJkj+Rd2zGF4vrhKlz1LH8I5ZbU37BugwhO+nTpaHzPGoJeP6MSpcoRvtZ0ZdpsXSsFItYUrf+PSVJkoheGPlKh1wqQhtR5OPGi8ttiaPK2YYopBGpRPozTtzQX3+Th/amDWt4sccymj59FvX9vT/VrFmDJo4brVNanZ0NR8LOyZ3Ix/eJuuzJ/07xyK6L8gNydXE1cC2QDLly5uQVz8GWfHPtbNq4EYmPnYwct+/YSXnz5GVrcAaTRWxtbana91VIXCMKs+/y3n0HaAZ/OfVFpnHadeisprH+njnVwOor+eIyA3GXgIAACHxbBGQqXNy2duzYRTfY5ap161a8BqIgW4N3kwsvlI2syOIhmeI9eOiwMhb0WrGMxrEbWMYwnmORvc63Vi4i/bVj52421t2lZYsXWoxJ1qrIDOiGtavUOhGLC8bgjH8OG0mFChWk2TOm6u6ifLky1JaNYI0a1lMDh9/79NKdkx1ZK9SgXl12jVxhkK5/sGhhsKunlpYpU0Yqwa4U/7Ge0LC+Za6wWllLt1Gm/Mq0v0jHX1pRlYqlLW2PRfnix7dV+WTBnGOyYCfq/Yf/pQysfLpmy0y2drZsYvfT1eXD+cSvyhIRJTxpUgdasSC0cy0pJ3lE+d219xD58713/a01LV+zUVm1ixcpqKqwpG5R4jSR+9NX0rX08LbGyllqtn7LgOH0uUtUrHB+OvLvqfCq+OS8E1s8nz71N0gXf1xtuuM8Txc1adqcqlWtQmJhFbnmdt0gv9vNm5TdJXiQMuWvaVS5UkXl8iCZxEVi/YaNuvwFCuSnCRMns+X8IQ8e0urSZZqp9c+/Ups2P6mFcPKAK8wvIHF9kJdQg/p1dHlN7TRt3Ji6dO+p2mhvb0eyaEUT4daDLS/+7I6zcsWSTyzCks//qR8l07OAa2WxBQEQiN0ETp8+y7NdCdg6+KPuRmfPmUdp+fkkA+vIiCzQPXb8X/UsKxniT/z69Wv679Qp+r1Pn8hUiTIhBCztL3nuSwjLXziaj77vtTmQC/9ZTOvWb6A1q5aZ9Q82V0dMPOf96BFVqRQ8S6+1P0eO7Mo46O3lrZTfSVOmUu5cual6tSpaFgrgBYGOjsG6mi4xZEcMTj379KOe7G6SJXNm3ennbER0cYn8oFJXURg7ccNI/+xksS7my5uTVm3YQm633JW/b59BI2nbrv2fXXemDGmVJXPe4pUqIsO6TTtpwl9/K0VTKs/J1uXjJ0/Tv/+dpfMXr/I191H50sGW3fAuXq1yObVQTuqUhXNLVm6gfkPGqMgQ4ZXNyMqvdPIL9uFKEbL4wdPTm5XyYOXNkrq37dyveB08eoIdvz2U20V419XOi9O9U3JH2s4hzySKhXCXqBrFixZQ6UNGTqIff+lmsQ+zVq9s06RJQ+4ed3RJMlIuW6EK3WQLiIhdyMNf/Kc1WcORGCSSgny4xSq7bft2qlnjB3XaXha9eXqylf2FigIxdORorZjatvixqVr92a59JzW6lgeULGCQ+IqiVJcpXUqXv2H9BjSdfYnPX7xIDeqaV36LFi3ML6r4HGFiHNWpbegbPPjPYaq9Y0aPIH8eeMiiPPnTj2F4mxdJmlsMoWsUdkAABGIVgctXrlCr1r+oGLzyPJLFPLKIt3+/iCmpQ4eP0q1TSJw4MQ0dPpL/RqnnpBgBBgwaohbghjeQj1Vwo+BmLO2vtes2sjuLHy9i/tVkK/T7SzKIm92wEaNo1IjhZGtjq3tPyLsstksVNlit5pB/EsVJvgPyoyziApQ6dWoVqUHuPx7Pjg4bMZJDrnooHOLDvoR/I6BKpco6PPpMJaLDE44QMWjwUKULSL0SHUoWzIlbYlSJTVRVLPX++lMzmjlvCfXkyAsy7Z4nV3aqXOHzrcBiVe7Xs6NSeDv3GsyjcXtq3rQeZc6YXt1O+zY/st/tfRo+Nth6W6RQPmraoKbBrYo7ginJkikDiQ/w8rUbaT4r1+Ly0KV9a+Urayq/flq6tKmUhTUJP9BE0rBVUhTYjKysi1hSd6GCean3gBGqnvTp01JE/XM7/tqS5v6zgnr1H66u2b93ZypbqhjNnT6Gjhw/za4LcXjBW05q/Vsv/uIG++OqjOH8U7FCeRo7foIu1/dVK7OieJhq1W1A9vb26ovQs3s3ypcvry6PRFwYMWqMWhjnwNb0bl0666zC/fr2ot/YvUACu4sFduCA/rR161ZdWflCzPt7lgqg3brNr+rFIFbfvHnz0sZ1a9SCNy1z7Vo/UL/+/dUXRRbDhSeyOGHGzFk0c2qoy4OEQFsWMi1Tq059gypmTp+qa/ely5eobJnP/wwbXAAHIAAC0Z5Aq5bN6RavchefX3nmySC6VcsWKvSZpY2XF/uu3cGL5mRNhDznZs+cQZ27dqe169aptSY5c+SgaX9N1rmPWVo38hkSsKS/xDAjkYjatW1r0nXBuL/kChLaU6RDp85qq/0zcMAf9OsvP2uHsXLbp1cPFX9a3t2yNkbcQfPly0dr2FVHky6dO7Bh6wFV+6EWM02owvY1a9qUOnZop7KYYjrtr0n0K9dZqGgJpQ+Ie+HYMexiwWuDokricEPCdGCMSJBtUUzCErE+2rPfRzxWgC2RU2cvqhBpxnlFEZ3z1yiD5KdPn/E0tINBmnbwiqePJKxaZHxcpY5nHHlB3wdX6mvbuZ9WvcF2wogBPD2f2iDN3IFx3fp5pUsCnr1QC9+09H+Wr1MuFdqxti1WpAD16txWOwxzK3WKL7TEsl26aiPt3n+Y1iyaadIdRFukpl/ZK+7DosVL0ToO45MrZw7dKfnwB4cpMfTvLVaiNA0eOICtqzWVP25ydpsQy7SxiJuHA6+ONnVNLa88oK5fd6PM7AdkSrmV+MHyKzvyBapQvpxWzOpbmaIsUaocbeMIFsYh2Kx+MVQIAtGcwN27dylTpkzRvJXWb5788qT4h8pzMCwjirmryjPTVDlZTCSGE1lPEVn5VvvEHK+o6i9z17T0XEzuL3FJdHZyMukeKPcv7jvu7jx7zfF7jd/vYX0HRB+QaBESPziyIj7GlsgXUX4taYh+HvmJXze2mBpLfFZki7Bl9GuJ/HDGqXMXTV6+QJ6cJhVJk5kjkSg/TuH1yOeTkk6OyZSf8ycnjBLEz3f0hBkqVQYRzRrVofq1gn1zjbJ+8kHVzv81bQYHZPeisewWEJ7oK7/h5f2c8xJpQuL6BgW9pU3rLQtJF9nrzeApTg9+QUloNggIfOsEYvKLO7b2HfokZvUs+sv6/WWp8hulbg+RvS1ZxFaiaPAiscjWERXlxHL9tdolP9Ch/UhHZO5NFrrNnDxCLcxIGxJ6LaL1SCizWX/PVS4IMl1nTtq2+dnAQmwu7+ecEwuMLBRp17bN51RjUVn5Ug3ob9ryb1EFyAQCIAACIAACIPDVCVjN8itT02LKhsRsAjIdF55iG7PvEK0HARCwBgFYraxB0bp1oE+syzOqa0N/WZ+wpZZfy5xwLWifKEym/JgsKIos0YQAFN9o0hFoBgiAAAiAAAiAQJQRsKrbgyjAsBpGWV+hYhAAARAAARAAARAAgc8kYDXL72e2A8VBAARAAARAAARAAARAIMoJQPmNcsS4AAiAAAiAAAiAAAiAQHQhAOU3uvQE2gECIAACIAACIAACIBDlBKD8RjliXAAEQAAEQAAEQAAEQCC6EIDyG116Au0AARAAARAAARAAARCIcgJQfqMcMS4AAiAAAiAAAiAAAiAQXQhA+Y0uPYF2gAAIgAAIgAAIgAAIRDkBKL9RjhgXAAEQAAEQAAEQAAEQiC4EzP68cXRpJNoBAiAAAiAAAiAAAiAAAtYgAMuvNSiiDhAAARAAARAAARAAgRhBAMpvjOgmNBIEQAAEQAAEQAAEQMAaBKD8WoMi6gABEAABEAABEAABEIgRBKD8xohuQiNBAARAAARAAARAAASsQQDKrzUoog4QAAEQAAEQAAEQAIEYQQDKb4zoJjQSBEAABEAABEAABEDAGgSg/FqDIuoAARAAARAAARAAARCIEQSg/MaIbkIjQQAEQAAEQAAEQAAErEEAyq81KKIOEAABEAABEAABEACBGEEAym+M6CY0EgRAAARAAARAAARAwBoEoPxagyLqAAEQAAEQAAEQAAEQiBEEoPzGiG5CI0EABEAABEAABEAABKxBAMqvNSiiDhAAARAAARAAARAAgRhBAMpvjOgmNBIEQAAEQAAEQAAEQMAaBKD8WoMi6gABEAABEAABEAABEIgRBKD8xohuQiNBAARAAARAAARAAASsQQDKrzUoog4QAAEQAAEQAAEQAIEYQQDKb4zoJjQSBEAABEAABEAABEDAGgSg/FqDIuoAARAAARAAARAAARCIEQSg/MaIbkIjQQAEQAAEQAAEQAAErEEAyq81KKIOEAABEAABEAABEACBGEEAym+M6CY0EgRAAARAAARAAARAwBoEoPxagyLqAAEQAAEQAAEQAAEQiBEEoPzGiG5CI0EABEAABEAABEAABKxBAMqvNSiiDhAAARAAARAAARAAgRhBAMpvjOgmNBIEQAAEQAAEQAAEQMAaBKD8WoMi6gABEAABEAABEAABEIgRBKD8xohuQiNBAARAAARAAARAAASsQQDKrzUoog4QAAEQAAEQAAEQAIEYQQDKb4zoJjQSBEAABEAABEAABEDAGgSg/FqDIuoAARAAARAAARAAARCIEQSg/MaIbkIjQQAEQAAEQAAEQAAErEEAyq8FFL0fPyL5s7Y8f/Gcbt/xsHa1qA8EQAAEQAAEQAAEQCAMAvH+ZAnjXLRIvvfgAZ2/fJHu3r9n8JcmZSqysbEx28YFy5fSiTOnqFjBwnT95g1asGIpJUqUmFKnTGm2nPHJpWtX0w3321SkQEHjUxE6fv3mDU2ePYP8nj6lHNlcaO+h/7dz5s9VHEkeL0mgi0sgiUuAJG6BuG9jG2wwGIPN4Gvs2VmvJ9a7EzExG/vT7h+xv03EzoZ3Pfb4At9gm/u+b3GI+xBIHEJICMQpgSRg81NSNa2mu997EozMUBkhvfe6q7KysrOqvpWZ1RvUxu1b1fAhQ1VSYlJMvGzhR6uBe/fuqbi4OM20rPyiWrFujRo6aHCLG6mtrdW2V7B/nyoWG66Xdrp0SnPaitSAW65IZbcV7FQpSSkqNTXVKVpdU6MKCver3j2znGthX+7fvx+1bGF8zL0qsfVdewuajF3upXXqZIo4n5cuX1a79u1RJ4tPq9SUFNWhfXvn3pP85crVKrVu8yY1UMZ8a1Ms9uSV9Yvvv9F2lJKc4r31yH677W/3/r2q5MwZ1adXr0fGH0brtmxSN2/dUt0yMx8pX5g9LpkfuaDCsCW2ECSPmyfOnWVr16i8AQODitvrVgOtpoFfvOe3tLxM7dy7R+05cEDtPXTQ+bsjoCISMZHy15S8v5ve9fv18ovT1cwXpvndiu2akaXxc9K48eqV6TNkke8QGx9b+pFqAID2508+cngCUKtv1zi/m/vlrvBZuHSxOnT8qOqd1Uulp3VW23fvUivXr4ua5Yef/VVdqqyMqvzewgNq8eoVinYN0Y99Bw+Yn6Gf+w8fUj+uWBZaJtabZRUX1YWLF2XT2c75S2yb+BCbW9XV6ruff1TtpVzXjEy1aNlSVSlg+O+BAL75eUNavSteO49VoJrqGnX37gPbirV+pPJe+6utq1O1dZHn+Uh8vffv3Lmj6h4DX9p5XDJ7+9DS3y21Bb/2vTxZ19qKg+p4UZFfcXvNaqBVNRDuOm1V0Zo2PltA4qD+TT0n58vKVPGZYpU/eIjqnJamrl2/rg4cOaSye/WJyVvA4KyorFDDh+arQ0eOqHsCTgf3H6AyMzK0EICPuPg44dtbpz+cFC8wXhwW9avXrqqcPtkqV/4MVddUa29fZVWVwkM9eMAAmQTamtvO56UrV1SVeIXwDt67f0/t3rdX9ejWXd/HS9hXePbNznE8cXjGTpwuUniQc6WP/XJzHV7uL7dlcmchqZL2O3Zsr/XTqUNHXeTu3bvqqHjBL4h3M1U8OEMGDVJdBJQZOn2mRJ09f05vGvpm56rs3r31LbyKqSnt1EjREXTwyGF17cYN9eyEiY5OBvTtp86UnlcJ8fFq7IhRqjly0MdjJ4+rXj2yVG52g05p6+r1a+qZcRNUQkKCbt/8oz9npU0m3l49e2rgxD08EEdOHFf9RUcnT5/WoCqndx9Hl6Y+uj9+qkh7ZA8dPSJ209Bf7mNPpKW0Fw/kgNy+TeqWlZcrPMQ9unVznpnhaT637dqpv7792jynbv7gPPX5t1+royJb3sBBWnfxoi8WTeyMdmgPIlpRX1+vTpacUvV36512aJe/jC7p0ucsRX1DNTW31ebt29TUyc+aSw99+tXHO3mh7IK6fuO6Qg954vXmOWJrxWdLNI/cPjkqJTnZ4Vd+qUKdu1Cq2qW205EMtxymEKC2j9gQ9hBGW3fvFA/RAB2loVx9fZ3asG2LevPVub7Vrl67pkrEThPbtlX9ZIwkJT2InPj1DyY8y8z0DHW+TGQWW+6dlaVthHnl2IkTKl5sq19OjkpOaujjcRnn2bJpSW7kzbjoKOPIeK2j6T9zQXnlJdVH+EB4wypl3LeXCFTJ2TM6moTeGvpzVnUUwMA8g50bGw6SD348H/jUyzigXscODRtp0rTgi+cfL+fAvv0esnPK6vEj0bVrN6+rHJlTTN/gjU0Wi+eVPuQNDPfeBclh+gvfkrNnVVaPHs4YpQ1DfvZn7jHWLlwsU91krPXq3sNcDpXdKSRfcICckzmi4nKlnk/d9/juZ+M3bt5UFZcuNZlj0UWXzp1Vp44dfet4+RreYc+HZ3xexl2W9MvM/ea5Y9fYIFEQnl+F2BGRUNYlnrUhP/m5Z2zAO7f4zXnGbgxPPlkLLlddUV3TM511gOt+7QXxZB3dL04r79oNH0tWA62pgV982gMTA4vO4P4DZbHv0kRXR4tOqC07d+gJDfDLZEW4Oi2tk4TnemmPF5P7uFGjZcG5rCd/AGN3AaRu2lGwS5c9XVIioLBcBn2xOizgBDDHxLN41XJVXnFJL1RFUmajLMpMQsUymSPfoWNHVVrHTnpSZ2JYsPA7WWhLVJuEBA1CywQkE/pBFsK6menpMhkMUDsLdqu94pUbPWyEuiOeiJ/E63axokKdKi7WfA8L3w6yQHXP7KrBzoJFP2iwfFeA0I49BRqQ0083MXH+9av5ItuZhl33qVMCZo6qkfnD9GK4aPlSHYYG4DMp7xdg2T8nV4fK8bAvX7ta3ZLFjgV674H9Tr++X7JYFu6bakQj+CV0CIh+RrzXRidn5DnR7/j4BA2GmiNHOwnZ430E7A7PG6oXrq9+Wqgn3NHDhru7qj2ceAsBIYmJbdXWnTs1yGQRqRPQ+OUP3wqouK6vHRRAVyTgZ4gATjfVCcjiOjwy5LngnaUuumdz0qZNgtpTuF9ViTxsRCBsrqBwn2ovoG+3fFbfrtb2pm+6/gF+Rw8fqfmay6Tq3K69rXmjdzY8ew4UqlsCUO7U1qnVG9frhU2DI1J9Ss/JM0jToKazpEtsEmBLaBWQhEeZ58wCA+0SXnNfmS3ybVfdJLWHRRrP7+Fjx/QYoExQ/euykYFXtYBVbK5Xj54K4PqlhLrbyMaN+9h93oBBGnACzNdu2qhts+TcOXVANlsAey8V6cU7VZVevKCBVFsBq37pDNtlLJD+Qx+hZAHZjBVSlrwECFm0bInmw3jZKnoeOniwToMK6h88Fq9aoTeP9XX1erOMZwobKRcepLxUiA3wbIcI8MdjtUhsPrdPHw3uqb9u6xbd964CPqLt/4lTDZtVk0JzvvSCWr1pvQZzAHY2W8xvP8q45Jmekr5he8gAoA2T75psVEjJik+I0xvNdVs26w0g+sWusJMq2SR0aNdO26DXzmn/+8U/qQqZG9norJf6ACvmMuaqrxZ9r+cbNu7wuyE2yjNmjLopTA76u2bTBrH3hjY2i23ev3dfg2A3Dz/7Y249LTbJJvSeeJw37dimZWMdYJ4Lkt3Nl+9rNm9UhWKf6HffwUK9aSflgXmCOc3Pxnn+9H+kzDnM4+hjvtiKnqtlw+xXh40Ym0HK4gwJ0wv63Ceg8II4cHgOzBU4QADBZu66ceumSoiL1/MPfLF7xsVm0UOnDp30ehgkP7IEzS2057WFFFnn3LRGxjbgl/FYIOvArZpbeo4Lao+MMT+ebJbXyloxccxYxwHgbsd+txpoLQ08MZ5fBjyTOZTeuYuaNW36I9cZABGgjMdwiSyU7FinPzfFt510mYBfn/2q9th88vV8tUtkGyoLA16zK+JxfedXb2jvMx7YVevXqlKZyPHURaK2iYnqg7ffkUXrqvrLl5+rouLTaoSAgm0CDhJkhnn/17/RkyXybS8oUBNHj2vi+asTb82Lzz2vPRR4dAHJm7ZvFfBRpj1ap+CXn69mTp2m21i6ZrUqFS8i/dkmmwBkfP+d32gxAcrco1/RUKaEqz+YOUvLQ2ixOXLQ1z7izTwrkz3eBLw1tcKLzYKXjsvmRxJbHO/giKHD1F8WfKGBPmXvywIJOGezMf7OaPXnTz9WyMXkbwgv3xjZfBw9fkxNFs8ydKusRoBorXptxsvaA5croHfxiuXaFgCE+w4dUL//x/cFcCeq8WIv//PZJ+LZHK2BkeHL5yWRPTPj4WeeIZ6U4jN7nKJ45WdNe0n/TpAIA8CKDdrYkaM0oMXbDiihbWzyX997X3sjzUaHjZjJi2wni9jMF6bpTcz77/yD0wZfItXvK2AcAGz0gLd/2JB89czYcZoPdsSCileZhXHwwAFaxrFy97zYlztfU1dobJMN0dC8PJUggGLhssWix6kPeYKuyebCRCeoy3cWWoCE19u/ZvMGSRd6SeHJh9iIXKm6qsF+JP3kD8pToxo3UXjEsJHRw0c4G5slq1fKhrTQ0YFuwOdftP2/Jn1Ik425m3hub8+d54xbwOGcGbNkw9Hg1fzyh+/0c8CrHyYfKTT5AvqfnTBJs2eTjLf83Xlv6t9d0tLV3JdnOU177ZzoA6D/9Vfm6DKk5myUzdV7b/1ab2zbJrRxxlaleAA/mf+Fw8v9JZIcRC3mNs4LWd17qq1iV8yzbuomsnvtj/uApzkvzdRFk5KT9OYFL+LxopOBsrv5AqoZ2w1jJlmAZZ36eP6XTpEwG88W+yLKB+BnXDAmicqs3LA2cFw4jOVLJL1Q9q3XfqWrsNH/RJwWY2SzDPHcnx0/UXvie3TvrsfzH373ge4z46jk/Bk9hsLkh4/f3DJ18nMPzXmUddOpktPqFZmTsIlhMiczPqGw9rz2RXlAdZvGCIR308R9S1YDraWBJwb8pqSm6J07imrfrqnn4VEpzxxI4TDaEmF6WULwQYRXGCKcB7jC6wxdFO8RtHD5Eg1W8QRDeKiiAb89unXVExzAFXB1q/qWrs/ke0+AwP998an+bfgCsFg4DAHsbkub5BniPQWIQ3gTrt1okM14i9nV//aNt/R9wo51AviyevZwFuU3BNzHQoTmTOi7uXLQHl6vEvF6EtYub3zLxhCfQxPlonP3QS5Cdx3EG4tOOov+4mTS5dlAyAMwBFC5wa++6fMvTXRjQFdX2RDU3DHPsVzVSCgZL70h9FZRWemAF3M9NSVVPCY1TdJKuFctHjT3obRM16aIsHyRAEs/IoxJf0wYHl0TRsZrbcAv9foJiC2SxWuNeJEnNAJXrkdbn7JQ4aFDKlH0ViobEYgNCfm40Mj84ernlcsEBJ9VuZLWMFxAsjkwqAs0/mPjRLqKCaejy62yyfKGQXkmd2rvOFVJmcFLbJ6BucGGCEBj0gi4blIqGtIawvXjjR5hI+4QMmkOQfo3MvAZbf9vi+c92XOYlXFnxgn9YYxu27XD0R/pJxfFtgG/YfKVi825IxnoZJUAaUMZ6Q/Smcw19yeRGsYZ0ROoVoDhRdnssokhxE77hjLE4UDeth9FkoO5zPQ3QzaD16/f8GPje43xYIjvpRcu6J9hsrvtkH6kSz2TyoIXGzBpKMzGAb04L/hkQ0p0AQqrY/jyGUkvfVxRO8ZHakqyTjPoJJ53nrsZM4liPxzUNv1KkU3A5Sv1uqlIskQ7t7jl5vv4UWNkjluuD4cT8TI565Ha8/LhN/KTfmPBr5927LXW0sATA37HDh/10IIZrxpO57NQQuzqW0I3BGgSKsZDBiULWAoi8ugMcRCEcBRkBvgb4k1JITwoIT4l3rx2AoRkVTFVovqMF6+MofTOaZKKUKXebQSrhm8nAXxuAgAsk9SFYXLABuDDpL1PwuoQYXoI8AaxyOERRmYtn1yrlpxRQywceKnweDDx4oE1VCuhYy+55W2uHAADQPQqWaTINS2/VKm6S3iS5+KlJPHako/oJg7ImIXOfT3W7y7VK+m8Ux2QRt4n3lU3mefuvkbqwfnSUtVbUgjcRDi3e9cGEKmvP0jZbdKWuw7f6S/pMW7CQ21sz339xcnPq0+/XqA9ZOZ6LPWp01PkZuEn99yQecNKTwEQv3/vdxpQk/7y2bdf6d+EW93E4TZShwyRM3nz5k3z0/kEIF0WEGjyHi9fuaI3ME6Bxi8AYoCU33OOtX+wxMMGADVh39sCwJNl06lJHjueZ0N3ZQNpKJb+k78cREaf05+f2uTtNWaDFiZfclKipNA8sIfb2L4HaAe1y/UOHdrrvPMpkyY3KcZYp32zwTY38ZT7USxyxDXO2X58/K49GHlN74bJ7i6ZJPOy93Cbex4Ls3FA3+qNG/R8eV5At4nOhNVxtx1JL96xXCtpT2Zj6+YT9j2iLFHOLd42iI7kS7SGfhNZYT7HSx2xPS8j+c26nGTGlM99e8lqoDU04B4ardF+i9pkwYQYnOTdbpUwYEto9YZ1OveX3EDIC1rcvAskzYHXVy1bs0p7WLMaAY45+EaOaZ1MZocl5PbjsiX6QJa7fqzf+2X31Qt1sYSQa+/Uqi1yQGjJqpWyejflRF4epAGRLOykWxhiwSatAn3x6jZysRZIiLW0Me+suxwoYZLD28Hf5999I3m/DcC5s3gm8A4T9tq+p8DxyBre3s/mygEfPN59c3K0hwVPVJ5PygPlcuQVSEWS02w2K4RxAUd+QJnyQcSCUyvAxmyigspxvZt4Pu/eu6uu37yh83DJCSbH1v2GBVOfECZpAnjXIDYb6JXDN/mDhphioZ/IRu4g1C1TUh/k+eL1gnge5wDXLg+dviH/0MOcGTMlD3qHuRSxfoqAa7yqhvAgYw/kkOJVJ/+ScD9EOg39AqwSnqX/pNx4qfDwQcnJfSBDoRxI7S0HEyF9YKzRPvFg7pKcc8AmGy5eUeh3yApgRp7srr0NKVAsrOS9npG841j045bTpFMB7g4eeXDokdxXzgFAAHYO0hmKtv/t27eT5/cw2Dd8APLMGSeKT2sd87YL0i44CGsoSD4O9u6XMwPoC2KsZoe8Fsxr59m9sxXnEbBhni82TU4sROrRyVNFztjaL8+RCIcfxSqHHw+uee0vqBzXw2R31+uWnqGjPWbMEC0655oTw2wcWxvUr59aSR6+pECYKERYHXfbkfSCfs14Y/0ixSPWN/9EK4tbLr57bcF9H3tasW6NgH45WC22OUG8wByEhcLa8+PJmGKDbpwDOCvYLFuyGmhtDTwxnl8/ReXI2wAYnKQErK7aoEblD9NhO7+y0Vwj3E7OHIfB8HiRCxhEhHkBvywYPeSQwswpL+iiyDNN8oRZvJnQ2ggImTB6jAJ4Go9rEM+w689NnKRTIAC9LEIciJox9QUNctz1OPx0WA5CAbqOCPDmTRQmJYMw/Ouz5uicNQA5uWMjRGcmdDpP7nHYjBxEgBo5iOatAQCcn2VTsGXHDp1rCdgva0xJcLdvvrdEDngg04mik5odb8vwo56i9wlykOKL777Wnmm8VW/O8X87gF99cw2v31Bp7+P5n0ue2wzVRg7PBRGgcu7Lr+jFgUWCtzFMGjv+oXxf6vPMX5bcdA6GEdIHIALMX5/9mgYbQW24r4+Wd0uvkk0ZaTO8WWOuRBRWimefw1DQ9OenOOFRdz2+A0zJ3y2UQ40QId+w+rxdY9f+Pfq1bx/89p8kn3yM9HOt+lBymgEC5A++Jn2H6NsKeYdnW9EVm7xJEmUwC5wu0PjvefEqLpIUoI+++EznZ/NmCHLloQMCNEnrYZM5WNJaeHsLaT1xcsgH2cf7HHajHrmIPy1fquUinWfowMHOafSw/lHXS4SXEwX080o5PLSDRA5zOG3S+Anqx6VLFBtZQtAm5QMe0fY/OwugvsfbbJPfs1+aKTpaKkC2UIP//n376lQm+hYmH/MKb5v538//Kv7UOJWZmanz1Jswd/3w2jnPm7xy3j6SEJ8gUQcl3s0ZukbvrF5y2GuEPjyLd5poDJsBP4pVDj8eXPPaX1A5rvPWhyDZ3fXYSJMzvFxsVUxY27A5uEq5MBvnPmk7RFDenfcGPzVFqmPKRdILz3mhzMOkxrSR/Oq5sxrGlqkfzWe0snh5+dmCKcOGjEOdvNeZzRjje/qUqfp2WHt+PElbI3JoNg6cT+CwNOsDc4olq4HW0kCcgByP77C1RGl+u4TnCLeaARYrJw6Pccjtj//8LzpkjkqCeOG54wDbq3IYKk8AEyFTJlg/wiNJyPdRDnIAF/31AxpuGdhto5OgtuFBKMrk4rnr6vCm6MDbL/RSIxM1IDpaao4c9JGDS4DwAZJ/PW/W7IjNhT2HiJUbC9C/IH358eDwHDqKpg62wKlxE8724xd2zStbS/sbVh/9u+3CgHyvPSAv3nI8PpGI/qMndwqEXx3kYpPgfqWaXzmu4WkGmPnpP6x/hh92/qePPlT/8Yd/c9Ib/Mb9bcn3Dkqliab/n36zQM2ePtPJPzftez+Rh/Z58wIUrXw8n7A5y9uO15a4H9QP/exlo+VNZ/Hy5HescvjxMHzc9hdUzlwPkt3cN5/ew67mOp9hNu4u5/4ebR0/vawXAJgoaSuTx03UntGWpgVEK4tbfr772YK7TJBuw9pz8wToElUwefnRtOlu3363GnhcGniiPb9GKdEslKZspM9YJl14+QEC00YkgGrKxfKJfNHwjTSZhuksaKFrAC/RA1/61Rw5OIBDmJL836nPNM1HDNJV2HMIquO97geivGXcv2MBstE8Mzdv73evbC3tb1h97xjgd1D5aIAvfYm2/0HtePXBb7zwQRQLH3j4gV7DOwj4cj+a/k995lmJEu11ckYNX+9n0LijXJh83ufl5ev97bUl7gf1Qz97ef7RUKxyBPGMlU+Q7F7+YeNV9zPAieHlY35HWydSfyLNkaa9sM9oZfHy8LMFd5kg3Ya1Z3iyaeRMyRSxfzeZ++5r9rvVwN9aA38Xnt+WKo18PrwsvCs40sDEe4AXi3BQrAtsS+V8WuqTW8lz4HR32KL/tOjD9vPxaYB3yMaaI94cacjtxAMWK/2t5ItVLlu+ZRoAGJKqEgbIW9ZC69cmMsP5iLDNY+tLaSV4WjVgwe/T+uRtvx+rBv7rv//0WPk/Tcz/84///jR11/bVasBqwGrAauAxa8CC38esYMveasBqwGrAasBqwGrAasBq4JejgeiSuX458lpJrAasBqwGrAasBqwGrAasBqwGmq0BC36brTpb0WrAasBqwGrAasBqwGrAauBJ04AFv0/aE7PyWg1YDVgNWA1YDVgNWA1YDTRbAxb8Nlt1tqLVgNWA1YDVgNWA1YDVgNXAk6YBC36ftCdm5bUasBqwGrAasBqwGrAasBpotgYs+G226mxFqwGrAasBqwGrAasBqwGrgSdNA/8P/p47rSsPzK0AAAAASUVORK5CYII=)"
   ]
  },
  {
   "cell_type": "code",
   "execution_count": 8,
   "metadata": {},
   "outputs": [],
   "source": [
    "text = \"\"\"Three more countries have joined an \"international grand committee\" of parliaments, adding to calls for Facebook’s boss, Mark Zuckerberg, to give evidence on misinformation to the coalition. Brazil, Latvia and Singapore bring the total to eight different parliaments across the world, with plans to send representatives to London on 27 November with the intention of hearing from Zuckerberg. Since the Cambridge Analytica scandal broke, the Facebook chief has only appeared in front of two legislatures: the American Senate and House of Representatives, and the European parliament. Facebook has consistently rebuffed attempts from others, including the UK and Canadian parliaments, to hear from Zuckerberg. He added that an article in the New York Times on Thursday, in which the paper alleged a pattern of behaviour from Facebook to \"delay, deny and deflect\" negative news stories, \"raises further questions about how recent data breaches were allegedly dealt with within Facebook.\"\"\""
   ]
  },
  {
   "cell_type": "code",
   "execution_count": 9,
   "metadata": {},
   "outputs": [
    {
     "name": "stdout",
     "output_type": "stream",
     "text": [
      "Three more countries have joined an \"international grand committee\" of parliaments, adding to calls for Facebook’s boss, Mark Zuckerberg, to give evidence on misinformation to the coalition. Brazil, Latvia and Singapore bring the total to eight different parliaments across the world, with plans to send representatives to London on 27 November with the intention of hearing from Zuckerberg. Since the Cambridge Analytica scandal broke, the Facebook chief has only appeared in front of two legislatures: the American Senate and House of Representatives, and the European parliament. Facebook has consistently rebuffed attempts from others, including the UK and Canadian parliaments, to hear from Zuckerberg. He added that an article in the New York Times on Thursday, in which the paper alleged a pattern of behaviour from Facebook to \"delay, deny and deflect\" negative news stories, \"raises further questions about how recent data breaches were allegedly dealt with within Facebook.\n"
     ]
    }
   ],
   "source": [
    "print(text)"
   ]
  },
  {
   "cell_type": "code",
   "execution_count": 10,
   "metadata": {},
   "outputs": [],
   "source": [
    "nlp = spacy.load('en_core_web_sm')\n",
    "\n",
    "text_nlp = nlp(text)"
   ]
  },
  {
   "cell_type": "markdown",
   "metadata": {},
   "source": [
    "Una vez cargado el modelo y procesado nuestro texto, cada token tiene una etiqueta asociada al tipo de entidad:"
   ]
  },
  {
   "cell_type": "code",
   "execution_count": 11,
   "metadata": {},
   "outputs": [
    {
     "name": "stdout",
     "output_type": "stream",
     "text": [
      "[('Three', 'CARDINAL'), ('more', ''), ('countries', ''), ('have', ''), ('joined', ''), ('an', ''), ('\"', ''), ('international', ''), ('grand', ''), ('committee', ''), ('\"', ''), ('of', ''), ('parliaments', ''), (',', ''), ('adding', ''), ('to', ''), ('calls', ''), ('for', ''), ('Facebook', 'ORG'), ('’s', ''), ('boss', ''), (',', ''), ('Mark', 'PERSON'), ('Zuckerberg', 'PERSON'), (',', ''), ('to', ''), ('give', ''), ('evidence', ''), ('on', ''), ('misinformation', ''), ('to', ''), ('the', ''), ('coalition', ''), ('.', ''), ('Brazil', 'GPE'), (',', ''), ('Latvia', 'GPE'), ('and', ''), ('Singapore', 'GPE'), ('bring', ''), ('the', ''), ('total', ''), ('to', ''), ('eight', 'CARDINAL'), ('different', ''), ('parliaments', ''), ('across', ''), ('the', ''), ('world', ''), (',', ''), ('with', ''), ('plans', ''), ('to', ''), ('send', ''), ('representatives', ''), ('to', ''), ('London', 'GPE'), ('on', ''), ('27', 'DATE'), ('November', 'DATE'), ('with', ''), ('the', ''), ('intention', ''), ('of', ''), ('hearing', ''), ('from', ''), ('Zuckerberg', 'ORG'), ('.', ''), ('Since', ''), ('the', ''), ('Cambridge', 'GPE'), ('Analytica', 'GPE'), ('scandal', ''), ('broke', ''), (',', ''), ('the', ''), ('Facebook', 'ORG'), ('chief', ''), ('has', ''), ('only', ''), ('appeared', ''), ('in', ''), ('front', ''), ('of', ''), ('two', 'CARDINAL'), ('legislatures', ''), (':', ''), ('the', 'ORG'), ('American', 'ORG'), ('Senate', 'ORG'), ('and', ''), ('House', 'ORG'), ('of', 'ORG'), ('Representatives', 'ORG'), (',', ''), ('and', ''), ('the', ''), ('European', 'NORP'), ('parliament', ''), ('.', ''), ('Facebook', ''), ('has', ''), ('consistently', ''), ('rebuffed', ''), ('attempts', ''), ('from', ''), ('others', ''), (',', ''), ('including', ''), ('the', ''), ('UK', 'GPE'), ('and', ''), ('Canadian', 'NORP'), ('parliaments', ''), (',', ''), ('to', ''), ('hear', ''), ('from', ''), ('Zuckerberg', 'ORG'), ('.', ''), ('He', ''), ('added', ''), ('that', ''), ('an', ''), ('article', ''), ('in', ''), ('the', 'ORG'), ('New', 'ORG'), ('York', 'ORG'), ('Times', 'ORG'), ('on', ''), ('Thursday', 'DATE'), (',', ''), ('in', ''), ('which', ''), ('the', ''), ('paper', ''), ('alleged', ''), ('a', ''), ('pattern', ''), ('of', ''), ('behaviour', ''), ('from', ''), ('Facebook', ''), ('to', ''), ('\"', ''), ('delay', ''), (',', ''), ('deny', ''), ('and', ''), ('deflect', ''), ('\"', ''), ('negative', ''), ('news', ''), ('stories', ''), (',', ''), ('\"', ''), ('raises', ''), ('further', ''), ('questions', ''), ('about', ''), ('how', ''), ('recent', ''), ('data', ''), ('breaches', ''), ('were', ''), ('allegedly', ''), ('dealt', ''), ('with', ''), ('within', ''), ('Facebook', 'WORK_OF_ART'), ('.', '')]\n"
     ]
    }
   ],
   "source": [
    "ner_tagged = [(word.text, word.ent_type_) for word in text_nlp]\n",
    "print(ner_tagged)"
   ]
  },
  {
   "cell_type": "markdown",
   "metadata": {},
   "source": [
    "El paquete `displacy` de spaCy proporciona una interfaz visual muy útil en este caso:"
   ]
  },
  {
   "cell_type": "code",
   "execution_count": 12,
   "metadata": {},
   "outputs": [
    {
     "data": {
      "text/html": [
       "<span class=\"tex2jax_ignore\"><div class=\"entities\" style=\"line-height: 2.5; direction: ltr\">\n",
       "<mark class=\"entity\" style=\"background: #e4e7d2; padding: 0.45em 0.6em; margin: 0 0.25em; line-height: 1; border-radius: 0.35em;\">\n",
       "    Three\n",
       "    <span style=\"font-size: 0.8em; font-weight: bold; line-height: 1; border-radius: 0.35em; vertical-align: middle; margin-left: 0.5rem\">CARDINAL</span>\n",
       "</mark>\n",
       " more countries have joined an &quot;international grand committee&quot; of parliaments, adding to calls for \n",
       "<mark class=\"entity\" style=\"background: #7aecec; padding: 0.45em 0.6em; margin: 0 0.25em; line-height: 1; border-radius: 0.35em;\">\n",
       "    Facebook\n",
       "    <span style=\"font-size: 0.8em; font-weight: bold; line-height: 1; border-radius: 0.35em; vertical-align: middle; margin-left: 0.5rem\">ORG</span>\n",
       "</mark>\n",
       "’s boss, \n",
       "<mark class=\"entity\" style=\"background: #aa9cfc; padding: 0.45em 0.6em; margin: 0 0.25em; line-height: 1; border-radius: 0.35em;\">\n",
       "    Mark Zuckerberg\n",
       "    <span style=\"font-size: 0.8em; font-weight: bold; line-height: 1; border-radius: 0.35em; vertical-align: middle; margin-left: 0.5rem\">PERSON</span>\n",
       "</mark>\n",
       ", to give evidence on misinformation to the coalition. \n",
       "<mark class=\"entity\" style=\"background: #feca74; padding: 0.45em 0.6em; margin: 0 0.25em; line-height: 1; border-radius: 0.35em;\">\n",
       "    Brazil\n",
       "    <span style=\"font-size: 0.8em; font-weight: bold; line-height: 1; border-radius: 0.35em; vertical-align: middle; margin-left: 0.5rem\">GPE</span>\n",
       "</mark>\n",
       ", \n",
       "<mark class=\"entity\" style=\"background: #feca74; padding: 0.45em 0.6em; margin: 0 0.25em; line-height: 1; border-radius: 0.35em;\">\n",
       "    Latvia\n",
       "    <span style=\"font-size: 0.8em; font-weight: bold; line-height: 1; border-radius: 0.35em; vertical-align: middle; margin-left: 0.5rem\">GPE</span>\n",
       "</mark>\n",
       " and \n",
       "<mark class=\"entity\" style=\"background: #feca74; padding: 0.45em 0.6em; margin: 0 0.25em; line-height: 1; border-radius: 0.35em;\">\n",
       "    Singapore\n",
       "    <span style=\"font-size: 0.8em; font-weight: bold; line-height: 1; border-radius: 0.35em; vertical-align: middle; margin-left: 0.5rem\">GPE</span>\n",
       "</mark>\n",
       " bring the total to \n",
       "<mark class=\"entity\" style=\"background: #e4e7d2; padding: 0.45em 0.6em; margin: 0 0.25em; line-height: 1; border-radius: 0.35em;\">\n",
       "    eight\n",
       "    <span style=\"font-size: 0.8em; font-weight: bold; line-height: 1; border-radius: 0.35em; vertical-align: middle; margin-left: 0.5rem\">CARDINAL</span>\n",
       "</mark>\n",
       " different parliaments across the world, with plans to send representatives to \n",
       "<mark class=\"entity\" style=\"background: #feca74; padding: 0.45em 0.6em; margin: 0 0.25em; line-height: 1; border-radius: 0.35em;\">\n",
       "    London\n",
       "    <span style=\"font-size: 0.8em; font-weight: bold; line-height: 1; border-radius: 0.35em; vertical-align: middle; margin-left: 0.5rem\">GPE</span>\n",
       "</mark>\n",
       " on \n",
       "<mark class=\"entity\" style=\"background: #bfe1d9; padding: 0.45em 0.6em; margin: 0 0.25em; line-height: 1; border-radius: 0.35em;\">\n",
       "    27 November\n",
       "    <span style=\"font-size: 0.8em; font-weight: bold; line-height: 1; border-radius: 0.35em; vertical-align: middle; margin-left: 0.5rem\">DATE</span>\n",
       "</mark>\n",
       " with the intention of hearing from \n",
       "<mark class=\"entity\" style=\"background: #7aecec; padding: 0.45em 0.6em; margin: 0 0.25em; line-height: 1; border-radius: 0.35em;\">\n",
       "    Zuckerberg\n",
       "    <span style=\"font-size: 0.8em; font-weight: bold; line-height: 1; border-radius: 0.35em; vertical-align: middle; margin-left: 0.5rem\">ORG</span>\n",
       "</mark>\n",
       ". Since the \n",
       "<mark class=\"entity\" style=\"background: #feca74; padding: 0.45em 0.6em; margin: 0 0.25em; line-height: 1; border-radius: 0.35em;\">\n",
       "    Cambridge Analytica\n",
       "    <span style=\"font-size: 0.8em; font-weight: bold; line-height: 1; border-radius: 0.35em; vertical-align: middle; margin-left: 0.5rem\">GPE</span>\n",
       "</mark>\n",
       " scandal broke, the \n",
       "<mark class=\"entity\" style=\"background: #7aecec; padding: 0.45em 0.6em; margin: 0 0.25em; line-height: 1; border-radius: 0.35em;\">\n",
       "    Facebook\n",
       "    <span style=\"font-size: 0.8em; font-weight: bold; line-height: 1; border-radius: 0.35em; vertical-align: middle; margin-left: 0.5rem\">ORG</span>\n",
       "</mark>\n",
       " chief has only appeared in front of \n",
       "<mark class=\"entity\" style=\"background: #e4e7d2; padding: 0.45em 0.6em; margin: 0 0.25em; line-height: 1; border-radius: 0.35em;\">\n",
       "    two\n",
       "    <span style=\"font-size: 0.8em; font-weight: bold; line-height: 1; border-radius: 0.35em; vertical-align: middle; margin-left: 0.5rem\">CARDINAL</span>\n",
       "</mark>\n",
       " legislatures: \n",
       "<mark class=\"entity\" style=\"background: #7aecec; padding: 0.45em 0.6em; margin: 0 0.25em; line-height: 1; border-radius: 0.35em;\">\n",
       "    the American Senate\n",
       "    <span style=\"font-size: 0.8em; font-weight: bold; line-height: 1; border-radius: 0.35em; vertical-align: middle; margin-left: 0.5rem\">ORG</span>\n",
       "</mark>\n",
       " and \n",
       "<mark class=\"entity\" style=\"background: #7aecec; padding: 0.45em 0.6em; margin: 0 0.25em; line-height: 1; border-radius: 0.35em;\">\n",
       "    House of Representatives\n",
       "    <span style=\"font-size: 0.8em; font-weight: bold; line-height: 1; border-radius: 0.35em; vertical-align: middle; margin-left: 0.5rem\">ORG</span>\n",
       "</mark>\n",
       ", and the \n",
       "<mark class=\"entity\" style=\"background: #c887fb; padding: 0.45em 0.6em; margin: 0 0.25em; line-height: 1; border-radius: 0.35em;\">\n",
       "    European\n",
       "    <span style=\"font-size: 0.8em; font-weight: bold; line-height: 1; border-radius: 0.35em; vertical-align: middle; margin-left: 0.5rem\">NORP</span>\n",
       "</mark>\n",
       " parliament. Facebook has consistently rebuffed attempts from others, including the \n",
       "<mark class=\"entity\" style=\"background: #feca74; padding: 0.45em 0.6em; margin: 0 0.25em; line-height: 1; border-radius: 0.35em;\">\n",
       "    UK\n",
       "    <span style=\"font-size: 0.8em; font-weight: bold; line-height: 1; border-radius: 0.35em; vertical-align: middle; margin-left: 0.5rem\">GPE</span>\n",
       "</mark>\n",
       " and \n",
       "<mark class=\"entity\" style=\"background: #c887fb; padding: 0.45em 0.6em; margin: 0 0.25em; line-height: 1; border-radius: 0.35em;\">\n",
       "    Canadian\n",
       "    <span style=\"font-size: 0.8em; font-weight: bold; line-height: 1; border-radius: 0.35em; vertical-align: middle; margin-left: 0.5rem\">NORP</span>\n",
       "</mark>\n",
       " parliaments, to hear from \n",
       "<mark class=\"entity\" style=\"background: #7aecec; padding: 0.45em 0.6em; margin: 0 0.25em; line-height: 1; border-radius: 0.35em;\">\n",
       "    Zuckerberg\n",
       "    <span style=\"font-size: 0.8em; font-weight: bold; line-height: 1; border-radius: 0.35em; vertical-align: middle; margin-left: 0.5rem\">ORG</span>\n",
       "</mark>\n",
       ". He added that an article in \n",
       "<mark class=\"entity\" style=\"background: #7aecec; padding: 0.45em 0.6em; margin: 0 0.25em; line-height: 1; border-radius: 0.35em;\">\n",
       "    the New York Times\n",
       "    <span style=\"font-size: 0.8em; font-weight: bold; line-height: 1; border-radius: 0.35em; vertical-align: middle; margin-left: 0.5rem\">ORG</span>\n",
       "</mark>\n",
       " on \n",
       "<mark class=\"entity\" style=\"background: #bfe1d9; padding: 0.45em 0.6em; margin: 0 0.25em; line-height: 1; border-radius: 0.35em;\">\n",
       "    Thursday\n",
       "    <span style=\"font-size: 0.8em; font-weight: bold; line-height: 1; border-radius: 0.35em; vertical-align: middle; margin-left: 0.5rem\">DATE</span>\n",
       "</mark>\n",
       ", in which the paper alleged a pattern of behaviour from Facebook to &quot;delay, deny and deflect&quot; negative news stories, &quot;raises further questions about how recent data breaches were allegedly dealt with within \n",
       "<mark class=\"entity\" style=\"background: #f0d0ff; padding: 0.45em 0.6em; margin: 0 0.25em; line-height: 1; border-radius: 0.35em;\">\n",
       "    Facebook\n",
       "    <span style=\"font-size: 0.8em; font-weight: bold; line-height: 1; border-radius: 0.35em; vertical-align: middle; margin-left: 0.5rem\">WORK_OF_ART</span>\n",
       "</mark>\n",
       ".</div></span>"
      ],
      "text/plain": [
       "<IPython.core.display.HTML object>"
      ]
     },
     "metadata": {},
     "output_type": "display_data"
    }
   ],
   "source": [
    "from spacy import displacy\n",
    "\n",
    "displacy.render(text_nlp, style='ent', jupyter=True)"
   ]
  },
  {
   "cell_type": "markdown",
   "metadata": {},
   "source": [
    "En la representación anterior podemos ver hasta 6 categorías distintas. Podemos extraer todas las entidades de forma sencilla:"
   ]
  },
  {
   "cell_type": "code",
   "execution_count": 13,
   "metadata": {},
   "outputs": [
    {
     "name": "stdout",
     "output_type": "stream",
     "text": [
      "[('Three', 'CARDINAL'), ('Facebook', 'ORG'), ('Mark', 'PERSON'), ('Zuckerberg', 'PERSON'), ('Brazil', 'GPE'), ('Latvia', 'GPE'), ('Singapore', 'GPE'), ('eight', 'CARDINAL'), ('London', 'GPE'), ('27', 'DATE'), ('November', 'DATE'), ('Zuckerberg', 'ORG'), ('Cambridge', 'GPE'), ('Analytica', 'GPE'), ('Facebook', 'ORG'), ('two', 'CARDINAL'), ('the', 'ORG'), ('American', 'ORG'), ('Senate', 'ORG'), ('House', 'ORG'), ('of', 'ORG'), ('Representatives', 'ORG'), ('European', 'NORP'), ('UK', 'GPE'), ('Canadian', 'NORP'), ('Zuckerberg', 'ORG'), ('the', 'ORG'), ('New', 'ORG'), ('York', 'ORG'), ('Times', 'ORG'), ('Thursday', 'DATE'), ('Facebook', 'WORK_OF_ART')]\n"
     ]
    }
   ],
   "source": [
    "ner_tagged_red = [(word,tag) for (word,tag) in ner_tagged if tag]\n",
    "\n",
    "print(ner_tagged_red)\n",
    "\n"
   ]
  },
  {
   "cell_type": "markdown",
   "metadata": {},
   "source": [
    "# Dependency parsing\n",
    "\n",
    "*Dependency parsing* es el proceso de extraer el análisis sintáctico de dependencias de una oración para representar su estructura gramatical. Define la relación de dependencia entre las palabras clave y sus dependientes. El encabezado de una oración no tiene dependencia y se llama raíz de la oración. El verbo suele ser el encabezado de la oración. Todas las demás palabras están vinculadas al encabezado. Este análisis proporciona información sobre qué papel juega una palabra en el texto y cómo se relacionan las diferentes palabras entre sí. También se utiliza en el *shallow parsing* y en NER.\n",
    "\n",
    "Las dependencias se codificacn en una estructura de tipo árbol: las palabras son los nodos que están conectadas en función de su dependencia gramatical. \n",
    "\n",
    "\n",
    "\n"
   ]
  },
  {
   "cell_type": "code",
   "execution_count": 14,
   "metadata": {},
   "outputs": [
    {
     "name": "stdout",
     "output_type": "stream",
     "text": [
      "I PRP am nsubj\n",
      "am VBP am ROOT\n",
      "an DT engineer det\n",
      "engineer NN am attr\n",
      ". . am punct\n",
      "Some DT day det\n",
      "day NN hope npadvmod\n",
      "I PRP hope nsubj\n",
      "hope VBP hope ROOT\n",
      "to TO engineer aux\n",
      "engineer VB hope xcomp\n",
      "an DT engine det\n",
      "electric JJ engine amod\n",
      "engine NN engineer dobj\n"
     ]
    },
    {
     "data": {
      "text/html": [
       "<span class=\"tex2jax_ignore\"><svg xmlns=\"http://www.w3.org/2000/svg\" xmlns:xlink=\"http://www.w3.org/1999/xlink\" xml:lang=\"en\" id=\"5b2f28929b3e4fb298435eb7f3a62618-0\" class=\"displacy\" width=\"2325\" height=\"399.5\" direction=\"ltr\" style=\"max-width: none; height: 399.5px; color: #000000; background: #ffffff; font-family: Arial; direction: ltr\">\n",
       "<text class=\"displacy-token\" fill=\"currentColor\" text-anchor=\"middle\" y=\"309.5\">\n",
       "    <tspan class=\"displacy-word\" fill=\"currentColor\" x=\"50\">I</tspan>\n",
       "    <tspan class=\"displacy-tag\" dy=\"2em\" fill=\"currentColor\" x=\"50\">PRON</tspan>\n",
       "</text>\n",
       "\n",
       "<text class=\"displacy-token\" fill=\"currentColor\" text-anchor=\"middle\" y=\"309.5\">\n",
       "    <tspan class=\"displacy-word\" fill=\"currentColor\" x=\"225\">am</tspan>\n",
       "    <tspan class=\"displacy-tag\" dy=\"2em\" fill=\"currentColor\" x=\"225\">AUX</tspan>\n",
       "</text>\n",
       "\n",
       "<text class=\"displacy-token\" fill=\"currentColor\" text-anchor=\"middle\" y=\"309.5\">\n",
       "    <tspan class=\"displacy-word\" fill=\"currentColor\" x=\"400\">an</tspan>\n",
       "    <tspan class=\"displacy-tag\" dy=\"2em\" fill=\"currentColor\" x=\"400\">DET</tspan>\n",
       "</text>\n",
       "\n",
       "<text class=\"displacy-token\" fill=\"currentColor\" text-anchor=\"middle\" y=\"309.5\">\n",
       "    <tspan class=\"displacy-word\" fill=\"currentColor\" x=\"575\">engineer.</tspan>\n",
       "    <tspan class=\"displacy-tag\" dy=\"2em\" fill=\"currentColor\" x=\"575\">NOUN</tspan>\n",
       "</text>\n",
       "\n",
       "<text class=\"displacy-token\" fill=\"currentColor\" text-anchor=\"middle\" y=\"309.5\">\n",
       "    <tspan class=\"displacy-word\" fill=\"currentColor\" x=\"750\">Some</tspan>\n",
       "    <tspan class=\"displacy-tag\" dy=\"2em\" fill=\"currentColor\" x=\"750\">DET</tspan>\n",
       "</text>\n",
       "\n",
       "<text class=\"displacy-token\" fill=\"currentColor\" text-anchor=\"middle\" y=\"309.5\">\n",
       "    <tspan class=\"displacy-word\" fill=\"currentColor\" x=\"925\">day</tspan>\n",
       "    <tspan class=\"displacy-tag\" dy=\"2em\" fill=\"currentColor\" x=\"925\">NOUN</tspan>\n",
       "</text>\n",
       "\n",
       "<text class=\"displacy-token\" fill=\"currentColor\" text-anchor=\"middle\" y=\"309.5\">\n",
       "    <tspan class=\"displacy-word\" fill=\"currentColor\" x=\"1100\">I</tspan>\n",
       "    <tspan class=\"displacy-tag\" dy=\"2em\" fill=\"currentColor\" x=\"1100\">PRON</tspan>\n",
       "</text>\n",
       "\n",
       "<text class=\"displacy-token\" fill=\"currentColor\" text-anchor=\"middle\" y=\"309.5\">\n",
       "    <tspan class=\"displacy-word\" fill=\"currentColor\" x=\"1275\">hope</tspan>\n",
       "    <tspan class=\"displacy-tag\" dy=\"2em\" fill=\"currentColor\" x=\"1275\">VERB</tspan>\n",
       "</text>\n",
       "\n",
       "<text class=\"displacy-token\" fill=\"currentColor\" text-anchor=\"middle\" y=\"309.5\">\n",
       "    <tspan class=\"displacy-word\" fill=\"currentColor\" x=\"1450\">to</tspan>\n",
       "    <tspan class=\"displacy-tag\" dy=\"2em\" fill=\"currentColor\" x=\"1450\">PART</tspan>\n",
       "</text>\n",
       "\n",
       "<text class=\"displacy-token\" fill=\"currentColor\" text-anchor=\"middle\" y=\"309.5\">\n",
       "    <tspan class=\"displacy-word\" fill=\"currentColor\" x=\"1625\">engineer</tspan>\n",
       "    <tspan class=\"displacy-tag\" dy=\"2em\" fill=\"currentColor\" x=\"1625\">VERB</tspan>\n",
       "</text>\n",
       "\n",
       "<text class=\"displacy-token\" fill=\"currentColor\" text-anchor=\"middle\" y=\"309.5\">\n",
       "    <tspan class=\"displacy-word\" fill=\"currentColor\" x=\"1800\">an</tspan>\n",
       "    <tspan class=\"displacy-tag\" dy=\"2em\" fill=\"currentColor\" x=\"1800\">DET</tspan>\n",
       "</text>\n",
       "\n",
       "<text class=\"displacy-token\" fill=\"currentColor\" text-anchor=\"middle\" y=\"309.5\">\n",
       "    <tspan class=\"displacy-word\" fill=\"currentColor\" x=\"1975\">electric</tspan>\n",
       "    <tspan class=\"displacy-tag\" dy=\"2em\" fill=\"currentColor\" x=\"1975\">ADJ</tspan>\n",
       "</text>\n",
       "\n",
       "<text class=\"displacy-token\" fill=\"currentColor\" text-anchor=\"middle\" y=\"309.5\">\n",
       "    <tspan class=\"displacy-word\" fill=\"currentColor\" x=\"2150\">engine</tspan>\n",
       "    <tspan class=\"displacy-tag\" dy=\"2em\" fill=\"currentColor\" x=\"2150\">NOUN</tspan>\n",
       "</text>\n",
       "\n",
       "<g class=\"displacy-arrow\">\n",
       "    <path class=\"displacy-arc\" id=\"arrow-5b2f28929b3e4fb298435eb7f3a62618-0-0\" stroke-width=\"2px\" d=\"M70,264.5 C70,177.0 215.0,177.0 215.0,264.5\" fill=\"none\" stroke=\"currentColor\"/>\n",
       "    <text dy=\"1.25em\" style=\"font-size: 0.8em; letter-spacing: 1px\">\n",
       "        <textPath xlink:href=\"#arrow-5b2f28929b3e4fb298435eb7f3a62618-0-0\" class=\"displacy-label\" startOffset=\"50%\" side=\"left\" fill=\"currentColor\" text-anchor=\"middle\">nsubj</textPath>\n",
       "    </text>\n",
       "    <path class=\"displacy-arrowhead\" d=\"M70,266.5 L62,254.5 78,254.5\" fill=\"currentColor\"/>\n",
       "</g>\n",
       "\n",
       "<g class=\"displacy-arrow\">\n",
       "    <path class=\"displacy-arc\" id=\"arrow-5b2f28929b3e4fb298435eb7f3a62618-0-1\" stroke-width=\"2px\" d=\"M420,264.5 C420,177.0 565.0,177.0 565.0,264.5\" fill=\"none\" stroke=\"currentColor\"/>\n",
       "    <text dy=\"1.25em\" style=\"font-size: 0.8em; letter-spacing: 1px\">\n",
       "        <textPath xlink:href=\"#arrow-5b2f28929b3e4fb298435eb7f3a62618-0-1\" class=\"displacy-label\" startOffset=\"50%\" side=\"left\" fill=\"currentColor\" text-anchor=\"middle\">det</textPath>\n",
       "    </text>\n",
       "    <path class=\"displacy-arrowhead\" d=\"M420,266.5 L412,254.5 428,254.5\" fill=\"currentColor\"/>\n",
       "</g>\n",
       "\n",
       "<g class=\"displacy-arrow\">\n",
       "    <path class=\"displacy-arc\" id=\"arrow-5b2f28929b3e4fb298435eb7f3a62618-0-2\" stroke-width=\"2px\" d=\"M245,264.5 C245,89.5 570.0,89.5 570.0,264.5\" fill=\"none\" stroke=\"currentColor\"/>\n",
       "    <text dy=\"1.25em\" style=\"font-size: 0.8em; letter-spacing: 1px\">\n",
       "        <textPath xlink:href=\"#arrow-5b2f28929b3e4fb298435eb7f3a62618-0-2\" class=\"displacy-label\" startOffset=\"50%\" side=\"left\" fill=\"currentColor\" text-anchor=\"middle\">attr</textPath>\n",
       "    </text>\n",
       "    <path class=\"displacy-arrowhead\" d=\"M570.0,266.5 L578.0,254.5 562.0,254.5\" fill=\"currentColor\"/>\n",
       "</g>\n",
       "\n",
       "<g class=\"displacy-arrow\">\n",
       "    <path class=\"displacy-arc\" id=\"arrow-5b2f28929b3e4fb298435eb7f3a62618-0-3\" stroke-width=\"2px\" d=\"M770,264.5 C770,177.0 915.0,177.0 915.0,264.5\" fill=\"none\" stroke=\"currentColor\"/>\n",
       "    <text dy=\"1.25em\" style=\"font-size: 0.8em; letter-spacing: 1px\">\n",
       "        <textPath xlink:href=\"#arrow-5b2f28929b3e4fb298435eb7f3a62618-0-3\" class=\"displacy-label\" startOffset=\"50%\" side=\"left\" fill=\"currentColor\" text-anchor=\"middle\">det</textPath>\n",
       "    </text>\n",
       "    <path class=\"displacy-arrowhead\" d=\"M770,266.5 L762,254.5 778,254.5\" fill=\"currentColor\"/>\n",
       "</g>\n",
       "\n",
       "<g class=\"displacy-arrow\">\n",
       "    <path class=\"displacy-arc\" id=\"arrow-5b2f28929b3e4fb298435eb7f3a62618-0-4\" stroke-width=\"2px\" d=\"M945,264.5 C945,89.5 1270.0,89.5 1270.0,264.5\" fill=\"none\" stroke=\"currentColor\"/>\n",
       "    <text dy=\"1.25em\" style=\"font-size: 0.8em; letter-spacing: 1px\">\n",
       "        <textPath xlink:href=\"#arrow-5b2f28929b3e4fb298435eb7f3a62618-0-4\" class=\"displacy-label\" startOffset=\"50%\" side=\"left\" fill=\"currentColor\" text-anchor=\"middle\">npadvmod</textPath>\n",
       "    </text>\n",
       "    <path class=\"displacy-arrowhead\" d=\"M945,266.5 L937,254.5 953,254.5\" fill=\"currentColor\"/>\n",
       "</g>\n",
       "\n",
       "<g class=\"displacy-arrow\">\n",
       "    <path class=\"displacy-arc\" id=\"arrow-5b2f28929b3e4fb298435eb7f3a62618-0-5\" stroke-width=\"2px\" d=\"M1120,264.5 C1120,177.0 1265.0,177.0 1265.0,264.5\" fill=\"none\" stroke=\"currentColor\"/>\n",
       "    <text dy=\"1.25em\" style=\"font-size: 0.8em; letter-spacing: 1px\">\n",
       "        <textPath xlink:href=\"#arrow-5b2f28929b3e4fb298435eb7f3a62618-0-5\" class=\"displacy-label\" startOffset=\"50%\" side=\"left\" fill=\"currentColor\" text-anchor=\"middle\">nsubj</textPath>\n",
       "    </text>\n",
       "    <path class=\"displacy-arrowhead\" d=\"M1120,266.5 L1112,254.5 1128,254.5\" fill=\"currentColor\"/>\n",
       "</g>\n",
       "\n",
       "<g class=\"displacy-arrow\">\n",
       "    <path class=\"displacy-arc\" id=\"arrow-5b2f28929b3e4fb298435eb7f3a62618-0-6\" stroke-width=\"2px\" d=\"M1470,264.5 C1470,177.0 1615.0,177.0 1615.0,264.5\" fill=\"none\" stroke=\"currentColor\"/>\n",
       "    <text dy=\"1.25em\" style=\"font-size: 0.8em; letter-spacing: 1px\">\n",
       "        <textPath xlink:href=\"#arrow-5b2f28929b3e4fb298435eb7f3a62618-0-6\" class=\"displacy-label\" startOffset=\"50%\" side=\"left\" fill=\"currentColor\" text-anchor=\"middle\">aux</textPath>\n",
       "    </text>\n",
       "    <path class=\"displacy-arrowhead\" d=\"M1470,266.5 L1462,254.5 1478,254.5\" fill=\"currentColor\"/>\n",
       "</g>\n",
       "\n",
       "<g class=\"displacy-arrow\">\n",
       "    <path class=\"displacy-arc\" id=\"arrow-5b2f28929b3e4fb298435eb7f3a62618-0-7\" stroke-width=\"2px\" d=\"M1295,264.5 C1295,89.5 1620.0,89.5 1620.0,264.5\" fill=\"none\" stroke=\"currentColor\"/>\n",
       "    <text dy=\"1.25em\" style=\"font-size: 0.8em; letter-spacing: 1px\">\n",
       "        <textPath xlink:href=\"#arrow-5b2f28929b3e4fb298435eb7f3a62618-0-7\" class=\"displacy-label\" startOffset=\"50%\" side=\"left\" fill=\"currentColor\" text-anchor=\"middle\">xcomp</textPath>\n",
       "    </text>\n",
       "    <path class=\"displacy-arrowhead\" d=\"M1620.0,266.5 L1628.0,254.5 1612.0,254.5\" fill=\"currentColor\"/>\n",
       "</g>\n",
       "\n",
       "<g class=\"displacy-arrow\">\n",
       "    <path class=\"displacy-arc\" id=\"arrow-5b2f28929b3e4fb298435eb7f3a62618-0-8\" stroke-width=\"2px\" d=\"M1820,264.5 C1820,89.5 2145.0,89.5 2145.0,264.5\" fill=\"none\" stroke=\"currentColor\"/>\n",
       "    <text dy=\"1.25em\" style=\"font-size: 0.8em; letter-spacing: 1px\">\n",
       "        <textPath xlink:href=\"#arrow-5b2f28929b3e4fb298435eb7f3a62618-0-8\" class=\"displacy-label\" startOffset=\"50%\" side=\"left\" fill=\"currentColor\" text-anchor=\"middle\">det</textPath>\n",
       "    </text>\n",
       "    <path class=\"displacy-arrowhead\" d=\"M1820,266.5 L1812,254.5 1828,254.5\" fill=\"currentColor\"/>\n",
       "</g>\n",
       "\n",
       "<g class=\"displacy-arrow\">\n",
       "    <path class=\"displacy-arc\" id=\"arrow-5b2f28929b3e4fb298435eb7f3a62618-0-9\" stroke-width=\"2px\" d=\"M1995,264.5 C1995,177.0 2140.0,177.0 2140.0,264.5\" fill=\"none\" stroke=\"currentColor\"/>\n",
       "    <text dy=\"1.25em\" style=\"font-size: 0.8em; letter-spacing: 1px\">\n",
       "        <textPath xlink:href=\"#arrow-5b2f28929b3e4fb298435eb7f3a62618-0-9\" class=\"displacy-label\" startOffset=\"50%\" side=\"left\" fill=\"currentColor\" text-anchor=\"middle\">amod</textPath>\n",
       "    </text>\n",
       "    <path class=\"displacy-arrowhead\" d=\"M1995,266.5 L1987,254.5 2003,254.5\" fill=\"currentColor\"/>\n",
       "</g>\n",
       "\n",
       "<g class=\"displacy-arrow\">\n",
       "    <path class=\"displacy-arc\" id=\"arrow-5b2f28929b3e4fb298435eb7f3a62618-0-10\" stroke-width=\"2px\" d=\"M1645,264.5 C1645,2.0 2150.0,2.0 2150.0,264.5\" fill=\"none\" stroke=\"currentColor\"/>\n",
       "    <text dy=\"1.25em\" style=\"font-size: 0.8em; letter-spacing: 1px\">\n",
       "        <textPath xlink:href=\"#arrow-5b2f28929b3e4fb298435eb7f3a62618-0-10\" class=\"displacy-label\" startOffset=\"50%\" side=\"left\" fill=\"currentColor\" text-anchor=\"middle\">dobj</textPath>\n",
       "    </text>\n",
       "    <path class=\"displacy-arrowhead\" d=\"M2150.0,266.5 L2158.0,254.5 2142.0,254.5\" fill=\"currentColor\"/>\n",
       "</g>\n",
       "</svg></span>"
      ],
      "text/plain": [
       "<IPython.core.display.HTML object>"
      ]
     },
     "metadata": {},
     "output_type": "display_data"
    }
   ],
   "source": [
    "doc = nlp(sentence)\n",
    "\n",
    "for token in doc:\n",
    "    print (token.text, token.tag_, token.head.text, token.dep_)\n",
    "\n",
    "displacy.render(doc, style='dep')"
   ]
  },
  {
   "cell_type": "markdown",
   "metadata": {},
   "source": [
    "En el ejemplo anterior, podemos ver distintos tipos de relaciones entre las palabras. Una lista completa puede consultarse en este [enlace](https://nlp.stanford.edu/software/dependencies_manual.pdf).\n",
    "\n",
    "spaCy proporciona atributos tales como `children`, `lefts`, `rights`, and `subtree` para recorrer el árbol de dependencias:"
   ]
  },
  {
   "cell_type": "code",
   "execution_count": 20,
   "metadata": {},
   "outputs": [
    {
     "name": "stdout",
     "output_type": "stream",
     "text": [
      "hope\n"
     ]
    }
   ],
   "source": [
    "print(doc[8].text)"
   ]
  },
  {
   "cell_type": "code",
   "execution_count": 21,
   "metadata": {},
   "outputs": [
    {
     "name": "stdout",
     "output_type": "stream",
     "text": [
      "[day, I, engineer]\n"
     ]
    }
   ],
   "source": [
    "print(list(doc[8].children))"
   ]
  },
  {
   "cell_type": "code",
   "execution_count": 22,
   "metadata": {},
   "outputs": [
    {
     "name": "stdout",
     "output_type": "stream",
     "text": [
      "[day, I]\n"
     ]
    }
   ],
   "source": [
    "print(list(doc[8].lefts))"
   ]
  },
  {
   "cell_type": "code",
   "execution_count": 23,
   "metadata": {},
   "outputs": [
    {
     "name": "stdout",
     "output_type": "stream",
     "text": [
      "[engineer]\n"
     ]
    }
   ],
   "source": [
    "print(list(doc[8].rights))"
   ]
  },
  {
   "cell_type": "code",
   "execution_count": 24,
   "metadata": {},
   "outputs": [
    {
     "name": "stdout",
     "output_type": "stream",
     "text": [
      "[hope]\n"
     ]
    }
   ],
   "source": [
    "print(list(doc[6].ancestors))"
   ]
  },
  {
   "cell_type": "code",
   "execution_count": null,
   "metadata": {},
   "outputs": [],
   "source": []
  }
 ],
 "metadata": {
  "kernelspec": {
   "display_name": "Python 3",
   "language": "python",
   "name": "python3"
  },
  "language_info": {
   "codemirror_mode": {
    "name": "ipython",
    "version": 3
   },
   "file_extension": ".py",
   "mimetype": "text/x-python",
   "name": "python",
   "nbconvert_exporter": "python",
   "pygments_lexer": "ipython3",
   "version": "3.6.10"
  }
 },
 "nbformat": 4,
 "nbformat_minor": 4
}
