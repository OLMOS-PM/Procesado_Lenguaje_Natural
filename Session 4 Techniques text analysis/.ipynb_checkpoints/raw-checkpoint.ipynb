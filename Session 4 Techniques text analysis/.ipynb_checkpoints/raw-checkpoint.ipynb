{
 "cells": [
  {
   "cell_type": "markdown",
   "metadata": {},
   "source": [
    "Good reference!\n",
    "\n",
    "https://realpython.com/natural-language-processing-spacy-python/\n",
    "\n"
   ]
  },
  {
   "cell_type": "markdown",
   "metadata": {},
   "source": [
    "For any language, syntax and structure usually go hand in hand, where a set of specific rules, conventions, and principles govern the way words are combined into phrases; phrases are combined into clauses; and clauses are combined into sentences. \n",
    "\n",
    "\n",
    "Knowledge about the structure and syntax of language is helpful in many areas like text processing, annotation, and parsing for further operations such as text classification or summarization. In this section, we implement some of the concepts and techniques used to understand text syntax and structure.\n",
    "\n",
    "We focus on implementing the following techniques:\n",
    "- Parts of speech (POS) tagging\n",
    "- Shallow parsing or chunking\n",
    "- Dependency parsing\n",
    "- Constituency parsing\n",
    "\n",
    "In the following, we look at the best possible ways\n",
    "of leveraging libraries like NLTK and spaCy to implement some of these techniques."
   ]
  },
  {
   "cell_type": "code",
   "execution_count": 75,
   "metadata": {
    "scrolled": true
   },
   "outputs": [
    {
     "name": "stderr",
     "output_type": "stream",
     "text": [
      "[nltk_data] Downloading package brown to /Users/olmos/nltk_data...\n",
      "[nltk_data]   Package brown is already up-to-date!\n",
      "[nltk_data] Downloading package punkt to /Users/olmos/nltk_data...\n",
      "[nltk_data]   Package punkt is already up-to-date!\n",
      "[nltk_data] Downloading package stopwords to /Users/olmos/nltk_data...\n",
      "[nltk_data]   Package stopwords is already up-to-date!\n",
      "[nltk_data] Downloading package wordnet to /Users/olmos/nltk_data...\n",
      "[nltk_data]   Package wordnet is already up-to-date!\n"
     ]
    }
   ],
   "source": [
    "import nltk\n",
    "# download all dependencies and corpora \n",
    "nltk.download('brown')\n",
    "nltk.download('punkt')\n",
    "nltk.download('stopwords')\n",
    "nltk.download('wordnet')\n",
    "\n",
    "%matplotlib inline  \n",
    "# Figures plotted inside the notebook\n",
    "%config InlineBackend.figure_format = 'svg'  \n",
    "\n"
   ]
  },
  {
   "cell_type": "code",
   "execution_count": 2,
   "metadata": {},
   "outputs": [],
   "source": [
    "import spacy\n",
    "import pandas as pd"
   ]
  },
  {
   "cell_type": "markdown",
   "metadata": {},
   "source": [
    "# Sentence Detection\n",
    "\n",
    "Sentence Detection is the process of locating the start and end of sentences in a given text. This allows you to you divide a text into linguistically meaningful units. You’ll use these units when you’re processing your text to perform tasks such as part of speech tagging and entity extraction.\n",
    "\n",
    "In spaCy, the sents property is used to extract sentences. Here’s how you would extract the total number of sentences and the sentences for a given input text:\n",
    "\n"
   ]
  },
  {
   "cell_type": "code",
   "execution_count": 66,
   "metadata": {},
   "outputs": [],
   "source": [
    "text = \"\"\"This is Mr. Potato. Three more countries have joined an \"international grand committee\" of parliaments, \n",
    "adding to calls for Facebook’s boss, Mark Zuckerberg, to give evidence on misinformation to the coalition. \n",
    "Brazil, Latvia and Singapore bring the total to eight different parliaments across the world, with plans to send representatives to London on 27 November \n",
    "with the intention of hearing from Zuckerberg. Since the Cambridge Analytica scandal broke, \n",
    "the Facebook chief has only appeared in front of two legislatures: the American Senate and House of Representatives, and\n",
    "the European parliament. Facebook has consistently rebuffed attempts from others, \n",
    "including the UK and Canadian parliaments, to hear from Zuckerberg. He added that an article in the New York Times on Thursday, in which the paper alleged a pattern of behaviour from Facebook to \"delay, deny and deflect\" negative news stories, \"raises further questions about how recent data breaches were allegedly dealt with within Facebook.\n",
    "\"\"\""
   ]
  },
  {
   "cell_type": "code",
   "execution_count": 67,
   "metadata": {},
   "outputs": [
    {
     "name": "stdout",
     "output_type": "stream",
     "text": [
      "This is Mr. Potato. Three more countries have joined an \"international grand committee\" of parliaments, \n",
      "adding to calls for Facebook’s boss, Mark Zuckerberg, to give evidence on misinformation to the coalition. \n",
      "Brazil, Latvia and Singapore bring the total to eight different parliaments across the world, with plans to send representatives to London on 27 November \n",
      "with the intention of hearing from Zuckerberg. Since the Cambridge Analytica scandal broke, \n",
      "the Facebook chief has only appeared in front of two legislatures: the American Senate and House of Representatives, and\n",
      "the European parliament. Facebook has consistently rebuffed attempts from others, \n",
      "including the UK and Canadian parliaments, to hear from Zuckerberg. He added that an article in the New York Times on Thursday, in which the paper alleged a pattern of behaviour from Facebook to \"delay, deny and deflect\" negative news stories, \"raises further questions about how recent data breaches were allegedly dealt with within Facebook.\n",
      "\n"
     ]
    }
   ],
   "source": [
    "print(text)"
   ]
  },
  {
   "cell_type": "code",
   "execution_count": 68,
   "metadata": {},
   "outputs": [],
   "source": [
    "import re\n",
    "text = re.sub(r'\\n', '', text)"
   ]
  },
  {
   "cell_type": "code",
   "execution_count": 69,
   "metadata": {},
   "outputs": [
    {
     "name": "stdout",
     "output_type": "stream",
     "text": [
      "This is Mr. Potato. Three more countries have joined an \"international grand committee\" of parliaments, adding to calls for Facebook’s boss, Mark Zuckerberg, to give evidence on misinformation to the coalition. Brazil, Latvia and Singapore bring the total to eight different parliaments across the world, with plans to send representatives to London on 27 November with the intention of hearing from Zuckerberg. Since the Cambridge Analytica scandal broke, the Facebook chief has only appeared in front of two legislatures: the American Senate and House of Representatives, andthe European parliament. Facebook has consistently rebuffed attempts from others, including the UK and Canadian parliaments, to hear from Zuckerberg. He added that an article in the New York Times on Thursday, in which the paper alleged a pattern of behaviour from Facebook to \"delay, deny and deflect\" negative news stories, \"raises further questions about how recent data breaches were allegedly dealt with within Facebook.\n"
     ]
    }
   ],
   "source": [
    "print(text)"
   ]
  },
  {
   "cell_type": "code",
   "execution_count": 70,
   "metadata": {},
   "outputs": [
    {
     "name": "stdout",
     "output_type": "stream",
     "text": [
      "This is Mr.\n",
      "**********\n",
      "Potato.\n",
      "**********\n",
      "Three more countries have joined an \"international grand committee\" of parliaments, adding to calls for Facebook’s boss, Mark Zuckerberg, to give evidence on misinformation to the coalition.\n",
      "**********\n"
     ]
    }
   ],
   "source": [
    "# In NLTK\n",
    "\n",
    "text_s = [s for s in nltk.sent_tokenize(text)]\n",
    "\n",
    "for s in range(3):\n",
    "    \n",
    "    print(text_s[s])\n",
    "    \n",
    "    print('**********')\n",
    "    \n",
    "    "
   ]
  },
  {
   "cell_type": "code",
   "execution_count": 71,
   "metadata": {},
   "outputs": [
    {
     "name": "stdout",
     "output_type": "stream",
     "text": [
      "This is Mr. Potato.\n",
      "**********\n",
      "Three more countries have joined an \"international grand committee\" of parliaments, adding to calls for Facebook’s boss, Mark Zuckerberg, to give evidence on misinformation to the coalition.\n",
      "**********\n",
      "Brazil, Latvia and Singapore bring the total to eight different parliaments across the world, with plans to send representatives to London on 27 November with the intention of hearing from Zuckerberg.\n",
      "**********\n"
     ]
    }
   ],
   "source": [
    "# in Spacy\n",
    "\n",
    "\n",
    "nlp = spacy.load(\"en_core_web_sm\")\n",
    "\n",
    "doc = nlp(text)\n",
    "\n",
    "sentences = list(doc.sents)\n",
    "\n",
    "for s in range(3):\n",
    "    \n",
    "    print(sentences[s])\n",
    "    \n",
    "    print('**********')\n",
    "    \n",
    "    \n",
    "    "
   ]
  },
  {
   "cell_type": "markdown",
   "metadata": {},
   "source": [
    "# POS tagging"
   ]
  },
  {
   "cell_type": "markdown",
   "metadata": {},
   "source": [
    "We will be leveraging NLTK and spaCy, which use the Penn Treebank notation for POS tagging. \n",
    "\n",
    "Parts of speech (POS) are specific lexical categories to which words are assigned based on their syntactic context and role. The process of classifying and labeling POS tags for words is defined as parts of speech tagging (POS tagging).\n",
    "\n",
    "POS tags are used to annotate words and depict their POS, which is really helpful when we need to use the same annotated text later in NLP-based applications because we can filter by specific parts of speech an-d utilize that information to perform\n",
    "specific analysis. We can narrow down nouns and determine which ones are the most prominent. \n",
    "\n",
    "We will be using the Penn Treebank notation for POS tagging and most of the recommended POS taggers also leverage it.\n",
    "\n",
    "https://catalog.ldc.upenn.edu/docs/LDC95T7/treebank2.index.html\n",
    "\n",
    "http://www.cis.uni-muenchen.de/~schmid/tools/TreeTagger/data/PennTreebank-Tagset.pdf\n",
    "\n",
    "\n",
    "TABLA 3.1 LIBRO!\n",
    "\n",
    "\n",
    "Modern POS ---> RNN --> Transformers. Classical approaches are HMMs (diagram) and CRF. Libro teoría.\n",
    "\n",
    "\n"
   ]
  },
  {
   "cell_type": "code",
   "execution_count": 3,
   "metadata": {},
   "outputs": [
    {
     "data": {
      "text/html": [
       "<div>\n",
       "<style scoped>\n",
       "    .dataframe tbody tr th:only-of-type {\n",
       "        vertical-align: middle;\n",
       "    }\n",
       "\n",
       "    .dataframe tbody tr th {\n",
       "        vertical-align: top;\n",
       "    }\n",
       "\n",
       "    .dataframe thead th {\n",
       "        text-align: right;\n",
       "    }\n",
       "</style>\n",
       "<table border=\"1\" class=\"dataframe\">\n",
       "  <thead>\n",
       "    <tr style=\"text-align: right;\">\n",
       "      <th></th>\n",
       "      <th>0</th>\n",
       "      <th>1</th>\n",
       "      <th>2</th>\n",
       "      <th>3</th>\n",
       "      <th>4</th>\n",
       "      <th>5</th>\n",
       "      <th>6</th>\n",
       "      <th>7</th>\n",
       "      <th>8</th>\n",
       "      <th>9</th>\n",
       "      <th>...</th>\n",
       "      <th>44</th>\n",
       "      <th>45</th>\n",
       "      <th>46</th>\n",
       "      <th>47</th>\n",
       "      <th>48</th>\n",
       "      <th>49</th>\n",
       "      <th>50</th>\n",
       "      <th>51</th>\n",
       "      <th>52</th>\n",
       "      <th>53</th>\n",
       "    </tr>\n",
       "  </thead>\n",
       "  <tbody>\n",
       "    <tr>\n",
       "      <th>Word</th>\n",
       "      <td>A</td>\n",
       "      <td>p</td>\n",
       "      <td>p</td>\n",
       "      <td>l</td>\n",
       "      <td>e</td>\n",
       "      <td></td>\n",
       "      <td>i</td>\n",
       "      <td>s</td>\n",
       "      <td></td>\n",
       "      <td>l</td>\n",
       "      <td>...</td>\n",
       "      <td>$</td>\n",
       "      <td>1</td>\n",
       "      <td></td>\n",
       "      <td>b</td>\n",
       "      <td>i</td>\n",
       "      <td>l</td>\n",
       "      <td>l</td>\n",
       "      <td>i</td>\n",
       "      <td>o</td>\n",
       "      <td>n</td>\n",
       "    </tr>\n",
       "    <tr>\n",
       "      <th>POS tag</th>\n",
       "      <td>DT</td>\n",
       "      <td>NN</td>\n",
       "      <td>NN</td>\n",
       "      <td>NN</td>\n",
       "      <td>NN</td>\n",
       "      <td>NN</td>\n",
       "      <td>NN</td>\n",
       "      <td>VBP</td>\n",
       "      <td>JJ</td>\n",
       "      <td>NN</td>\n",
       "      <td>...</td>\n",
       "      <td>$</td>\n",
       "      <td>CD</td>\n",
       "      <td>NNP</td>\n",
       "      <td>NN</td>\n",
       "      <td>NN</td>\n",
       "      <td>VBP</td>\n",
       "      <td>NN</td>\n",
       "      <td>NN</td>\n",
       "      <td>VBP</td>\n",
       "      <td>NN</td>\n",
       "    </tr>\n",
       "  </tbody>\n",
       "</table>\n",
       "<p>2 rows × 54 columns</p>\n",
       "</div>"
      ],
      "text/plain": [
       "         0   1   2   3   4   5   6    7   8   9   ... 44  45   46  47  48  \\\n",
       "Word      A   p   p   l   e       i    s       l  ...  $   1        b   i   \n",
       "POS tag  DT  NN  NN  NN  NN  NN  NN  VBP  JJ  NN  ...  $  CD  NNP  NN  NN   \n",
       "\n",
       "          49  50  51   52  53  \n",
       "Word       l   l   i    o   n  \n",
       "POS tag  VBP  NN  NN  VBP  NN  \n",
       "\n",
       "[2 rows x 54 columns]"
      ]
     },
     "execution_count": 3,
     "metadata": {},
     "output_type": "execute_result"
    }
   ],
   "source": [
    "sentence = \"Apple is looking at buying U.K. startup for $1 billion\"\n",
    "\n",
    "nltk_pos_tagged = nltk.pos_tag(sentence)\n",
    "\n",
    "pd.DataFrame(nltk_pos_tagged, columns=['Word', 'POS tag']).T"
   ]
  },
  {
   "cell_type": "code",
   "execution_count": 4,
   "metadata": {},
   "outputs": [
    {
     "data": {
      "text/html": [
       "<div>\n",
       "<style scoped>\n",
       "    .dataframe tbody tr th:only-of-type {\n",
       "        vertical-align: middle;\n",
       "    }\n",
       "\n",
       "    .dataframe tbody tr th {\n",
       "        vertical-align: top;\n",
       "    }\n",
       "\n",
       "    .dataframe thead th {\n",
       "        text-align: right;\n",
       "    }\n",
       "</style>\n",
       "<table border=\"1\" class=\"dataframe\">\n",
       "  <thead>\n",
       "    <tr style=\"text-align: right;\">\n",
       "      <th></th>\n",
       "      <th>0</th>\n",
       "      <th>1</th>\n",
       "      <th>2</th>\n",
       "      <th>3</th>\n",
       "      <th>4</th>\n",
       "      <th>5</th>\n",
       "      <th>6</th>\n",
       "      <th>7</th>\n",
       "      <th>8</th>\n",
       "      <th>9</th>\n",
       "      <th>10</th>\n",
       "    </tr>\n",
       "  </thead>\n",
       "  <tbody>\n",
       "    <tr>\n",
       "      <th>Word</th>\n",
       "      <td>Apple</td>\n",
       "      <td>is</td>\n",
       "      <td>looking</td>\n",
       "      <td>at</td>\n",
       "      <td>buying</td>\n",
       "      <td>U.K.</td>\n",
       "      <td>startup</td>\n",
       "      <td>for</td>\n",
       "      <td>$</td>\n",
       "      <td>1</td>\n",
       "      <td>billion</td>\n",
       "    </tr>\n",
       "    <tr>\n",
       "      <th>Word_Lemma</th>\n",
       "      <td>Apple</td>\n",
       "      <td>be</td>\n",
       "      <td>look</td>\n",
       "      <td>at</td>\n",
       "      <td>buy</td>\n",
       "      <td>U.K.</td>\n",
       "      <td>startup</td>\n",
       "      <td>for</td>\n",
       "      <td>$</td>\n",
       "      <td>1</td>\n",
       "      <td>billion</td>\n",
       "    </tr>\n",
       "    <tr>\n",
       "      <th>POS tag</th>\n",
       "      <td>NNP</td>\n",
       "      <td>VBZ</td>\n",
       "      <td>VBG</td>\n",
       "      <td>IN</td>\n",
       "      <td>VBG</td>\n",
       "      <td>NNP</td>\n",
       "      <td>NN</td>\n",
       "      <td>IN</td>\n",
       "      <td>$</td>\n",
       "      <td>CD</td>\n",
       "      <td>CD</td>\n",
       "    </tr>\n",
       "    <tr>\n",
       "      <th>Tag type</th>\n",
       "      <td>PROPN</td>\n",
       "      <td>AUX</td>\n",
       "      <td>VERB</td>\n",
       "      <td>ADP</td>\n",
       "      <td>VERB</td>\n",
       "      <td>PROPN</td>\n",
       "      <td>NOUN</td>\n",
       "      <td>ADP</td>\n",
       "      <td>SYM</td>\n",
       "      <td>NUM</td>\n",
       "      <td>NUM</td>\n",
       "    </tr>\n",
       "  </tbody>\n",
       "</table>\n",
       "</div>"
      ],
      "text/plain": [
       "                0    1        2    3       4      5        6    7    8    9  \\\n",
       "Word        Apple   is  looking   at  buying   U.K.  startup  for    $    1   \n",
       "Word_Lemma  Apple   be     look   at     buy   U.K.  startup  for    $    1   \n",
       "POS tag       NNP  VBZ      VBG   IN     VBG    NNP       NN   IN    $   CD   \n",
       "Tag type    PROPN  AUX     VERB  ADP    VERB  PROPN     NOUN  ADP  SYM  NUM   \n",
       "\n",
       "                 10  \n",
       "Word        billion  \n",
       "Word_Lemma  billion  \n",
       "POS tag          CD  \n",
       "Tag type        NUM  "
      ]
     },
     "execution_count": 4,
     "metadata": {},
     "output_type": "execute_result"
    }
   ],
   "source": [
    "\n",
    "\n",
    "nlp = spacy.load(\"en_core_web_sm\")\n",
    "\n",
    "doc = nlp(sentence)\n",
    "\n",
    "#for token in doc:\n",
    "#    print(token.text, token.lemma_, token.pos_, token.tag_, token.dep_,\n",
    "#            token.shape_, token.is_alpha, token.is_stop)\n",
    "    \n",
    "spacy_pos_tagged = [(token.text, token.lemma_, token.tag_,token.pos_) for token in doc]\n",
    "\n",
    "pd.DataFrame(spacy_pos_tagged, columns=['Word','Word_Lemma','POS tag','Tag type']).T"
   ]
  },
  {
   "cell_type": "code",
   "execution_count": 5,
   "metadata": {},
   "outputs": [
    {
     "data": {
      "text/plain": [
       "'verb, past tense'"
      ]
     },
     "execution_count": 5,
     "metadata": {},
     "output_type": "execute_result"
    }
   ],
   "source": [
    "spacy.explain(\"VBD\")\n",
    "# Nationalities or religious or political groups"
   ]
  },
  {
   "cell_type": "code",
   "execution_count": 6,
   "metadata": {},
   "outputs": [
    {
     "data": {
      "text/plain": [
       "'punctuation'"
      ]
     },
     "execution_count": 6,
     "metadata": {},
     "output_type": "execute_result"
    }
   ],
   "source": [
    "spacy.explain(\"PUNCT\")\n",
    "# Nationalities or religious or political groups"
   ]
  },
  {
   "cell_type": "markdown",
   "metadata": {},
   "source": [
    "Unlike the English lemmatizer, spaCy's Spanish lemmatizer does not use PoS information at all. It relies on a lookup list of inflected verbs and lemmas (e.g., ideo idear, ideas idear, idea idear, ideamos idear, etc.). It will just output the first match in the list, regardless of its PoS\n",
    "\n",
    "En español ....\n",
    "\n",
    "https://spacy.io/models/es\n",
    "\n"
   ]
  },
  {
   "cell_type": "code",
   "execution_count": 10,
   "metadata": {},
   "outputs": [
    {
     "data": {
      "text/html": [
       "<div>\n",
       "<style scoped>\n",
       "    .dataframe tbody tr th:only-of-type {\n",
       "        vertical-align: middle;\n",
       "    }\n",
       "\n",
       "    .dataframe tbody tr th {\n",
       "        vertical-align: top;\n",
       "    }\n",
       "\n",
       "    .dataframe thead th {\n",
       "        text-align: right;\n",
       "    }\n",
       "</style>\n",
       "<table border=\"1\" class=\"dataframe\">\n",
       "  <thead>\n",
       "    <tr style=\"text-align: right;\">\n",
       "      <th></th>\n",
       "      <th>0</th>\n",
       "      <th>1</th>\n",
       "      <th>2</th>\n",
       "      <th>3</th>\n",
       "      <th>4</th>\n",
       "      <th>5</th>\n",
       "      <th>6</th>\n",
       "      <th>7</th>\n",
       "      <th>8</th>\n",
       "      <th>9</th>\n",
       "      <th>...</th>\n",
       "      <th>11</th>\n",
       "      <th>12</th>\n",
       "      <th>13</th>\n",
       "      <th>14</th>\n",
       "      <th>15</th>\n",
       "      <th>16</th>\n",
       "      <th>17</th>\n",
       "      <th>18</th>\n",
       "      <th>19</th>\n",
       "      <th>20</th>\n",
       "    </tr>\n",
       "  </thead>\n",
       "  <tbody>\n",
       "    <tr>\n",
       "      <th>Word</th>\n",
       "      <td>La</td>\n",
       "      <td>relación</td>\n",
       "      <td>está</td>\n",
       "      <td>marcada</td>\n",
       "      <td>por</td>\n",
       "      <td>la</td>\n",
       "      <td>suspicacia</td>\n",
       "      <td>,</td>\n",
       "      <td>aunque</td>\n",
       "      <td>en</td>\n",
       "      <td>...</td>\n",
       "      <td>ocasiones</td>\n",
       "      <td>han</td>\n",
       "      <td>actuado</td>\n",
       "      <td>de</td>\n",
       "      <td>árbitros</td>\n",
       "      <td>entre</td>\n",
       "      <td>sus</td>\n",
       "      <td>respectivas</td>\n",
       "      <td>familias</td>\n",
       "      <td>políticas</td>\n",
       "    </tr>\n",
       "    <tr>\n",
       "      <th>Word_Lemma</th>\n",
       "      <td>el</td>\n",
       "      <td>relación</td>\n",
       "      <td>estar</td>\n",
       "      <td>marcado</td>\n",
       "      <td>por</td>\n",
       "      <td>el</td>\n",
       "      <td>suspicacia</td>\n",
       "      <td>,</td>\n",
       "      <td>aunque</td>\n",
       "      <td>en</td>\n",
       "      <td>...</td>\n",
       "      <td>ocasión</td>\n",
       "      <td>haber</td>\n",
       "      <td>actuar</td>\n",
       "      <td>de</td>\n",
       "      <td>árbitro</td>\n",
       "      <td>entre</td>\n",
       "      <td>su</td>\n",
       "      <td>respectivo</td>\n",
       "      <td>familia</td>\n",
       "      <td>política</td>\n",
       "    </tr>\n",
       "    <tr>\n",
       "      <th>POS tag</th>\n",
       "      <td>DET</td>\n",
       "      <td>NOUN</td>\n",
       "      <td>AUX</td>\n",
       "      <td>ADJ</td>\n",
       "      <td>ADP</td>\n",
       "      <td>DET</td>\n",
       "      <td>NOUN</td>\n",
       "      <td>PUNCT</td>\n",
       "      <td>SCONJ</td>\n",
       "      <td>ADP</td>\n",
       "      <td>...</td>\n",
       "      <td>NOUN</td>\n",
       "      <td>AUX</td>\n",
       "      <td>VERB</td>\n",
       "      <td>ADP</td>\n",
       "      <td>NOUN</td>\n",
       "      <td>ADP</td>\n",
       "      <td>DET</td>\n",
       "      <td>ADJ</td>\n",
       "      <td>NOUN</td>\n",
       "      <td>ADJ</td>\n",
       "    </tr>\n",
       "    <tr>\n",
       "      <th>Tag type</th>\n",
       "      <td>DET</td>\n",
       "      <td>NOUN</td>\n",
       "      <td>AUX</td>\n",
       "      <td>ADJ</td>\n",
       "      <td>ADP</td>\n",
       "      <td>DET</td>\n",
       "      <td>NOUN</td>\n",
       "      <td>PUNCT</td>\n",
       "      <td>SCONJ</td>\n",
       "      <td>ADP</td>\n",
       "      <td>...</td>\n",
       "      <td>NOUN</td>\n",
       "      <td>AUX</td>\n",
       "      <td>VERB</td>\n",
       "      <td>ADP</td>\n",
       "      <td>NOUN</td>\n",
       "      <td>ADP</td>\n",
       "      <td>DET</td>\n",
       "      <td>ADJ</td>\n",
       "      <td>NOUN</td>\n",
       "      <td>ADJ</td>\n",
       "    </tr>\n",
       "  </tbody>\n",
       "</table>\n",
       "<p>4 rows × 21 columns</p>\n",
       "</div>"
      ],
      "text/plain": [
       "             0         1      2        3    4    5           6      7   \\\n",
       "Word         La  relación   está  marcada  por   la  suspicacia      ,   \n",
       "Word_Lemma   el  relación  estar  marcado  por   el  suspicacia      ,   \n",
       "POS tag     DET      NOUN    AUX      ADJ  ADP  DET        NOUN  PUNCT   \n",
       "Tag type    DET      NOUN    AUX      ADJ  ADP  DET        NOUN  PUNCT   \n",
       "\n",
       "                8    9   ...         11     12       13   14        15     16  \\\n",
       "Word        aunque   en  ...  ocasiones    han  actuado   de  árbitros  entre   \n",
       "Word_Lemma  aunque   en  ...    ocasión  haber   actuar   de   árbitro  entre   \n",
       "POS tag      SCONJ  ADP  ...       NOUN    AUX     VERB  ADP      NOUN    ADP   \n",
       "Tag type     SCONJ  ADP  ...       NOUN    AUX     VERB  ADP      NOUN    ADP   \n",
       "\n",
       "             17           18        19         20  \n",
       "Word        sus  respectivas  familias  políticas  \n",
       "Word_Lemma   su   respectivo   familia   política  \n",
       "POS tag     DET          ADJ      NOUN        ADJ  \n",
       "Tag type    DET          ADJ      NOUN        ADJ  \n",
       "\n",
       "[4 rows x 21 columns]"
      ]
     },
     "execution_count": 10,
     "metadata": {},
     "output_type": "execute_result"
    }
   ],
   "source": [
    "nlp = spacy.load(\"es_core_news_sm\")\n",
    "\n",
    "doc = nlp(\"La relación está marcada por la suspicacia, aunque en varias ocasiones han actuado de árbitros entre sus respectivas familias políticas\")\n",
    "\n",
    "spacy_pos_tagged = [(token.text, token.lemma_, token.tag_,token.pos_) for token in doc]\n",
    "\n",
    "pd.DataFrame(spacy_pos_tagged, columns=['Word','Word_Lemma','POS tag','Tag type']).T"
   ]
  },
  {
   "cell_type": "code",
   "execution_count": 11,
   "metadata": {},
   "outputs": [
    {
     "data": {
      "text/html": [
       "<div>\n",
       "<style scoped>\n",
       "    .dataframe tbody tr th:only-of-type {\n",
       "        vertical-align: middle;\n",
       "    }\n",
       "\n",
       "    .dataframe tbody tr th {\n",
       "        vertical-align: top;\n",
       "    }\n",
       "\n",
       "    .dataframe thead th {\n",
       "        text-align: right;\n",
       "    }\n",
       "</style>\n",
       "<table border=\"1\" class=\"dataframe\">\n",
       "  <thead>\n",
       "    <tr style=\"text-align: right;\">\n",
       "      <th></th>\n",
       "      <th>0</th>\n",
       "      <th>1</th>\n",
       "      <th>2</th>\n",
       "      <th>3</th>\n",
       "      <th>4</th>\n",
       "      <th>5</th>\n",
       "      <th>6</th>\n",
       "    </tr>\n",
       "  </thead>\n",
       "  <tbody>\n",
       "    <tr>\n",
       "      <th>Word</th>\n",
       "      <td>La</td>\n",
       "      <td>relación</td>\n",
       "      <td>finalizó</td>\n",
       "      <td>,</td>\n",
       "      <td>él</td>\n",
       "      <td>está</td>\n",
       "      <td>triste</td>\n",
       "    </tr>\n",
       "    <tr>\n",
       "      <th>Word_Lemma</th>\n",
       "      <td>el</td>\n",
       "      <td>relación</td>\n",
       "      <td>finalizar</td>\n",
       "      <td>,</td>\n",
       "      <td>él</td>\n",
       "      <td>estar</td>\n",
       "      <td>triste</td>\n",
       "    </tr>\n",
       "    <tr>\n",
       "      <th>POS tag</th>\n",
       "      <td>DET</td>\n",
       "      <td>NOUN</td>\n",
       "      <td>VERB</td>\n",
       "      <td>PUNCT</td>\n",
       "      <td>PRON</td>\n",
       "      <td>AUX</td>\n",
       "      <td>ADJ</td>\n",
       "    </tr>\n",
       "    <tr>\n",
       "      <th>Tag type</th>\n",
       "      <td>DET</td>\n",
       "      <td>NOUN</td>\n",
       "      <td>VERB</td>\n",
       "      <td>PUNCT</td>\n",
       "      <td>PRON</td>\n",
       "      <td>AUX</td>\n",
       "      <td>ADJ</td>\n",
       "    </tr>\n",
       "  </tbody>\n",
       "</table>\n",
       "</div>"
      ],
      "text/plain": [
       "              0         1          2      3     4      5       6\n",
       "Word         La  relación   finalizó      ,    él   está  triste\n",
       "Word_Lemma   el  relación  finalizar      ,    él  estar  triste\n",
       "POS tag     DET      NOUN       VERB  PUNCT  PRON    AUX     ADJ\n",
       "Tag type    DET      NOUN       VERB  PUNCT  PRON    AUX     ADJ"
      ]
     },
     "execution_count": 11,
     "metadata": {},
     "output_type": "execute_result"
    }
   ],
   "source": [
    "nlp = spacy.load(\"es_dep_news_trf\")\n",
    "\n",
    "doc = nlp(\"La relación finalizó, él está triste\")\n",
    "\n",
    "spacy_pos_tagged = [(token.text, token.lemma_, token.tag_,token.pos_) for token in doc]\n",
    "\n",
    "pd.DataFrame(spacy_pos_tagged, columns=['Word','Word_Lemma','POS tag','Tag type']).T"
   ]
  },
  {
   "cell_type": "code",
   "execution_count": 12,
   "metadata": {},
   "outputs": [
    {
     "data": {
      "text/plain": [
       "'auxiliary'"
      ]
     },
     "execution_count": 12,
     "metadata": {},
     "output_type": "execute_result"
    }
   ],
   "source": [
    "spacy.explain(\"AUX\")\n",
    "# Nationalities or religious or political groups"
   ]
  },
  {
   "cell_type": "markdown",
   "metadata": {},
   "source": [
    "https://spacy.io/universe/project/spacy-transformers"
   ]
  },
  {
   "cell_type": "markdown",
   "metadata": {},
   "source": [
    "### Word disambiguation"
   ]
  },
  {
   "cell_type": "markdown",
   "metadata": {},
   "source": [
    "Comments here"
   ]
  },
  {
   "cell_type": "code",
   "execution_count": 18,
   "metadata": {},
   "outputs": [
    {
     "data": {
      "text/html": [
       "<div>\n",
       "<style scoped>\n",
       "    .dataframe tbody tr th:only-of-type {\n",
       "        vertical-align: middle;\n",
       "    }\n",
       "\n",
       "    .dataframe tbody tr th {\n",
       "        vertical-align: top;\n",
       "    }\n",
       "\n",
       "    .dataframe thead th {\n",
       "        text-align: right;\n",
       "    }\n",
       "</style>\n",
       "<table border=\"1\" class=\"dataframe\">\n",
       "  <thead>\n",
       "    <tr style=\"text-align: right;\">\n",
       "      <th></th>\n",
       "      <th>0</th>\n",
       "      <th>1</th>\n",
       "      <th>2</th>\n",
       "      <th>3</th>\n",
       "      <th>4</th>\n",
       "      <th>5</th>\n",
       "      <th>6</th>\n",
       "      <th>7</th>\n",
       "    </tr>\n",
       "  </thead>\n",
       "  <tbody>\n",
       "    <tr>\n",
       "      <th>Word</th>\n",
       "      <td>Well</td>\n",
       "      <td>,</td>\n",
       "      <td>the</td>\n",
       "      <td>boy</td>\n",
       "      <td>fell</td>\n",
       "      <td>in</td>\n",
       "      <td>a</td>\n",
       "      <td>well</td>\n",
       "    </tr>\n",
       "    <tr>\n",
       "      <th>Word_Lemma</th>\n",
       "      <td>well</td>\n",
       "      <td>,</td>\n",
       "      <td>the</td>\n",
       "      <td>boy</td>\n",
       "      <td>fall</td>\n",
       "      <td>in</td>\n",
       "      <td>a</td>\n",
       "      <td>well</td>\n",
       "    </tr>\n",
       "    <tr>\n",
       "      <th>POS tag</th>\n",
       "      <td>UH</td>\n",
       "      <td>,</td>\n",
       "      <td>DT</td>\n",
       "      <td>NN</td>\n",
       "      <td>VBD</td>\n",
       "      <td>IN</td>\n",
       "      <td>DT</td>\n",
       "      <td>NN</td>\n",
       "    </tr>\n",
       "    <tr>\n",
       "      <th>Tag type</th>\n",
       "      <td>INTJ</td>\n",
       "      <td>PUNCT</td>\n",
       "      <td>DET</td>\n",
       "      <td>NOUN</td>\n",
       "      <td>VERB</td>\n",
       "      <td>ADP</td>\n",
       "      <td>DET</td>\n",
       "      <td>NOUN</td>\n",
       "    </tr>\n",
       "  </tbody>\n",
       "</table>\n",
       "</div>"
      ],
      "text/plain": [
       "               0      1    2     3     4    5    6     7\n",
       "Word        Well      ,  the   boy  fell   in    a  well\n",
       "Word_Lemma  well      ,  the   boy  fall   in    a  well\n",
       "POS tag       UH      ,   DT    NN   VBD   IN   DT    NN\n",
       "Tag type    INTJ  PUNCT  DET  NOUN  VERB  ADP  DET  NOUN"
      ]
     },
     "execution_count": 18,
     "metadata": {},
     "output_type": "execute_result"
    }
   ],
   "source": [
    "doc = nlp(\"Well, the boy fell in a well\")\n",
    "\n",
    "spacy_pos_tagged = [(token.text, token.lemma_, token.tag_,token.pos_) for token in doc]\n",
    "\n",
    "pd.DataFrame(spacy_pos_tagged, columns=['Word','Word_Lemma','POS tag','Tag type']).T"
   ]
  },
  {
   "cell_type": "markdown",
   "metadata": {},
   "source": [
    "# Shallow parsing\n",
    "\n",
    "http://www.nltk.org/book/ch07.html\n",
    "\n",
    "Shallow parsing, also known as light parsing or chunking, is a technique of analyzing the structure of a sentence to break it down into its smallest constituents, which are tokens like words, and group them together into higher-level phrases. In shallow parsing, there is more focus on identifying these phrases or chunks rather than diving into further details of the internal syntax and relations inside each chunk, like we see in grammar based parse trees obtained from deep parsing. The main objective of shallow parsing is to obtain semantically meaningful phrases and observe relations among them.\n",
    "\n",
    "Words have their own lexical properties like parts of speech, which we saw earlier. Using these words, we can order them in ways that give meaning to the words such that each word belongs to a corresponding phrasal category and one of the words is the main\n",
    "or head word. In the hierarchy tree, groups of words make up phrases, which form the third level in the syntax tree. By principle, phrases are assumed to have at least two or more words.\n",
    "\n",
    "However, a phrase can be a single word or a combination of words based on the syntax and position of the phrase in a clause or sentence. For example, the sentence, “Dessert was good” has only three words and each of them roll up to three phrases. The word “dessert” is a noun as well as a noun phrase, “is” depicts a verb as well as a verb phrase, and “good” represents an adjective as well as an adjective phrase describing the aforementioned dessert. There are five major categories of phrases, described next:\n",
    "\n",
    "\n",
    "- Noun phrase (NP): These are phrases where a noun acts as the head word. Noun phrases act as a subject or object to a verb. Noun phrases can be a set of words that can be replaced by a pronoun without rendering the sentence or clause syntactically incorrect. Some examples are “dessert”, “the lazy dog”, and “the brown fox”.\n",
    "\n",
    "- Verb phrase (VP): These phrases are lexical units that have a verb acting as the head word. Usually there are two forms of verb phrases, one form has the verb components as well as other entities like nouns adjectives or adverbs that are a part of the object. The verb here is known as a finite verb. It acts as a single unit in the hierarchy tree and can function as the root in a clause. This form is prominent in constituency grammars. The other form is where the finite verb acts as the root of the entire clause and is prominent in dependency grammars. Another derivation of this includes verb phrases strictly consisting of verb components, including main, auxiliary, infinitive, and participles. The following sentence, “He has started the engine” can be used to illustrate the two types of verb phrases. They would be ”has started the engine” and “has started” based on the two forms discussed.\n",
    "\n",
    "\n",
    "- Adjective phrase (ADJP): These are phrases whose head word is an adjective. Their main role is to describe or qualify nouns and pronouns in a sentence and they will be placed before or after the noun or pronoun. The sentence, “The cat is too quick” has an adjective phrase, “too quick” qualifying the cat, which is a noun phrase.\n",
    "\n",
    "- Adverb phrase (ADVP): These phrases act like an adverb since the adverb acts as the head word in the phrase. Adverb phrases are used as modifiers for nouns, verbs, or adverbs by providing further details to describe or qualify them. Considering the sentence, “The train should be at the station pretty soon”, the adjective phrase is “pretty soon” since it describes when the train will be arriving.\n",
    "\n",
    "- Prepositional phrase (PP): These phrases usually contain a preposition as the head word and other lexical components like nouns, pronouns, etc. They act like an adjective or adverb describing other words or phrases. The sentence “Going up the stairs” has a prepositional phrase, “up” describing the direction of the stairs.\n",
    "\n",
    "\n",
    "https://nickcdryan.com/2017/02/13/shallow-parsing-for-entity-recognition-with-nltk-and-machine-learning/\n",
    "\n",
    "\n",
    "We will now look at ways in which we can implement shallow parsing on text data using a wide variety of techniques, including regular expressions, chunking, chinking, and tag based training.\n",
    "\n",
    "We use several techniques like regular expressions and tagging based learners to build our own shallow parsers. Just like POS tagging, we use some training data to train our parsers if needed and evaluate all our parsers on some test data and on our sample sentence. The treebank corpus is available in NLTK with chunk annotations. We load it and then prepare our training and testing datasets using the following code snippet."
   ]
  },
  {
   "cell_type": "code",
   "execution_count": 96,
   "metadata": {},
   "outputs": [
    {
     "name": "stderr",
     "output_type": "stream",
     "text": [
      "[nltk_data] Downloading package conll2000 to /Users/olmos/nltk_data...\n",
      "[nltk_data]   Package conll2000 is already up-to-date!\n"
     ]
    },
    {
     "name": "stdout",
     "output_type": "stream",
     "text": [
      "10900 48\n",
      "(S (NP He/PRP) (VP talked/VBD) (NP about/IN 20/CD minutes/NNS) ./.)\n"
     ]
    },
    {
     "data": {
      "image/png": "[encoded data removed]",
      "text/plain": [
       "Tree('S', [Tree('NP', [('He', 'PRP')]), Tree('VP', [('talked', 'VBD')]), Tree('NP', [('about', 'IN'), ('20', 'CD'), ('minutes', 'NNS')]), ('.', '.')])"
      ]
     },
     "metadata": {},
     "output_type": "display_data"
    }
   ],
   "source": [
    "\n",
    "from IPython.display import display\n",
    "\n",
    "nltk.download('conll2000')\n",
    "from nltk.corpus import conll2000\n",
    "\n",
    "data= conll2000.chunked_sents()\n",
    "train_data=data[:10900]\n",
    "test_data=data[10900:]\n",
    "\n",
    "print(len(train_data),len(test_data))\n",
    "\n",
    "idx = 100\n",
    "\n",
    "# view sample data\n",
    "print(train_data[idx])\n",
    "\n",
    "#train_data[7].draw()\n",
    "\n",
    "display(train_data[idx])"
   ]
  },
  {
   "cell_type": "markdown",
   "metadata": {},
   "source": [
    "From this output, you can see that our data points are sentences and are already annotated with phrase and POS tags metadata, which will be useful in training shallow parsers. "
   ]
  },
  {
   "cell_type": "markdown",
   "metadata": {},
   "source": [
    "We start by using regular expressions for shallow parsing using concepts of chunking and chinking. Using the process of chunking, we can use and specify specific patterns to identify what we would want to chunk or segment in a sentence, such as phrases based on specific metadata. Chinking is the reverse of chunking, where we specify which specific tokens we do not want to be a part of any chunk and then form the necessary chunks excluding these tokens"
   ]
  },
  {
   "cell_type": "markdown",
   "metadata": {},
   "source": [
    "We leverage the RegexpParser class to create shallow parsers to illustrate chunking and chinking for noun phrases (noun phrase chunking, or NP-chunking)."
   ]
  },
  {
   "cell_type": "code",
   "execution_count": 116,
   "metadata": {},
   "outputs": [
    {
     "name": "stdout",
     "output_type": "stream",
     "text": [
      "POS Tags: [('The', 'DT'), ('little', 'JJ'), ('dog', 'NN'), ('barked', 'VBD'), ('at', 'IN'), ('the', 'DT'), ('cat', 'NN')]\n"
     ]
    }
   ],
   "source": [
    "from nltk.chunk import RegexpParser\n",
    "\n",
    "\n",
    "sentence = \"The little dog barked at the cat\"\n",
    "\n",
    "# get POS tagged sentence\n",
    "tagged_simple_sent = nltk.pos_tag(nltk.word_tokenize(sentence)) \n",
    "print('POS Tags:', tagged_simple_sent)\n",
    "\n"
   ]
  },
  {
   "cell_type": "markdown",
   "metadata": {},
   "source": [
    "We first define a chunk grammar, consisting of rules that indicate how sentences should be chunked. In this case, we will define a simple grammar with a single regular-expression rule. This rule says that an NP chunk should be formed whenever the chunker finds an optional determiner (DT) followed by any number of adjectives (JJ) and then a noun (NN). Using this grammar, we create a chunk parser [3], and test it on our example sentence [4]. The result is a tree, which we can either print [5], or display graphically"
   ]
  },
  {
   "cell_type": "code",
   "execution_count": 117,
   "metadata": {},
   "outputs": [
    {
     "name": "stdout",
     "output_type": "stream",
     "text": [
      "(S (NP The/DT little/JJ dog/NN) barked/VBD at/IN (NP the/DT cat/NN))\n"
     ]
    },
    {
     "data": {
      "image/png": "[encoded data removed]",
      "text/plain": [
       "Tree('S', [Tree('NP', [('The', 'DT'), ('little', 'JJ'), ('dog', 'NN')]), ('barked', 'VBD'), ('at', 'IN'), Tree('NP', [('the', 'DT'), ('cat', 'NN')])])"
      ]
     },
     "metadata": {},
     "output_type": "display_data"
    }
   ],
   "source": [
    "\n",
    "grammar = \"NP: {<DT>?<JJ>*<NN>}\"\n",
    "\n",
    "cp = nltk.RegexpParser(grammar)\n",
    "\n",
    "result = cp.parse(tagged_simple_sent)\n",
    "\n",
    "print(result)\n",
    "\n",
    "display(result)"
   ]
  },
  {
   "cell_type": "markdown",
   "metadata": {},
   "source": [
    "The rules that make up a chunk grammar use tag patterns to describe sequences of tagged words. A tag pattern is a sequence of part-of-speech tags delimited using angle brackets, e.g. `<DT>?<JJ>*<NN>`. Tag patterns are similar to regular expression patterns. This one is too simple and certainly can fail:\n",
    "    \n",
    "    \n"
   ]
  },
  {
   "cell_type": "code",
   "execution_count": 118,
   "metadata": {},
   "outputs": [
    {
     "data": {
      "image/png": "[encoded data removed]",
      "text/plain": [
       "Tree('S', [('The', 'DT'), ('Micro', 'NNP'), Tree('NP', [('computer', 'NN')]), ('systems', 'NNS'), ('were', 'VBD'), ('outdated', 'VBN')])"
      ]
     },
     "metadata": {},
     "output_type": "display_data"
    }
   ],
   "source": [
    "sentence2 = \"The Micro computer systems were outdated\"\n",
    "\n",
    "\n",
    "display(cp.parse(nltk.pos_tag(nltk.word_tokenize(sentence2))))\n"
   ]
  },
  {
   "cell_type": "markdown",
   "metadata": {},
   "source": [
    "A refine tag pattern `<DT>?<JJ.*>*<NN.*>+`. This will chunk any sequence of tokens beginning with an optional determiner, followed by zero or more adjectives of any type (including relative adjectives like earlier/JJR), followed by one or more nouns of any type."
   ]
  },
  {
   "cell_type": "code",
   "execution_count": 119,
   "metadata": {},
   "outputs": [
    {
     "data": {
      "image/png": "[encoded data removed]",
      "text/plain": [
       "Tree('S', [Tree('NP', [('The', 'DT'), ('Micro', 'NNP'), ('computer', 'NN'), ('systems', 'NNS')]), ('were', 'VBD'), ('outdated', 'VBN')])"
      ]
     },
     "metadata": {},
     "output_type": "display_data"
    }
   ],
   "source": [
    "grammar2 = \"NP: {<DT>?<JJ.*>*<NN.*>+}\"\n",
    "\n",
    "cp2 = nltk.RegexpParser(grammar2)\n",
    "\n",
    "display(cp2.parse(nltk.pos_tag(nltk.word_tokenize(sentence2))))\n",
    "\n"
   ]
  },
  {
   "cell_type": "markdown",
   "metadata": {},
   "source": [
    "Sometimes it is easier to define what we want to exclude from a chunk. We can define a **chink** to be a sequence of tokens that is not included in a chunk. In the following example, barked/VBD at/IN is a chink:\n",
    "\n",
    "\"the little yellow dog barked at the cat\"\n",
    "\n",
    "Chinking is the process of removing a sequence of tokens from a chunk. If the matching sequence of tokens spans an entire chunk, then the whole chunk is removed; if the sequence of tokens appears in the middle of the chunk, these tokens are removed, leaving two chunks where there was only one before. If the sequence is at the periphery of the chunk, these tokens are removed, and a smaller chunk remains."
   ]
  },
  {
   "cell_type": "code",
   "execution_count": 123,
   "metadata": {},
   "outputs": [
    {
     "data": {
      "image/png": "[encoded data removed]",
      "text/plain": [
       "Tree('S', [Tree('NP', [('The', 'DT'), ('little', 'JJ'), ('dog', 'NN')]), ('barked', 'VBD'), ('at', 'IN'), Tree('NP', [('the', 'DT'), ('cat', 'NN')])])"
      ]
     },
     "metadata": {},
     "output_type": "display_data"
    }
   ],
   "source": [
    "grammar3 = r\"\"\"\n",
    "  NP:\n",
    "    {<.*>+}          # Chunk everything\n",
    "    }<VB.*|IN>+{      # Chink sequences of VBD and IN\n",
    "  \"\"\"\n",
    "\n",
    "cp3 = nltk.RegexpParser(grammar3)\n",
    "\n",
    "display(cp3.parse(nltk.pos_tag(nltk.word_tokenize(sentence))))\n",
    "\n"
   ]
  },
  {
   "cell_type": "markdown",
   "metadata": {},
   "source": [
    "We will now train a more generic regular expression-based shallow parser and test its performance on our test data."
   ]
  },
  {
   "cell_type": "code",
   "execution_count": 125,
   "metadata": {},
   "outputs": [
    {
     "data": {
      "image/png": "[encoded data removed]",
      "text/plain": [
       "Tree('S', [Tree('NP', [('The', 'DT'), ('little', 'JJ'), ('dog', 'NN')]), Tree('VP', [('barked', 'VBD')]), Tree('PP', [('at', 'IN')]), Tree('NP', [('the', 'DT'), ('cat', 'NN')])])"
      ]
     },
     "metadata": {},
     "output_type": "display_data"
    }
   ],
   "source": [
    "# create a more generic shallow parser \n",
    "grammar = \"\"\"\n",
    "NP: {<DT>?<JJ>?<NN.*>}\n",
    "ADJP: {<JJ>}\n",
    "ADVP: {<RB.*>}\n",
    "PP: {<IN>}\n",
    "VP: {<MD>?<VB.*>+}\n",
    "\"\"\"\n",
    "\n",
    "cp4 = RegexpParser(grammar)\n",
    "display(cp4.parse(nltk.pos_tag(nltk.word_tokenize(sentence))))"
   ]
  },
  {
   "cell_type": "markdown",
   "metadata": {},
   "source": [
    "Let’s take a look at how this parser performs on the test dataset we built earlier."
   ]
  },
  {
   "cell_type": "code",
   "execution_count": 126,
   "metadata": {},
   "outputs": [
    {
     "name": "stdout",
     "output_type": "stream",
     "text": [
      "ChunkParse score:\n",
      "    IOB Accuracy:  59.1%%\n",
      "    Precision:     45.1%%\n",
      "    Recall:        57.7%%\n",
      "    F-Measure:     50.6%%\n"
     ]
    }
   ],
   "source": [
    "print(cp4.evaluate(test_data))"
   ]
  },
  {
   "cell_type": "markdown",
   "metadata": {},
   "source": [
    "Now that we’ve established a baseline, let’s build a classifier-based chunker. What is a classifier-based chunker? We saw that with our regex chunker, every decision about what to chunk and not chunk was purely a grammatical function of the text’s POS tags, the tag sequences, the tag frequencies, etc. In a classifier-based approach, we treat the chunker more like a traditional machine learning classification algorithm: take in a feature set and create predictions. Clearly our feature set is larger than just the POS tags we used in the regex chunker; we can extract information about the text from the tokens, token sequences, frequencies, sentence lengths, punctuation occurrences, etc. In the classifier-based approach we’ll exploit this information to create new features for our classifier.\n",
    "\n",
    "As you can see, this approach achieves decent results. However, we can improve on it by adopting a more data-driven approach, where we use the training corpus to find the chunk tag (I, O, or B) that is most likely for each part-of-speech tag. In other words, we can build a chunker using a unigram tagger (4). But rather than trying to determine the correct part-of-speech tag for each word, we are trying to determine the correct chunk tag, given each word's part-of-speech tag.\n",
    "\n",
    "http://www.nltk.org/book/ch07.html\n",
    "\n",
    "You have examples on how to train. Also, spacy gives you directly the noun chunks!\n"
   ]
  },
  {
   "cell_type": "markdown",
   "metadata": {},
   "source": [
    "In spacy, we have direct access to noun chunks"
   ]
  },
  {
   "cell_type": "code",
   "execution_count": 132,
   "metadata": {
    "scrolled": true
   },
   "outputs": [
    {
     "name": "stdout",
     "output_type": "stream",
     "text": [
      "The little dog\n",
      "the cat\n"
     ]
    }
   ],
   "source": [
    "nlp = spacy.load(\"en_core_web_sm\")\n",
    "doc = nlp(sentence)\n",
    "\n",
    "for chunk in doc.noun_chunks:\n",
    "    print(chunk.text)"
   ]
  },
  {
   "cell_type": "markdown",
   "metadata": {},
   "source": [
    "# Constituency parsing\n",
    "\n",
    "See http://www.nltk.org/book/ch08.html\n",
    "\n",
    "constituency parsing is deeper (syntactic rules and hierarchical) http://www.nltk.org/book/ch08.html\n",
    "\n",
    "THIS IS THE MOST USED ONE! includes Spanish. Needs JAVA\n",
    "\n",
    "https://nlp.stanford.edu/software/lex-parser.shtml#Download\n",
    "\n",
    "Included now in NLTK CORENLPParser!!\n",
    "\n",
    "http://www.nltk.org/api/nltk.parse.html?highlight=nltk%20parse%20corenlp\n",
    "\n",
    "SHOW THIS ONE IN THE WEB!\n",
    "\n",
    "https://demo.allennlp.org/constituency-parsing\n",
    "\n"
   ]
  },
  {
   "cell_type": "code",
   "execution_count": 156,
   "metadata": {},
   "outputs": [
    {
     "name": "stderr",
     "output_type": "stream",
     "text": [
      "/Users/olmos/opt/anaconda3/envs/work/lib/python3.6/site-packages/ipykernel_launcher.py:4: DeprecationWarning: The StanfordParser will be deprecated\n",
      "Please use \u001b[91mnltk.parse.corenlp.CoreNLPParser\u001b[0m instead.\n",
      "  after removing the cwd from sys.path.\n"
     ]
    }
   ],
   "source": [
    "from nltk.parse.stanford import StanfordParser\n",
    "\n",
    "scp = StanfordParser(path_to_jar='/Users/olmos/Dropbox/stanford-parser-full-2020-11-17/stanford-parser.jar',\n",
    "                     path_to_models_jar='/Users/olmos/Dropbox/stanford-parser-full-2020-11-17/stanford-parser-4.2.0-models.jar')\n",
    "\n",
    "\n",
    "\n"
   ]
  },
  {
   "cell_type": "code",
   "execution_count": 157,
   "metadata": {},
   "outputs": [
    {
     "data": {
      "text/plain": [
       "'This NLP Workshop is being organized by Analytics Vidhya as part of the DataHack Summit 2018'"
      ]
     },
     "execution_count": 157,
     "metadata": {},
     "output_type": "execute_result"
    }
   ],
   "source": [
    "sentence = 'This NLP Workshop is being organized by Analytics Vidhya as part of the DataHack Summit 2018'\n",
    "sentence"
   ]
  },
  {
   "cell_type": "code",
   "execution_count": 158,
   "metadata": {},
   "outputs": [
    {
     "name": "stdout",
     "output_type": "stream",
     "text": [
      "(ROOT\n",
      "  (S\n",
      "    (NP (DT This) (NNP NLP) (NNP Workshop))\n",
      "    (VP\n",
      "      (VBZ is)\n",
      "      (VP\n",
      "        (VBG being)\n",
      "        (VP\n",
      "          (VBN organized)\n",
      "          (PP\n",
      "            (IN by)\n",
      "            (NP\n",
      "              (NP (NNP Analytics) (NNP Vidhya))\n",
      "              (PP\n",
      "                (IN as)\n",
      "                (NP\n",
      "                  (NP (NN part))\n",
      "                  (PP\n",
      "                    (IN of)\n",
      "                    (NP (DT the) (NNP DataHack) (NNP Summit)))\n",
      "                  (NP (CD 2018)))))))))))\n"
     ]
    },
    {
     "data": {
      "image/png": "[encoded data removed]",
      "text/plain": [
       "Tree('ROOT', [Tree('S', [Tree('NP', [Tree('DT', ['This']), Tree('NNP', ['NLP']), Tree('NNP', ['Workshop'])]), Tree('VP', [Tree('VBZ', ['is']), Tree('VP', [Tree('VBG', ['being']), Tree('VP', [Tree('VBN', ['organized']), Tree('PP', [Tree('IN', ['by']), Tree('NP', [Tree('NP', [Tree('NNP', ['Analytics']), Tree('NNP', ['Vidhya'])]), Tree('PP', [Tree('IN', ['as']), Tree('NP', [Tree('NP', [Tree('NN', ['part'])]), Tree('PP', [Tree('IN', ['of']), Tree('NP', [Tree('DT', ['the']), Tree('NNP', ['DataHack']), Tree('NNP', ['Summit'])])]), Tree('NP', [Tree('CD', ['2018'])])])])])])])])])])])"
      ]
     },
     "metadata": {},
     "output_type": "display_data"
    }
   ],
   "source": [
    "result = list(scp.raw_parse(sentence))[0]\n",
    "print(result)\n",
    "\n",
    "\n",
    "display(result)"
   ]
  },
  {
   "cell_type": "markdown",
   "metadata": {},
   "source": [
    "See this\n",
    "\n",
    "https://bbengfort.github.io/2018/06/corenlp-nltk-parses/\n",
    "\n",
    "https://www.khalidalnajjar.com/setup-use-stanford-corenlp-server-python/"
   ]
  },
  {
   "cell_type": "markdown",
   "metadata": {},
   "source": [
    "# Weighted Tag-Based Phrase Extraction"
   ]
  },
  {
   "cell_type": "code",
   "execution_count": null,
   "metadata": {},
   "outputs": [],
   "source": []
  },
  {
   "cell_type": "markdown",
   "metadata": {},
   "source": [
    "### Name entity recognition\n",
    "\n",
    "FIRST STEP POS TAGS, THEN NOUN CHUNKS, THEN NER\n",
    "\n",
    "Part of speech tagging can tell us that words like Janet, Stanford University, and Colorado are all proper nouns; being a proper noun is a grammatical property of these words. But viewed from a semantic perspective, these proper nouns refer to different kinds of entities: Janet is a person, Stanford University is an organization,.. and Colorado is a location"
   ]
  },
  {
   "cell_type": "markdown",
   "metadata": {},
   "source": [
    "A named entity is, roughly speaking, anything that can be referred to with a proper name: a person, a location, an organization. The task of named entity recog- nition (NER) is to find spans of text that constitute proper names and tag the type of the entity. Four entity tags are most common: PER (person), LOC (location), ORG (organization), or GPE (geo-political entity). However, the term named entity is commonly extended to include things that aren’t entities per se, including dates, times, and other kinds of temporal expressions, and even numerical expressions like prices. Here’s an example of the output of an NER tagger:\n",
    "Citing high fuel prices, [ORG United Airlines] said [TIME Friday] it has increased fares by [MONEY $6] per round trip on flights to some cities also served by lower-cost carriers. [ORG American Airlines], a unit of [ORG AMR Corp.], immediately matched the move, spokesman [PER Tim Wagner] said. [ORG United], a unit of [ORG UAL Corp.], said the increase took effect [TIME Thursday] and applies to most routes where it competes against discount carriers, such as [LOC Chicago] to [LOC Dallas] and [LOC Denver] to [LOC San Francisco].\n",
    "\n",
    "The standard approach to sequence labeling for a span-recognition problem like NER is BIO tagging (Ramshaw and Marcus, 1995). This is a method that allows us to treat NER like a word-by-word sequence labeling task, via tags that capture both the boundary and the named entity type. Consider the following sentence:\n",
    "[PER Jane Villanueva ] of [ORG United] , a unit of [ORG United Airlines Holding] , said the fare applies to the [LOC Chicago ] route.\n",
    "\n",
    "Figure 8.7 shows the same excerpt represented with BIO tagging, as well as variants called IO tagging and BIOES tagging. In BIO tagging we label any token that begins a span of interest with the label B, tokens that occur inside a span are tagged with an I, and any tokens outside of any span of interest are labeled O. While there is only one O tag, we’ll have distinct B and I tags for each named entity class. The number of tags is thus 2n + 1 tags, where n is the number of entity types. BIO tagging can represent exactly the same information as the bracketed notation, but has the advantage that we can represent the task in the same simple sequence modeling way as part-of-speech tagging\n"
   ]
  },
  {
   "cell_type": "markdown",
   "metadata": {},
   "source": [
    "In any text document, there are particular terms that represent entities that are more informative and have a unique context compared to the rest of the text. These entities are known as named entities, and they more specifically represent real-world objects\n",
    "like people, places, organizations, and so on, which are usually denoted by proper names. We can find these by looking at the noun phrases in text documents. Named entity recognition, also called entity chunking/extraction, is a popular technique used in information extraction to identify and segment named entities and classify or categorize them under various predefined classes. SpaCy has some excellent capabilities for named entity recognition and you can find details on the general tagging scheme they use on their website at https://spacy.io/api/annotation#named-entities. We present the main named entity tags in the table depicted in Figure 8-4."
   ]
  },
  {
   "cell_type": "code",
   "execution_count": 13,
   "metadata": {},
   "outputs": [],
   "source": [
    "text = \"\"\"Three more countries have joined an \"international grand committee\" of parliaments, adding to calls for Facebook’s boss, Mark Zuckerberg, to give evidence on misinformation to the coalition. Brazil, Latvia and Singapore bring the total to eight different parliaments across the world, with plans to send representatives to London on 27 November\n",
    "with the intention of hearing from Zuckerberg. Since the Cambridge Analytica scandal broke, the Facebook chief has only appeared in front of two legislatures: the American Senate and House of Representatives, and\n",
    "the European parliament. Facebook has consistently rebuffed attempts from others, including the UK and Canadian parliaments, to hear from Zuckerberg. He added that an article in the New York Times on Thursday, in which the paper alleged a pattern of behaviour from Facebook to \"delay, deny and deflect\" negative news stories, \"raises further questions about how recent data breaches were allegedly dealt with within Facebook.\n",
    "\"\"\""
   ]
  },
  {
   "cell_type": "code",
   "execution_count": 14,
   "metadata": {},
   "outputs": [],
   "source": [
    "import re\n",
    "text = re.sub(r'\\n', '', text)"
   ]
  },
  {
   "cell_type": "code",
   "execution_count": 15,
   "metadata": {},
   "outputs": [
    {
     "name": "stdout",
     "output_type": "stream",
     "text": [
      "Three more countries have joined an \"international grand committee\" of parliaments, adding to calls for Facebook’s boss, Mark Zuckerberg, to give evidence on misinformation to the coalition. Brazil, Latvia and Singapore bring the total to eight different parliaments across the world, with plans to send representatives to London on 27 Novemberwith the intention of hearing from Zuckerberg. Since the Cambridge Analytica scandal broke, the Facebook chief has only appeared in front of two legislatures: the American Senate and House of Representatives, andthe European parliament. Facebook has consistently rebuffed attempts from others, including the UK and Canadian parliaments, to hear from Zuckerberg. He added that an article in the New York Times on Thursday, in which the paper alleged a pattern of behaviour from Facebook to \"delay, deny and deflect\" negative news stories, \"raises further questions about how recent data breaches were allegedly dealt with within Facebook.\n"
     ]
    }
   ],
   "source": [
    "print(text)"
   ]
  },
  {
   "cell_type": "code",
   "execution_count": 16,
   "metadata": {},
   "outputs": [],
   "source": [
    "nlp = spacy.load('en_core_web_sm')\n",
    "\n",
    "text_nlp = nlp(text)"
   ]
  },
  {
   "cell_type": "code",
   "execution_count": 17,
   "metadata": {},
   "outputs": [
    {
     "name": "stdout",
     "output_type": "stream",
     "text": [
      "[('Three', 'CARDINAL'), ('more', ''), ('countries', ''), ('have', ''), ('joined', ''), ('an', ''), ('\"', ''), ('international', ''), ('grand', ''), ('committee', ''), ('\"', ''), ('of', ''), ('parliaments', ''), (',', ''), ('adding', ''), ('to', ''), ('calls', ''), ('for', ''), ('Facebook', ''), ('’s', ''), ('boss', ''), (',', ''), ('Mark', 'PERSON'), ('Zuckerberg', 'PERSON'), (',', ''), ('to', ''), ('give', ''), ('evidence', ''), ('on', ''), ('misinformation', ''), ('to', ''), ('the', ''), ('coalition', ''), ('.', ''), ('Brazil', 'GPE'), (',', ''), ('Latvia', 'GPE'), ('and', ''), ('Singapore', 'GPE'), ('bring', ''), ('the', ''), ('total', ''), ('to', ''), ('eight', 'CARDINAL'), ('different', ''), ('parliaments', ''), ('across', ''), ('the', ''), ('world', ''), (',', ''), ('with', ''), ('plans', ''), ('to', ''), ('send', ''), ('representatives', ''), ('to', ''), ('London', 'GPE'), ('on', ''), ('27', 'CARDINAL'), ('Novemberwith', ''), ('the', ''), ('intention', ''), ('of', ''), ('hearing', ''), ('from', ''), ('Zuckerberg', 'GPE'), ('.', ''), ('Since', ''), ('the', ''), ('Cambridge', 'GPE'), ('Analytica', ''), ('scandal', ''), ('broke', ''), (',', ''), ('the', ''), ('Facebook', ''), ('chief', ''), ('has', ''), ('only', ''), ('appeared', ''), ('in', ''), ('front', ''), ('of', ''), ('two', 'CARDINAL'), ('legislatures', ''), (':', ''), ('the', ''), ('American', 'NORP'), ('Senate', 'ORG'), ('and', ''), ('House', 'ORG'), ('of', 'ORG'), ('Representatives', 'ORG'), (',', ''), ('andthe', ''), ('European', 'NORP'), ('parliament', ''), ('.', ''), ('Facebook', ''), ('has', ''), ('consistently', ''), ('rebuffed', ''), ('attempts', ''), ('from', ''), ('others', ''), (',', ''), ('including', ''), ('the', ''), ('UK', 'GPE'), ('and', ''), ('Canadian', 'NORP'), ('parliaments', ''), (',', ''), ('to', ''), ('hear', ''), ('from', ''), ('Zuckerberg', 'GPE'), ('.', ''), ('He', ''), ('added', ''), ('that', ''), ('an', ''), ('article', ''), ('in', ''), ('the', 'ORG'), ('New', 'ORG'), ('York', 'ORG'), ('Times', 'ORG'), ('on', ''), ('Thursday', 'DATE'), (',', ''), ('in', ''), ('which', ''), ('the', ''), ('paper', ''), ('alleged', ''), ('a', ''), ('pattern', ''), ('of', ''), ('behaviour', ''), ('from', ''), ('Facebook', ''), ('to', ''), ('\"', ''), ('delay', ''), (',', ''), ('deny', ''), ('and', ''), ('deflect', ''), ('\"', ''), ('negative', ''), ('news', ''), ('stories', ''), (',', ''), ('\"', ''), ('raises', ''), ('further', ''), ('questions', ''), ('about', ''), ('how', ''), ('recent', ''), ('data', ''), ('breaches', ''), ('were', ''), ('allegedly', ''), ('dealt', ''), ('with', ''), ('within', ''), ('Facebook', ''), ('.', '')]\n"
     ]
    }
   ],
   "source": [
    "ner_tagged = [(word.text, word.ent_type_) for word in text_nlp]\n",
    "print(ner_tagged)\n"
   ]
  },
  {
   "cell_type": "code",
   "execution_count": 18,
   "metadata": {},
   "outputs": [
    {
     "data": {
      "text/html": [
       "<span class=\"tex2jax_ignore\"><div class=\"entities\" style=\"line-height: 2.5; direction: ltr\">\n",
       "<mark class=\"entity\" style=\"background: #e4e7d2; padding: 0.45em 0.6em; margin: 0 0.25em; line-height: 1; border-radius: 0.35em;\">\n",
       "    Three\n",
       "    <span style=\"font-size: 0.8em; font-weight: bold; line-height: 1; border-radius: 0.35em; vertical-align: middle; margin-left: 0.5rem\">CARDINAL</span>\n",
       "</mark>\n",
       " more countries have joined an &quot;international grand committee&quot; of parliaments, adding to calls for Facebook’s boss, \n",
       "<mark class=\"entity\" style=\"background: #aa9cfc; padding: 0.45em 0.6em; margin: 0 0.25em; line-height: 1; border-radius: 0.35em;\">\n",
       "    Mark Zuckerberg\n",
       "    <span style=\"font-size: 0.8em; font-weight: bold; line-height: 1; border-radius: 0.35em; vertical-align: middle; margin-left: 0.5rem\">PERSON</span>\n",
       "</mark>\n",
       ", to give evidence on misinformation to the coalition. \n",
       "<mark class=\"entity\" style=\"background: #feca74; padding: 0.45em 0.6em; margin: 0 0.25em; line-height: 1; border-radius: 0.35em;\">\n",
       "    Brazil\n",
       "    <span style=\"font-size: 0.8em; font-weight: bold; line-height: 1; border-radius: 0.35em; vertical-align: middle; margin-left: 0.5rem\">GPE</span>\n",
       "</mark>\n",
       ", \n",
       "<mark class=\"entity\" style=\"background: #feca74; padding: 0.45em 0.6em; margin: 0 0.25em; line-height: 1; border-radius: 0.35em;\">\n",
       "    Latvia\n",
       "    <span style=\"font-size: 0.8em; font-weight: bold; line-height: 1; border-radius: 0.35em; vertical-align: middle; margin-left: 0.5rem\">GPE</span>\n",
       "</mark>\n",
       " and \n",
       "<mark class=\"entity\" style=\"background: #feca74; padding: 0.45em 0.6em; margin: 0 0.25em; line-height: 1; border-radius: 0.35em;\">\n",
       "    Singapore\n",
       "    <span style=\"font-size: 0.8em; font-weight: bold; line-height: 1; border-radius: 0.35em; vertical-align: middle; margin-left: 0.5rem\">GPE</span>\n",
       "</mark>\n",
       " bring the total to \n",
       "<mark class=\"entity\" style=\"background: #e4e7d2; padding: 0.45em 0.6em; margin: 0 0.25em; line-height: 1; border-radius: 0.35em;\">\n",
       "    eight\n",
       "    <span style=\"font-size: 0.8em; font-weight: bold; line-height: 1; border-radius: 0.35em; vertical-align: middle; margin-left: 0.5rem\">CARDINAL</span>\n",
       "</mark>\n",
       " different parliaments across the world, with plans to send representatives to \n",
       "<mark class=\"entity\" style=\"background: #feca74; padding: 0.45em 0.6em; margin: 0 0.25em; line-height: 1; border-radius: 0.35em;\">\n",
       "    London\n",
       "    <span style=\"font-size: 0.8em; font-weight: bold; line-height: 1; border-radius: 0.35em; vertical-align: middle; margin-left: 0.5rem\">GPE</span>\n",
       "</mark>\n",
       " on \n",
       "<mark class=\"entity\" style=\"background: #e4e7d2; padding: 0.45em 0.6em; margin: 0 0.25em; line-height: 1; border-radius: 0.35em;\">\n",
       "    27\n",
       "    <span style=\"font-size: 0.8em; font-weight: bold; line-height: 1; border-radius: 0.35em; vertical-align: middle; margin-left: 0.5rem\">CARDINAL</span>\n",
       "</mark>\n",
       " Novemberwith the intention of hearing from \n",
       "<mark class=\"entity\" style=\"background: #feca74; padding: 0.45em 0.6em; margin: 0 0.25em; line-height: 1; border-radius: 0.35em;\">\n",
       "    Zuckerberg\n",
       "    <span style=\"font-size: 0.8em; font-weight: bold; line-height: 1; border-radius: 0.35em; vertical-align: middle; margin-left: 0.5rem\">GPE</span>\n",
       "</mark>\n",
       ". Since the \n",
       "<mark class=\"entity\" style=\"background: #feca74; padding: 0.45em 0.6em; margin: 0 0.25em; line-height: 1; border-radius: 0.35em;\">\n",
       "    Cambridge\n",
       "    <span style=\"font-size: 0.8em; font-weight: bold; line-height: 1; border-radius: 0.35em; vertical-align: middle; margin-left: 0.5rem\">GPE</span>\n",
       "</mark>\n",
       " Analytica scandal broke, the Facebook chief has only appeared in front of \n",
       "<mark class=\"entity\" style=\"background: #e4e7d2; padding: 0.45em 0.6em; margin: 0 0.25em; line-height: 1; border-radius: 0.35em;\">\n",
       "    two\n",
       "    <span style=\"font-size: 0.8em; font-weight: bold; line-height: 1; border-radius: 0.35em; vertical-align: middle; margin-left: 0.5rem\">CARDINAL</span>\n",
       "</mark>\n",
       " legislatures: the \n",
       "<mark class=\"entity\" style=\"background: #c887fb; padding: 0.45em 0.6em; margin: 0 0.25em; line-height: 1; border-radius: 0.35em;\">\n",
       "    American\n",
       "    <span style=\"font-size: 0.8em; font-weight: bold; line-height: 1; border-radius: 0.35em; vertical-align: middle; margin-left: 0.5rem\">NORP</span>\n",
       "</mark>\n",
       " \n",
       "<mark class=\"entity\" style=\"background: #7aecec; padding: 0.45em 0.6em; margin: 0 0.25em; line-height: 1; border-radius: 0.35em;\">\n",
       "    Senate\n",
       "    <span style=\"font-size: 0.8em; font-weight: bold; line-height: 1; border-radius: 0.35em; vertical-align: middle; margin-left: 0.5rem\">ORG</span>\n",
       "</mark>\n",
       " and \n",
       "<mark class=\"entity\" style=\"background: #7aecec; padding: 0.45em 0.6em; margin: 0 0.25em; line-height: 1; border-radius: 0.35em;\">\n",
       "    House of Representatives\n",
       "    <span style=\"font-size: 0.8em; font-weight: bold; line-height: 1; border-radius: 0.35em; vertical-align: middle; margin-left: 0.5rem\">ORG</span>\n",
       "</mark>\n",
       ", andthe \n",
       "<mark class=\"entity\" style=\"background: #c887fb; padding: 0.45em 0.6em; margin: 0 0.25em; line-height: 1; border-radius: 0.35em;\">\n",
       "    European\n",
       "    <span style=\"font-size: 0.8em; font-weight: bold; line-height: 1; border-radius: 0.35em; vertical-align: middle; margin-left: 0.5rem\">NORP</span>\n",
       "</mark>\n",
       " parliament. Facebook has consistently rebuffed attempts from others, including the \n",
       "<mark class=\"entity\" style=\"background: #feca74; padding: 0.45em 0.6em; margin: 0 0.25em; line-height: 1; border-radius: 0.35em;\">\n",
       "    UK\n",
       "    <span style=\"font-size: 0.8em; font-weight: bold; line-height: 1; border-radius: 0.35em; vertical-align: middle; margin-left: 0.5rem\">GPE</span>\n",
       "</mark>\n",
       " and \n",
       "<mark class=\"entity\" style=\"background: #c887fb; padding: 0.45em 0.6em; margin: 0 0.25em; line-height: 1; border-radius: 0.35em;\">\n",
       "    Canadian\n",
       "    <span style=\"font-size: 0.8em; font-weight: bold; line-height: 1; border-radius: 0.35em; vertical-align: middle; margin-left: 0.5rem\">NORP</span>\n",
       "</mark>\n",
       " parliaments, to hear from \n",
       "<mark class=\"entity\" style=\"background: #feca74; padding: 0.45em 0.6em; margin: 0 0.25em; line-height: 1; border-radius: 0.35em;\">\n",
       "    Zuckerberg\n",
       "    <span style=\"font-size: 0.8em; font-weight: bold; line-height: 1; border-radius: 0.35em; vertical-align: middle; margin-left: 0.5rem\">GPE</span>\n",
       "</mark>\n",
       ". He added that an article in \n",
       "<mark class=\"entity\" style=\"background: #7aecec; padding: 0.45em 0.6em; margin: 0 0.25em; line-height: 1; border-radius: 0.35em;\">\n",
       "    the New York Times\n",
       "    <span style=\"font-size: 0.8em; font-weight: bold; line-height: 1; border-radius: 0.35em; vertical-align: middle; margin-left: 0.5rem\">ORG</span>\n",
       "</mark>\n",
       " on \n",
       "<mark class=\"entity\" style=\"background: #bfe1d9; padding: 0.45em 0.6em; margin: 0 0.25em; line-height: 1; border-radius: 0.35em;\">\n",
       "    Thursday\n",
       "    <span style=\"font-size: 0.8em; font-weight: bold; line-height: 1; border-radius: 0.35em; vertical-align: middle; margin-left: 0.5rem\">DATE</span>\n",
       "</mark>\n",
       ", in which the paper alleged a pattern of behaviour from Facebook to &quot;delay, deny and deflect&quot; negative news stories, &quot;raises further questions about how recent data breaches were allegedly dealt with within Facebook.</div></span>"
      ],
      "text/plain": [
       "<IPython.core.display.HTML object>"
      ]
     },
     "metadata": {},
     "output_type": "display_data"
    }
   ],
   "source": [
    "from spacy import displacy\n",
    "\n",
    "displacy.render(text_nlp, style='ent', jupyter=True)"
   ]
  },
  {
   "cell_type": "markdown",
   "metadata": {},
   "source": [
    "We can see all the major named entities tagged in the nice visualization depicted in Figure 8-5. Most of them make perfect sense, while some are slightly wrong. We can also programmatically extract the named entities, which is often more useful using the following code."
   ]
  },
  {
   "cell_type": "code",
   "execution_count": 30,
   "metadata": {},
   "outputs": [
    {
     "name": "stdout",
     "output_type": "stream",
     "text": [
      "['CARDINAL', 'PERSON', 'PERSON', 'GPE', 'GPE', 'GPE', 'CARDINAL', 'GPE', 'CARDINAL', 'GPE', 'GPE', 'CARDINAL', 'NORP', 'ORG', 'ORG', 'ORG', 'ORG', 'NORP', 'GPE', 'NORP', 'GPE', 'ORG', 'ORG', 'ORG', 'ORG', 'DATE']\n"
     ]
    }
   ],
   "source": [
    "ner_tagged_red = [tag for (word,tag,iob) in ner_tagged if tag]\n",
    "\n",
    "print(ner_tagged_red)\n"
   ]
  },
  {
   "cell_type": "code",
   "execution_count": 38,
   "metadata": {},
   "outputs": [],
   "source": [
    "# Alternatively\n",
    "\n",
    "ner_tagged_red = [e.label_ for e in text_nlp.ents]\n",
    "\n",
    "\n"
   ]
  },
  {
   "cell_type": "code",
   "execution_count": 39,
   "metadata": {},
   "outputs": [
    {
     "name": "stdout",
     "output_type": "stream",
     "text": [
      "dict_items([('CARDINAL', 4), ('PERSON', 1), ('GPE', 8), ('NORP', 3), ('ORG', 3), ('DATE', 1)])\n"
     ]
    }
   ],
   "source": [
    "from collections import Counter\n",
    "d = Counter(ner_tagged_red)\n",
    "\n",
    "print(d.items())"
   ]
  },
  {
   "cell_type": "markdown",
   "metadata": {},
   "source": [
    "Unlike part-of-speech tagging, where there is no segmentation problem since each word gets one tag, the task of named entity recognition is to find and label spans of text, and is difficult partly because of the ambiguity of segmentation; we need to decide what’s an entity and what isn’t, and where the boundaries are. Indeed, most words in a text will not be named entities. Another difficulty is caused by type ambiguity. The mention JFK can refer to a person, the airport in New York, or any number of schools, bridges, and streets around the United States. \n",
    "\n",
    "The standard approach to sequence labeling for a span-recognition problem like NER is BIO tagging (Ramshaw and Marcus, 1995). This is a method that allows us to treat NER like a word-by-word sequence labeling task, via tags that capture both the boundary and the named entity type. In BIO tagging we label any token that begins a span of interest with the label B, tokens that occur inside a span are tagged with an I, and any tokens outside of any span of interest are labeled O. While there is only one O tag, we’ll have distinct B and I tags for each named entity class. The number of tags is thus 2n + 1 tags, where n is the number of entity types. BIO tagging can represent exactly the same information as the bracketed notation.\n",
    "\n",
    "TABLA!!\n",
    "\n",
    "\n",
    "In 'word.ent_iob' we get IOB code of named entity tag. 3 means the token begins an entity, 2 means it is outside an entity, 1 means it is inside an entity, and 0 means no entity tag is set.\n",
    "\n",
    "https://spacy.io/api/token#attributes"
   ]
  },
  {
   "cell_type": "code",
   "execution_count": 40,
   "metadata": {},
   "outputs": [
    {
     "name": "stdout",
     "output_type": "stream",
     "text": [
      "[('Three', 'CARDINAL', 'B'), ('more', '', 'O'), ('countries', '', 'O'), ('have', '', 'O'), ('joined', '', 'O'), ('an', '', 'O'), ('\"', '', 'O'), ('international', '', 'O'), ('grand', '', 'O'), ('committee', '', 'O'), ('\"', '', 'O'), ('of', '', 'O'), ('parliaments', '', 'O'), (',', '', 'O'), ('adding', '', 'O'), ('to', '', 'O'), ('calls', '', 'O'), ('for', '', 'O'), ('Facebook', '', 'O'), ('’s', '', 'O'), ('boss', '', 'O'), (',', '', 'O'), ('Mark', 'PERSON', 'B'), ('Zuckerberg', 'PERSON', 'I'), (',', '', 'O'), ('to', '', 'O'), ('give', '', 'O'), ('evidence', '', 'O'), ('on', '', 'O'), ('misinformation', '', 'O'), ('to', '', 'O'), ('the', '', 'O'), ('coalition', '', 'O'), ('.', '', 'O'), ('Brazil', 'GPE', 'B'), (',', '', 'O'), ('Latvia', 'GPE', 'B'), ('and', '', 'O'), ('Singapore', 'GPE', 'B'), ('bring', '', 'O'), ('the', '', 'O'), ('total', '', 'O'), ('to', '', 'O'), ('eight', 'CARDINAL', 'B'), ('different', '', 'O'), ('parliaments', '', 'O'), ('across', '', 'O'), ('the', '', 'O'), ('world', '', 'O'), (',', '', 'O'), ('with', '', 'O'), ('plans', '', 'O'), ('to', '', 'O'), ('send', '', 'O'), ('representatives', '', 'O'), ('to', '', 'O'), ('London', 'GPE', 'B'), ('on', '', 'O'), ('27', 'CARDINAL', 'B'), ('Novemberwith', '', 'O'), ('the', '', 'O'), ('intention', '', 'O'), ('of', '', 'O'), ('hearing', '', 'O'), ('from', '', 'O'), ('Zuckerberg', 'GPE', 'B'), ('.', '', 'O'), ('Since', '', 'O'), ('the', '', 'O'), ('Cambridge', 'GPE', 'B'), ('Analytica', '', 'O'), ('scandal', '', 'O'), ('broke', '', 'O'), (',', '', 'O'), ('the', '', 'O'), ('Facebook', '', 'O'), ('chief', '', 'O'), ('has', '', 'O'), ('only', '', 'O'), ('appeared', '', 'O'), ('in', '', 'O'), ('front', '', 'O'), ('of', '', 'O'), ('two', 'CARDINAL', 'B'), ('legislatures', '', 'O'), (':', '', 'O'), ('the', '', 'O'), ('American', 'NORP', 'B'), ('Senate', 'ORG', 'B'), ('and', '', 'O'), ('House', 'ORG', 'B'), ('of', 'ORG', 'I'), ('Representatives', 'ORG', 'I'), (',', '', 'O'), ('andthe', '', 'O'), ('European', 'NORP', 'B'), ('parliament', '', 'O'), ('.', '', 'O'), ('Facebook', '', 'O'), ('has', '', 'O'), ('consistently', '', 'O'), ('rebuffed', '', 'O'), ('attempts', '', 'O'), ('from', '', 'O'), ('others', '', 'O'), (',', '', 'O'), ('including', '', 'O'), ('the', '', 'O'), ('UK', 'GPE', 'B'), ('and', '', 'O'), ('Canadian', 'NORP', 'B'), ('parliaments', '', 'O'), (',', '', 'O'), ('to', '', 'O'), ('hear', '', 'O'), ('from', '', 'O'), ('Zuckerberg', 'GPE', 'B'), ('.', '', 'O'), ('He', '', 'O'), ('added', '', 'O'), ('that', '', 'O'), ('an', '', 'O'), ('article', '', 'O'), ('in', '', 'O'), ('the', 'ORG', 'B'), ('New', 'ORG', 'I'), ('York', 'ORG', 'I'), ('Times', 'ORG', 'I'), ('on', '', 'O'), ('Thursday', 'DATE', 'B'), (',', '', 'O'), ('in', '', 'O'), ('which', '', 'O'), ('the', '', 'O'), ('paper', '', 'O'), ('alleged', '', 'O'), ('a', '', 'O'), ('pattern', '', 'O'), ('of', '', 'O'), ('behaviour', '', 'O'), ('from', '', 'O'), ('Facebook', '', 'O'), ('to', '', 'O'), ('\"', '', 'O'), ('delay', '', 'O'), (',', '', 'O'), ('deny', '', 'O'), ('and', '', 'O'), ('deflect', '', 'O'), ('\"', '', 'O'), ('negative', '', 'O'), ('news', '', 'O'), ('stories', '', 'O'), (',', '', 'O'), ('\"', '', 'O'), ('raises', '', 'O'), ('further', '', 'O'), ('questions', '', 'O'), ('about', '', 'O'), ('how', '', 'O'), ('recent', '', 'O'), ('data', '', 'O'), ('breaches', '', 'O'), ('were', '', 'O'), ('allegedly', '', 'O'), ('dealt', '', 'O'), ('with', '', 'O'), ('within', '', 'O'), ('Facebook', '', 'O'), ('.', '', 'O')]\n"
     ]
    }
   ],
   "source": [
    "ner_tagged = [(word.text, word.ent_type_, word.ent_iob_) for word in text_nlp]\n",
    "\n",
    "\n",
    "print(ner_tagged)\n"
   ]
  },
  {
   "cell_type": "markdown",
   "metadata": {},
   "source": [
    "# Dependency Parsing"
   ]
  },
  {
   "cell_type": "code",
   "execution_count": null,
   "metadata": {},
   "outputs": [],
   "source": []
  },
  {
   "cell_type": "markdown",
   "metadata": {},
   "source": [
    "# Conference resolution\n",
    "\n",
    "https://galhever.medium.com/a-quick-review-of-coreference-resolution-task-14358f27b931\n",
    "\n",
    "https://galhever.medium.com/a-review-to-co-reference-resolution-models-f44b4360a00\n",
    "\n",
    "https://spacy.io/universe/project/neuralcoref\n",
    "\n",
    "https://medium.com/huggingface/state-of-the-art-neural-coreference-resolution-for-chatbots-3302365dcf30"
   ]
  },
  {
   "cell_type": "code",
   "execution_count": 159,
   "metadata": {},
   "outputs": [
    {
     "ename": "ModuleNotFoundError",
     "evalue": "No module named 'neuralcoref'",
     "output_type": "error",
     "traceback": [
      "\u001b[0;31m---------------------------------------------------------------------------\u001b[0m",
      "\u001b[0;31mModuleNotFoundError\u001b[0m                       Traceback (most recent call last)",
      "\u001b[0;32m<ipython-input-159-75fe4050712e>\u001b[0m in \u001b[0;36m<module>\u001b[0;34m\u001b[0m\n\u001b[1;32m      1\u001b[0m \u001b[0;32mimport\u001b[0m \u001b[0mspacy\u001b[0m\u001b[0;34m\u001b[0m\u001b[0;34m\u001b[0m\u001b[0m\n\u001b[0;32m----> 2\u001b[0;31m \u001b[0;32mimport\u001b[0m \u001b[0mneuralcoref\u001b[0m\u001b[0;34m\u001b[0m\u001b[0;34m\u001b[0m\u001b[0m\n\u001b[0m\u001b[1;32m      3\u001b[0m \u001b[0;34m\u001b[0m\u001b[0m\n",
      "\u001b[0;31mModuleNotFoundError\u001b[0m: No module named 'neuralcoref'"
     ]
    }
   ],
   "source": [
    "import spacy\n",
    "import neuralcoref\n",
    "\n"
   ]
  },
  {
   "cell_type": "code",
   "execution_count": null,
   "metadata": {},
   "outputs": [],
   "source": []
  }
 ],
 "metadata": {
  "kernelspec": {
   "display_name": "Python 3",
   "language": "python",
   "name": "python3"
  },
  "language_info": {
   "codemirror_mode": {
    "name": "ipython",
    "version": 3
   },
   "file_extension": ".py",
   "mimetype": "text/x-python",
   "name": "python",
   "nbconvert_exporter": "python",
   "pygments_lexer": "ipython3",
   "version": "3.6.10"
  }
 },
 "nbformat": 4,
 "nbformat_minor": 4
}
