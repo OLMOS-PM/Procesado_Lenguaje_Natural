{
 "cells": [
  {
   "cell_type": "markdown",
   "metadata": {
    "id": "FBFy3UxPIyjH"
   },
   "source": [
    "# Representaciones vectoriales de palabras y oraciones: text embeddings\n",
    "\n",
    "### Procesamiento del Lenguaje Natural\n",
    "\n",
    "**Pablo Martínez Olmos**\n",
    "\n",
    "Departamento de Teoría de la Señal y Comunicaciones\n",
    "\n",
    "**Universidad Carlos III de Madrid**\n",
    "\n",
    "<img src='http://www.tsc.uc3m.es/~emipar/BBVA/INTRO/img/logo_uc3m_foot.jpg' width=400 />"
   ]
  },
  {
   "cell_type": "code",
   "execution_count": 26,
   "metadata": {
    "executionInfo": {
     "elapsed": 922,
     "status": "ok",
     "timestamp": 1613129230106,
     "user": {
      "displayName": "VANESSA GOMEZ VERDEJO",
      "photoUrl": "",
      "userId": "10847227554119461925"
     },
     "user_tz": -60
    },
    "id": "ACDSB7Y5WmYN"
   },
   "outputs": [],
   "source": [
    "%matplotlib inline  \n",
    "# Figures plotted inside the notebook\n",
    "%config InlineBackend.figure_format = 'retina'\n",
    "# High quality figures\n",
    "import matplotlib.pyplot as plt\n",
    "import numpy as np\n",
    "import pandas as pd\n",
    "import gc\n",
    "\n",
    "# Configuración de las figuras matplotlib\n",
    "plt.rcParams['figure.figsize'] = [8, 6]\n",
    "plt.rcParams.update({'font.size': 12})"
   ]
  },
  {
   "cell_type": "markdown",
   "metadata": {
    "id": "d3W238BoIyg3"
   },
   "source": [
    "# 1. Introducción\n",
    "\n",
    "Un *embedding* es una representación vectorial de nuestros datos en un espacio de dimensión **relativamente bajo**. La representación mediante *embeddings* suele utilizarse para facilitar el aprendizaje de modelos cuando se tienen que manejar datos categóricos o conceptos cuya codificación suele llevar a representaciones *sparse* de alta dimensión, como pueden ser codificaciones one-hot encoding de variables categóricas estandar o  representaciones BoW o TF-IDF de documentos. \n",
    "\n",
    "Así, por ejemplo, una codificación one-hot de paises y ciudades nos llevaría a vectores de este tipo:\n",
    "\n",
    "<img src=\"http://www.tsc.uc3m.es/~vanessa/Figs_notebooks/BBVA/Embeddings/OneHotEncoding.png\" width=\"40%\"> \n",
    "\n",
    "\n",
    "Al utilizar este tipo de representaciones en un sistema de aprendizaje automático nos encontramos varias limitaciones:\n",
    "* Por un lado, trabajar con un espacio de **muy alta dimensión** implica entrenar un modelo con muchos parámetros, lo que a su vez conlleva un mayor coste computacional, riesgo de sobreajuste, ...\n",
    "* Por otro lado, el tener que manejar representaciones dispersas dificulta el cálculo de distancias entre elementos así como la **identificación de elementos similares**. Por ejemplo, la codificación anterior nos va a dar la misma distancia entre Rome y Paris que entre Rome e Italia.\n",
    "\n",
    "Por tanto, para utilizar este tipo de representaciones en un sistema de aprendizaje automático, necesitamos una forma de representar cada vector disperso como un vector de números para el que los elementos semánticamente similares (ciudades, películas o palabras) tengan distancias similares en el espacio vectorial. La solución a estos problemas es utilizar *embeddings*, ya que son capaces de transformar grandes vectores dispersos a un espacio de menor dimensión que preserva las relaciones semánticas. \n",
    "\n",
    "Idealmente, un buen *embedding* debe proporcionar un conjunto de vectores cuya posición (distancia y dirección) en el espacio vectorial codifique la semántica de los datos que representan. Las siguientes visualizaciones$^{(*)}$ de *embeddings* reales muestran relaciones geométricas que capturan relaciones semánticas como el genero, un tiempo verbal o la relación entre un país y su capital\n",
    "\n",
    "<img src=\"http://www.tsc.uc3m.es/~vanessa/Figs_notebooks/BBVA/Embeddings/Embeddings1.svg\" width=\"80%\"> \n",
    "\n",
    "Además, la representación de los datos mediante  *embeddings* tiene varias ventajas:\n",
    "* Ayuda al aprendizaje del modelo, ya que reducirá el coste computacional y evitará problemas de sobreajuste.  \n",
    "* Esta representación puede aprenderse y reutilizarse en distintos modelos.\n",
    "* Al manejar los datos en un espacio de menor dimensión se facilita su representación, ya sea porque el *embedding* nos permite tener los datos en un espacio de dos o tres dimensiones, o porque se puede combinar con algoritmos de visualización (que veremos más adelante) que nos permiten visualizar lo que está ocurriendo en este espacio del *embedding*.\n",
    "\n",
    "$^{(*)}$ https://developers.google.com/machine-learning/crash-course/embeddings/translating-to-a-lower-dimensional-space\n"
   ]
  },
  {
   "cell_type": "markdown",
   "metadata": {},
   "source": [
    "En la sesión de hoy, estudiaremos los siguientes aspectos relacionados con *embeddings* de texto:\n",
    "- Modelo **Word2Vec** para entrenar *word embeddings*. \n",
    "    - Entrenamiento de Word2Vec con gensim. \n",
    "    - Modelos Word2Vec pre-entrenados en gensim y spaCy.\n",
    "- Otras aproximaciones a word embeddings: **CBoW, Glove, FastText**. Uso de modelos pre-entrenados.\n",
    "- **Text embeddings (embeddings para documentos)**  con Doc2Vec y gensim."
   ]
  },
  {
   "cell_type": "markdown",
   "metadata": {},
   "source": [
    "# 2. Embeddings de palabras con Wor2Vec\n",
    "\n",
    "[Word2vec](https://arxiv.org/pdf/1310.4546.pdf) utiliza un tipo muy sencillo de **red neuronal** para aprender asociaciones de palabras de un gran corpus de texto. Word2vec se basa en la premisa de que palabras con significado similar deben ser codificadas con vectores geométricamente cercanos. Para ello se considera que las palabras que suelen tener las mismas palabras vecinas (contexto) tienden a ser semánticamente similares. Tanto \"perro\" como \"gato\" aparecen con frecuencia cerca de la palabra \"veterinario\", y este hecho refleja su similitud semántica. \n",
    "\n",
    "Si bien en general vamos a utilizar librerías y modelos pre-entrenados, presentaremos wor2vec como ejemplo representativo de modelo de red neuronal aplicado a NLP. Para ello, revisamos brevemente **regresión logística para clasificación** y su extensión a Wor2Vec.\n",
    "\n",
    "Hay diferentes esquemas para construir un word2vec, aquí vamos a ver el modelo más común que es el **Skip-Gram**.\n",
    "\n",
    "## 2.1 Revisión: regresión logística binaria\n",
    "\n",
    "Supongamos que tenemos un conjunto de datos de entrenamiento $(\\mathbf{x}_i,y_i)$ donde $\\mathbf{x}_i\\in\\mathbf{R}^m$ e $y_i\\in\\{0,1\\}$.\n",
    "\n",
    "\n",
    "En regresión logística (en adelante RL) aproximamos la probabilidad de la etiqueta $y$ usando una **combinación lineal** de las entradas $\\bf x$:\n",
    "\n",
    "$$P(y=1| {\\bf x}) =  \\frac{1}{1+\\exp(-({\\bf w}^T {\\bf x}+w_0))}=\\sigma({\\bf w}^T {\\bf x}+w_0)$$\n",
    "$$$$\n",
    "$$ P(y=0| {\\bf x}) = 1- P(Y=y| {\\bf x}) = 1 - \\sigma({\\bf w}^T {\\bf x}+w_0)$$\n",
    "\n",
    "donde \n",
    "\n",
    "- $w_0$ y ${\\bf w} = [w_1, \\ldots, w_D]$ son parámetros que aprenderemos usando el conjunto de datos de entrenamiento $(\\mathbf{x}^{(i)},y^{(i)})_{i=1,\\ldots,N}$.\n",
    "$$$$\n",
    "- $\\sigma(a) = \\frac{1}{1+\\exp(-a)}$ es la función sigmoide.\n",
    "$$$$\n"
   ]
  },
  {
   "cell_type": "markdown",
   "metadata": {},
   "source": [
    "#### Función de coste\n",
    "\n",
    "Para seleccionar el vector $\\mathbf{w}$, RL resuelve el siguiente problema de optimización:\n",
    "\n",
    "$$l({\\bf w}) = \\sum_{i=1}^N \\left\\lbrace  y^{(i)}\\log \\left(  P(y=1| {\\bf x}^{(i)})\\right)  + (1-y^{(i)}) \\log\\left(  1- P(y=1| {\\bf x}^{(i)}) \\right)  \\right\\rbrace $$\n",
    "\n",
    "$${\\bf w}^* =\\displaystyle \\underset{{\\bf w}}{\\operatorname{max}} l({\\bf w})$$\n",
    "\n",
    "- Que no es más que intentar alinear las regiones de probabilidades constantes con **las probabilidades de las etiquetas reales**.\n",
    "- Este problema no tiene solución cerrada. Se resuelve con optimización numérica.\n"
   ]
  },
  {
   "cell_type": "markdown",
   "metadata": {},
   "source": [
    "## 2.2 Revisión: regresión logística multiclase\n",
    "\n",
    "Supongamos ahora que tenemos etiquetas con $K$ posibles valores: $y_i \\in\\{1,\\ldots,K\\}$. RL formula ahora del siguiente modo:\n",
    "\n",
    "\\begin{align}\n",
    "P(y=k|\\mathbf{x}) = \\frac{\\text{e}^{z_k}}{\\sum_{j=1}^{K}\\text{e}^{z_j}}, k =1,\\ldots,K\n",
    "\\end{align}\n",
    "donde el vector $\\mathbf{z} = \\left[z_1,\\ldots,z_K\\right]$ se calcula como\n",
    "\n",
    "$$\\mathbf{z} = \\mathbf{W}\\mathbf{x} + \\mathbf{w}_0$$\n",
    "\n",
    "siendo $\\mathbf{W}$ una matriz real de dimensiones $K\\times m$ y $\\mathbf{w_0}$ un vector de dimensiones $K \\times 1$.\n",
    "\n",
    "La función de coste es esencialmente la misma, acumulamos el logaritmo de la probabilidad que damos a cada etiqueta real:\n",
    "\n",
    "$$l({\\bf W,w_0}) = \\sum_{i=1}^N \\sum_{j=1}^{K} \\log \\left(  P(Y=k| {\\bf x}^{(i)})\\right) \\mathbb{1}[y^{(i)}==k]$$\n",
    "\n",
    "\n",
    "$${\\bf W^*,w^*_0} =\\displaystyle \\underset{{\\bf W,w_0}}{\\operatorname{max}} l({\\bf W,w_0})$$\n"
   ]
  },
  {
   "cell_type": "markdown",
   "metadata": {
    "id": "-kPgrHHorAuN"
   },
   "source": [
    "## 2.3 Modelo Skip-Gram \n",
    "\n",
    "Supongamos que se tiene una ventana deslizante de tamaño fijo que se desplaza a lo largo de una frase: la palabra del centro es el **objetivo** y las que están a su izquierda y derecha dentro de la ventana deslizante son las palabras de **contexto**. \n",
    "\n",
    "Consideremos el siguiente ejemplo donde usamos una ventana de tamaño 5 para ir construyendo nuestras muestras de entrenamiento con pares de palabras (objetivo, contexto):\n",
    "\n",
    "<img src=\"http://www.tsc.uc3m.es/~vanessa/Figs_notebooks/BBVA/Embeddings/word2vec1.png\" width=\"80%\"> \n",
    "\n",
    "A partir de este conjunto de datos, el modelo Skip-Gram se entrena para predecir las probabilidades de que una palabra sea el contexto de un determinado objetivo. Para ello utiliza una **una regresión logística multiclase**, con la particularidad de que **la entrada al clasificador no es directamente la codificación one-hot** de cada palabra, sino un vector real de dimensión $D<<V$ que se aprende junto a los parámetros de la regresión logística. Este vector es el word embedding de dicha palabra. \n",
    "\n",
    "Al reducir la dimensión a la entrada, hacemos que el número de parámetros que tentemos que entrenar pase de **$V^2$ a $2D\\times V$**. La estructura final, que mostramos a continuación, es un tipo de **red neuronal** muy sencilla.\n",
    "\n",
    "\n",
    "<img src=\"http://www.tsc.uc3m.es/~vanessa/Figs_notebooks/BBVA/Embeddings/word2vec3.png\" width=\"80%\"> \n",
    "\n",
    "Las palabras objetivo ($x_1$, ..., $x_v$) están a la entrada de la red con una codificación one-hot. Las palabras contexto ($y_1$, ..., $y_v$) son el objetivo y están a la salida también con una codificación one-hot. De este modo la red, para cada par (objetivo, contexto) debe predecir el contexto de la palabra objetivo. Para ello, la red tiene una capa intermedia que permite modelar el contexto a partir del objetivo. El tamaño de esta capa ($D$) define el tamaño o dimensión de nuestro embedding; para procesado de texto suelen usarse embedding de tamaño 100, 200,... aunque lógicamente esto depende de la complejidad de la base de datos.\n",
    "\n",
    "Usando así el conjunto de entrenamiento que generamos con el corpus de datos, se entrenará la red y se aprenderán los parámetros de red dados por las matrices de entrada $W$ y la de salida $W'$. Mientras que la matriz de salida codifica el contexto, la matriz de entrada (denominada *embedding*) nos da una representación en un espacio de tamaño $D$ de cada una de las palabras objetivo en nuestro corpus. \n",
    "\n"
   ]
  },
  {
   "cell_type": "markdown",
   "metadata": {
    "id": "087gNibGPr7v"
   },
   "source": [
    "**Carga de datos** \n",
    "\n",
    "Para empezar a trabajar con este modelo vamos a empezar utilizando uno de los datasets de NLTK. En este caso elegimos el dataset *Reuters Corpus* que contiene 10.877 noticias sobre finanzas y un total de 1.3 millones de palabras. Los documentos están clasificados en 90 categorías.\n",
    "\n",
    "Si en Google colab os da un error al descargar `reuters` hay que forzar que carge la última versión de la librería\n"
   ]
  },
  {
   "cell_type": "code",
   "execution_count": 27,
   "metadata": {},
   "outputs": [],
   "source": [
    "# !pip install --user -U nltk"
   ]
  },
  {
   "cell_type": "code",
   "execution_count": 28,
   "metadata": {},
   "outputs": [
    {
     "name": "stdout",
     "output_type": "stream",
     "text": [
      "['acq', 'alum', 'barley', 'bop', 'carcass', 'castor-oil', 'cocoa', 'coconut', 'coconut-oil', 'coffee', 'copper', 'copra-cake', 'corn', 'cotton', 'cotton-oil', 'cpi', 'cpu', 'crude', 'dfl', 'dlr', 'dmk', 'earn', 'fuel', 'gas', 'gnp', 'gold', 'grain', 'groundnut', 'groundnut-oil', 'heat', 'hog', 'housing', 'income', 'instal-debt', 'interest', 'ipi', 'iron-steel', 'jet', 'jobs', 'l-cattle', 'lead', 'lei', 'lin-oil', 'livestock', 'lumber', 'meal-feed', 'money-fx', 'money-supply', 'naphtha', 'nat-gas', 'nickel', 'nkr', 'nzdlr', 'oat', 'oilseed', 'orange', 'palladium', 'palm-oil', 'palmkernel', 'pet-chem', 'platinum', 'potato', 'propane', 'rand', 'rape-oil', 'rapeseed', 'reserves', 'retail', 'rice', 'rubber', 'rye', 'ship', 'silver', 'sorghum', 'soy-meal', 'soy-oil', 'soybean', 'strategic-metal', 'sugar', 'sun-meal', 'sun-oil', 'sunseed', 'tea', 'tin', 'trade', 'veg-oil', 'wheat', 'wpi', 'yen', 'zinc']\n"
     ]
    },
    {
     "name": "stderr",
     "output_type": "stream",
     "text": [
      "[nltk_data] Downloading package punkt to /Users/olmos/nltk_data...\n",
      "[nltk_data]   Package punkt is already up-to-date!\n",
      "[nltk_data] Downloading package stopwords to /Users/olmos/nltk_data...\n",
      "[nltk_data]   Package stopwords is already up-to-date!\n",
      "[nltk_data] Downloading package wordnet to /Users/olmos/nltk_data...\n",
      "[nltk_data]   Package wordnet is already up-to-date!\n",
      "[nltk_data] Downloading package maxent_ne_chunker to\n",
      "[nltk_data]     /Users/olmos/nltk_data...\n",
      "[nltk_data]   Package maxent_ne_chunker is already up-to-date!\n",
      "[nltk_data] Downloading package words to /Users/olmos/nltk_data...\n",
      "[nltk_data]   Package words is already up-to-date!\n",
      "[nltk_data] Downloading package reuters to /Users/olmos/nltk_data...\n",
      "[nltk_data]   Package reuters is already up-to-date!\n"
     ]
    }
   ],
   "source": [
    "import nltk\n",
    "from nltk.corpus import reuters\n",
    "\n",
    "# download all dependencies and corpora \n",
    "nltk.download('punkt')\n",
    "nltk.download('stopwords')\n",
    "nltk.download('wordnet')\n",
    "nltk.download('maxent_ne_chunker')\n",
    "nltk.download('words')\n",
    "nltk.download('reuters')\n",
    "\n",
    "print(reuters.categories())\n"
   ]
  },
  {
   "cell_type": "code",
   "execution_count": 29,
   "metadata": {},
   "outputs": [],
   "source": [
    "# En google colab hay que descomprimir el paquete reuters\n",
    "\n",
    "#!unzip /root/nltk_data/corpora/reuters.zip -d /root/nltk_data/corpora"
   ]
  },
  {
   "cell_type": "markdown",
   "metadata": {},
   "source": [
    "Vamos a quedarnos con noticias sobre comercio de cereales ..."
   ]
  },
  {
   "cell_type": "code",
   "execution_count": 30,
   "metadata": {},
   "outputs": [],
   "source": [
    "reuters_raw = [reuters.raw(f) for f in reuters.fileids(['barley', 'corn', 'wheat', 'grain'])]"
   ]
  },
  {
   "cell_type": "code",
   "execution_count": 31,
   "metadata": {},
   "outputs": [
    {
     "name": "stdout",
     "output_type": "stream",
     "text": [
      "Hay un total de 585 documentos. El primero de ellos es:\n",
      "\n",
      "CHINA DAILY SAYS VERMIN EAT 7-12 PCT GRAIN STOCKS\n",
      "  A survey of 19 provinces and seven cities\n",
      "  showed vermin consume between seven and 12 pct of China's grain\n",
      "  stocks, the China Daily said.\n",
      "      It also said that each year 1.575 mln tonnes, or 25 pct, of\n",
      "  China's fruit output are left to rot, and 2.1 mln tonnes, or up\n",
      "  to 30 pct, of its vegetables. The paper blamed the waste on\n",
      "  inadequate storage and bad preservation methods.\n",
      "      It said the government had launched a national programme to\n",
      "  reduce waste, calling for improved technology in storage and\n",
      "  preservation, and greater production of additives. The paper\n",
      "  gave no further details.\n",
      "  \n",
      "\n",
      "\n"
     ]
    }
   ],
   "source": [
    "print(f\"Hay un total de {len(reuters_raw)} documentos. El primero de ellos es:\\n\")\n",
    "\n",
    "print(reuters_raw[0])"
   ]
  },
  {
   "cell_type": "markdown",
   "metadata": {},
   "source": [
    "A continuación vamos a normalizar el texto únicamente pasando todo a minúsculas, pero podríamos lógicamente aplicar todo el preprocesado que hemos visto para mejorar el resultado del embedding que calculemos."
   ]
  },
  {
   "cell_type": "code",
   "execution_count": 32,
   "metadata": {},
   "outputs": [],
   "source": [
    "import spacy\n",
    "\n",
    "nlp = spacy.load(\"en_core_web_md\")\n",
    "\n",
    "reuters_tok = [[w.text.lower() for w in nlp(d)] for d in reuters_raw]"
   ]
  },
  {
   "cell_type": "markdown",
   "metadata": {},
   "source": [
    "### Word Embeddings pre-entrenados en spaCy\n",
    "\n",
    "Los distintos [pipelines accesibles a través de spaCy](https://spacy.io/models/en) incluyen también word embeddings pre-entrenados, muchos de ellos usando fastText:"
   ]
  },
  {
   "cell_type": "code",
   "execution_count": 33,
   "metadata": {},
   "outputs": [],
   "source": [
    "#!python -m spacy download es_core_news_md"
   ]
  },
  {
   "cell_type": "code",
   "execution_count": 34,
   "metadata": {},
   "outputs": [
    {
     "name": "stdout",
     "output_type": "stream",
     "text": [
      "El tamaño del diccionario es de 709799 palabras\n",
      "['\\t', '\\n', ' ', '  ', '!', '!!', '!!!', '!!!!', '!!!!!!!!!!!!!!!!', '!!!!.', '!!.', '!!?', '!!??', '!*', '!.', '!?', '!??', '!ck', '!nk', '\"', '\"\"', '#', '##', '###', \"##'s\", \"##'x\", \"#'s\", '#15', '#@k', '#^%', '#ck', '#dd', '#in', '#my', '#no', '#on', '#or', '#sb', '#sr', '#xx', '$', '$19', '$Whose', '$Xxxxx', '$whose', '$xxxx', '%', '%-3', '%ach', '%ah', '%eh', '%er', '%ha', '%hm', '%huh', '%mm', '%oof', '%pw', '%uh', '%um', '%xx', '%xxx', '&', '&#', '&G.', '&L.', '&Ls', '&M.', '&P.', '&SA', '&T.', '&ex', '&in', '&ls', '&of', '&on', '&sa', '&the', '&to', '&uh', '&von', '&xx', '&xxx', \"'\", \"''\", \"''It\", \"''Xx\", \"''it\", \"''xx\", \"'-(\", \"'-)\", \"'00\", \"'01\", \"'02\", \"'03\", \"'04\", \"'05\", \"'06\", \"'07\", \"'08\"]\n"
     ]
    }
   ],
   "source": [
    "lista_vocab = list(nlp.vocab.strings)\n",
    "\n",
    "print(\"El tamaño del diccionario es de {} palabras\".format(len(lista_vocab)))\n",
    "\n",
    "#Las 100 primeras\n",
    "print(lista_vocab[:100])"
   ]
  },
  {
   "cell_type": "markdown",
   "metadata": {},
   "source": [
    "Podemos acceder de forma sencilla al word embedding de cada palabra:"
   ]
  },
  {
   "cell_type": "code",
   "execution_count": 35,
   "metadata": {},
   "outputs": [
    {
     "name": "stdout",
     "output_type": "stream",
     "text": [
      "This True 5.0461264 False\n",
      "is True 4.890306 False\n",
      "a True 5.306696 False\n",
      "great True 5.4395933 False\n",
      "course True 5.3324947 False\n"
     ]
    }
   ],
   "source": [
    "tokens = nlp(\"This is a great course\")\n",
    "\n",
    "for token in tokens:\n",
    "    print(token.text, token.has_vector, token.vector_norm, token.is_oov)"
   ]
  },
  {
   "cell_type": "code",
   "execution_count": 36,
   "metadata": {},
   "outputs": [
    {
     "name": "stdout",
     "output_type": "stream",
     "text": [
      "[-8.7595e-02  3.5502e-01  6.3868e-02  2.9292e-01 -2.3635e-01 -6.2773e-02\n",
      " -1.6105e-01 -2.2842e-01  4.1587e-02  2.4844e+00 -3.8217e-01  3.2806e-02\n",
      "  1.2348e-01 -1.8422e-03 -1.3848e-01 -1.0005e-03 -4.3081e-02  1.1659e+00\n",
      " -4.7327e-02 -5.6004e-02  1.5617e-01 -1.3394e-01  2.3229e-01  8.7602e-02\n",
      " -3.2329e-01  1.6721e-01 -1.6221e-01 -9.1919e-02 -3.8004e-01  1.2686e-01\n",
      "  6.7819e-02  3.2509e-01 -5.7245e-02 -3.2630e-01 -1.1903e-01 -6.3964e-04\n",
      " -5.9275e-03 -2.9934e-01 -8.5043e-02 -2.6683e-01 -1.5815e-01  2.5963e-01\n",
      "  2.2571e-01  6.2582e-02 -1.9394e-01  2.1922e-01 -3.1186e-01  3.7084e-01\n",
      " -3.6577e-01 -5.2483e-02 -4.3101e-01  1.2379e-01  1.5529e-02 -1.2505e-01\n",
      "  2.2327e-01  2.9365e-01 -8.5104e-03 -8.3909e-02  2.4078e-01 -3.4913e-01\n",
      " -2.8355e-01 -7.6594e-02 -1.7130e-01  3.2869e-01  2.9024e-01 -6.2741e-02\n",
      " -5.5278e-02 -2.8706e-01  7.9608e-02  1.3234e-01  4.7857e-01  1.9623e-01\n",
      "  2.7314e-01 -1.3089e-01  2.7630e-01 -8.8846e-02 -1.2379e-01  7.3987e-02\n",
      " -5.1962e-01  3.5227e-01 -2.9182e-02  1.6203e-01 -3.6908e-02  2.8035e-01\n",
      "  3.1739e-01 -2.7597e-01 -4.3637e-01 -3.2842e-01  3.6760e-01 -1.6278e-01\n",
      " -1.6278e-01  3.7066e-01 -1.1340e-01  3.0920e-01  2.6133e-01  3.9483e-01\n",
      " -7.4612e-02 -2.2158e-01  2.5172e-01  2.9990e-01  1.0566e-01 -1.1406e-01\n",
      " -3.5395e-01  6.6704e-02  5.0216e-02 -7.1479e-01  9.8646e-02 -5.8832e-02\n",
      " -4.7790e-03 -2.3920e-01  1.0179e-01 -2.7205e-01  1.6836e-01  2.3420e-01\n",
      " -3.7496e-01  3.1125e-01 -3.1120e-01  2.1778e-01  3.0323e-01 -1.1729e-01\n",
      " -5.4639e-02 -1.5356e-01  5.1771e-02 -1.1426e-01  2.2473e-02  4.4405e-02\n",
      " -3.2101e-01 -2.7799e-01  2.4675e-01 -1.1760e-01 -1.5964e-02 -4.0969e-01\n",
      " -2.6082e-01  1.6021e-01  6.1166e-02 -3.1131e-03 -3.0573e-01 -4.1686e-02\n",
      "  2.3524e-01 -5.8415e-02 -1.6003e+00  1.0126e-01  1.2116e-01  1.5319e-02\n",
      " -1.1945e-01 -3.9095e-01 -1.9919e-01  4.3930e-02  2.2886e-01 -5.3961e-02\n",
      " -2.6570e-02  1.1952e-01  1.8446e-01 -6.9963e-02  3.6429e-01 -2.3679e-02\n",
      " -4.5081e-01 -3.7263e-02 -1.3243e-01 -1.1009e-01 -1.5201e-01  1.2182e-01\n",
      " -9.3379e-02  1.0215e-01 -3.4126e-01 -7.8150e-02  2.7685e-02 -4.8772e-03\n",
      "  2.7281e-01 -1.1304e-01  1.2470e-02  2.7008e-01  3.8885e-01 -2.3909e-01\n",
      " -1.6375e-01  1.9977e-02 -1.0628e-01  5.5798e-02  1.4127e-01  4.6536e-01\n",
      " -3.3169e-01  1.8308e-01  2.9646e-01  2.3906e-02  3.2799e-01 -5.3632e-01\n",
      " -4.6895e-01 -1.7593e-02  4.6805e-03 -9.6152e-02 -1.2695e-01  6.4099e-02\n",
      " -2.9787e-01  3.7799e-01  4.4469e-01  1.2248e-01  7.6388e-02 -1.8102e-01\n",
      " -1.1795e-02  4.0090e-01 -3.6967e-01 -2.4106e-01 -4.2252e-01  2.1378e-01\n",
      "  4.0977e-01  1.3013e-01 -3.3478e-02  9.3179e-03  2.9553e-01  6.8702e-02\n",
      " -1.4949e-01  1.0473e-01  3.8860e-01 -3.7063e-01 -6.8934e-02  4.2111e-01\n",
      "  1.0861e-01  1.8585e-01 -1.1387e-01  2.0370e-01  9.4214e-02 -2.1426e-01\n",
      " -1.9376e-01  1.2261e-01  1.3971e-01 -5.4205e-01 -2.4502e-01  4.7454e-01\n",
      " -5.9380e-02 -1.2865e-01 -1.7345e-01  3.7465e-01 -7.2616e-02  3.1124e-01\n",
      " -3.3315e-04 -3.1445e-03  1.1435e-03 -8.0773e-02 -5.2824e-02  2.6108e-01\n",
      "  2.4586e-01 -5.8762e-02 -2.1999e-02  1.4060e-01  3.6004e-01 -8.1521e-02\n",
      " -2.8828e-02  2.3878e-01 -1.2243e-01  1.8758e-01  6.9072e-02 -6.8685e-02\n",
      "  1.2377e-01  3.1713e-02 -1.1530e-01  3.8205e-01  4.8575e-01 -1.6466e-01\n",
      "  1.1033e-01  1.3873e-01  3.2145e-01  2.8014e-02 -5.4760e-02 -1.9438e-01\n",
      " -1.5438e-02 -5.6435e-02  2.3037e-02  4.2915e-01  5.9080e-01  9.6298e-02\n",
      "  1.2788e-01  1.5916e-01 -7.2056e-02 -2.1036e-01  5.7346e-02  4.5768e-02\n",
      "  1.5730e-01  3.1019e-01 -4.2692e-02  1.7531e-02  2.9585e-02 -4.2749e-02\n",
      " -1.0006e-01 -3.1611e-01 -4.5054e-03 -1.3689e-01  4.0798e-01 -6.5866e-02\n",
      "  2.0162e-01 -7.9660e-02 -3.9495e-02  9.3723e-02  9.3557e-02 -9.7551e-02\n",
      "  3.0639e-01 -2.7325e-01 -3.3112e-01  3.4460e-02 -1.5027e-01  4.0673e-01]\n"
     ]
    }
   ],
   "source": [
    "print(tokens[0].vector)"
   ]
  },
  {
   "cell_type": "markdown",
   "metadata": {},
   "source": [
    "# 5. Embeddings de textos\n",
    "\n",
    "\n",
    "Con word embeddings, hemos obtenido representaciones vectoriales de baja dimensión **a nivel de palabra** con estructura semántica. En este último apartado presentaremos técnicas sencillas para vectorizar textos cortos (oraciones/párrafos):\n",
    "\n",
    "* Latent Semantic Analysis, que ya presentamos la sesión anterior.\n",
    "* Combinaciones de word embeddings.\n",
    "\n",
    "\n",
    "## 5.1 Latent Semantic Analysis\n",
    "\n",
    "Utilizando la descomposición SVD de la matriz TF-IDF de una oración dentro de un corpus, podemos obtener una aproximación de cada oración un vector $\\mathbf{g}_j, j=1,\\ldots,n$ de dimensión $K$ utilizando las componentes asociadas a los 𝐾 valores singulares de mayor valor:\n",
    "\n",
    "<img src='http://www.tsc.uc3m.es/~olmos/BBVA/LSA.png' width=900 />\n",
    "\n",
    "Vamos a retomar el corpus `reuters` y calcular similitudes entre oraciones usando LSA. Primero cargamos el dataset y obtenemos la matriz TF-IDF siguiendo el pipeline habitual.\n"
   ]
  },
  {
   "cell_type": "code",
   "execution_count": 37,
   "metadata": {},
   "outputs": [],
   "source": [
    "# Procesamos cada documento por separado\n",
    "doc_list = [nlp(document) for document in reuters_raw]\n"
   ]
  },
  {
   "cell_type": "code",
   "execution_count": 38,
   "metadata": {},
   "outputs": [
    {
     "name": "stdout",
     "output_type": "stream",
     "text": [
      "Hay un total de 4134 oraciones.\n"
     ]
    }
   ],
   "source": [
    "# Concatenamos todas las oraciones\n",
    "corpus_sent = [s for doc in doc_list for s in doc.sents if len(s)>1]\n",
    "\n",
    "\n",
    "# Filtramos tokens de cada oración\n",
    "norm_doc_sent = [[w for w in s if not w.is_stop and w.has_vector\n",
    "                  and not w.is_punct and (w.is_alpha or w.is_digit)] for s in corpus_sent]\n",
    "\n",
    "# Nos quitamos las oraciones vacías (tras filtrar toquens)\n",
    "\n",
    "corpus_sent = [corpus_sent[i] for i in range(len(corpus_sent)) if len(norm_doc_sent[i])>0]\n",
    "\n",
    "norm_doc_sent = [s for s in norm_doc_sent if len(s)>0]\n",
    "\n",
    "# Pasamos a modo texto  (para combinar con Gensim)\n",
    "\n",
    "norm_doc_sent_text = [[w.text.lower() for w in s] for s in norm_doc_sent]\n",
    "\n",
    "\"\"\"\n",
    "RESUMEN:\n",
    "\n",
    "- corpus_sent: todas las oraciones sin fitrar en tipo de dato spacy.docs\n",
    "- norm_doc_sent: todas las oraciones filtradas en tipo de dato \"listas de spacy.tokens\"\n",
    "- norm_doc_sent_text: todas las oraciones filtradas en modo texto\n",
    "\n",
    "\"\"\"\n",
    "\n",
    "\n",
    "print(f\"Hay un total de {len(corpus_sent)} oraciones.\")"
   ]
  },
  {
   "cell_type": "code",
   "execution_count": 39,
   "metadata": {},
   "outputs": [
    {
     "name": "stdout",
     "output_type": "stream",
     "text": [
      "The dictionary contains 1827 terms\n",
      "First terms in the dictionary:\n",
      "0 : 12\n",
      "1 : 19\n",
      "2 : 7\n",
      "3 : china\n",
      "4 : daily\n",
      "5 : grain\n",
      "6 : pct\n",
      "7 : provinces\n",
      "8 : said\n",
      "9 : says\n"
     ]
    }
   ],
   "source": [
    "import gensim\n",
    "\n",
    "D = gensim.corpora.Dictionary(norm_doc_sent_text)\n",
    "\n",
    "n_tokens = len(D)\n",
    "\n",
    "no_below = 5 #Minimum number of documents to keep a term in the dictionary\n",
    "no_above = .8 #Maximum proportion of documents in which a term can appear to be kept in the dictionary\n",
    "\n",
    "D.filter_extremes(no_below=no_below,no_above=no_above)\n",
    "\n",
    "n_tokens = len(D)\n",
    "\n",
    "print('The dictionary contains', n_tokens, 'terms')\n",
    "print('First terms in the dictionary:')\n",
    "for n in range(10):\n",
    "    print(str(n), ':', D[n])"
   ]
  },
  {
   "cell_type": "code",
   "execution_count": 40,
   "metadata": {},
   "outputs": [
    {
     "name": "stdout",
     "output_type": "stream",
     "text": [
      "La dimensión de la matriz TF-IDF es 1827 x 4134\n"
     ]
    }
   ],
   "source": [
    "from gensim.models import TfidfModel\n",
    "from gensim.matutils import corpus2dense, corpus2csc\n",
    "\n",
    "corpus_bow = [D.doc2bow(doc) for doc in norm_doc_sent_text]\n",
    "\n",
    "model = TfidfModel(corpus_bow)  \n",
    "\n",
    "corpus_tfidf = model[corpus_bow]\n",
    "\n",
    "n_tokens = len(D)\n",
    "num_docs = len(corpus_bow)\n",
    "\n",
    "# Convert TFIDF representacion\n",
    "corpus_tfidf_dense = corpus2dense(corpus_tfidf, num_terms=n_tokens, num_docs=num_docs)\n",
    "\n",
    "print(f\"La dimensión de la matriz TF-IDF es {corpus_tfidf_dense.shape[0]} x {corpus_tfidf_dense.shape[1]}\")"
   ]
  },
  {
   "cell_type": "markdown",
   "metadata": {},
   "source": [
    "Dada la matriz TF-IDF, calculemos la descomposición SVD ..."
   ]
  },
  {
   "cell_type": "code",
   "execution_count": 41,
   "metadata": {},
   "outputs": [
    {
     "name": "stdout",
     "output_type": "stream",
     "text": [
      "(1827, 50) (50,) (50, 4134)\n"
     ]
    }
   ],
   "source": [
    "from scipy.sparse.linalg import svds  # Función para calcular la descomposición en valores singulares\n",
    "\n",
    "K = 50 # Dimensión de bajo rango\n",
    "\n",
    "U,S,V = svds(corpus_tfidf_dense, k=K)  \n",
    "print(U.shape, S.shape, V.shape)"
   ]
  },
  {
   "cell_type": "code",
   "execution_count": 42,
   "metadata": {},
   "outputs": [
    {
     "name": "stdout",
     "output_type": "stream",
     "text": [
      "(50, 4134)\n"
     ]
    }
   ],
   "source": [
    "G=np.diag(S)@V\n",
    "\n",
    "print(G.shape)"
   ]
  },
  {
   "cell_type": "markdown",
   "metadata": {},
   "source": [
    "Cada una de las columnas de la matriz `G` es una representación vectorial de dimensión 50 de cada oración del corpus. Calculemos la matriz de similitudes usando la distancia coseno. Para ello, usamos la función [`cosine_similarity`](https://scikit-learn.org/stable/modules/generated/sklearn.metrics.pairwise.cosine_similarity.html) de sklearn:"
   ]
  },
  {
   "cell_type": "code",
   "execution_count": 43,
   "metadata": {},
   "outputs": [],
   "source": [
    "from sklearn.metrics.pairwise import cosine_similarity\n",
    "import seaborn as sns\n",
    "\n",
    "distancias = cosine_similarity(V.T)"
   ]
  },
  {
   "cell_type": "code",
   "execution_count": 44,
   "metadata": {},
   "outputs": [
    {
     "data": {
      "image/png": "[encoded data removed]",
      "text/plain": [
       "<Figure size 576x432 with 2 Axes>"
      ]
     },
     "metadata": {
      "image/png": {
       "height": 371,
       "width": 445
      },
      "needs_background": "light"
     },
     "output_type": "display_data"
    }
   ],
   "source": [
    "# Visualicemo la matriz de similitudes de las 50 primeras oraciones \n",
    "\n",
    "ax = sns.heatmap(\n",
    "    distancias[:50,:50], \n",
    "    vmin=-1, vmax=1, center=0,\n",
    "    cmap=sns.diverging_palette(20, 220, n=200),\n",
    "    square=True\n",
    ")\n",
    "ax.set_xticklabels(\n",
    "    ax.get_xticklabels(),\n",
    "    rotation=45,\n",
    "    horizontalalignment='right'\n",
    ");"
   ]
  },
  {
   "cell_type": "markdown",
   "metadata": {},
   "source": [
    "Finalmente podemos mostrar las 5 oraciones más similares a una dada:"
   ]
  },
  {
   "cell_type": "code",
   "execution_count": 53,
   "metadata": {},
   "outputs": [
    {
     "name": "stdout",
     "output_type": "stream",
     "text": [
      "\n",
      "      It may buy the wheat, valued at 22.0 mln dlrs, between\n",
      "  April 15 and August 31, 1987, and ship it from U.S. ports by\n",
      "  September 30, the department said.\n",
      "\n",
      "Las 5 oraciones más similares son:\n",
      "\n",
      "Oración 1647\n",
      "\n",
      "\n",
      "      It may buy the wheat flour, valued at 23.0 mln dlrs between\n",
      "  April 8 and August 31, 1987 and ship it by September 30, the\n",
      "  department said.\n",
      "*****\n",
      "Oración 3372\n",
      "\n",
      "\n",
      "      It may buy the wheat, valued at 7.0 mln dlrs, between March\n",
      "  25 and August 341 and ship it from U.S. ports and/or Canadian\n",
      "  transshipment points by September 30, 1987.\n",
      "*****\n",
      "Oración 3934\n",
      "\n",
      "\n",
      "      It may buy the rice, valued at 5.5 mln dlrs, between March\n",
      "  31 and August 31, 1987, and ship it from U.S. ports by\n",
      "  September 30, the department said.\n",
      "*****\n",
      "Oración 3246\n",
      "\n",
      "\n",
      "      The department said it may buy the wheat, valued at 8.5 mln\n",
      "  dlrs, the corn, valued at 1.5 mln, and the tallow, valued at\n",
      "  2.0 mln dlrs, between March 24 and August 31, 1987, and ship it\n",
      "  from U.S. ports and/or Canadian transshipment points by this\n",
      "  September 30.\n",
      "*****\n",
      "Oración 2997\n",
      "\n",
      "The delivery period for wheat is March\n",
      "  20 through September 30, 1987 and for wheat flour is April 10\n",
      "  through SEptember 30, 1987, USDA said.\n",
      "*****\n"
     ]
    }
   ],
   "source": [
    "idx = 89\n",
    "\n",
    "print(corpus_sent[idx].text)\n",
    "\n",
    "print(f\"\\nLas 5 oraciones más similares son:\\n\")\n",
    "\n",
    "idx_sim = np.argsort(-distancias[idx,:])\n",
    "\n",
    "for i in range(6):\n",
    "    if idx_sim[i] != idx:\n",
    "        print(f\"Oración {idx_sim[i]}\\n\")\n",
    "        print(corpus_sent[idx_sim[i]].text)\n",
    "        print('*****')"
   ]
  },
  {
   "cell_type": "markdown",
   "metadata": {},
   "source": [
    "Como vemos el resultado es razonable."
   ]
  },
  {
   "cell_type": "markdown",
   "metadata": {},
   "source": [
    "## 5.2 Combinaciones de word embeddings\n",
    "\n",
    "Otra opción habitual para codificar un texto corto es utilizar la **media** de los word embeddings asociados a cada una de las palabras. Esta función está [directamente implementada en spaCy](https://spacy.io/usage/linguistic-features) cuando llamamos al método `.similarity` para calcular la similitud entre dos textos usando la distancia coseno entre las medias de los embeddings de cada uno de ellos: "
   ]
  },
  {
   "cell_type": "code",
   "execution_count": 46,
   "metadata": {},
   "outputs": [
    {
     "name": "stdout",
     "output_type": "stream",
     "text": [
      "\n",
      "      It may buy the wheat, valued at 22.0 mln dlrs, between\n",
      "  April 15 and August 31, 1987, and ship it from U.S. ports by\n",
      "  September 30, the department said.\n",
      "\n",
      "Las 5 oraciones más similares son:\n",
      "\n",
      "Oración 3934\n",
      "\n",
      "\n",
      "      It may buy the rice, valued at 5.5 mln dlrs, between March\n",
      "  31 and August 31, 1987, and ship it from U.S. ports by\n",
      "  September 30, the department said.\n",
      "*****\n",
      "Oración 1647\n",
      "\n",
      "\n",
      "      It may buy the wheat flour, valued at 23.0 mln dlrs between\n",
      "  April 8 and August 31, 1987 and ship it by September 30, the\n",
      "  department said.\n",
      "*****\n",
      "Oración 3246\n",
      "\n",
      "\n",
      "      The department said it may buy the wheat, valued at 8.5 mln\n",
      "  dlrs, the corn, valued at 1.5 mln, and the tallow, valued at\n",
      "  2.0 mln dlrs, between March 24 and August 31, 1987, and ship it\n",
      "  from U.S. ports and/or Canadian transshipment points by this\n",
      "  September 30.\n",
      "*****\n",
      "Oración 3372\n",
      "\n",
      "\n",
      "      It may buy the wheat, valued at 7.0 mln dlrs, between March\n",
      "  25 and August 341 and ship it from U.S. ports and/or Canadian\n",
      "  transshipment points by September 30, 1987.\n",
      "*****\n",
      "Oración 2073\n",
      "\n",
      "\n",
      "      Offers are due by 1200 hrs EDT, April 13, and will remain\n",
      "  valid until the close of business April 14, the agent said.\n",
      "*****\n"
     ]
    }
   ],
   "source": [
    "idx = 89\n",
    "\n",
    "# Usamos corpus_sent --> todas las oraciones (listas de spacy.Doc) sin filtrar tokens.\n",
    "\n",
    "print(corpus_sent[idx])\n",
    "\n",
    "print(f\"\\nLas 5 oraciones más similares son:\\n\")\n",
    "\n",
    "distancias_a_idx = np.array([corpus_sent[idx].similarity(s) for s in corpus_sent])\n",
    "\n",
    "idx_sim = np.argsort(-distancias_a_idx)\n",
    "\n",
    "for i in range(6):\n",
    "    if idx_sim[i] != idx:\n",
    "        print(f\"Oración {idx_sim[i]}\\n\")\n",
    "        print(corpus_sent[idx_sim[i]])\n",
    "        print('*****')"
   ]
  },
  {
   "cell_type": "markdown",
   "metadata": {},
   "source": [
    "En lugar de calcular la media los embedding, otra alternativa sería la [media ponderada utilizando los coeficientes TF-IDF](https://arxiv.org/pdf/1902.09875.pdf). "
   ]
  },
  {
   "cell_type": "markdown",
   "metadata": {},
   "source": [
    "**Nota importante sobre el método `Doc.similarity()`**\n",
    "\n",
    "\n",
    "Como hemos visto método `similarity` es accesible a través de la clase `Doc` de spaCy. Este método se pierde cuando filtrado los tokens no deseados. Por ejemplo la lista `norm_doc_sent` se había generado como\n",
    "\n",
    "```python\n",
    "norm_doc_sent = [[w for w in s if not w.is_stop and w.has_vector\n",
    "                  and not w.is_punct and (w.is_alpha or w.is_digit)] for s in corpus_sent]\n",
    "\n",
    "norm_doc_sent_text = [[w.text.lower() for w in s] for s in norm_doc_sent]\n",
    "```\n",
    "\n",
    "y podemos ver que obtenemos un error al intentar utilizar el método `similarity` ...\n"
   ]
  },
  {
   "cell_type": "code",
   "execution_count": 47,
   "metadata": {},
   "outputs": [
    {
     "ename": "AttributeError",
     "evalue": "'list' object has no attribute 'similarity'",
     "output_type": "error",
     "traceback": [
      "\u001b[0;31m---------------------------------------------------------------------------\u001b[0m",
      "\u001b[0;31mAttributeError\u001b[0m                            Traceback (most recent call last)",
      "\u001b[0;32m/var/folders/mp/m1pxr4954g9dg7ypdlqgrgl800029_/T/ipykernel_68146/3774314287.py\u001b[0m in \u001b[0;36m<module>\u001b[0;34m\u001b[0m\n\u001b[0;32m----> 1\u001b[0;31m \u001b[0mnorm_doc_sent\u001b[0m\u001b[0;34m[\u001b[0m\u001b[0;36m0\u001b[0m\u001b[0;34m]\u001b[0m\u001b[0;34m.\u001b[0m\u001b[0msimilarity\u001b[0m\u001b[0;34m(\u001b[0m\u001b[0mnorm_doc_sent\u001b[0m\u001b[0;34m[\u001b[0m\u001b[0;36m1\u001b[0m\u001b[0;34m]\u001b[0m\u001b[0;34m)\u001b[0m\u001b[0;34m\u001b[0m\u001b[0;34m\u001b[0m\u001b[0m\n\u001b[0m",
      "\u001b[0;31mAttributeError\u001b[0m: 'list' object has no attribute 'similarity'"
     ]
    }
   ],
   "source": [
    "norm_doc_sent[0].similarity(norm_doc_sent[1])"
   ]
  },
  {
   "cell_type": "markdown",
   "metadata": {},
   "source": [
    "La opción más sencilla para volver a tener disponible este método, es generar de nuevo los strings a partir de los tokens"
   ]
  },
  {
   "cell_type": "code",
   "execution_count": 48,
   "metadata": {},
   "outputs": [],
   "source": [
    "norm_doc_sent_extended = [nlp(' '.join(q)) for q in norm_doc_sent_text]"
   ]
  },
  {
   "cell_type": "code",
   "execution_count": 49,
   "metadata": {},
   "outputs": [
    {
     "data": {
      "text/plain": [
       "0.8386437430755288"
      ]
     },
     "execution_count": 49,
     "metadata": {},
     "output_type": "execute_result"
    }
   ],
   "source": [
    "norm_doc_sent_extended[0].similarity(norm_doc_sent_extended[1])"
   ]
  },
  {
   "cell_type": "markdown",
   "metadata": {},
   "source": [
    "Usando `norm_doc_sent_extended` podemos encontrar las oraciones más simiares promediando sólo los embeddings de las palabras tras normalizar.\n",
    "\n",
    "Alternativamente, podemos usar la opción [`spacy.tokens.doc.Doc()`](https://stackoverflow.com/questions/48169545/does-spacy-take-as-input-a-list-of-tokens), pero hay que pasar el diccionario y una secuencia que indica espacios entre tokens (necesaria para implementar algunas de las funcionalidades del pipeline de un modelo de lenguaje *spacy*). En este sentido la solución anterior parece más compacta."
   ]
  },
  {
   "cell_type": "code",
   "execution_count": null,
   "metadata": {},
   "outputs": [],
   "source": []
  }
 ],
 "metadata": {
  "colab": {
   "collapsed_sections": [],
   "name": "Embeddings.ipynb",
   "provenance": []
  },
  "kernelspec": {
   "display_name": "Python 3 (ipykernel)",
   "language": "python",
   "name": "python3"
  },
  "language_info": {
   "codemirror_mode": {
    "name": "ipython",
    "version": 3
   },
   "file_extension": ".py",
   "mimetype": "text/x-python",
   "name": "python",
   "nbconvert_exporter": "python",
   "pygments_lexer": "ipython3",
   "version": "3.9.7"
  }
 },
 "nbformat": 4,
 "nbformat_minor": 4
}
